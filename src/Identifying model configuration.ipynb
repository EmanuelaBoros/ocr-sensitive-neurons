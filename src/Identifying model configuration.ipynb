{
 "cells": [
  {
   "cell_type": "code",
   "execution_count": 1,
   "id": "b761d256",
   "metadata": {},
   "outputs": [
    {
     "name": "stderr",
     "output_type": "stream",
     "text": [
      "\n",
      "KeyboardInterrupt\n",
      "\n"
     ]
    }
   ],
   "source": [
    "import ecco\n",
    "from transformers import AutoTokenizer, AutoModelForCausalLM, AutoModel, AutoModelForSeq2SeqLM\n",
    "hf_model_id = 'meta-llama/Llama-2-7b-hf'\n",
    "\n",
    "\n",
    "# 1- load the model the tokenizer\n",
    "tokenizer = AutoTokenizer.from_pretrained(hf_model_id)\n",
    "model = AutoModel.from_pretrained(hf_model_id)\n"
   ]
  },
  {
   "cell_type": "code",
   "execution_count": 1,
   "id": "475aed60",
   "metadata": {},
   "outputs": [
    {
     "name": "stderr",
     "output_type": "stream",
     "text": [
      "/scratch/eboros/.conda/envs/impresso_annotation_updated/lib/python3.11/site-packages/transformers/utils/hub.py:124: FutureWarning: Using `TRANSFORMERS_CACHE` is deprecated and will be removed in v5 of Transformers. Use `HF_HOME` instead.\n",
      "  warnings.warn(\n"
     ]
    },
    {
     "data": {
      "application/vnd.jupyter.widget-view+json": {
       "model_id": "5d075a44f3f74b12bbac48ed3435134c",
       "version_major": 2,
       "version_minor": 0
      },
      "text/plain": [
       "Downloading shards:   0%|          | 0/2 [00:00<?, ?it/s]"
      ]
     },
     "metadata": {},
     "output_type": "display_data"
    },
    {
     "data": {
      "application/vnd.jupyter.widget-view+json": {
       "model_id": "b1f45bb98d2f4dffa69235be8921d105",
       "version_major": 2,
       "version_minor": 0
      },
      "text/plain": [
       "Loading checkpoint shards:   0%|          | 0/2 [00:00<?, ?it/s]"
      ]
     },
     "metadata": {},
     "output_type": "display_data"
    }
   ],
   "source": [
    "import ecco\n",
    "from transformers import AutoTokenizer, AutoModelForCausalLM, AutoModel, AutoModelForSeq2SeqLM\n",
    "hf_model_id = 'meta-llama/Llama-2-7b-hf'\n",
    "\n",
    "\n",
    "# 1- load the model the tokenizer\n",
    "tokenizer = AutoTokenizer.from_pretrained(hf_model_id)\n",
    "model = AutoModelForCausalLM.from_pretrained(hf_model_id).to('cpu')\n"
   ]
  },
  {
   "cell_type": "markdown",
   "id": "dde337e4",
   "metadata": {},
   "source": [
    "## 2- identify model type\n",
    "Identify type of model. Is it `causal` like GPT? `mlm` like BERT, or `enc-dec` like T5? We learn this by reading about the model artchitecture. In this example, deBERTa is based on BERT and so is `mlm`.\n",
    "\n",
    "## 3- identify layer names\n",
    "We need the names of the embedding layer (to support attribution calculations) and the FFNN layer (to support neuron activation collection)."
   ]
  },
  {
   "cell_type": "code",
   "execution_count": 2,
   "id": "38c0a4f3",
   "metadata": {},
   "outputs": [
    {
     "data": {
      "text/plain": [
       "LlamaForCausalLM(\n",
       "  (model): LlamaModel(\n",
       "    (embed_tokens): Embedding(32000, 4096)\n",
       "    (layers): ModuleList(\n",
       "      (0-31): 32 x LlamaDecoderLayer(\n",
       "        (self_attn): LlamaSdpaAttention(\n",
       "          (q_proj): Linear(in_features=4096, out_features=4096, bias=False)\n",
       "          (k_proj): Linear(in_features=4096, out_features=4096, bias=False)\n",
       "          (v_proj): Linear(in_features=4096, out_features=4096, bias=False)\n",
       "          (o_proj): Linear(in_features=4096, out_features=4096, bias=False)\n",
       "          (rotary_emb): LlamaRotaryEmbedding()\n",
       "        )\n",
       "        (mlp): LlamaMLP(\n",
       "          (gate_proj): Linear(in_features=4096, out_features=11008, bias=False)\n",
       "          (up_proj): Linear(in_features=4096, out_features=11008, bias=False)\n",
       "          (down_proj): Linear(in_features=11008, out_features=4096, bias=False)\n",
       "          (act_fn): SiLU()\n",
       "        )\n",
       "        (input_layernorm): LlamaRMSNorm()\n",
       "        (post_attention_layernorm): LlamaRMSNorm()\n",
       "      )\n",
       "    )\n",
       "    (norm): LlamaRMSNorm()\n",
       "  )\n",
       "  (lm_head): Linear(in_features=4096, out_features=32000, bias=False)\n",
       ")"
      ]
     },
     "execution_count": 2,
     "metadata": {},
     "output_type": "execute_result"
    }
   ],
   "source": [
    "model"
   ]
  },
  {
   "cell_type": "code",
   "execution_count": 9,
   "id": "f91fc844",
   "metadata": {},
   "outputs": [
    {
     "data": {
      "text/plain": [
       "Embedding(32000, 4096)"
      ]
     },
     "execution_count": 9,
     "metadata": {},
     "output_type": "execute_result"
    }
   ],
   "source": [
    "# Embeddings is:\n",
    "model.embed_tokens"
   ]
  },
  {
   "cell_type": "code",
   "execution_count": 4,
   "id": "8be96d9c",
   "metadata": {},
   "outputs": [
    {
     "data": {
      "text/plain": [
       "Linear(in_features=11008, out_features=4096, bias=False)"
      ]
     },
     "execution_count": 4,
     "metadata": {},
     "output_type": "execute_result"
    }
   ],
   "source": [
    "model.model.layers[0].mlp.down_proj"
   ]
  },
  {
   "cell_type": "code",
   "execution_count": 15,
   "id": "279dd1b7",
   "metadata": {},
   "outputs": [
    {
     "data": {
      "text/plain": [
       "Linear(in_features=768, out_features=3072, bias=True)"
      ]
     },
     "execution_count": 15,
     "metadata": {},
     "output_type": "execute_result"
    }
   ],
   "source": [
    "# The FFNN is the one with the widest output dimension\n",
    "# We take the parts of the name after the layer number. In this case it's \n",
    "# intermediate.dense\n",
    "model.encoder.layer[0].intermediate.dense"
   ]
  },
  {
   "cell_type": "markdown",
   "id": "f168e628",
   "metadata": {},
   "source": [
    "## Tokenizer"
   ]
  },
  {
   "cell_type": "code",
   "execution_count": 6,
   "id": "5662cac2",
   "metadata": {},
   "outputs": [
    {
     "data": {
      "text/plain": [
       "{'input_ids': [1, 5993, 2133], 'attention_mask': [1, 1, 1]}"
      ]
     },
     "execution_count": 6,
     "metadata": {},
     "output_type": "execute_result"
    }
   ],
   "source": [
    "ids = tokenizer('tokenization')\n",
    "ids"
   ]
  },
  {
   "cell_type": "code",
   "execution_count": 7,
   "id": "8eaef886",
   "metadata": {},
   "outputs": [
    {
     "data": {
      "text/plain": [
       "['<s>', '▁token', 'ization']"
      ]
     },
     "execution_count": 7,
     "metadata": {},
     "output_type": "execute_result"
    }
   ],
   "source": [
    "tokenizer.convert_ids_to_tokens(ids['input_ids'])"
   ]
  },
  {
   "cell_type": "markdown",
   "id": "1a2b999b",
   "metadata": {},
   "source": [
    "So `token_prefix` is ▁\n",
    "\n",
    "And `partial_token_prefix` is ''"
   ]
  },
  {
   "cell_type": "markdown",
   "id": "93b6f14c",
   "metadata": {},
   "source": [
    "# Model config\n",
    "If we're passing the model config directly to Ecco, it would look like this:"
   ]
  },
  {
   "cell_type": "code",
   "execution_count": 2,
   "id": "9d1df40b",
   "metadata": {},
   "outputs": [],
   "source": [
    "\n",
    "model_config = {\n",
    "    'embedding': \"embeddings.word_embeddings\",\n",
    "    'type': 'mlm',\n",
    "    'activations': ['intermediate\\.dense'], #This is a regex\n",
    "    'token_prefix': '▁',\n",
    "    'partial_token_prefix': ''\n",
    "}"
   ]
  },
  {
   "cell_type": "code",
   "execution_count": 16,
   "id": "db9ed8f2",
   "metadata": {},
   "outputs": [],
   "source": [
    "\n",
    "model_config = {\n",
    "    'embedding': \"embed_tokens\",\n",
    "    'type': 'mlm',\n",
    "    'activations': ['mlp\\.down_proj'], #This is a regex\n",
    "    'token_prefix': '▁',\n",
    "    'partial_token_prefix': ''\n",
    "}"
   ]
  },
  {
   "cell_type": "code",
   "execution_count": 17,
   "id": "9d98ca10",
   "metadata": {},
   "outputs": [
    {
     "data": {
      "application/vnd.jupyter.widget-view+json": {
       "model_id": "c0a19e9fd3a546b9b040dca0f7d2c2e3",
       "version_major": 2,
       "version_minor": 0
      },
      "text/plain": [
       "Loading checkpoint shards:   0%|          | 0/2 [00:00<?, ?it/s]"
      ]
     },
     "metadata": {},
     "output_type": "display_data"
    }
   ],
   "source": [
    "model_config = {\n",
    "    'embedding': \"embed_tokens\",\n",
    "    'type': 'mlm',\n",
    "    'activations': ['mlp\\.down_proj'], #This is a regex\n",
    "    'token_prefix': '▁',\n",
    "    'partial_token_prefix': ''\n",
    "}\n",
    "ecco_model = ecco.from_pretrained(hf_model_id, \n",
    "                                  activations=True,\n",
    "                                  model_config=model_config, gpu=False)"
   ]
  },
  {
   "cell_type": "code",
   "execution_count": 19,
   "id": "0befcba1",
   "metadata": {},
   "outputs": [
    {
     "data": {
      "text/html": [
       "<html lang=\"en\">\n",
       "<script src=\"https://requirejs.org/docs/release/2.3.6/minified/require.js\"></script>\n",
       "<script>\n",
       "    var ecco_url = 'https://storage.googleapis.com/ml-intro/ecco/'\n",
       "    //var ecco_url = 'http://localhost:8000/'\n",
       "\n",
       "    if (window.ecco === undefined) window.ecco = {}\n",
       "\n",
       "    // Setup the paths of the script we'll be using\n",
       "    requirejs.config({\n",
       "        urlArgs: \"bust=\" + (new Date()).getTime(),\n",
       "        nodeRequire: require,\n",
       "        paths: {\n",
       "            d3: \"https://d3js.org/d3.v6.min\", // This is only for use in setup.html and basic.html\n",
       "            \"d3-array\": \"https://d3js.org/d3-array.v2.min\",\n",
       "            jquery: \"https://code.jquery.com/jquery-3.5.1.min\",\n",
       "            ecco: ecco_url + 'js/0.0.6/ecco-bundle.min',\n",
       "            xregexp: 'https://cdnjs.cloudflare.com/ajax/libs/xregexp/3.2.0/xregexp-all.min'\n",
       "        }\n",
       "    });\n",
       "\n",
       "    // Add the css file\n",
       "    //requirejs(['d3'],\n",
       "    //    function (d3) {\n",
       "    //        d3.select('#css').attr('href', ecco_url + 'html/styles.css')\n",
       "    //    })\n",
       "\n",
       "    console.log('Ecco initialize!!')\n",
       "\n",
       "    // returns a 'basic' object. basic.init() selects the html div we'll be\n",
       "    // rendering the html into, adds styles.css to the document.\n",
       "    define('basic', ['d3'],\n",
       "        function (d3) {\n",
       "            return {\n",
       "                init: function (viz_id = null) {\n",
       "                    if (viz_id == null) {\n",
       "                        viz_id = \"viz_\" + Math.round(Math.random() * 10000000)\n",
       "                    }\n",
       "                    // Select the div rendered below, change its id\n",
       "                    const div = d3.select('#basic').attr('id', viz_id),\n",
       "                        div_parent = d3.select('#' + viz_id).node().parentNode\n",
       "\n",
       "                    // Link to CSS file\n",
       "                    d3.select(div_parent).insert('link')\n",
       "                        .attr('rel', 'stylesheet')\n",
       "                        .attr('type', 'text/css')\n",
       "                        .attr('href', ecco_url + 'html/0.0.2/styles.css')\n",
       "\n",
       "                    return viz_id\n",
       "                }\n",
       "            }\n",
       "        }, function (err) {\n",
       "            console.log(err);\n",
       "        }\n",
       "    )\n",
       "</script>\n",
       "\n",
       "<head>\n",
       "    <link id='css' rel=\"stylesheet\" type=\"text/css\">\n",
       "</head>\n",
       "<div id=\"basic\"></div>\n"
      ],
      "text/plain": [
       "<IPython.core.display.HTML object>"
      ]
     },
     "metadata": {},
     "output_type": "display_data"
    },
    {
     "data": {
      "application/javascript": [
       "\n",
       "         requirejs(['basic', 'ecco'], function(basic, ecco){\n",
       "            const viz_id = basic.init()\n",
       "            \n",
       "            ecco.interactiveTokensAndFactorSparklines(viz_id, {'tokens': [{'token': '<s>', 'token_id': 1, 'type': 'input', 'position': 0}, {'token': '▁', 'token_id': 28705, 'type': 'input', 'position': 1}, {'token': '▁Now', 'token_id': 2961, 'type': 'input', 'position': 2}, {'token': '▁I', 'token_id': 315, 'type': 'input', 'position': 3}, {'token': '▁ask', 'token_id': 1460, 'type': 'input', 'position': 4}, {'token': '▁you', 'token_id': 368, 'type': 'input', 'position': 5}, {'token': ':', 'token_id': 28747, 'type': 'input', 'position': 6}, {'token': '▁', 'token_id': 28705, 'type': 'input', 'position': 7}, {'token': '<0x0A>', 'token_id': 13, 'type': 'input', 'position': 8}, {'token': '▁what', 'token_id': 767, 'type': 'input', 'position': 9}, {'token': '▁can', 'token_id': 541, 'type': 'input', 'position': 10}, {'token': '▁be', 'token_id': 347, 'type': 'input', 'position': 11}, {'token': '▁expected', 'token_id': 3349, 'type': 'input', 'position': 12}, {'token': '▁of', 'token_id': 302, 'type': 'input', 'position': 13}, {'token': '▁man', 'token_id': 676, 'type': 'input', 'position': 14}, {'token': '▁since', 'token_id': 1854, 'type': 'input', 'position': 15}, {'token': '▁he', 'token_id': 400, 'type': 'input', 'position': 16}, {'token': '▁is', 'token_id': 349, 'type': 'input', 'position': 17}, {'token': '▁a', 'token_id': 264, 'type': 'input', 'position': 18}, {'token': '▁being', 'token_id': 1250, 'type': 'input', 'position': 19}, {'token': '▁end', 'token_id': 948, 'type': 'input', 'position': 20}, {'token': 'owed', 'token_id': 10552, 'type': 'input', 'position': 21}, {'token': '▁with', 'token_id': 395, 'type': 'input', 'position': 22}, {'token': '▁strange', 'token_id': 8708, 'type': 'input', 'position': 23}, {'token': '▁qualities', 'token_id': 20800, 'type': 'input', 'position': 24}, {'token': '?', 'token_id': 28804, 'type': 'input', 'position': 25}, {'token': '▁Sh', 'token_id': 1295, 'type': 'input', 'position': 26}, {'token': 'ower', 'token_id': 1072, 'type': 'input', 'position': 27}, {'token': '▁upon', 'token_id': 3714, 'type': 'input', 'position': 28}, {'token': '▁him', 'token_id': 713, 'type': 'input', 'position': 29}, {'token': '▁every', 'token_id': 1012, 'type': 'input', 'position': 30}, {'token': '▁earth', 'token_id': 6340, 'type': 'input', 'position': 31}, {'token': 'ly', 'token_id': 346, 'type': 'input', 'position': 32}, {'token': '▁blessing', 'token_id': 27468, 'type': 'input', 'position': 33}, {'token': ',', 'token_id': 28725, 'type': 'input', 'position': 34}, {'token': '▁d', 'token_id': 281, 'type': 'input', 'position': 35}, {'token': 'rown', 'token_id': 3329, 'type': 'input', 'position': 36}, {'token': '▁him', 'token_id': 713, 'type': 'input', 'position': 37}, {'token': '▁in', 'token_id': 297, 'type': 'input', 'position': 38}, {'token': '▁a', 'token_id': 264, 'type': 'input', 'position': 39}, {'token': '▁sea', 'token_id': 6163, 'type': 'input', 'position': 40}, {'token': '▁of', 'token_id': 302, 'type': 'input', 'position': 41}, {'token': '▁happiness', 'token_id': 15079, 'type': 'input', 'position': 42}, {'token': ',', 'token_id': 28725, 'type': 'input', 'position': 43}, {'token': '▁so', 'token_id': 579, 'type': 'input', 'position': 44}, {'token': '▁that', 'token_id': 369, 'type': 'input', 'position': 45}, {'token': '▁nothing', 'token_id': 2511, 'type': 'input', 'position': 46}, {'token': '▁but', 'token_id': 562, 'type': 'input', 'position': 47}, {'token': '▁bub', 'token_id': 22723, 'type': 'input', 'position': 48}, {'token': 'bles', 'token_id': 9343, 'type': 'input', 'position': 49}, {'token': '▁of', 'token_id': 302, 'type': 'input', 'position': 50}, {'token': '▁bl', 'token_id': 843, 'type': 'input', 'position': 51}, {'token': 'iss', 'token_id': 815, 'type': 'input', 'position': 52}, {'token': '▁can', 'token_id': 541, 'type': 'input', 'position': 53}, {'token': '▁be', 'token_id': 347, 'type': 'input', 'position': 54}, {'token': '▁seen', 'token_id': 2598, 'type': 'input', 'position': 55}, {'token': '▁on', 'token_id': 356, 'type': 'input', 'position': 56}, {'token': '▁the', 'token_id': 272, 'type': 'input', 'position': 57}, {'token': '▁surface', 'token_id': 5439, 'type': 'input', 'position': 58}, {'token': ';', 'token_id': 28745, 'type': 'input', 'position': 59}, {'token': '▁give', 'token_id': 2111, 'type': 'input', 'position': 60}, {'token': '▁him', 'token_id': 713, 'type': 'input', 'position': 61}, {'token': '▁economic', 'token_id': 6638, 'type': 'input', 'position': 62}, {'token': '▁prosper', 'token_id': 20814, 'type': 'input', 'position': 63}, {'token': 'ity', 'token_id': 472, 'type': 'input', 'position': 64}, {'token': ',', 'token_id': 28725, 'type': 'input', 'position': 65}, {'token': '▁such', 'token_id': 1259, 'type': 'input', 'position': 66}, {'token': '▁that', 'token_id': 369, 'type': 'input', 'position': 67}, {'token': '▁he', 'token_id': 400, 'type': 'input', 'position': 68}, {'token': '▁should', 'token_id': 1023, 'type': 'input', 'position': 69}, {'token': '▁have', 'token_id': 506, 'type': 'input', 'position': 70}, {'token': '▁nothing', 'token_id': 2511, 'type': 'input', 'position': 71}, {'token': '▁else', 'token_id': 1112, 'type': 'input', 'position': 72}, {'token': '▁to', 'token_id': 298, 'type': 'input', 'position': 73}, {'token': '▁do', 'token_id': 511, 'type': 'input', 'position': 74}, {'token': '▁but', 'token_id': 562, 'type': 'input', 'position': 75}, {'token': '▁sleep', 'token_id': 4289, 'type': 'input', 'position': 76}, {'token': ',', 'token_id': 28725, 'type': 'input', 'position': 77}, {'token': '▁eat', 'token_id': 5310, 'type': 'input', 'position': 78}, {'token': '▁c', 'token_id': 277, 'type': 'input', 'position': 79}, {'token': 'akes', 'token_id': 1593, 'type': 'input', 'position': 80}, {'token': '▁and', 'token_id': 304, 'type': 'input', 'position': 81}, {'token': '▁busy', 'token_id': 9056, 'type': 'input', 'position': 82}, {'token': '▁himself', 'token_id': 2722, 'type': 'input', 'position': 83}, {'token': '▁with', 'token_id': 395, 'type': 'input', 'position': 84}, {'token': '▁the', 'token_id': 272, 'type': 'input', 'position': 85}, {'token': '▁continu', 'token_id': 5012, 'type': 'input', 'position': 86}, {'token': 'ation', 'token_id': 352, 'type': 'input', 'position': 87}, {'token': '▁of', 'token_id': 302, 'type': 'input', 'position': 88}, {'token': '▁his', 'token_id': 516, 'type': 'input', 'position': 89}, {'token': '▁species', 'token_id': 7018, 'type': 'input', 'position': 90}, {'token': ',', 'token_id': 28725, 'type': 'input', 'position': 91}, {'token': '▁and', 'token_id': 304, 'type': 'input', 'position': 92}, {'token': '▁even', 'token_id': 1019, 'type': 'input', 'position': 93}, {'token': '▁then', 'token_id': 868, 'type': 'input', 'position': 94}, {'token': '▁out', 'token_id': 575, 'type': 'input', 'position': 95}, {'token': '▁of', 'token_id': 302, 'type': 'input', 'position': 96}, {'token': '▁sheer', 'token_id': 23339, 'type': 'input', 'position': 97}, {'token': '▁ing', 'token_id': 4155, 'type': 'input', 'position': 98}, {'token': 'rat', 'token_id': 5308, 'type': 'input', 'position': 99}, {'token': 'itude', 'token_id': 4484, 'type': 'input', 'position': 100}, {'token': ',', 'token_id': 28725, 'type': 'input', 'position': 101}, {'token': '▁sheer', 'token_id': 23339, 'type': 'input', 'position': 102}, {'token': '▁spite', 'token_id': 18879, 'type': 'input', 'position': 103}, {'token': ',', 'token_id': 28725, 'type': 'input', 'position': 104}, {'token': '▁man', 'token_id': 676, 'type': 'input', 'position': 105}, {'token': '▁would', 'token_id': 682, 'type': 'input', 'position': 106}, {'token': '▁play', 'token_id': 1156, 'type': 'input', 'position': 107}, {'token': '▁you', 'token_id': 368, 'type': 'input', 'position': 108}, {'token': '▁some', 'token_id': 741, 'type': 'input', 'position': 109}, {'token': '▁nasty', 'token_id': 26092, 'type': 'input', 'position': 110}, {'token': '▁trick', 'token_id': 10777, 'type': 'input', 'position': 111}, {'token': '.', 'token_id': 28723, 'type': 'input', 'position': 112}, {'token': '▁He', 'token_id': 650, 'type': 'input', 'position': 113}, {'token': '▁would', 'token_id': 682, 'type': 'input', 'position': 114}, {'token': '▁even', 'token_id': 1019, 'type': 'input', 'position': 115}, {'token': '▁risk', 'token_id': 4623, 'type': 'input', 'position': 116}, {'token': '▁his', 'token_id': 516, 'type': 'input', 'position': 117}, {'token': '▁c', 'token_id': 277, 'type': 'input', 'position': 118}, {'token': 'akes', 'token_id': 1593, 'type': 'input', 'position': 119}, {'token': '▁and', 'token_id': 304, 'type': 'input', 'position': 120}, {'token': '▁would', 'token_id': 682, 'type': 'input', 'position': 121}, {'token': '▁deliberately', 'token_id': 24177, 'type': 'input', 'position': 122}, {'token': '▁desire', 'token_id': 8646, 'type': 'input', 'position': 123}, {'token': '▁the', 'token_id': 272, 'type': 'input', 'position': 124}, {'token': '▁most', 'token_id': 1080, 'type': 'input', 'position': 125}, {'token': '▁fatal', 'token_id': 20174, 'type': 'input', 'position': 126}, {'token': '▁rub', 'token_id': 7294, 'type': 'input', 'position': 127}, {'token': 'b', 'token_id': 28726, 'type': 'input', 'position': 128}, {'token': 'ish', 'token_id': 789, 'type': 'input', 'position': 129}, {'token': ',', 'token_id': 28725, 'type': 'input', 'position': 130}, {'token': '▁the', 'token_id': 272, 'type': 'input', 'position': 131}, {'token': '▁most', 'token_id': 1080, 'type': 'input', 'position': 132}, {'token': '▁une', 'token_id': 2219, 'type': 'input', 'position': 133}, {'token': 'conom', 'token_id': 2868, 'type': 'input', 'position': 134}, {'token': 'ical', 'token_id': 745, 'type': 'input', 'position': 135}, {'token': '▁absurd', 'token_id': 22976, 'type': 'input', 'position': 136}, {'token': 'ity', 'token_id': 472, 'type': 'input', 'position': 137}, {'token': ',', 'token_id': 28725, 'type': 'input', 'position': 138}, {'token': '▁simply', 'token_id': 3768, 'type': 'input', 'position': 139}, {'token': '▁to', 'token_id': 298, 'type': 'input', 'position': 140}, {'token': '▁introduce', 'token_id': 13097, 'type': 'input', 'position': 141}, {'token': '▁into', 'token_id': 778, 'type': 'input', 'position': 142}, {'token': '▁all', 'token_id': 544, 'type': 'input', 'position': 143}, {'token': '▁this', 'token_id': 456, 'type': 'input', 'position': 144}, {'token': '▁positive', 'token_id': 5278, 'type': 'input', 'position': 145}, {'token': '▁good', 'token_id': 1179, 'type': 'input', 'position': 146}, {'token': '▁sense', 'token_id': 3367, 'type': 'input', 'position': 147}, {'token': '▁his', 'token_id': 516, 'type': 'input', 'position': 148}, {'token': '▁fatal', 'token_id': 20174, 'type': 'input', 'position': 149}, {'token': '▁fantastic', 'token_id': 13762, 'type': 'input', 'position': 150}, {'token': '▁element', 'token_id': 2442, 'type': 'input', 'position': 151}, {'token': '.', 'token_id': 28723, 'type': 'input', 'position': 152}, {'token': '▁It', 'token_id': 661, 'type': 'input', 'position': 153}, {'token': '▁is', 'token_id': 349, 'type': 'input', 'position': 154}, {'token': '▁just', 'token_id': 776, 'type': 'input', 'position': 155}, {'token': '▁his', 'token_id': 516, 'type': 'input', 'position': 156}, {'token': '▁fantastic', 'token_id': 13762, 'type': 'input', 'position': 157}, {'token': '▁dreams', 'token_id': 12232, 'type': 'input', 'position': 158}, {'token': ',', 'token_id': 28725, 'type': 'input', 'position': 159}, {'token': '▁his', 'token_id': 516, 'type': 'input', 'position': 160}, {'token': '▁vul', 'token_id': 10320, 'type': 'input', 'position': 161}, {'token': 'gar', 'token_id': 4749, 'type': 'input', 'position': 162}, {'token': '▁fol', 'token_id': 5074, 'type': 'input', 'position': 163}, {'token': 'ly', 'token_id': 346, 'type': 'input', 'position': 164}, {'token': '▁that', 'token_id': 369, 'type': 'input', 'position': 165}, {'token': '▁he', 'token_id': 400, 'type': 'input', 'position': 166}, {'token': '▁will', 'token_id': 622, 'type': 'input', 'position': 167}, {'token': '▁desire', 'token_id': 8646, 'type': 'input', 'position': 168}, {'token': '▁to', 'token_id': 298, 'type': 'input', 'position': 169}, {'token': '▁retain', 'token_id': 16815, 'type': 'input', 'position': 170}, {'token': ',', 'token_id': 28725, 'type': 'input', 'position': 171}, {'token': '▁simply', 'token_id': 3768, 'type': 'input', 'position': 172}, {'token': '▁in', 'token_id': 297, 'type': 'input', 'position': 173}, {'token': '▁order', 'token_id': 1745, 'type': 'input', 'position': 174}, {'token': '▁to', 'token_id': 298, 'type': 'input', 'position': 175}, {'token': '▁prove', 'token_id': 7674, 'type': 'input', 'position': 176}, {'token': '▁to', 'token_id': 298, 'type': 'input', 'position': 177}, {'token': '▁himself', 'token_id': 2722, 'type': 'input', 'position': 178}, {'token': '--', 'token_id': 376, 'type': 'input', 'position': 179}, {'token': 'as', 'token_id': 293, 'type': 'input', 'position': 180}, {'token': '▁though', 'token_id': 2070, 'type': 'input', 'position': 181}, {'token': '▁that', 'token_id': 369, 'type': 'input', 'position': 182}, {'token': '▁were', 'token_id': 654, 'type': 'input', 'position': 183}, {'token': '▁so', 'token_id': 579, 'type': 'input', 'position': 184}, {'token': '▁necessary', 'token_id': 4892, 'type': 'input', 'position': 185}, {'token': '--', 'token_id': 376, 'type': 'input', 'position': 186}, {'token': '▁that', 'token_id': 369, 'type': 'input', 'position': 187}, {'token': '▁men', 'token_id': 1683, 'type': 'input', 'position': 188}, {'token': '▁still', 'token_id': 1309, 'type': 'input', 'position': 189}, {'token': '▁are', 'token_id': 460, 'type': 'input', 'position': 190}, {'token': '▁men', 'token_id': 1683, 'type': 'input', 'position': 191}, {'token': '▁and', 'token_id': 304, 'type': 'input', 'position': 192}, {'token': '▁not', 'token_id': 459, 'type': 'input', 'position': 193}, {'token': '▁the', 'token_id': 272, 'type': 'input', 'position': 194}, {'token': '▁keys', 'token_id': 8148, 'type': 'input', 'position': 195}, {'token': '▁of', 'token_id': 302, 'type': 'input', 'position': 196}, {'token': '▁a', 'token_id': 264, 'type': 'input', 'position': 197}, {'token': '▁piano', 'token_id': 13221, 'type': 'input', 'position': 198}, {'token': ',', 'token_id': 28725, 'type': 'input', 'position': 199}, {'token': '▁which', 'token_id': 690, 'type': 'input', 'position': 200}, {'token': '▁the', 'token_id': 272, 'type': 'input', 'position': 201}, {'token': '▁laws', 'token_id': 8427, 'type': 'input', 'position': 202}, {'token': '▁of', 'token_id': 302, 'type': 'input', 'position': 203}, {'token': '▁nature', 'token_id': 4735, 'type': 'input', 'position': 204}, {'token': '▁threat', 'token_id': 5483, 'type': 'input', 'position': 205}, {'token': 'en', 'token_id': 269, 'type': 'input', 'position': 206}, {'token': '▁to', 'token_id': 298, 'type': 'input', 'position': 207}, {'token': '▁control', 'token_id': 2602, 'type': 'input', 'position': 208}, {'token': '▁so', 'token_id': 579, 'type': 'input', 'position': 209}, {'token': '▁completely', 'token_id': 4716, 'type': 'input', 'position': 210}, {'token': '▁that', 'token_id': 369, 'type': 'input', 'position': 211}, {'token': '▁soon', 'token_id': 3403, 'type': 'input', 'position': 212}, {'token': '▁one', 'token_id': 624, 'type': 'input', 'position': 213}, {'token': '▁will', 'token_id': 622, 'type': 'input', 'position': 214}, {'token': '▁be', 'token_id': 347, 'type': 'input', 'position': 215}, {'token': '▁able', 'token_id': 2358, 'type': 'input', 'position': 216}, {'token': '▁to', 'token_id': 298, 'type': 'input', 'position': 217}, {'token': '▁desire', 'token_id': 8646, 'type': 'input', 'position': 218}, {'token': '▁nothing', 'token_id': 2511, 'type': 'input', 'position': 219}, {'token': '▁but', 'token_id': 562, 'type': 'input', 'position': 220}, {'token': '▁by', 'token_id': 486, 'type': 'input', 'position': 221}, {'token': '▁the', 'token_id': 272, 'type': 'input', 'position': 222}, {'token': '▁calendar', 'token_id': 15639, 'type': 'input', 'position': 223}, {'token': '.', 'token_id': 28723, 'type': 'input', 'position': 224}, {'token': '▁And', 'token_id': 1015, 'type': 'input', 'position': 225}, {'token': '▁that', 'token_id': 369, 'type': 'input', 'position': 226}, {'token': '▁is', 'token_id': 349, 'type': 'input', 'position': 227}, {'token': '▁not', 'token_id': 459, 'type': 'input', 'position': 228}, {'token': '▁all', 'token_id': 544, 'type': 'input', 'position': 229}, {'token': ':', 'token_id': 28747, 'type': 'input', 'position': 230}, {'token': '▁even', 'token_id': 1019, 'type': 'input', 'position': 231}, {'token': '▁if', 'token_id': 513, 'type': 'input', 'position': 232}, {'token': '▁man', 'token_id': 676, 'type': 'input', 'position': 233}, {'token': '▁really', 'token_id': 1528, 'type': 'input', 'position': 234}, {'token': '▁were', 'token_id': 654, 'type': 'input', 'position': 235}, {'token': '▁nothing', 'token_id': 2511, 'type': 'input', 'position': 236}, {'token': '▁but', 'token_id': 562, 'type': 'input', 'position': 237}, {'token': '▁a', 'token_id': 264, 'type': 'input', 'position': 238}, {'token': '▁piano', 'token_id': 13221, 'type': 'input', 'position': 239}, {'token': '-', 'token_id': 28733, 'type': 'input', 'position': 240}, {'token': 'key', 'token_id': 1499, 'type': 'input', 'position': 241}, {'token': ',', 'token_id': 28725, 'type': 'input', 'position': 242}, {'token': '▁even', 'token_id': 1019, 'type': 'input', 'position': 243}, {'token': '▁if', 'token_id': 513, 'type': 'input', 'position': 244}, {'token': '▁this', 'token_id': 456, 'type': 'input', 'position': 245}, {'token': '▁were', 'token_id': 654, 'type': 'input', 'position': 246}, {'token': '▁proved', 'token_id': 10984, 'type': 'input', 'position': 247}, {'token': '▁to', 'token_id': 298, 'type': 'input', 'position': 248}, {'token': '▁him', 'token_id': 713, 'type': 'input', 'position': 249}, {'token': '▁by', 'token_id': 486, 'type': 'input', 'position': 250}, {'token': '▁natural', 'token_id': 4229, 'type': 'input', 'position': 251}, {'token': '▁science', 'token_id': 6691, 'type': 'input', 'position': 252}, {'token': '▁and', 'token_id': 304, 'type': 'input', 'position': 253}, {'token': '▁mathemat', 'token_id': 16872, 'type': 'input', 'position': 254}, {'token': 'ics', 'token_id': 1063, 'type': 'input', 'position': 255}, {'token': ',', 'token_id': 28725, 'type': 'input', 'position': 256}, {'token': '▁even', 'token_id': 1019, 'type': 'input', 'position': 257}, {'token': '▁then', 'token_id': 868, 'type': 'input', 'position': 258}, {'token': '▁he', 'token_id': 400, 'type': 'input', 'position': 259}, {'token': '▁would', 'token_id': 682, 'type': 'input', 'position': 260}, {'token': '▁not', 'token_id': 459, 'type': 'input', 'position': 261}, {'token': '▁become', 'token_id': 2727, 'type': 'input', 'position': 262}, {'token': '▁reasonable', 'token_id': 11301, 'type': 'input', 'position': 263}, {'token': ',', 'token_id': 28725, 'type': 'input', 'position': 264}, {'token': '▁but', 'token_id': 562, 'type': 'input', 'position': 265}, {'token': '▁would', 'token_id': 682, 'type': 'input', 'position': 266}, {'token': '▁pur', 'token_id': 3276, 'type': 'input', 'position': 267}, {'token': 'pos', 'token_id': 1065, 'type': 'input', 'position': 268}, {'token': 'ely', 'token_id': 723, 'type': 'input', 'position': 269}, {'token': '▁do', 'token_id': 511, 'type': 'input', 'position': 270}, {'token': '▁something', 'token_id': 1545, 'type': 'input', 'position': 271}, {'token': '▁per', 'token_id': 660, 'type': 'input', 'position': 272}, {'token': 'verse', 'token_id': 4177, 'type': 'input', 'position': 273}, {'token': '▁out', 'token_id': 575, 'type': 'input', 'position': 274}, {'token': '▁of', 'token_id': 302, 'type': 'input', 'position': 275}, {'token': '▁simple', 'token_id': 3588, 'type': 'input', 'position': 276}, {'token': '▁ing', 'token_id': 4155, 'type': 'input', 'position': 277}, {'token': 'rat', 'token_id': 5308, 'type': 'input', 'position': 278}, {'token': 'itude', 'token_id': 4484, 'type': 'input', 'position': 279}, {'token': ',', 'token_id': 28725, 'type': 'input', 'position': 280}, {'token': '▁simply', 'token_id': 3768, 'type': 'input', 'position': 281}, {'token': '▁to', 'token_id': 298, 'type': 'input', 'position': 282}, {'token': '▁gain', 'token_id': 8356, 'type': 'input', 'position': 283}, {'token': '▁his', 'token_id': 516, 'type': 'input', 'position': 284}, {'token': '▁point', 'token_id': 1305, 'type': 'input', 'position': 285}, {'token': '.', 'token_id': 28723, 'type': 'input', 'position': 286}, {'token': '▁And', 'token_id': 1015, 'type': 'input', 'position': 287}, {'token': '▁if', 'token_id': 513, 'type': 'input', 'position': 288}, {'token': '▁he', 'token_id': 400, 'type': 'input', 'position': 289}, {'token': '▁does', 'token_id': 1235, 'type': 'input', 'position': 290}, {'token': '▁not', 'token_id': 459, 'type': 'input', 'position': 291}, {'token': '▁find', 'token_id': 1300, 'type': 'input', 'position': 292}, {'token': '▁means', 'token_id': 2825, 'type': 'input', 'position': 293}, {'token': '▁he', 'token_id': 400, 'type': 'input', 'position': 294}, {'token': '▁will', 'token_id': 622, 'type': 'input', 'position': 295}, {'token': '▁cont', 'token_id': 679, 'type': 'input', 'position': 296}, {'token': 'rive', 'token_id': 6016, 'type': 'input', 'position': 297}, {'token': '▁destruction', 'token_id': 15788, 'type': 'input', 'position': 298}, {'token': '▁and', 'token_id': 304, 'type': 'input', 'position': 299}, {'token': '▁chaos', 'token_id': 21007, 'type': 'input', 'position': 300}, {'token': ',', 'token_id': 28725, 'type': 'input', 'position': 301}, {'token': '▁will', 'token_id': 622, 'type': 'input', 'position': 302}, {'token': '▁cont', 'token_id': 679, 'type': 'input', 'position': 303}, {'token': 'rive', 'token_id': 6016, 'type': 'input', 'position': 304}, {'token': '▁suffer', 'token_id': 13572, 'type': 'input', 'position': 305}, {'token': 'ings', 'token_id': 742, 'type': 'input', 'position': 306}, {'token': '▁of', 'token_id': 302, 'type': 'input', 'position': 307}, {'token': '▁all', 'token_id': 544, 'type': 'input', 'position': 308}, {'token': '▁sorts', 'token_id': 16971, 'type': 'input', 'position': 309}, {'token': ',', 'token_id': 28725, 'type': 'input', 'position': 310}, {'token': '▁only', 'token_id': 865, 'type': 'input', 'position': 311}, {'token': '▁to', 'token_id': 298, 'type': 'input', 'position': 312}, {'token': '▁gain', 'token_id': 8356, 'type': 'input', 'position': 313}, {'token': '▁his', 'token_id': 516, 'type': 'input', 'position': 314}, {'token': '▁point', 'token_id': 1305, 'type': 'input', 'position': 315}, {'token': '!', 'token_id': 28808, 'type': 'input', 'position': 316}, {'token': '▁He', 'token_id': 650, 'type': 'input', 'position': 317}, {'token': '▁will', 'token_id': 622, 'type': 'input', 'position': 318}, {'token': '▁launch', 'token_id': 8817, 'type': 'input', 'position': 319}, {'token': '▁a', 'token_id': 264, 'type': 'input', 'position': 320}, {'token': '▁curse', 'token_id': 27960, 'type': 'input', 'position': 321}, {'token': '▁upon', 'token_id': 3714, 'type': 'input', 'position': 322}, {'token': '▁the', 'token_id': 272, 'type': 'input', 'position': 323}, {'token': '▁world', 'token_id': 1526, 'type': 'input', 'position': 324}, {'token': ',', 'token_id': 28725, 'type': 'input', 'position': 325}, {'token': '▁and', 'token_id': 304, 'type': 'input', 'position': 326}, {'token': '▁as', 'token_id': 390, 'type': 'input', 'position': 327}, {'token': '▁only', 'token_id': 865, 'type': 'input', 'position': 328}, {'token': '▁man', 'token_id': 676, 'type': 'input', 'position': 329}, {'token': '▁can', 'token_id': 541, 'type': 'input', 'position': 330}, {'token': '▁curse', 'token_id': 27960, 'type': 'input', 'position': 331}, {'token': '▁(', 'token_id': 325, 'type': 'input', 'position': 332}, {'token': 'it', 'token_id': 279, 'type': 'input', 'position': 333}, {'token': '▁is', 'token_id': 349, 'type': 'input', 'position': 334}, {'token': '▁his', 'token_id': 516, 'type': 'input', 'position': 335}, {'token': '▁privilege', 'token_id': 23037, 'type': 'input', 'position': 336}, {'token': ',', 'token_id': 28725, 'type': 'input', 'position': 337}, {'token': '▁the', 'token_id': 272, 'type': 'input', 'position': 338}, {'token': '▁primary', 'token_id': 6258, 'type': 'input', 'position': 339}, {'token': '▁distinction', 'token_id': 20677, 'type': 'input', 'position': 340}, {'token': '▁between', 'token_id': 1444, 'type': 'input', 'position': 341}, {'token': '▁him', 'token_id': 713, 'type': 'input', 'position': 342}, {'token': '▁and', 'token_id': 304, 'type': 'input', 'position': 343}, {'token': '▁other', 'token_id': 799, 'type': 'input', 'position': 344}, {'token': '▁animals', 'token_id': 8222, 'type': 'input', 'position': 345}, {'token': '),', 'token_id': 557, 'type': 'input', 'position': 346}, {'token': '▁may', 'token_id': 993, 'type': 'input', 'position': 347}, {'token': '▁be', 'token_id': 347, 'type': 'input', 'position': 348}, {'token': '▁by', 'token_id': 486, 'type': 'input', 'position': 349}, {'token': '▁his', 'token_id': 516, 'type': 'input', 'position': 350}, {'token': '▁curse', 'token_id': 27960, 'type': 'input', 'position': 351}, {'token': '▁alone', 'token_id': 4411, 'type': 'input', 'position': 352}, {'token': '▁he', 'token_id': 400, 'type': 'input', 'position': 353}, {'token': '▁will', 'token_id': 622, 'type': 'input', 'position': 354}, {'token': '▁att', 'token_id': 998, 'type': 'input', 'position': 355}, {'token': 'ain', 'token_id': 426, 'type': 'input', 'position': 356}, {'token': '▁his', 'token_id': 516, 'type': 'input', 'position': 357}, {'token': '▁object', 'token_id': 1928, 'type': 'input', 'position': 358}, {'token': '--', 'token_id': 376, 'type': 'input', 'position': 359}, {'token': 'that', 'token_id': 6087, 'type': 'input', 'position': 360}, {'token': '▁is', 'token_id': 349, 'type': 'input', 'position': 361}, {'token': ',', 'token_id': 28725, 'type': 'input', 'position': 362}, {'token': '▁convince', 'token_id': 18951, 'type': 'input', 'position': 363}, {'token': '▁himself', 'token_id': 2722, 'type': 'input', 'position': 364}, {'token': '▁that', 'token_id': 369, 'type': 'input', 'position': 365}, {'token': '▁he', 'token_id': 400, 'type': 'input', 'position': 366}, {'token': '▁is', 'token_id': 349, 'type': 'input', 'position': 367}, {'token': '▁a', 'token_id': 264, 'type': 'input', 'position': 368}, {'token': '▁man', 'token_id': 676, 'type': 'input', 'position': 369}, {'token': '▁and', 'token_id': 304, 'type': 'input', 'position': 370}, {'token': '▁not', 'token_id': 459, 'type': 'input', 'position': 371}, {'token': '▁a', 'token_id': 264, 'type': 'input', 'position': 372}, {'token': '▁piano', 'token_id': 13221, 'type': 'input', 'position': 373}, {'token': '-', 'token_id': 28733, 'type': 'input', 'position': 374}, {'token': 'key', 'token_id': 1499, 'type': 'input', 'position': 375}, {'token': '!', 'token_id': 28808, 'type': 'input', 'position': 376}, {'token': '<0x0A>', 'token_id': 13, 'type': 'input', 'position': 377}], 'factors': [[[0.0, 0.0017042261315509677, 0.042978521436452866, 0.05986499786376953, 0.07578399777412415, 0.09260055422782898, 0.03907104209065437, 0.03394976258277893, 0.0, 0.04462101683020592, 0.012884858064353466, 0.06033039838075638, 0.17086565494537354, 0.0015819896943867207, 0.14081034064292908, 0.030988721176981926, 0.09692887961864471, 0.06497154384851456, 0.025254858657717705, 0.1635335236787796, 0.08172864466905594, 0.1913444697856903, 0.02172388695180416, 0.03982983157038689, 0.2463739514350891, 0.031924959272146225, 0.0, 0.05492715165019035, 0.030477462336421013, 0.0, 0.0, 0.09739616513252258, 0.0, 0.19539684057235718, 0.0, 0.0, 0.07055152207612991, 0.1741768717765808, 0.0, 0.0, 0.14297811686992645, 0.0, 0.1991386115550995, 0.0, 0.0441657118499279, 0.0, 0.15337450802326202, 0.0, 0.02197219617664814, 0.1478077620267868, 0.0, 0.0, 0.12009750306606293, 0.07415994256734848, 0.10755831003189087, 0.1905718594789505, 0.07528263330459595, 0.029567964375019073, 0.22663450241088867, 0.0, 0.006242820527404547, 0.0, 0.012548468075692654, 0.061005059629678726, 0.19580212235450745, 0.0, 0.056420281529426575, 0.0, 0.03899005427956581, 0.0, 0.0, 0.19211244583129883, 0.2201593965291977, 0.04447347670793533, 0.24524998664855957, 0.0, 0.16308178007602692, 0.013444877229630947, 0.10641387104988098, 0.0, 0.19684037566184998, 0.0, 0.10361170023679733, 0.13104508817195892, 0.0, 0.0, 0.05090539902448654, 0.1474505364894867, 0.0, 0.003151870099827647, 0.23600730299949646, 0.010805521160364151, 0.0, 0.0074782525189220905, 0.0, 0.09603264927864075, 0.0, 0.0, 0.0, 0.009737749584019184, 0.0653306096792221, 0.0, 0.0, 0.16403603553771973, 0.019930796697735786, 0.09427865594625473, 0.0, 0.02924187481403351, 0.05244053155183792, 0.006440673489123583, 0.03942848742008209, 0.28464841842651367, 0.0, 0.06478535383939743, 0.0, 0.0, 0.0, 0.0, 0.0, 0.22213083505630493, 0.0, 0.0, 0.0, 0.01858353614807129, 0.0, 0.01564488746225834, 0.01405815314501524, 0.06367576867341995, 0.05158663168549538, 0.2495325654745102, 0.01412903144955635, 0.0, 0.0, 0.03418697044253349, 0.06111355125904083, 0.0, 0.06638792157173157, 0.2905801236629486, 0.06445483863353729, 0.21278239786624908, 0.0, 0.01952839083969593, 0.0, 0.016680030152201653, 0.0, 0.009288731031119823, 0.11363676935434341, 0.12871702015399933, 0.005938229151070118, 0.028010737150907516, 0.05386127904057503, 0.24872377514839172, 0.0, 0.10730277001857758, 0.02803558111190796, 0.07181038707494736, 0.0, 0.046210549771785736, 0.24972078204154968, 0.040487140417099, 0.0, 0.028559980913996696, 0.0, 0.024905215948820114, 0.25663211941719055, 0.022796211764216423, 0.08318618685007095, 0.025085559114813805, 0.23516613245010376, 0.014382870867848396, 0.2790815532207489, 0.08096323162317276, 0.1922788918018341, 0.0642949640750885, 0.19717822968959808, 0.0, 0.18681678175926208, 0.03194597736001015, 0.2508685886859894, 0.08362126350402832, 0.016434255987405777, 0.06096150726079941, 0.12720438838005066, 0.14015576243400574, 0.11854608356952667, 0.29914817214012146, 0.1690385490655899, 0.038862671703100204, 0.17242802679538727, 0.11709906160831451, 0.09471118450164795, 0.3043743968009949, 0.03873305767774582, 0.013417362235486507, 0.0, 0.1532820463180542, 0.0026194327510893345, 0.0, 0.19121986627578735, 0.07523901760578156, 0.07110078632831573, 0.0, 0.15039744973182678, 0.0, 0.1330096274614334, 0.1159927248954773, 0.197382390499115, 0.05254461616277695, 0.27323219180107117, 0.13787372410297394, 0.29055601358413696, 0.013181881979107857, 0.05765940621495247, 0.05638827010989189, 0.05221891030669212, 0.08079954236745834, 0.1889714002609253, 0.011864816769957542, 0.04488026350736618, 0.2541179060935974, 0.0, 0.03639507293701172, 0.011950697749853134, 0.19641034305095673, 0.0, 0.0, 0.01731577143073082, 0.040035098791122437, 0.04473033547401428, 0.20181694626808167, 0.0, 0.0, 0.0, 0.11387693136930466, 0.07708608359098434, 0.06908517330884933, 0.27078482508659363, 0.025708017870783806, 0.0, 0.1787416636943817, 0.07280474901199341, 0.2149362415075302, 0.007464212365448475, 0.05619209259748459, 0.0, 0.0, 0.0835626870393753, 0.26960238814353943, 0.07613649219274521, 0.29024606943130493, 0.0001672607904765755, 0.056188616901636124, 0.2679944634437561, 0.010014057159423828, 0.08718030154705048, 0.268765389919281, 0.0028313975781202316, 0.06355372071266174, 0.03081861138343811, 0.11510875821113586, 0.00211670552380383, 0.04767194390296936, 0.06864985078573227, 0.26479101181030273, 0.044236693531274796, 0.022199155762791634, 0.0, 0.019691679626703262, 0.07685773819684982, 0.00450514629483223, 0.08834989368915558, 0.13552910089492798, 0.042000290006399155, 0.3033137023448944, 0.12446947395801544, 0.005457314662635326, 0.0, 0.0, 0.01587994582951069, 0.2896433174610138, 0.06513085961341858, 0.20596806704998016, 0.0, 0.054694145917892456, 0.007364396937191486, 0.31684330105781555, 0.0, 0.0, 0.0, 0.07952766865491867, 0.05399654060602188, 0.048088837414979935, 0.04182412102818489, 0.2658557891845703, 0.09255147725343704, 0.015066161751747131, 0.0, 0.06574273109436035, 0.28484806418418884, 0.0, 0.3252394497394562, 0.027667740359902382, 0.0, 0.0, 0.0, 0.11454194784164429, 0.24457350373268127, 0.016073141247034073, 0.09916479885578156, 0.30701228976249695, 0.03457324206829071, 0.18520891666412354, 0.0, 0.07660229504108429, 0.037132810801267624, 0.3169522285461426, 0.005481088999658823, 0.07915797829627991, 0.0, 0.013464258052408695, 0.0, 0.2549683153629303, 0.0, 0.0, 0.2600798010826111, 0.02222525328397751, 0.0, 0.0, 0.0, 0.17965734004974365, 0.06423679739236832, 0.1660933643579483, 0.019697047770023346, 0.1366604119539261, 0.048431478440761566, 0.014527714811265469, 0.29614612460136414, 0.062470693141222, 0.0, 0.038027066737413406, 0.23520277440547943, 0.0, 0.21152086555957794, 0.0, 0.042772144079208374, 0.2457185685634613, 0.011481509543955326, 0.014977316372096539, 0.04180695489048958, 0.0, 0.0, 0.053975630551576614, 0.04074126109480858, 0.09300564229488373, 0.009456333704292774, 0.0, 0.052375636994838715, 0.021624134853482246, 0.315836638212204, 0.06931738555431366, 0.01995055377483368, 0.08624905347824097, 0.0, 0.08259212225675583, 0.2851324677467346, 0.009392614476382732, 0.1649123728275299, 0.0995655357837677, 0.027366062626242638, 0.3168741464614868, 0.07735233008861542, 0.08063893765211105, 0.0, 0.1699432134628296, 0.08187501132488251, 0.2721673846244812, 0.00801058765500784, 0.05074990913271904], [0.0, 0.38565927743911743, 0.17276762425899506, 0.12548783421516418, 0.11635292321443558, 0.0802721381187439, 0.13880498707294464, 0.17105978727340698, 0.0, 0.1365518867969513, 0.10790524631738663, 0.12303026765584946, 0.07655242830514908, 0.1325094997882843, 0.21487174928188324, 0.09591823071241379, 0.13516205549240112, 0.13723298907279968, 0.20441508293151855, 0.10753871500492096, 0.5275130271911621, 0.12074453383684158, 0.05932287499308586, 0.046685121953487396, 0.012240814045071602, 0.1045340970158577, 0.46148762106895447, 0.11680009216070175, 0.08055310696363449, 0.0, 0.008625662885606289, 0.22268103063106537, 0.06286048889160156, 0.0, 0.0, 0.6185165047645569, 0.03703203424811363, 0.0, 0.0, 0.04185442253947258, 0.06837178766727448, 0.0, 0.01536365132778883, 0.0, 0.22597676515579224, 0.0, 0.016053438186645508, 0.0, 0.5551078915596008, 0.06388286501169205, 0.03134612366557121, 0.5048253536224365, 0.12077953666448593, 0.07178173214197159, 0.07602350413799286, 0.05715760216116905, 0.12407591193914413, 0.10721542686223984, 0.023409128189086914, 0.0, 0.0, 0.0, 0.05209815874695778, 0.4709385335445404, 0.0, 0.0, 0.009730619378387928, 0.0, 0.0007349303341470659, 0.0, 0.0, 0.031232167035341263, 0.028194667771458626, 0.08084508031606674, 0.06592327356338501, 0.0, 0.08450376242399216, 0.05115355923771858, 0.12473411113023758, 0.5211289525032043, 0.07933346182107925, 0.07058372348546982, 0.1806706041097641, 0.0, 0.0, 0.0, 0.5444811582565308, 0.0328521654009819, 0.0, 0.02376747876405716, 0.005607814993709326, 0.0, 0.0, 0.005006353370845318, 0.0, 0.2435230314731598, 0.04135366156697273, 0.04438081756234169, 0.6813080906867981, 0.6910833120346069, 0.01227420475333929, 0.005827616434544325, 0.08300264924764633, 0.12164948135614395, 0.08798441290855408, 0.05864786356687546, 0.008945557288825512, 0.1908959299325943, 0.17303696274757385, 0.19456778466701508, 0.267236590385437, 0.04004048556089401, 0.06989310681819916, 0.03406864032149315, 0.0, 0.0, 0.0, 0.0, 0.5602671504020691, 0.04031835123896599, 0.012815835885703564, 0.00675152288749814, 0.030331237241625786, 0.0, 0.0, 0.003659846493974328, 0.017028527334332466, 0.43464192748069763, 0.5627807378768921, 0.0, 0.0, 0.0, 0.030803505331277847, 0.5062795281410217, 0.486772745847702, 0.0, 0.24022799730300903, 0.0, 0.0, 0.005201897583901882, 0.007462151814252138, 0.0, 0.0, 0.0, 0.0, 0.0, 0.06005255877971649, 0.0, 0.0, 0.04543376713991165, 0.05985400080680847, 0.0, 0.04587497562170029, 0.05404165759682655, 0.0, 0.03022959642112255, 0.0, 0.04037661477923393, 0.0, 0.0, 0.0, 0.4897007346153259, 0.035481780767440796, 0.5860608220100403, 0.0, 0.0, 0.00838382262736559, 0.0, 0.0, 0.0, 0.0, 0.0, 0.000653416384011507, 0.1083715632557869, 0.0, 0.0, 0.0, 0.025271857157349586, 0.0, 0.14230702817440033, 0.0024377629160881042, 0.0031646930146962404, 0.026967991143465042, 0.03171990439295769, 0.09296145290136337, 0.046833500266075134, 0.22941246628761292, 0.0, 0.016806021332740784, 0.0, 0.0, 0.005243220832198858, 0.0, 0.03542788326740265, 0.0, 0.17760825157165527, 0.12135779112577438, 0.1384914368391037, 0.20269757509231567, 0.050983164459466934, 0.04901998117566109, 0.005031618755310774, 0.0342705100774765, 0.06390184909105301, 0.04318009689450264, 0.49586617946624756, 0.0, 0.03361170366406441, 0.0, 0.045518744736909866, 0.0, 0.0, 0.0, 0.046872831881046295, 0.008428038097918034, 0.03462466597557068, 0.0, 0.02765762433409691, 0.0, 0.0, 0.0, 0.025601563975214958, 0.03428348898887634, 0.04840555787086487, 0.0578712560236454, 0.0006081597530283034, 0.0, 0.0, 0.0, 0.055123332887887955, 0.011911637149751186, 0.0, 0.0, 0.01757815107703209, 0.018561962991952896, 0.0, 0.08633122593164444, 1.536008494440466e-05, 0.045351892709732056, 0.2599230408668518, 0.5495356321334839, 0.06487716734409332, 0.0, 0.027738841250538826, 0.0, 0.0, 0.0, 0.0, 0.021702514961361885, 0.0, 0.0, 0.11158020794391632, 0.0, 0.0, 0.45366644859313965, 0.0, 0.0, 0.03784088045358658, 0.0, 0.028423240408301353, 0.0, 0.026265397667884827, 0.005008128937333822, 0.0, 0.02502566948533058, 0.0, 0.0, 0.6081942915916443, 0.538271427154541, 0.021662462502717972, 0.11840662360191345, 0.03419473394751549, 0.49188748002052307, 0.0, 0.2180664837360382, 0.11625927686691284, 0.10028181970119476, 0.7129029631614685, 0.6757203936576843, 0.03804735839366913, 0.014027689583599567, 0.009562856517732143, 0.0030430834740400314, 0.0, 0.023056695237755775, 0.0033610123209655285, 0.05025482922792435, 0.0012714667245745659, 0.0, 0.0016537883784621954, 0.0, 0.0, 0.0, 0.0020224303007125854, 0.04925265535712242, 0.0370698906481266, 0.897591233253479, 0.0448906309902668, 0.0, 0.0, 0.0, 0.0, 0.01712680794298649, 0.9777746796607971, 0.0, 0.24931132793426514, 0.0, 0.03512287139892578, 0.14279143512248993, 0.0, 0.0, 0.0, 0.0, 0.0, 0.03665415197610855, 0.0, 0.049923207610845566, 0.00325020682066679, 0.0, 0.0, 0.0010430985130369663, 0.010624133981764317, 0.0, 0.0, 0.0, 0.0, 0.0, 0.004006735514849424, 0.0, 0.05844709277153015, 0.027640579268336296, 0.0, 0.1970389187335968, 0.03609447553753853, 0.0, 0.0, 0.001289150444790721, 0.0, 0.0, 0.026698900386691093, 0.06175227463245392, 0.017920905724167824, 0.030437380075454712, 0.021853843703866005, 0.05780725181102753, 0.0327845998108387, 0.0, 0.0525696761906147, 0.007701291237026453, 0.0, 0.0, 0.0, 0.0, 0.0, 0.0, 0.8864405155181885, 0.0, 0.0, 0.0, 0.15026335418224335, 0.0, 0.0, 0.0, 0.02041045017540455, 0.0, 0.0, 0.0, 0.0, 0.03871194273233414, 0.0, 0.0, 0.010910187847912312, 0.08399293571710587, 0.33960622549057007, 0.5935096144676208, 0.008678262121975422, 0.07412195205688477, 0.2621617019176483], [0.0, 0.0, 0.0, 0.09856925904750824, 0.0, 0.0, 0.0, 0.0019894305150955915, 0.0, 0.010371498763561249, 0.07232703268527985, 0.04475293681025505, 0.0, 0.0, 0.0, 0.0, 0.13854187726974487, 0.019407443702220917, 0.0, 0.024211890995502472, 0.023788100108504295, 0.0, 0.0, 0.0, 0.0, 0.0, 0.0, 0.0, 0.0, 0.0, 0.0, 0.0, 0.0, 0.0, 0.10699295997619629, 0.05958294868469238, 0.0, 0.006711205933243036, 0.0, 0.0, 0.0, 0.0, 0.0, 0.17657960951328278, 0.05894313007593155, 0.0, 0.029484083876013756, 0.0, 0.0, 0.07176730781793594, 0.0, 0.0, 0.11459086835384369, 0.19879741966724396, 0.11293121427297592, 0.007725797593593597, 0.0, 0.0, 0.0, 0.12197832018136978, 0.014614569023251534, 0.0, 0.01884624734520912, 0.0, 0.0, 0.06699611246585846, 0.0, 0.0, 0.3322254717350006, 0.3863111138343811, 0.05965285375714302, 0.006402392406016588, 0.008872590959072113, 0.26862287521362305, 0.0, 0.27185821533203125, 0.007206139154732227, 0.10105882585048676, 0.0, 0.0, 0.0, 0.16157186031341553, 0.034359466284513474, 0.102336086332798, 0.016857247799634933, 0.027264615520834923, 0.010095251724123955, 0.002018294297158718, 0.0, 0.002553225727751851, 0.0, 0.06778983771800995, 0.08218919485807419, 0.05886673554778099, 0.045955292880535126, 0.04874212667346001, 0.0, 0.01912919618189335, 0.0, 0.0, 0.05663241818547249, 0.031758517026901245, 0.04621900990605354, 0.0, 0.012240651994943619, 0.3620823919773102, 0.584031879901886, 0.03876524046063423, 4.596073995344341e-05, 0.0, 0.0, 0.005770943593233824, 0.0, 0.31656333804130554, 0.5962709188461304, 0.6004183888435364, 0.16946090757846832, 0.0016021000919863582, 0.0, 0.019133422523736954, 0.06879778206348419, 0.5604137182235718, 0.5449787378311157, 0.027034584432840347, 0.05726216733455658, 0.04468073695898056, 0.02070927619934082, 0.0, 0.0, 0.00047016498865559697, 0.12909142673015594, 0.026204273104667664, 0.06689765304327011, 0.0007856825832277536, 0.0, 0.037375714629888535, 0.018434645608067513, 0.0, 0.07364774495363235, 0.12840434908866882, 0.5497680902481079, 0.04194825142621994, 0.0, 0.0, 0.0, 0.0, 0.0, 0.004652820993214846, 0.03660407289862633, 0.021730531007051468, 0.023594550788402557, 0.0, 0.0, 0.1338067501783371, 0.01947595179080963, 0.015554592944681644, 0.025547146797180176, 0.03564327210187912, 0.02121320366859436, 0.008851160295307636, 0.027990035712718964, 0.0, 0.04111332446336746, 0.0, 0.01644008979201317, 0.25583624839782715, 0.4376031458377838, 0.5536112189292908, 0.06895113736391068, 0.43586912751197815, 0.004515598528087139, 0.10507010668516159, 0.12857656180858612, 0.09724815934896469, 0.22215422987937927, 0.5686712265014648, 0.0034302736166864634, 0.002295028418302536, 0.00636968994513154, 0.0, 0.008604858070611954, 0.008186358958482742, 0.07654812932014465, 0.034709542989730835, 0.019470205530524254, 0.0, 0.0, 0.0, 0.19396883249282837, 0.30299198627471924, 0.03225838765501976, 0.0, 0.062368787825107574, 0.0, 0.004980502650141716, 0.0, 0.0, 0.0, 0.0, 0.0, 0.11350712180137634, 0.012880530208349228, 0.1258445382118225, 0.0, 0.20576046407222748, 0.042938608676195145, 0.06285645067691803, 0.3080550730228424, 0.014564286917448044, 0.09216729551553726, 0.0, 0.012790106236934662, 0.021792519837617874, 0.10094477236270905, 0.3865825831890106, 0.17420433461666107, 0.18216317892074585, 0.38470304012298584, 0.0, 0.004530234262347221, 0.002449044957756996, 0.10873410105705261, 0.02729685790836811, 0.0, 0.0, 0.0, 0.029980167746543884, 0.02218044176697731, 0.02572445571422577, 0.0, 0.004788320977240801, 0.03466865420341492, 0.0, 0.3734714984893799, 0.3720529079437256, 0.1241372600197792, 0.0, 0.0, 0.0, 0.0, 0.0, 0.010537408292293549, 0.014602272771298885, 0.01579505205154419, 0.0, 0.03935183957219124, 0.07640416920185089, 0.0, 0.044337980449199677, 0.006310021039098501, 0.0, 0.0036001368425786495, 9.563688217895105e-05, 0.023895610123872757, 0.0, 0.01045544445514679, 0.012418627738952637, 0.017060093581676483, 0.030367806553840637, 0.3145692050457001, 0.6180115938186646, 0.42540550231933594, 0.07634002715349197, 0.0, 0.04667002335190773, 0.2424132525920868, 0.6068938970565796, 0.12088816612958908, 0.06426727026700974, 0.5810388922691345, 0.07335654646158218, 0.04809623211622238, 0.009288934990763664, 0.004772975575178862, 0.03085615299642086, 0.04724632576107979, 0.057413987815380096, 0.0, 0.0, 0.0, 0.10235685110092163, 0.12049366533756256, 0.5486567616462708, 0.04602622240781784, 0.01285053975880146, 0.006287652533501387, 0.0, 0.005838214419782162, 0.000928410911001265, 0.35133349895477295, 0.3100545108318329, 0.4445788264274597, 0.03093389794230461, 0.02538367733359337, 0.30321770906448364, 0.5691073536872864, 0.13379134237766266, 0.06561532616615295, 0.0292979683727026, 0.2193678617477417, 0.02708715945482254, 0.12863267958164215, 0.6239780187606812, 0.07914658635854721, 0.04336009919643402, 0.0, 0.00842328742146492, 0.0, 0.0, 0.013628370128571987, 0.09866124391555786, 0.11974485963582993, 0.5499706864356995, 0.04091646522283554, 0.032020680606365204, 0.0011800513602793217, 0.0, 0.40054696798324585, 0.628118097782135, 0.044989895075559616, 0.027989814057946205, 0.021481161937117577, 0.0, 0.0, 0.003411716315895319, 0.16809523105621338, 0.21466685831546783, 0.034613627940416336, 0.0, 0.1962033361196518, 0.3604911267757416, 0.018764222040772438, 0.0, 0.1158081665635109, 0.012408151291310787, 0.0056392718106508255, 0.0, 0.0, 0.009053465910255909, 0.012302316725254059, 0.0180192980915308, 0.0, 0.007875703275203705, 0.0, 0.0, 0.0, 0.05153243616223335, 0.18697784841060638, 0.11620202660560608, 0.2271697074174881, 0.06411054730415344, 0.226069837808609, 0.20953412353992462, 0.36294978857040405, 0.5663921236991882, 0.05402807891368866, 0.023579970002174377, 0.02527194656431675, 0.0018765059066936374, 0.0, 0.0034608778078109026, 0.012047483585774899, 0.1586126685142517, 0.0, 0.0, 0.0, 0.2258593887090683, 0.04156562313437462, 0.0, 0.013407433405518532, 0.11400670558214188, 0.0, 0.0, 0.0, 0.0, 0.0016370390076190233, 0.0, 0.0], [12.452401161193848, 0.0, 0.00018843921134248376, 0.0010808991501107812, 0.0011322929058223963, 0.0015027591725811362, 0.0, 0.0, 0.4077078104019165, 0.0010091308504343033, 0.0010296915424987674, 0.0, 0.00013387089711613953, 0.0, 0.0, 0.0006941711762920022, 0.0, 0.00022709737822879106, 0.0008920559193938971, 0.0021757096983492374, 0.0, 0.0, 0.0014815888134762645, 0.003285178914666176, 0.0, 0.0, 0.0005534460651688278, 9.22971885302104e-05, 0.0, 0.0, 0.0, 0.0, 0.0, 0.0, 0.0, 0.0, 0.0, 0.0, 4.773712862515822e-05, 0.0007193439523689449, 0.0008469093008898199, 0.0012956096325069666, 0.0, 0.0, 0.0, 0.0, 0.0, 0.0004555739869829267, 0.0, 0.0, 0.001715999562293291, 0.0, 0.0, 0.0, 0.0034828814677894115, 3.0224833608372137e-05, 0.0, 0.0018095877021551132, 0.0, 0.0, 0.0007460982888005674, 0.0, 0.0016433739801868796, 0.0, 0.0019999046344310045, 0.0007980675436556339, 0.0, 0.0, 0.0, 0.0, 0.0, 0.0, 0.0, 0.0, 0.0, 0.001319953822530806, 0.0, 0.0, 0.0, 0.0, 0.0006301304092630744, 0.0005055663641542196, 0.0, 0.00022674167121294886, 0.0015961778117343783, 0.002598640276119113, 0.0, 0.001942531787790358, 0.0004307978379074484, 0.00034143158700317144, 0.0, 0.00015542552864644676, 0.0003572574642021209, 0.0, 0.0, 0.0, 0.0, 0.0, 0.0, 0.0, 0.0, 0.0, 0.0, 0.0, 0.0, 0.0, 0.0007880980265326798, 0.0, 0.0, 0.0, 0.0, 0.0006522592739202082, 0.0014375761384144425, 0.001447727670893073, 0.0013392831897363067, 0.001069114194251597, 0.0, 0.003000154858455062, 0.0, 0.001516869873739779, 0.001368829282000661, 0.000740822171792388, 0.000798836350440979, 0.0006454041576944292, 0.004881267435848713, 0.0024087289348244667, 0.00196850229986012, 0.0, 9.901922021526843e-05, 0.002158970106393099, 0.0, 0.00098465196788311, 0.0, 0.0, 0.0, 0.0026950547471642494, 0.0, 0.0001824313512770459, 0.0, 0.0, 0.0, 0.0, 0.0012327958829700947, 0.0, 0.00048545270692557096, 0.0014974861405789852, 0.0, 0.0, 0.001536332769319415, 0.0, 0.00020997597312089056, 0.0016052452847361565, 0.0009988510282710195, 0.0021373452618718147, 0.0, 0.0, 0.0012541372561827302, 0.0, 0.0004361119063105434, 0.0, 0.0004803302581422031, 0.0, 0.00028595360345207155, 0.0, 0.0010888359975069761, 0.0, 0.0, 0.000251370802288875, 0.0, 0.0034315476659685373, 0.0010110036237165332, 0.0, 0.0, 0.0, 0.0, 0.0007687420584261417, 0.0, 0.0005092756473459303, 0.0, 0.0, 0.0, 0.0, 0.0, 0.0, 0.0, 0.0, 0.0, 0.0003508642257656902, 0.0030525249894708395, 0.0008979264530353248, 0.0011607822962105274, 0.0009673863532952964, 0.0017719793831929564, 0.0, 0.0028793688397854567, 0.002197714289650321, 0.0, 0.0, 0.0, 0.0002953908406198025, 0.0, 0.0022449318785220385, 0.0010459214681759477, 0.002311127260327339, 0.0, 0.0, 0.0, 0.0033762091770768166, 0.0011409962316974998, 0.0, 0.0006037636194378138, 0.0012291265884414315, 0.0, 0.0, 0.0, 0.0004938514321111143, 0.0, 0.0014868048019707203, 0.0003836567630060017, 0.0, 0.0011714701540768147, 0.001578595140017569, 0.0025874769780784845, 0.002397585427388549, 0.001513277878984809, 0.000697408861014992, 0.0, 0.0008678522426635027, 0.0, 0.0006079729646444321, 0.0016550244763493538, 0.0, 0.0001896975445561111, 0.0, 0.0, 0.0, 0.0, 0.0001230010821018368, 0.0010320991277694702, 0.0, 0.0, 0.0, 0.0, 0.0, 0.0, 0.0016759943682700396, 0.0, 0.0, 0.0, 0.0, 0.0, 0.0, 0.0009876720141619444, 0.0, 0.0017541369888931513, 0.0002573323727119714, 0.0, 0.0, 0.0, 0.0, 0.0, 0.0, 0.0, 0.00035437478800304234, 0.0, 0.0, 0.0, 0.0, 0.0006532486295327544, 0.0006385912420228124, 0.0, 0.0, 0.0, 0.0018038806738331914, 0.0, 0.0, 0.0, 0.0, 4.4211585191078484e-05, 0.0, 0.0, 0.0, 0.00048265248187817633, 0.0, 0.0, 0.0, 0.0012287225108593702, 0.0012646146351471543, 0.0, 0.0004941601073369384, 0.0, 0.0006825684104114771, 0.0, 0.0, 0.0006569977849721909, 0.0, 0.0, 0.0, 0.00156097998842597, 0.0009972364641726017, 0.00037034484557807446, 0.0, 0.0, 0.0, 0.0009380994597449899, 0.003780508413910866, 0.0021992132533341646, 0.0, 0.0, 0.0005155213293619454, 0.0, 0.0, 0.00026466179406270385, 0.0, 0.0, 1.7451080566388555e-05, 0.0015949549851939082, 0.0, 0.0, 0.0, 0.00160292349755764, 0.0021341340616345406, 0.001001474680379033, 0.004227400757372379, 0.001511939219199121, 0.0, 0.0006948631489649415, 0.0, 0.0, 0.0, 0.001776450197212398, 0.0, 0.0, 0.000676442519761622, 0.0, 0.0, 0.0, 0.0006348997703753412, 0.0022017958108335733, 0.0, 0.0, 0.0014182553859427571, 0.0013002294581383467, 0.0008434514747932553, 0.0, 0.00033391176839359105, 0.0006658135098405182, 0.0, 0.00332108442671597, 0.0016621776157990098, 0.0016932785511016846, 0.0, 0.0, 0.00024023557489272207, 0.0, 0.0, 0.0, 0.0, 0.0006966883083805442, 0.0, 0.0, 0.0, 0.0, 0.0, 0.0, 0.0, 0.0005612882669083774, 0.0, 0.00039589000516571105, 0.000366385153029114, 0.00026445547700859606, 0.00029450448346324265, 0.002075002295896411, 0.0, 0.0, 0.00045817086356692016, 0.0012671924196183681, 0.0], [0.0, 0.01046900637447834, 0.073709636926651, 0.07822322100400925, 0.09110594540834427, 0.07666583359241486, 0.06177644059062004, 0.06315991282463074, 0.0, 0.13945850729942322, 0.14159053564071655, 0.1457636058330536, 0.09419295936822891, 0.16621029376983643, 0.0786554291844368, 0.15408508479595184, 0.12700358033180237, 0.13977211713790894, 0.11347002536058426, 0.10824510455131531, 0.07049018889665604, 0.13646720349788666, 0.22070126235485077, 0.18118157982826233, 0.0560901015996933, 0.047339677810668945, 0.07652053236961365, 0.263837605714798, 0.23189200460910797, 0.4802885949611664, 0.5357269048690796, 0.2960668206214905, 0.5612976551055908, 0.20969967544078827, 0.3386557996273041, 0.1660708338022232, 0.2909683287143707, 0.3062315583229065, 0.6818758249282837, 0.4537329375743866, 0.28932812809944153, 0.6477792859077454, 0.18907693028450012, 0.3200025260448456, 0.23015989363193512, 0.3663958013057709, 0.24765965342521667, 0.4400276839733124, 0.14165031909942627, 0.22002023458480835, 0.47263363003730774, 0.20867924392223358, 0.21595454216003418, 0.2244935780763626, 0.20796546339988708, 0.2346905767917633, 0.37189406156539917, 0.3402014672756195, 0.14533866941928864, 0.2001512050628662, 0.34969282150268555, 0.49535635113716125, 0.40462878346443176, 0.15629123151302338, 0.2041371911764145, 0.3881281018257141, 0.3326057493686676, 0.33273079991340637, 0.23519748449325562, 0.22530904412269592, 0.44145870208740234, 0.2779267430305481, 0.24623030424118042, 0.23698684573173523, 0.16275949776172638, 0.3318643271923065, 0.22795961797237396, 0.30040261149406433, 0.2534041404724121, 0.17424055933952332, 0.17434163391590118, 0.26548850536346436, 0.20097990334033966, 0.2321021407842636, 0.33625030517578125, 0.2652857005596161, 0.10555224865674973, 0.1358613222837448, 0.27175840735435486, 0.28189629316329956, 0.07297065854072571, 0.15464742481708527, 0.14084027707576752, 0.16173867881298065, 0.16731798648834229, 0.1282331496477127, 0.20171137154102325, 0.18204528093338013, 0.024795660749077797, 0.03301739692687988, 0.09556861966848373, 0.12662255764007568, 0.1199529841542244, 0.05110037699341774, 0.07433921843767166, 0.03666286543011665, 0.04593759775161743, 0.07442604005336761, 0.05722634494304657, 0.05158078297972679, 0.05570010468363762, 0.022056760266423225, 0.005767869297415018, 0.042653050273656845, 0.03298371657729149, 0.02684180624783039, 0.15107467770576477, 0.2275489717721939, 0.10742895305156708, 0.0728711411356926, 0.16834957897663116, 0.03805306926369667, 0.04808497428894043, 0.1748967468738556, 0.1500486433506012, 0.16193526983261108, 0.19404219090938568, 0.07894624769687653, 0.044644761830568314, 0.04899097606539726, 0.0513821542263031, 0.10385233908891678, 0.12331871688365936, 0.09547465294599533, 0.06054013594985008, 0.13875482976436615, 0.08899497985839844, 0.0, 0.009477171115577221, 0.0, 0.009681898169219494, 0.08566701412200928, 0.16375261545181274, 0.22576120495796204, 0.27907413244247437, 0.20226480066776276, 0.10123284161090851, 0.04998938739299774, 0.012403302825987339, 0.009451505728065968, 0.011383414268493652, 0.0, 0.0, 0.03207084536552429, 0.0, 0.0, 0.0, 0.012419852428138256, 0.016534289345145226, 0.011835918761789799, 0.03791453316807747, 0.02662191353738308, 0.05629758536815643, 0.027400074526667595, 0.00679773697629571, 0.03659467026591301, 0.010641627945005894, 0.0, 0.0, 0.03395429253578186, 0.0, 0.0, 0.0, 0.030868321657180786, 0.0, 0.0, 0.0, 0.054795388132333755, 0.0, 0.0, 0.0, 0.028964949771761894, 0.03347155824303627, 0.026297636330127716, 0.035431865602731705, 0.0, 0.0, 0.00324279279448092, 0.0, 0.0030126345809549093, 0.0, 0.0, 0.0075846086256206036, 0.016615673899650574, 0.02157716080546379, 0.01849541626870632, 0.03625140339136124, 0.0, 0.0, 0.0, 0.006255574990063906, 0.0, 0.029378728941082954, 0.06442973017692566, 0.01567108929157257, 0.018817786127328873, 0.010482879355549812, 0.012246367521584034, 0.0, 0.0, 0.0, 0.0286727137863636, 0.028542786836624146, 0.012262917123734951, 0.021891450509428978, 0.011956939473748207, 0.009493699297308922, 0.028372429311275482, 0.09371825307607651, 0.06048290804028511, 0.1235276535153389, 0.02811742201447487, 0.018102873116731644, 0.016169419512152672, 0.0, 0.0, 0.0, 0.0, 0.0, 0.017618950456380844, 0.0, 0.032001134008169174, 0.06195751950144768, 0.0, 0.020800843834877014, 0.0, 0.07349026203155518, 0.028308972716331482, 0.0, 0.0, 0.0, 0.0, 0.0, 0.00919984932988882, 0.014797672629356384, 0.0, 0.0, 0.0, 0.050075579434633255, 0.0, 0.03306487575173378, 0.06890472769737244, 0.0, 0.0, 0.0202163252979517, 0.0, 0.0, 0.016957176849246025, 0.0, 0.0, 0.0, 0.010105593129992485, 0.0, 0.0, 0.004588419571518898, 0.0, 0.0, 0.0, 0.003681904636323452, 0.0, 0.0, 0.0, 0.0, 0.0, 0.028152376413345337, 0.018651578575372696, 0.0, 0.0, 0.004131385125219822, 0.0, 0.0, 0.0, 0.0, 0.04063189774751663, 0.016037752851843834, 0.0, 0.0, 0.0, 0.010827447287738323, 0.0, 0.0, 0.0, 0.02645263820886612, 0.016096482053399086, 0.006166686769574881, 0.0, 0.0, 0.017474045976996422, 0.0, 0.035817526280879974, 0.0, 0.0, 0.0, 0.0, 0.007413499057292938, 0.09595665335655212, 0.045141104608774185, 0.09986186772584915, 0.14076602458953857, 0.0, 0.05413425341248512, 0.0, 0.0, 0.040335506200790405, 0.010030453093349934, 0.0, 0.0, 0.0, 0.0, 0.04928937926888466, 0.0, 0.031931813806295395, 0.1104254499077797, 0.08397474139928818, 0.0, 0.0, 0.0, 0.0, 0.005026594735682011, 0.0, 0.011320170946419239, 0.003914593253284693, 0.0, 0.010571165941655636, 0.0, 0.0, 0.0, 0.0, 0.02985217794775963, 0.04287154972553253, 0.03466113656759262, 0.04261705279350281, 0.029626471921801567, 0.01919390819966793, 0.08603445440530777, 0.0051648435182869434, 0.0, 0.04682710021734238, 0.0216525811702013, 0.022967053577303886, 0.025577375665307045, 0.02769610658288002, 0.006204713135957718, 0.0, 0.0, 0.0, 0.056404903531074524, 0.020142871886491776, 0.0, 0.0, 0.0, 0.0, 0.0, 0.028128139674663544, 0.0, 0.0, 0.0, 0.0, 0.0, 0.0, 0.0, 0.0, 0.0, 0.0, 0.0, 0.0, 0.0, 0.0066051906906068325], [0.0, 0.0, 0.03730802237987518, 0.011284413747489452, 0.03175857663154602, 0.02013598568737507, 0.0, 0.0, 0.0, 0.08412671834230423, 0.05047934874892235, 0.08548769354820251, 0.0, 0.12056370079517365, 0.0, 0.026433821767568588, 0.0, 0.14739704132080078, 0.33653727173805237, 0.06828875839710236, 0.005010124295949936, 0.0, 0.29793351888656616, 0.34904927015304565, 0.0, 0.0, 0.0, 0.0, 0.0, 0.0332818329334259, 0.1169910803437233, 0.0, 0.0729723572731018, 0.0, 0.0, 0.0, 0.0, 0.0, 0.0, 0.17829832434654236, 0.0, 0.020566849038004875, 0.0, 0.0, 0.0, 0.0, 0.05298985540866852, 0.16009996831417084, 0.0, 0.0, 0.15390899777412415, 0.0, 0.0, 0.0, 0.02108384668827057, 0.0, 0.04095833748579025, 0.12486898899078369, 0.0, 0.0, 0.049338191747665405, 0.07045581191778183, 0.15059956908226013, 0.0, 0.0, 0.0, 0.07927347719669342, 0.020100077614188194, 0.0, 0.0, 0.04434603452682495, 0.0, 0.0, 0.0, 0.0, 0.0, 0.0, 0.0, 0.057984769344329834, 0.009821085259318352, 0.0, 0.0784461572766304, 0.010006077587604523, 0.018286818638443947, 0.30223917961120605, 0.3097135126590729, 0.0, 0.058876942843198776, 0.2645876705646515, 0.31498655676841736, 0.0, 0.0, 0.0, 0.03943754360079765, 0.0, 0.01880408078432083, 0.36014315485954285, 0.522863507270813, 0.07267408818006516, 0.017987171187996864, 0.0, 0.058608945459127426, 0.5028665661811829, 0.0, 0.0, 0.0, 0.0, 0.4194810688495636, 0.3985642194747925, 0.5729303956031799, 0.4188312888145447, 0.0, 0.0, 0.0, 0.0, 0.0, 0.2139343023300171, 0.3826051652431488, 0.08288499712944031, 0.000816234212834388, 0.22871294617652893, 0.0, 0.0, 0.31772977113723755, 0.36528530716896057, 0.43708616495132446, 0.4101049304008484, 0.05632895231246948, 0.034734148532152176, 0.0, 0.0204886756837368, 0.43613865971565247, 0.48019519448280334, 0.09222938120365143, 0.07647304981946945, 0.43425145745277405, 0.23629775643348694, 0.0, 0.03941095992922783, 0.03602343052625656, 0.08086078613996506, 0.4984155297279358, 0.33742555975914, 0.3511359691619873, 0.38606980443000793, 0.4195089340209961, 0.23010292649269104, 0.2481459379196167, 0.5616424679756165, 0.5432794094085693, 0.479359894990921, 0.033800262957811356, 0.0, 0.04985582083463669, 0.35715872049331665, 0.30242717266082764, 0.618530809879303, 0.5064162015914917, 0.00892821978777647, 0.24966473877429962, 0.547732949256897, 0.14001686871051788, 0.5336579084396362, 0.11830392479896545, 0.001112824771553278, 0.08818823099136353, 0.03735591471195221, 0.034937646239995956, 0.09116354584693909, 0.12415669858455658, 0.05442250892519951, 0.0, 0.05976342037320137, 0.340216726064682, 0.08574087917804718, 0.07955281436443329, 0.24783284962177277, 0.3217770755290985, 0.1027766764163971, 0.0, 0.28582754731178284, 0.22841569781303406, 0.2272109091281891, 0.3076190650463104, 0.3272164762020111, 0.0, 0.0, 0.16649362444877625, 0.051750700920820236, 0.09711752831935883, 0.40275484323501587, 0.00023300315660890192, 0.2779041826725006, 0.6503834128379822, 0.6277570724487305, 0.16146066784858704, 0.5403875112533569, 0.645449697971344, 0.13354159891605377, 0.3089579641819, 0.22768183052539825, 0.5816724896430969, 0.13275451958179474, 0.5537742376327515, 0.13958224654197693, 0.0, 0.15396295487880707, 0.21017573773860931, 0.1755821853876114, 0.36027881503105164, 0.013465005904436111, 0.26816028356552124, 0.22945907711982727, 0.35805463790893555, 0.08286184817552567, 0.2597786784172058, 0.07999678701162338, 0.16441462934017181, 0.3543089032173157, 0.1390833705663681, 0.4303823411464691, 0.40954941511154175, 0.534763514995575, 0.1633409559726715, 0.0, 0.09429892152547836, 0.3116089701652527, 0.315756618976593, 0.4310281574726105, 0.039036378264427185, 0.018524527549743652, 0.22758367657661438, 0.1900714933872223, 0.0, 0.036587219685316086, 0.3102521598339081, 0.11459632962942123, 0.47422200441360474, 0.6717641353607178, 0.19703459739685059, 0.24168843030929565, 0.15933145582675934, 0.1196623370051384, 0.1749529391527176, 0.2728855609893799, 0.46681052446365356, 0.2992023825645447, 0.2275812029838562, 0.22312013804912567, 0.18378576636314392, 0.5631062984466553, 0.4502093195915222, 0.03944043070077896, 0.38301748037338257, 0.08161229640245438, 0.006690142676234245, 0.05265606939792633, 0.13256478309631348, 0.1028837114572525, 0.0, 0.0, 0.07539145648479462, 0.4793996214866638, 0.07960076630115509, 0.16392533481121063, 0.09063637256622314, 0.0090871537104249, 0.03188690170645714, 0.017479881644248962, 0.042090095579624176, 0.40221109986305237, 0.44071343541145325, 0.2163151204586029, 0.0, 0.22156913578510284, 0.5431500673294067, 0.6599765419960022, 0.1080334484577179, 0.04706567898392677, 0.0, 0.03548264130949974, 0.049359213560819626, 0.08490048348903656, 0.5109689235687256, 0.6317447423934937, 0.07109914720058441, 0.0, 0.10092642158269882, 0.22968827188014984, 0.03082173690199852, 0.09458182007074356, 0.03771728649735451, 0.4350156784057617, 0.09618184715509415, 0.02862582355737686, 0.02278788760304451, 0.0, 0.43048739433288574, 0.05891615152359009, 0.2738313376903534, 0.0, 0.06677725911140442, 0.003002720419317484, 0.0, 0.5155923366546631, 0.09131351858377457, 0.08434104919433594, 0.463835746049881, 0.2881236970424652, 0.0, 0.11266950517892838, 0.06668879091739655, 0.08168751746416092, 0.4065999686717987, 0.5909326076507568, 0.0, 0.0, 0.0, 0.0, 0.5240939855575562, 0.6679539680480957, 0.07541267573833466, 0.3827688694000244, 0.4931570291519165, 0.0, 0.0, 0.0419098325073719, 0.34224173426628113, 0.41270163655281067, 0.036993805319070816, 0.07427237182855606, 0.19069023430347443, 0.014120022766292095, 0.10916263610124588, 0.3694755733013153, 0.6963059306144714, 0.04175596684217453, 0.15316253900527954, 0.5822558403015137, 0.523514449596405, 0.1374972015619278, 0.4146941900253296, 0.08882670104503632, 0.5846903920173645, 0.5047409534454346, 0.0, 0.0, 0.09556160122156143, 0.12067734450101852, 0.2774759531021118, 0.4778560996055603, 0.03803834691643715, 0.044667042791843414, 0.0, 0.05372925102710724, 0.0, 0.4797841012477875, 0.6220452189445496, 0.0, 0.0, 0.2719210684299469, 0.1941497027873993, 0.10523504763841629, 0.2752668261528015, 0.08015640079975128, 0.2326221913099289, 0.07937487959861755, 0.37930724024772644, 0.6308141946792603, 0.037288837134838104, 0.19633305072784424, 0.4326469898223877, 0.6536740660667419, 0.15577024221420288, 0.19910146296024323, 0.07695717364549637, 0.0, 0.0], [0.0, 0.021642178297042847, 0.0008935551159083843, 0.000595486315432936, 0.0, 0.0, 0.002783646807074547, 0.0033980519510805607, 11.833961486816406, 0.0003131683333776891, 0.0, 0.00091165752382949, 0.000491323065944016, 0.0002705638180486858, 0.0006352672353386879, 0.0, 0.0007781568565405905, 0.0, 0.0004436105955392122, 0.0, 0.0006919170846231282, 0.0007419681642204523, 0.0, 0.0, 0.00011548795737326145, 0.0022079474292695522, 0.0, 0.0, 2.3133568902267143e-05, 0.0, 0.0, 0.00036050184280611575, 0.00020406246767379344, 0.0, 0.0, 0.0, 0.0, 0.0, 0.0, 0.0, 0.0, 0.0, 0.0002231680991826579, 0.00011537269165273756, 0.0, 0.0, 0.0007880856283009052, 0.0, 0.0010566198034211993, 0.00030867932946421206, 0.0, 0.0, 0.0, 0.00011802889639511704, 0.0, 0.00017462720279581845, 0.0010165676940232515, 0.0, 0.00010426577500766143, 0.0, 0.0, 0.0, 0.0, 0.0006539866444654763, 0.0, 0.0, 0.0, 0.0, 0.000438471237430349, 0.0, 0.0, 0.0006532406550832093, 0.00042066629976034164, 0.000857314735185355, 0.0009048029314726591, 0.0, 0.0002472016785759479, 0.00014562475553248078, 0.00019047992827836424, 0.0, 0.0, 0.0, 0.00021979025041218847, 0.0, 0.0, 0.0, 0.000397993455408141, 0.0, 0.0, 0.0, 0.0002712674904614687, 0.0, 0.0, 0.00011722424096660689, 0.0, 0.000339185178745538, 0.0, 0.00022658031957689673, 0.0, 0.0, 0.0, 0.0, 0.0, 0.0, 0.0, 0.00027245862293057144, 0.0, 7.32414991944097e-05, 0.0004648363101296127, 0.0, 0.0, 0.0, 0.0, 0.0, 0.0, 0.0, 0.0, 0.0, 0.0, 0.0, 0.0, 0.0, 0.0, 0.0, 0.0, 0.0, 0.0, 0.0007597392541356385, 4.054868622915819e-05, 0.0, 0.0, 0.0, 0.00036490787169896066, 0.0006359516410157084, 0.0011879588710144162, 0.0, 0.0, 0.0, 0.0, 0.0, 4.156325667281635e-05, 0.0, 0.0, 0.0, 0.0, 0.0, 0.0, 0.0, 0.0, 0.00013914362352807075, 0.0, 0.0, 0.0, 0.0, 0.0, 0.0, 0.0, 0.0, 0.0, 0.0, 0.0, 0.0006973683484829962, 0.0, 0.0, 0.0, 0.0, 0.00015767538570798934, 0.0, 0.0, 0.0, 0.0, 0.0, 0.0, 0.0, 9.118110028794035e-05, 0.0, 0.0, 0.0, 0.0, 0.0021576781291514635, 0.0, 0.0, 0.00022153503959998488, 0.0003269899170845747, 0.0006365473964251578, 0.0008217531722038984, 0.003630017628893256, 0.0, 0.0, 0.0, 0.0, 0.0, 0.0, 0.0001907475816551596, 0.0, 0.0, 0.0001450631971238181, 0.00010291468061041087, 0.0, 0.0, 0.0, 0.0, 0.0, 0.0, 0.0001876198366517201, 0.0, 0.0, 0.0, 0.0, 0.00032415270106866956, 0.0, 0.0, 0.0, 0.00022100545174907893, 0.00012788617459591478, 0.0, 0.0, 0.0, 0.0, 0.0003827453183475882, 0.0, 0.0, 0.0, 0.0, 0.0, 0.0, 0.0, 0.0, 0.0, 0.0, 0.0, 0.0, 0.0, 0.0, 0.00020975898951292038, 0.0, 0.00047970598097890615, 0.0, 0.0, 0.0, 0.0023409875575453043, 0.0, 0.0, 0.00011283573257969692, 0.0, 0.0, 0.0, 0.0, 0.0, 0.0, 0.0, 1.1217382507311413e-06, 0.0, 0.0, 0.0, 0.0, 0.0, 2.166473859688267e-05, 0.0, 0.00039069115882739425, 0.0, 0.00027089242939837277, 0.0, 0.0, 0.0, 0.0, 0.0, 0.0, 0.0, 0.0, 1.4175567230267916e-05, 0.00023923913249745965, 0.0, 0.0, 0.00020641772425733507, 0.00016799794684629887, 0.0, 0.0, 0.0, 0.0, 0.0, 0.0, 0.0, 0.0, 0.0002663110790308565, 0.0, 0.0, 0.0, 0.0, 0.0, 0.0, 0.0, 0.0, 0.0, 0.0, 0.0, 0.0, 1.515232816018397e-05, 0.0, 0.0, 0.0, 0.0, 0.0, 0.0, 0.0, 0.0, 0.0, 0.0011120031122118235, 0.0006168066174723208, 0.0, 0.0, 0.0, 0.0, 0.0, 0.0, 0.0, 0.0, 0.0, 0.0, 0.0, 0.0, 0.0, 0.0, 0.0, 0.0, 0.0, 0.0, 0.0, 0.0, 0.0, 0.0, 0.0, 0.003420269815251231, 0.0, 0.0, 0.0005972991930320859, 0.0, 0.0, 0.0, 3.186377580277622e-05, 0.00012742205581162125, 0.0, 0.0, 0.0, 0.000522752059623599, 0.0, 0.0, 0.0, 0.0, 0.0, 0.0, 0.0, 0.0, 0.0, 0.0, 0.0, 0.0, 0.0, 0.0, 0.0023133433423936367, 0.0, 0.0, 0.0, 0.0, 0.0, 0.0, 0.0, 0.0, 0.00011453508341219276, 0.0, 0.0, 0.0, 0.0, 0.0, 0.00330302189104259, 0.0, 0.0, 0.006953401491045952], [0.0, 0.14677388966083527, 0.17133888602256775, 0.0923270434141159, 0.16612401604652405, 0.21330073475837708, 0.36497050523757935, 0.32100343704223633, 0.0, 0.0963173657655716, 0.16782626509666443, 0.032997556030750275, 0.05970296636223793, 0.16435684263706207, 0.063112773001194, 0.31517529487609863, 0.02906155399978161, 0.08764559775590897, 0.0, 0.03215515986084938, 0.0, 0.020827528089284897, 0.04468019679188728, 0.0, 0.08345969766378403, 0.5882541537284851, 0.15873707830905914, 0.14348697662353516, 0.2685951590538025, 0.1363314390182495, 0.0, 0.0, 0.0, 0.08537246286869049, 0.3116328716278076, 0.0, 0.17728541791439056, 0.0, 0.0, 0.0, 0.0, 0.0, 0.014257530681788921, 0.1942758858203888, 0.1250005066394806, 0.31997913122177124, 0.0, 0.029802152886986732, 0.0, 0.0, 0.0, 0.0, 0.0, 0.0, 0.0, 0.0, 0.0, 0.0, 0.0, 0.4079163670539856, 0.19326253235340118, 0.051227353513240814, 0.0, 0.0, 0.0002514332882128656, 0.1552208811044693, 0.07083915174007416, 0.32350632548332214, 0.0, 0.0, 0.07223794609308243, 0.0, 0.0, 0.0, 0.0, 0.01213293056935072, 0.0, 0.1673985868692398, 0.0, 0.0, 0.0, 0.0, 0.051253098994493484, 0.0, 0.0, 0.0, 0.0, 0.07648102194070816, 0.11812060326337814, 0.0, 0.07076156139373779, 0.4190458357334137, 0.45210501551628113, 0.39635786414146423, 0.5092776417732239, 0.09605062752962112, 0.08009622246026993, 0.0, 0.0, 0.002583387540653348, 0.4515821933746338, 0.5510322451591492, 0.0, 0.22879871726036072, 0.5350980162620544, 0.024135321378707886, 0.0, 0.0, 0.0, 0.0, 0.0, 0.05223524942994118, 0.803705632686615, 0.09818928688764572, 0.0, 0.0, 0.1276828646659851, 0.0, 0.0, 0.04635395482182503, 0.061490435153245926, 0.0003260510857217014, 0.0, 0.12660247087478638, 0.014385709539055824, 0.0, 0.0, 0.0, 0.0, 0.15726540982723236, 0.529586672782898, 0.08223233371973038, 0.0, 0.0, 0.0, 0.03914682939648628, 0.0, 0.16542433202266693, 0.530778706073761, 0.15633924305438995, 0.0, 0.058699317276477814, 0.1614592969417572, 0.03668937459588051, 0.0004564288828987628, 0.0, 0.04332979395985603, 0.12237980216741562, 0.0322251170873642, 0.0, 0.0, 0.15684272348880768, 0.8814206719398499, 0.14426185190677643, 0.33117857575416565, 0.22494059801101685, 0.046503931283950806, 0.0, 0.1425393670797348, 0.3771086037158966, 0.08260095119476318, 0.0, 0.022064467892050743, 0.0, 0.13136987388134003, 0.31683772802352905, 0.0, 0.0, 0.12617157399654388, 0.0, 0.12077751010656357, 0.49740177392959595, 0.1481465995311737, 0.05149230360984802, 0.0059865498915314674, 0.0, 0.13313020765781403, 0.25329914689064026, 0.1406293511390686, 0.6092929244041443, 0.4090689420700073, 0.3110678195953369, 0.057772912085056305, 0.0, 0.0, 0.08591245114803314, 0.37625205516815186, 0.5211664438247681, 0.04744850471615791, 0.009883375838398933, 0.10784181207418442, 0.07856731861829758, 0.2539142668247223, 0.0, 0.0, 0.0, 0.0, 0.0, 0.0, 0.1742367148399353, 0.14974410831928253, 0.03620852902531624, 0.010750342160463333, 0.01860097236931324, 0.0, 0.007036629132926464, 0.09170327335596085, 0.0, 0.0, 0.0, 0.07845821976661682, 0.39391839504241943, 0.2993735671043396, 0.03206344321370125, 0.0, 0.0, 0.0, 0.0, 0.1225101575255394, 0.0, 0.07651834189891815, 0.0, 0.0, 0.007290112320333719, 0.8313048481941223, 0.6915688514709473, 0.3104124069213867, 0.3138940632343292, 0.15935982763767242, 0.1975904107093811, 0.7786639928817749, 0.44263455271720886, 0.48950350284576416, 0.04155666381120682, 0.024056585505604744, 0.13495710492134094, 0.0, 0.11709874868392944, 0.0, 0.0, 0.0, 0.027215488255023956, 0.6309540271759033, 0.38159826397895813, 0.48629623651504517, 0.10581212490797043, 0.15496358275413513, 0.01224850956350565, 0.20995716750621796, 0.029353704303503036, 0.12473823130130768, 0.0, 0.11057557910680771, 0.266606867313385, 0.0, 0.13401181995868683, 0.7349054217338562, 0.38753899931907654, 0.6200613975524902, 0.11317792534828186, 0.025702403858304024, 0.0, 0.011992345564067364, 0.112098328769207, 0.4348730742931366, 0.3485097587108612, 0.03298274427652359, 0.0, 0.0, 0.0, 0.0, 0.0, 0.0, 0.09243428707122803, 0.0002850514429155737, 0.038531508296728134, 0.0, 0.0, 0.0031541562639176846, 0.09687113761901855, 0.5208635330200195, 0.17211458086967468, 0.0, 0.0, 0.0, 0.0, 0.8752913475036621, 0.65010005235672, 0.5004404187202454, 0.07009198516607285, 0.11610972881317139, 0.0354369692504406, 0.12390825897455215, 0.008762851357460022, 0.0254865400493145, 0.0, 0.0, 0.008695119991898537, 0.03151511028409004, 0.18107733130455017, 0.058137062937021255, 0.5466306805610657, 0.0207333043217659, 0.0, 0.18168549239635468, 0.034513674676418304, 0.06922464072704315, 0.07619194686412811, 0.0, 0.10926314443349838, 0.42779406905174255, 0.19359998404979706, 0.0, 0.04914211481809616, 0.0, 0.08881338685750961, 0.8194739818572998, 0.10622245073318481, 0.03721500560641289, 0.09742825478315353, 0.011776581406593323, 0.054155148565769196, 0.2518743872642517, 0.01791979931294918, 0.1934543401002884, 0.5986907482147217, 0.4985214173793793, 0.3376002609729767, 0.33185485005378723, 0.0316646583378315, 0.053951360285282135, 0.22472244501113892, 0.7117554545402527, 0.12398622930049896, 0.2733893096446991, 0.0, 0.06589160859584808, 0.46624088287353516, 0.050641946494579315, 0.0, 0.0, 0.2811249792575836, 0.08325663954019547, 0.10178126394748688, 0.0, 0.08935258537530899, 0.6822168231010437, 0.2930096983909607, 0.2837963402271271, 0.15312862396240234, 0.08665401488542557, 0.3189859390258789, 0.4093226492404938, 0.08343096077442169, 0.014532466419041157, 0.0, 0.07019803673028946, 0.0, 0.07724973559379578, 0.7010939717292786, 0.419512540102005, 0.3326316773891449, 0.46539387106895447, 0.2728502154350281, 0.13932162523269653, 0.5691492557525635, 0.06449981778860092, 0.16148033738136292, 0.0, 0.048878610134124756, 0.23592741787433624, 0.0997098907828331, 0.0, 0.0, 0.0, 0.03313620015978813, 0.7678155899047852, 0.3076091706752777]]]},\n",
       "            {\n",
       "            'hltrCFG': {'tokenization_config': {\"token_prefix\": \"\\u2581\", \"partial_token_prefix\": \"\"}\n",
       "                }\n",
       "            })\n",
       "         }, function (err) {\n",
       "            console.log(err);\n",
       "        })"
      ],
      "text/plain": [
       "<IPython.core.display.Javascript object>"
      ]
     },
     "metadata": {},
     "output_type": "display_data"
    }
   ],
   "source": [
    "text = ''' Now I ask you: \\n what can be expected of man since he is a being endowed with strange qualities? Shower upon him every earthly blessing, drown him in a sea of happiness, so that nothing but bubbles of bliss can be seen on the surface; give him economic prosperity, such that he should have nothing else to do but sleep, eat cakes and busy himself with the continuation of his species, and even then out of sheer ingratitude, sheer spite, man would play you some nasty trick. He would even risk his cakes and would deliberately desire the most fatal rubbish, the most uneconomical absurdity, simply to introduce into all this positive good sense his fatal fantastic element. It is just his fantastic dreams, his vulgar folly that he will desire to retain, simply in order to prove to himself--as though that were so necessary-- that men still are men and not the keys of a piano, which the laws of nature threaten to control so completely that soon one will be able to desire nothing but by the calendar. And that is not all: even if man really were nothing but a piano-key, even if this were proved to him by natural science and mathematics, even then he would not become reasonable, but would purposely do something perverse out of simple ingratitude, simply to gain his point. And if he does not find means he will contrive destruction and chaos, will contrive sufferings of all sorts, only to gain his point! He will launch a curse upon the world, and as only man can curse (it is his privilege, the primary distinction between him and other animals), may be by his curse alone he will attain his object--that is, convince himself that he is a man and not a piano-key!\n",
    "'''\n",
    "\n",
    "inputs = ecco_model.tokenizer([text], return_tensors=\"pt\")\n",
    "output = ecco_model(inputs)\n",
    "\n",
    "nmf_1 = output.run_nmf(n_components=8) \n",
    "\n",
    "nmf_1.explore()"
   ]
  },
  {
   "cell_type": "code",
   "execution_count": 21,
   "id": "1734dc15",
   "metadata": {},
   "outputs": [
    {
     "data": {
      "text/plain": [
       "{'embedding': 'embed_tokens',\n",
       " 'type': 'mlm',\n",
       " 'activations': ['mlp\\\\.down_proj'],\n",
       " 'token_prefix': '▁',\n",
       " 'partial_token_prefix': '',\n",
       " 'tokenizer_config': {'token_prefix': '▁', 'partial_token_prefix': ''}}"
      ]
     },
     "execution_count": 21,
     "metadata": {},
     "output_type": "execute_result"
    }
   ],
   "source": [
    "output.config"
   ]
  },
  {
   "cell_type": "markdown",
   "id": "101dd50f",
   "metadata": {},
   "source": [
    "## model-config.yaml\n",
    "If we're adding to model-config.yaml, the entry looks like this:\n",
    "\n",
    "\n",
    "\n"
   ]
  },
  {
   "cell_type": "code",
   "execution_count": 23,
   "id": "00250ac0",
   "metadata": {},
   "outputs": [
    {
     "data": {
      "text/plain": [
       "'\\n\\nmicrosoft/deberta-v3-small:\\n    embedding: \"model.embeddings.word_embeddings\"\\n    type: \\'mlm\\'\\n    activations:\\n        - \\'intermediate\\\\.dense\\'\\n    token_prefix: \\'▁\\'\\n    partial_token_prefix: \\'\\'\\n\\n'"
      ]
     },
     "execution_count": 23,
     "metadata": {},
     "output_type": "execute_result"
    }
   ],
   "source": [
    "\"\"\"\n",
    "\n",
    "microsoft/deberta-v3-small:\n",
    "    embedding: \"embeddings.word_embeddings\"\n",
    "    type: 'mlm'\n",
    "    activations:\n",
    "        - 'intermediate\\.dense'\n",
    "    token_prefix: '▁'\n",
    "    partial_token_prefix: ''\n",
    "\n",
    "\"\"\""
   ]
  },
  {
   "cell_type": "code",
   "execution_count": null,
   "id": "05b45ba3",
   "metadata": {},
   "outputs": [],
   "source": []
  }
 ],
 "metadata": {
  "kernelspec": {
   "display_name": "Python 3 (ipykernel)",
   "language": "python",
   "name": "python3"
  },
  "language_info": {
   "codemirror_mode": {
    "name": "ipython",
    "version": 3
   },
   "file_extension": ".py",
   "mimetype": "text/x-python",
   "name": "python",
   "nbconvert_exporter": "python",
   "pygments_lexer": "ipython3",
   "version": "3.11.4"
  }
 },
 "nbformat": 4,
 "nbformat_minor": 5
}
