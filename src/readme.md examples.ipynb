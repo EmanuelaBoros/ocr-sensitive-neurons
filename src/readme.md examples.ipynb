{
 "cells": [
  {
   "cell_type": "markdown",
   "id": "98d22aea",
   "metadata": {},
   "source": [
    "### What is the sentiment of this film review?"
   ]
  },
  {
   "cell_type": "code",
   "execution_count": 1,
   "id": "303edda7",
   "metadata": {},
   "outputs": [
    {
     "data": {
      "application/vnd.jupyter.widget-view+json": {
       "model_id": "03968573505247f2ac66f2179dcc1d08",
       "version_major": 2,
       "version_minor": 0
      },
      "text/plain": [
       "Loading checkpoint shards:   0%|          | 0/2 [00:00<?, ?it/s]"
      ]
     },
     "metadata": {},
     "output_type": "display_data"
    },
    {
     "data": {
      "text/html": [
       "<html lang=\"en\">\n",
       "<script src=\"https://requirejs.org/docs/release/2.3.6/minified/require.js\"></script>\n",
       "<script>\n",
       "    var ecco_url = 'https://storage.googleapis.com/ml-intro/ecco/'\n",
       "    //var ecco_url = 'http://localhost:8000/'\n",
       "\n",
       "    if (window.ecco === undefined) window.ecco = {}\n",
       "\n",
       "    // Setup the paths of the script we'll be using\n",
       "    requirejs.config({\n",
       "        urlArgs: \"bust=\" + (new Date()).getTime(),\n",
       "        nodeRequire: require,\n",
       "        paths: {\n",
       "            d3: \"https://d3js.org/d3.v6.min\", // This is only for use in setup.html and basic.html\n",
       "            \"d3-array\": \"https://d3js.org/d3-array.v2.min\",\n",
       "            jquery: \"https://code.jquery.com/jquery-3.5.1.min\",\n",
       "            ecco: ecco_url + 'js/0.0.6/ecco-bundle.min',\n",
       "            xregexp: 'https://cdnjs.cloudflare.com/ajax/libs/xregexp/3.2.0/xregexp-all.min'\n",
       "        }\n",
       "    });\n",
       "\n",
       "    // Add the css file\n",
       "    //requirejs(['d3'],\n",
       "    //    function (d3) {\n",
       "    //        d3.select('#css').attr('href', ecco_url + 'html/styles.css')\n",
       "    //    })\n",
       "\n",
       "    console.log('Ecco initialize!!')\n",
       "\n",
       "    // returns a 'basic' object. basic.init() selects the html div we'll be\n",
       "    // rendering the html into, adds styles.css to the document.\n",
       "    define('basic', ['d3'],\n",
       "        function (d3) {\n",
       "            return {\n",
       "                init: function (viz_id = null) {\n",
       "                    if (viz_id == null) {\n",
       "                        viz_id = \"viz_\" + Math.round(Math.random() * 10000000)\n",
       "                    }\n",
       "                    // Select the div rendered below, change its id\n",
       "                    const div = d3.select('#basic').attr('id', viz_id),\n",
       "                        div_parent = d3.select('#' + viz_id).node().parentNode\n",
       "\n",
       "                    // Link to CSS file\n",
       "                    d3.select(div_parent).insert('link')\n",
       "                        .attr('rel', 'stylesheet')\n",
       "                        .attr('type', 'text/css')\n",
       "                        .attr('href', ecco_url + 'html/0.0.2/styles.css')\n",
       "\n",
       "                    return viz_id\n",
       "                }\n",
       "            }\n",
       "        }, function (err) {\n",
       "            console.log(err);\n",
       "        }\n",
       "    )\n",
       "</script>\n",
       "\n",
       "<head>\n",
       "    <link id='css' rel=\"stylesheet\" type=\"text/css\">\n",
       "</head>\n",
       "<div id=\"basic\"></div>\n"
      ],
      "text/plain": [
       "<IPython.core.display.HTML object>"
      ]
     },
     "metadata": {},
     "output_type": "display_data"
    },
    {
     "data": {
      "application/javascript": [
       "\n",
       "         requirejs( ['basic', 'ecco'], function(basic, ecco){\n",
       "            basic.init('viz_792327') // Python needs to know the viz id. Used for each output token.\n",
       "            window.ecco['viz_792327'] = new ecco.renderOutputSequence({\n",
       "                    parentDiv: 'viz_792327',\n",
       "                    data: {\"tokens\": [{\"token\": \"<s>\", \"is_partial\": true, \"position\": 0, \"token_id\": 1, \"type\": \"input\"}, {\"token\": \"s\", \"is_partial\": false, \"position\": 1, \"token_id\": 268, \"type\": \"input\"}, {\"token\": \"st\", \"is_partial\": true, \"position\": 2, \"token_id\": 303, \"type\": \"input\"}, {\"token\": \"2\", \"is_partial\": true, \"position\": 3, \"token_id\": 28750, \"type\": \"input\"}, {\"token\": \"sentence\", \"is_partial\": false, \"position\": 4, \"token_id\": 12271, \"type\": \"input\"}, {\"token\": \":\", \"is_partial\": true, \"position\": 5, \"token_id\": 28747, \"type\": \"input\"}, {\"token\": \"Den\", \"is_partial\": false, \"position\": 6, \"token_id\": 4745, \"type\": \"input\"}, {\"token\": \"is\", \"is_partial\": true, \"position\": 7, \"token_id\": 278, \"type\": \"input\"}, {\"token\": \"Vill\", \"is_partial\": false, \"position\": 8, \"token_id\": 10494, \"type\": \"input\"}, {\"token\": \"ene\", \"is_partial\": true, \"position\": 9, \"token_id\": 1860, \"type\": \"input\"}, {\"token\": \"uve\", \"is_partial\": true, \"position\": 10, \"token_id\": 22322, \"type\": \"input\"}, {\"token\": \"'\", \"is_partial\": true, \"position\": 11, \"token_id\": 28742, \"type\": \"input\"}, {\"token\": \"s\", \"is_partial\": true, \"position\": 12, \"token_id\": 28713, \"type\": \"input\"}, {\"token\": \"D\", \"is_partial\": false, \"position\": 13, \"token_id\": 384, \"type\": \"input\"}, {\"token\": \"une\", \"is_partial\": true, \"position\": 14, \"token_id\": 1802, \"type\": \"input\"}, {\"token\": \"looks\", \"is_partial\": false, \"position\": 15, \"token_id\": 4674, \"type\": \"input\"}, {\"token\": \"and\", \"is_partial\": false, \"position\": 16, \"token_id\": 304, \"type\": \"input\"}, {\"token\": \"sounds\", \"is_partial\": false, \"position\": 17, \"token_id\": 7258, \"type\": \"input\"}, {\"token\": \"amazing\", \"is_partial\": false, \"position\": 18, \"token_id\": 6821, \"type\": \"input\"}, {\"token\": \"--\", \"is_partial\": false, \"position\": 19, \"token_id\": 1939, \"type\": \"input\"}, {\"token\": \"and\", \"is_partial\": false, \"position\": 20, \"token_id\": 304, \"type\": \"input\"}, {\"token\": \"once\", \"is_partial\": false, \"position\": 21, \"token_id\": 2327, \"type\": \"input\"}, {\"token\": \"the\", \"is_partial\": false, \"position\": 22, \"token_id\": 272, \"type\": \"input\"}, {\"token\": \"\", \"is_partial\": false, \"position\": 23, \"token_id\": 28705, \"type\": \"input\"}, {\"token\": \"\\n\", \"is_partial\": true, \"position\": 24, \"token_id\": 13, \"type\": \"input\"}, {\"token\": \"(\", \"is_partial\": true, \"position\": 25, \"token_id\": 28732, \"type\": \"input\"}, {\"token\": \"ad\", \"is_partial\": true, \"position\": 26, \"token_id\": 316, \"type\": \"input\"}, {\"token\": \"mitted\", \"is_partial\": true, \"position\": 27, \"token_id\": 10286, \"type\": \"input\"}, {\"token\": \"ly\", \"is_partial\": true, \"position\": 28, \"token_id\": 346, \"type\": \"input\"}, {\"token\": \"slow\", \"is_partial\": false, \"position\": 29, \"token_id\": 3944, \"type\": \"input\"}, {\"token\": \"-\", \"is_partial\": true, \"position\": 30, \"token_id\": 28733, \"type\": \"input\"}, {\"token\": \"building\", \"is_partial\": true, \"position\": 31, \"token_id\": 19405, \"type\": \"input\"}, {\"token\": \")\", \"is_partial\": true, \"position\": 32, \"token_id\": 28731, \"type\": \"input\"}, {\"token\": \"story\", \"is_partial\": false, \"position\": 33, \"token_id\": 2838, \"type\": \"input\"}, {\"token\": \"gets\", \"is_partial\": false, \"position\": 34, \"token_id\": 4739, \"type\": \"input\"}, {\"token\": \"you\", \"is_partial\": false, \"position\": 35, \"token_id\": 368, \"type\": \"input\"}, {\"token\": \"hook\", \"is_partial\": false, \"position\": 36, \"token_id\": 8825, \"type\": \"input\"}, {\"token\": \"ed\", \"is_partial\": true, \"position\": 37, \"token_id\": 286, \"type\": \"input\"}, {\"token\": \",\", \"is_partial\": true, \"position\": 38, \"token_id\": 28725, \"type\": \"input\"}, {\"token\": \"you\", \"is_partial\": false, \"position\": 39, \"token_id\": 368, \"type\": \"input\"}, {\"token\": \"'\", \"is_partial\": true, \"position\": 40, \"token_id\": 28742, \"type\": \"input\"}, {\"token\": \"ll\", \"is_partial\": true, \"position\": 41, \"token_id\": 584, \"type\": \"input\"}, {\"token\": \"be\", \"is_partial\": false, \"position\": 42, \"token_id\": 347, \"type\": \"input\"}, {\"token\": \"on\", \"is_partial\": false, \"position\": 43, \"token_id\": 356, \"type\": \"input\"}, {\"token\": \"the\", \"is_partial\": false, \"position\": 44, \"token_id\": 272, \"type\": \"input\"}, {\"token\": \"edge\", \"is_partial\": false, \"position\": 45, \"token_id\": 5358, \"type\": \"input\"}, {\"token\": \"\", \"is_partial\": false, \"position\": 46, \"token_id\": 28705, \"type\": \"input\"}, {\"token\": \"\\n\", \"is_partial\": true, \"position\": 47, \"token_id\": 13, \"type\": \"input\"}, {\"token\": \"of\", \"is_partial\": true, \"position\": 48, \"token_id\": 1009, \"type\": \"input\"}, {\"token\": \"your\", \"is_partial\": false, \"position\": 49, \"token_id\": 574, \"type\": \"input\"}, {\"token\": \"seat\", \"is_partial\": false, \"position\": 50, \"token_id\": 7278, \"type\": \"input\"}, {\"token\": \"for\", \"is_partial\": false, \"position\": 51, \"token_id\": 354, \"type\": \"input\"}, {\"token\": \"the\", \"is_partial\": false, \"position\": 52, \"token_id\": 272, \"type\": \"input\"}, {\"token\": \"sequ\", \"is_partial\": false, \"position\": 53, \"token_id\": 5331, \"type\": \"input\"}, {\"token\": \"el\", \"is_partial\": true, \"position\": 54, \"token_id\": 301, \"type\": \"input\"}, {\"token\": \".\", \"is_partial\": true, \"position\": 55, \"token_id\": 28723, \"type\": \"input\"}]},\n",
       "                    tokenization_config: {\"token_prefix\": \"\\u2581\", \"partial_token_prefix\": \"\"}\n",
       "            \n",
       "            })\n",
       "         }, function (err) {\n",
       "            console.log(err);\n",
       "        })\n",
       "        "
      ],
      "text/plain": [
       "<IPython.core.display.Javascript object>"
      ]
     },
     "metadata": {},
     "output_type": "display_data"
    },
    {
     "name": "stderr",
     "output_type": "stream",
     "text": [
      "Setting `pad_token_id` to `eos_token_id`:2 for open-end generation.\n",
      "MistralModel is using MistralSdpaAttention, but `torch.nn.functional.scaled_dot_product_attention` does not support `output_attentions=True`. Falling back to the manual attention implementation, but specifying the manual implementation will be required from Transformers version v5.0.0 onwards. This warning can be removed using the argument `attn_implementation=\"eager\"` when loading the model.\n"
     ]
    },
    {
     "data": {
      "application/javascript": [
       "\n",
       "        // We don't really need these require scripts. But this is to avert\n",
       "        //this code from running before display_input_sequence which DOES require external files\n",
       "        requirejs(['basic', 'ecco'], function(basic, ecco){\n",
       "                console.log('addToken viz_id', 'viz_792327');\n",
       "                window.ecco['viz_792327'].addToken({\"token\": \"\\n\", \"is_partial\": true, \"token_id\": 13, \"position\": 56, \"type\": \"output\"})\n",
       "                window.ecco['viz_792327'].redraw()\n",
       "        })\n",
       "        "
      ],
      "text/plain": [
       "<IPython.core.display.Javascript object>"
      ]
     },
     "metadata": {},
     "output_type": "display_data"
    }
   ],
   "source": [
    "# !pip install ecco\n",
    "import ecco\n",
    "\n",
    "lm = ecco.from_pretrained('mistralai/Mistral-7B-v0.1', gpu=False)\n",
    "review=\"\"\"Denis Villeneuve's Dune looks and sounds amazing -- and once the \n",
    "(admittedly slow-building) story gets you hooked, you'll be on the edge \n",
    "of your seat for the sequel.\"\"\"\n",
    "\n",
    "output = lm.generate(f\"sst2 sentence: {review}\", generate=1, do_sample=False)"
   ]
  },
  {
   "cell_type": "markdown",
   "id": "841af8d6",
   "metadata": {},
   "source": [
    "\n",
    "Use a large language model (T5 in this case) to detect text sentiment. In addition to the sentiment, see the tokens the model broke the text into (which can help debug some edge cases).\n",
    "\n",
    "### Which words in this review lead the model to classify its sentiment as \"negative\"?"
   ]
  },
  {
   "cell_type": "code",
   "execution_count": 2,
   "id": "2ccc9007",
   "metadata": {},
   "outputs": [
    {
     "data": {
      "text/html": [
       "<html lang=\"en\">\n",
       "<script src=\"https://requirejs.org/docs/release/2.3.6/minified/require.js\"></script>\n",
       "<script>\n",
       "    var ecco_url = 'https://storage.googleapis.com/ml-intro/ecco/'\n",
       "    //var ecco_url = 'http://localhost:8000/'\n",
       "\n",
       "    if (window.ecco === undefined) window.ecco = {}\n",
       "\n",
       "    // Setup the paths of the script we'll be using\n",
       "    requirejs.config({\n",
       "        urlArgs: \"bust=\" + (new Date()).getTime(),\n",
       "        nodeRequire: require,\n",
       "        paths: {\n",
       "            d3: \"https://d3js.org/d3.v6.min\", // This is only for use in setup.html and basic.html\n",
       "            \"d3-array\": \"https://d3js.org/d3-array.v2.min\",\n",
       "            jquery: \"https://code.jquery.com/jquery-3.5.1.min\",\n",
       "            ecco: ecco_url + 'js/0.0.6/ecco-bundle.min',\n",
       "            xregexp: 'https://cdnjs.cloudflare.com/ajax/libs/xregexp/3.2.0/xregexp-all.min'\n",
       "        }\n",
       "    });\n",
       "\n",
       "    // Add the css file\n",
       "    //requirejs(['d3'],\n",
       "    //    function (d3) {\n",
       "    //        d3.select('#css').attr('href', ecco_url + 'html/styles.css')\n",
       "    //    })\n",
       "\n",
       "    console.log('Ecco initialize!!')\n",
       "\n",
       "    // returns a 'basic' object. basic.init() selects the html div we'll be\n",
       "    // rendering the html into, adds styles.css to the document.\n",
       "    define('basic', ['d3'],\n",
       "        function (d3) {\n",
       "            return {\n",
       "                init: function (viz_id = null) {\n",
       "                    if (viz_id == null) {\n",
       "                        viz_id = \"viz_\" + Math.round(Math.random() * 10000000)\n",
       "                    }\n",
       "                    // Select the div rendered below, change its id\n",
       "                    const div = d3.select('#basic').attr('id', viz_id),\n",
       "                        div_parent = d3.select('#' + viz_id).node().parentNode\n",
       "\n",
       "                    // Link to CSS file\n",
       "                    d3.select(div_parent).insert('link')\n",
       "                        .attr('rel', 'stylesheet')\n",
       "                        .attr('type', 'text/css')\n",
       "                        .attr('href', ecco_url + 'html/0.0.2/styles.css')\n",
       "\n",
       "                    return viz_id\n",
       "                }\n",
       "            }\n",
       "        }, function (err) {\n",
       "            console.log(err);\n",
       "        }\n",
       "    )\n",
       "</script>\n",
       "\n",
       "<head>\n",
       "    <link id='css' rel=\"stylesheet\" type=\"text/css\">\n",
       "</head>\n",
       "<div id=\"basic\"></div>\n"
      ],
      "text/plain": [
       "<IPython.core.display.HTML object>"
      ]
     },
     "metadata": {},
     "output_type": "display_data"
    },
    {
     "data": {
      "application/javascript": [
       "\n",
       "         requirejs( ['basic', 'ecco'], function(basic, ecco){\n",
       "            basic.init('viz_555304') // Python needs to know the viz id. Used for each output token.\n",
       "            window.ecco['viz_555304'] = new ecco.renderOutputSequence({\n",
       "                    parentDiv: 'viz_555304',\n",
       "                    data: {\"tokens\": [{\"token\": \"<s>\", \"is_partial\": true, \"position\": 0, \"token_id\": 1, \"type\": \"input\"}, {\"token\": \"s\", \"is_partial\": false, \"position\": 1, \"token_id\": 268, \"type\": \"input\"}, {\"token\": \"st\", \"is_partial\": true, \"position\": 2, \"token_id\": 303, \"type\": \"input\"}, {\"token\": \"2\", \"is_partial\": true, \"position\": 3, \"token_id\": 28750, \"type\": \"input\"}, {\"token\": \"sentence\", \"is_partial\": false, \"position\": 4, \"token_id\": 12271, \"type\": \"input\"}, {\"token\": \":\", \"is_partial\": true, \"position\": 5, \"token_id\": 28747, \"type\": \"input\"}, {\"token\": \"I\", \"is_partial\": false, \"position\": 6, \"token_id\": 315, \"type\": \"input\"}, {\"token\": \"have\", \"is_partial\": false, \"position\": 7, \"token_id\": 506, \"type\": \"input\"}, {\"token\": \"a\", \"is_partial\": false, \"position\": 8, \"token_id\": 264, \"type\": \"input\"}, {\"token\": \"well\", \"is_partial\": false, \"position\": 9, \"token_id\": 1162, \"type\": \"input\"}, {\"token\": \"-\", \"is_partial\": true, \"position\": 10, \"token_id\": 28733, \"type\": \"input\"}, {\"token\": \"document\", \"is_partial\": true, \"position\": 11, \"token_id\": 7200, \"type\": \"input\"}, {\"token\": \"ed\", \"is_partial\": true, \"position\": 12, \"token_id\": 286, \"type\": \"input\"}, {\"token\": \"weakness\", \"is_partial\": false, \"position\": 13, \"token_id\": 18288, \"type\": \"input\"}, {\"token\": \"for\", \"is_partial\": false, \"position\": 14, \"token_id\": 354, \"type\": \"input\"}, {\"token\": \"sc\", \"is_partial\": false, \"position\": 15, \"token_id\": 752, \"type\": \"input\"}, {\"token\": \"i\", \"is_partial\": true, \"position\": 16, \"token_id\": 28710, \"type\": \"input\"}, {\"token\": \"-\", \"is_partial\": true, \"position\": 17, \"token_id\": 28733, \"type\": \"input\"}, {\"token\": \"fi\", \"is_partial\": true, \"position\": 18, \"token_id\": 7971, \"type\": \"input\"}, {\"token\": \"and\", \"is_partial\": false, \"position\": 19, \"token_id\": 304, \"type\": \"input\"}, {\"token\": \"expected\", \"is_partial\": false, \"position\": 20, \"token_id\": 3349, \"type\": \"input\"}, {\"token\": \"D\", \"is_partial\": false, \"position\": 21, \"token_id\": 384, \"type\": \"input\"}, {\"token\": \"une\", \"is_partial\": true, \"position\": 22, \"token_id\": 1802, \"type\": \"input\"}, {\"token\": \"\", \"is_partial\": false, \"position\": 23, \"token_id\": 28705, \"type\": \"input\"}, {\"token\": \"\\n\", \"is_partial\": true, \"position\": 24, \"token_id\": 13, \"type\": \"input\"}, {\"token\": \"to\", \"is_partial\": true, \"position\": 25, \"token_id\": 532, \"type\": \"input\"}, {\"token\": \"feed\", \"is_partial\": false, \"position\": 26, \"token_id\": 5575, \"type\": \"input\"}, {\"token\": \"my\", \"is_partial\": false, \"position\": 27, \"token_id\": 586, \"type\": \"input\"}, {\"token\": \"soul\", \"is_partial\": false, \"position\": 28, \"token_id\": 7237, \"type\": \"input\"}, {\"token\": \".\", \"is_partial\": true, \"position\": 29, \"token_id\": 28723, \"type\": \"input\"}, {\"token\": \"I\", \"is_partial\": false, \"position\": 30, \"token_id\": 315, \"type\": \"input\"}, {\"token\": \"didn\", \"is_partial\": false, \"position\": 31, \"token_id\": 1539, \"type\": \"input\"}, {\"token\": \"'\", \"is_partial\": true, \"position\": 32, \"token_id\": 28742, \"type\": \"input\"}, {\"token\": \"t\", \"is_partial\": true, \"position\": 33, \"token_id\": 28707, \"type\": \"input\"}, {\"token\": \"expect\", \"is_partial\": false, \"position\": 34, \"token_id\": 1675, \"type\": \"input\"}, {\"token\": \"it\", \"is_partial\": false, \"position\": 35, \"token_id\": 378, \"type\": \"input\"}, {\"token\": \"to\", \"is_partial\": false, \"position\": 36, \"token_id\": 298, \"type\": \"input\"}, {\"token\": \"entirely\", \"is_partial\": false, \"position\": 37, \"token_id\": 8134, \"type\": \"input\"}, {\"token\": \"blow\", \"is_partial\": false, \"position\": 38, \"token_id\": 9716, \"type\": \"input\"}, {\"token\": \"my\", \"is_partial\": false, \"position\": 39, \"token_id\": 586, \"type\": \"input\"}, {\"token\": \"mind\", \"is_partial\": false, \"position\": 40, \"token_id\": 2273, \"type\": \"input\"}, {\"token\": \".\", \"is_partial\": true, \"position\": 41, \"token_id\": 28723, \"type\": \"input\"}]},\n",
       "                    tokenization_config: {\"token_prefix\": \"\\u2581\", \"partial_token_prefix\": \"\"}\n",
       "            \n",
       "            })\n",
       "         }, function (err) {\n",
       "            console.log(err);\n",
       "        })\n",
       "        "
      ],
      "text/plain": [
       "<IPython.core.display.Javascript object>"
      ]
     },
     "metadata": {},
     "output_type": "display_data"
    },
    {
     "name": "stderr",
     "output_type": "stream",
     "text": [
      "Setting `pad_token_id` to `eos_token_id`:2 for open-end generation.\n"
     ]
    },
    {
     "data": {
      "application/javascript": [
       "\n",
       "        // We don't really need these require scripts. But this is to avert\n",
       "        //this code from running before display_input_sequence which DOES require external files\n",
       "        requirejs(['basic', 'ecco'], function(basic, ecco){\n",
       "                console.log('addToken viz_id', 'viz_555304');\n",
       "                window.ecco['viz_555304'].addToken({\"token\": \"\\n\", \"is_partial\": true, \"token_id\": 13, \"position\": 42, \"type\": \"output\"})\n",
       "                window.ecco['viz_555304'].redraw()\n",
       "        })\n",
       "        "
      ],
      "text/plain": [
       "<IPython.core.display.Javascript object>"
      ]
     },
     "metadata": {},
     "output_type": "display_data"
    },
    {
     "ename": "IndexError",
     "evalue": "index 43 is out of bounds for axis 0 with size 42",
     "output_type": "error",
     "traceback": [
      "\u001b[0;31m---------------------------------------------------------------------------\u001b[0m",
      "\u001b[0;31mIndexError\u001b[0m                                Traceback (most recent call last)",
      "Cell \u001b[0;32mIn[2], line 7\u001b[0m\n\u001b[1;32m      3\u001b[0m review\u001b[38;5;241m=\u001b[39m\u001b[38;5;124m\"\"\"\u001b[39m\u001b[38;5;124mI have a well-documented weakness for sci-fi and expected Dune \u001b[39m\n\u001b[1;32m      4\u001b[0m \u001b[38;5;124mto feed my soul. I didn\u001b[39m\u001b[38;5;124m'\u001b[39m\u001b[38;5;124mt expect it to entirely blow my mind.\u001b[39m\u001b[38;5;124m\"\"\"\u001b[39m\n\u001b[1;32m      6\u001b[0m output \u001b[38;5;241m=\u001b[39m lm\u001b[38;5;241m.\u001b[39mgenerate(\u001b[38;5;124mf\u001b[39m\u001b[38;5;124m\"\u001b[39m\u001b[38;5;124msst2 sentence: \u001b[39m\u001b[38;5;132;01m{\u001b[39;00mreview\u001b[38;5;132;01m}\u001b[39;00m\u001b[38;5;124m\"\u001b[39m, generate\u001b[38;5;241m=\u001b[39m\u001b[38;5;241m1\u001b[39m, do_sample\u001b[38;5;241m=\u001b[39m\u001b[38;5;28;01mFalse\u001b[39;00m, attribution\u001b[38;5;241m=\u001b[39m[\u001b[38;5;124m'\u001b[39m\u001b[38;5;124mig\u001b[39m\u001b[38;5;124m'\u001b[39m])\n\u001b[0;32m----> 7\u001b[0m output\u001b[38;5;241m.\u001b[39mprimary_attributions(attr_method\u001b[38;5;241m=\u001b[39m\u001b[38;5;124m'\u001b[39m\u001b[38;5;124mig\u001b[39m\u001b[38;5;124m'\u001b[39m, ignore_tokens\u001b[38;5;241m=\u001b[39m[\u001b[38;5;241m0\u001b[39m,\u001b[38;5;241m1\u001b[39m,\u001b[38;5;241m2\u001b[39m,\u001b[38;5;241m3\u001b[39m,\u001b[38;5;241m4\u001b[39m,\u001b[38;5;241m5\u001b[39m,\u001b[38;5;241m6\u001b[39m,\u001b[38;5;241m43\u001b[39m,\u001b[38;5;241m44\u001b[39m])\n",
      "File \u001b[0;32m/scratch/eboros/projects/ecco/src/ecco/output.py:280\u001b[0m, in \u001b[0;36mOutputSeq.primary_attributions\u001b[0;34m(self, attr_method, style, ignore_tokens, **kwargs)\u001b[0m\n\u001b[1;32m    278\u001b[0m     \u001b[38;5;28;01mfor\u001b[39;00m output_token_index, _ \u001b[38;5;129;01min\u001b[39;00m \u001b[38;5;28menumerate\u001b[39m(attribution):\n\u001b[1;32m    279\u001b[0m         \u001b[38;5;28;01mfor\u001b[39;00m idx \u001b[38;5;129;01min\u001b[39;00m ignore_tokens:\n\u001b[0;32m--> 280\u001b[0m             attribution[output_token_index][idx] \u001b[38;5;241m=\u001b[39m \u001b[38;5;241m0\u001b[39m\n\u001b[1;32m    282\u001b[0m data \u001b[38;5;241m=\u001b[39m {\n\u001b[1;32m    283\u001b[0m     \u001b[38;5;124m'\u001b[39m\u001b[38;5;124mtokens\u001b[39m\u001b[38;5;124m'\u001b[39m: tokens,\n\u001b[1;32m    284\u001b[0m     \u001b[38;5;124m'\u001b[39m\u001b[38;5;124mattributions\u001b[39m\u001b[38;5;124m'\u001b[39m: [att\u001b[38;5;241m.\u001b[39mtolist() \u001b[38;5;28;01mfor\u001b[39;00m att \u001b[38;5;129;01min\u001b[39;00m attribution]\n\u001b[1;32m    285\u001b[0m }\n\u001b[1;32m    287\u001b[0m d\u001b[38;5;241m.\u001b[39mdisplay(d\u001b[38;5;241m.\u001b[39mHTML(filename\u001b[38;5;241m=\u001b[39mos\u001b[38;5;241m.\u001b[39mpath\u001b[38;5;241m.\u001b[39mjoin(\u001b[38;5;28mself\u001b[39m\u001b[38;5;241m.\u001b[39m_path, \u001b[38;5;124m\"\u001b[39m\u001b[38;5;124mhtml\u001b[39m\u001b[38;5;124m\"\u001b[39m, \u001b[38;5;124m\"\u001b[39m\u001b[38;5;124msetup.html\u001b[39m\u001b[38;5;124m\"\u001b[39m)))\n",
      "\u001b[0;31mIndexError\u001b[0m: index 43 is out of bounds for axis 0 with size 42"
     ]
    }
   ],
   "source": [
    "import ecco\n",
    "# lm = ecco.from_pretrained('t5-small', verbose=False)\n",
    "review=\"\"\"I have a well-documented weakness for sci-fi and expected Dune \n",
    "to feed my soul. I didn't expect it to entirely blow my mind.\"\"\"\n",
    "\n",
    "output = lm.generate(f\"sst2 sentence: {review}\", generate=1, do_sample=False, attribution=['ig'])\n",
    "output.primary_attributions(attr_method='ig', ignore_tokens=[0,1,2,3,4,5,6,43,44])"
   ]
  },
  {
   "cell_type": "markdown",
   "id": "54463ec8",
   "metadata": {},
   "source": [
    "\n",
    "Feature attribution using Integrated Gradients helps you explore model decisions. In this case, switching \"weakness\" to \"inclination\" allows the model to correctly switch the prediction to *positive*.\n",
    "\n",
    "### Explore the world knowledge of GPT models by posing fill-in-the blank questions."
   ]
  },
  {
   "cell_type": "code",
   "execution_count": 3,
   "id": "4fb43dac",
   "metadata": {},
   "outputs": [
    {
     "data": {
      "text/html": [
       "<html lang=\"en\">\n",
       "<script src=\"https://requirejs.org/docs/release/2.3.6/minified/require.js\"></script>\n",
       "<script>\n",
       "    var ecco_url = 'https://storage.googleapis.com/ml-intro/ecco/'\n",
       "    //var ecco_url = 'http://localhost:8000/'\n",
       "\n",
       "    if (window.ecco === undefined) window.ecco = {}\n",
       "\n",
       "    // Setup the paths of the script we'll be using\n",
       "    requirejs.config({\n",
       "        urlArgs: \"bust=\" + (new Date()).getTime(),\n",
       "        nodeRequire: require,\n",
       "        paths: {\n",
       "            d3: \"https://d3js.org/d3.v6.min\", // This is only for use in setup.html and basic.html\n",
       "            \"d3-array\": \"https://d3js.org/d3-array.v2.min\",\n",
       "            jquery: \"https://code.jquery.com/jquery-3.5.1.min\",\n",
       "            ecco: ecco_url + 'js/0.0.6/ecco-bundle.min',\n",
       "            xregexp: 'https://cdnjs.cloudflare.com/ajax/libs/xregexp/3.2.0/xregexp-all.min'\n",
       "        }\n",
       "    });\n",
       "\n",
       "    // Add the css file\n",
       "    //requirejs(['d3'],\n",
       "    //    function (d3) {\n",
       "    //        d3.select('#css').attr('href', ecco_url + 'html/styles.css')\n",
       "    //    })\n",
       "\n",
       "    console.log('Ecco initialize!!')\n",
       "\n",
       "    // returns a 'basic' object. basic.init() selects the html div we'll be\n",
       "    // rendering the html into, adds styles.css to the document.\n",
       "    define('basic', ['d3'],\n",
       "        function (d3) {\n",
       "            return {\n",
       "                init: function (viz_id = null) {\n",
       "                    if (viz_id == null) {\n",
       "                        viz_id = \"viz_\" + Math.round(Math.random() * 10000000)\n",
       "                    }\n",
       "                    // Select the div rendered below, change its id\n",
       "                    const div = d3.select('#basic').attr('id', viz_id),\n",
       "                        div_parent = d3.select('#' + viz_id).node().parentNode\n",
       "\n",
       "                    // Link to CSS file\n",
       "                    d3.select(div_parent).insert('link')\n",
       "                        .attr('rel', 'stylesheet')\n",
       "                        .attr('type', 'text/css')\n",
       "                        .attr('href', ecco_url + 'html/0.0.2/styles.css')\n",
       "\n",
       "                    return viz_id\n",
       "                }\n",
       "            }\n",
       "        }, function (err) {\n",
       "            console.log(err);\n",
       "        }\n",
       "    )\n",
       "</script>\n",
       "\n",
       "<head>\n",
       "    <link id='css' rel=\"stylesheet\" type=\"text/css\">\n",
       "</head>\n",
       "<div id=\"basic\"></div>\n"
      ],
      "text/plain": [
       "<IPython.core.display.HTML object>"
      ]
     },
     "metadata": {},
     "output_type": "display_data"
    },
    {
     "data": {
      "application/javascript": [
       "\n",
       "         requirejs( ['basic', 'ecco'], function(basic, ecco){\n",
       "            basic.init('viz_170894') // Python needs to know the viz id. Used for each output token.\n",
       "            window.ecco['viz_170894'] = new ecco.renderOutputSequence({\n",
       "                    parentDiv: 'viz_170894',\n",
       "                    data: {\"tokens\": [{\"token\": \"<s>\", \"is_partial\": true, \"position\": 0, \"token_id\": 1, \"type\": \"input\"}, {\"token\": \"\", \"is_partial\": false, \"position\": 1, \"token_id\": 28705, \"type\": \"input\"}, {\"token\": \"He\", \"is_partial\": false, \"position\": 2, \"token_id\": 650, \"type\": \"input\"}, {\"token\": \"ath\", \"is_partial\": true, \"position\": 3, \"token_id\": 498, \"type\": \"input\"}, {\"token\": \"row\", \"is_partial\": true, \"position\": 4, \"token_id\": 671, \"type\": \"input\"}, {\"token\": \"airport\", \"is_partial\": false, \"position\": 5, \"token_id\": 14400, \"type\": \"input\"}, {\"token\": \"is\", \"is_partial\": false, \"position\": 6, \"token_id\": 349, \"type\": \"input\"}, {\"token\": \"located\", \"is_partial\": false, \"position\": 7, \"token_id\": 5651, \"type\": \"input\"}, {\"token\": \"in\", \"is_partial\": false, \"position\": 8, \"token_id\": 297, \"type\": \"input\"}, {\"token\": \"the\", \"is_partial\": false, \"position\": 9, \"token_id\": 272, \"type\": \"input\"}, {\"token\": \"city\", \"is_partial\": false, \"position\": 10, \"token_id\": 2990, \"type\": \"input\"}, {\"token\": \"of\", \"is_partial\": false, \"position\": 11, \"token_id\": 302, \"type\": \"input\"}]},\n",
       "                    tokenization_config: {\"token_prefix\": \"\\u2581\", \"partial_token_prefix\": \"\"}\n",
       "            \n",
       "            })\n",
       "         }, function (err) {\n",
       "            console.log(err);\n",
       "        })\n",
       "        "
      ],
      "text/plain": [
       "<IPython.core.display.Javascript object>"
      ]
     },
     "metadata": {},
     "output_type": "display_data"
    },
    {
     "name": "stderr",
     "output_type": "stream",
     "text": [
      "Setting `pad_token_id` to `eos_token_id`:2 for open-end generation.\n"
     ]
    },
    {
     "data": {
      "application/javascript": [
       "\n",
       "        // We don't really need these require scripts. But this is to avert\n",
       "        //this code from running before display_input_sequence which DOES require external files\n",
       "        requirejs(['basic', 'ecco'], function(basic, ecco){\n",
       "                console.log('addToken viz_id', 'viz_170894');\n",
       "                window.ecco['viz_170894'].addToken({\"token\": \"London\", \"is_partial\": false, \"token_id\": 4222, \"position\": 12, \"type\": \"output\"})\n",
       "                window.ecco['viz_170894'].redraw()\n",
       "        })\n",
       "        "
      ],
      "text/plain": [
       "<IPython.core.display.Javascript object>"
      ]
     },
     "metadata": {},
     "output_type": "display_data"
    }
   ],
   "source": [
    "import ecco\n",
    "# lm = ecco.from_pretrained('gpt2')\n",
    "# lm = ecco.from_pretrained('mistralai/Mistral-7B-v0.1', gpu=False)\n",
    "prompt=\"\"\" Heathrow airport is located in the city of\"\"\"\n",
    "\n",
    "output = lm.generate(prompt, generate=1, do_sample=False)"
   ]
  },
  {
   "cell_type": "markdown",
   "id": "94416bbd",
   "metadata": {},
   "source": [
    "\n",
    "Does GPT2 know where Heathrow Airport is? Yes. It does.\n",
    "\n",
    "### What other cities/words did the model consider in addition to London?"
   ]
  },
  {
   "cell_type": "code",
   "execution_count": 4,
   "id": "a65ab8fd",
   "metadata": {},
   "outputs": [
    {
     "data": {
      "text/html": [
       "<html lang=\"en\">\n",
       "<script src=\"https://requirejs.org/docs/release/2.3.6/minified/require.js\"></script>\n",
       "<script>\n",
       "    var ecco_url = 'https://storage.googleapis.com/ml-intro/ecco/'\n",
       "    //var ecco_url = 'http://localhost:8000/'\n",
       "\n",
       "    if (window.ecco === undefined) window.ecco = {}\n",
       "\n",
       "    // Setup the paths of the script we'll be using\n",
       "    requirejs.config({\n",
       "        urlArgs: \"bust=\" + (new Date()).getTime(),\n",
       "        nodeRequire: require,\n",
       "        paths: {\n",
       "            d3: \"https://d3js.org/d3.v6.min\", // This is only for use in setup.html and basic.html\n",
       "            \"d3-array\": \"https://d3js.org/d3-array.v2.min\",\n",
       "            jquery: \"https://code.jquery.com/jquery-3.5.1.min\",\n",
       "            ecco: ecco_url + 'js/0.0.6/ecco-bundle.min',\n",
       "            xregexp: 'https://cdnjs.cloudflare.com/ajax/libs/xregexp/3.2.0/xregexp-all.min'\n",
       "        }\n",
       "    });\n",
       "\n",
       "    // Add the css file\n",
       "    //requirejs(['d3'],\n",
       "    //    function (d3) {\n",
       "    //        d3.select('#css').attr('href', ecco_url + 'html/styles.css')\n",
       "    //    })\n",
       "\n",
       "    console.log('Ecco initialize!!')\n",
       "\n",
       "    // returns a 'basic' object. basic.init() selects the html div we'll be\n",
       "    // rendering the html into, adds styles.css to the document.\n",
       "    define('basic', ['d3'],\n",
       "        function (d3) {\n",
       "            return {\n",
       "                init: function (viz_id = null) {\n",
       "                    if (viz_id == null) {\n",
       "                        viz_id = \"viz_\" + Math.round(Math.random() * 10000000)\n",
       "                    }\n",
       "                    // Select the div rendered below, change its id\n",
       "                    const div = d3.select('#basic').attr('id', viz_id),\n",
       "                        div_parent = d3.select('#' + viz_id).node().parentNode\n",
       "\n",
       "                    // Link to CSS file\n",
       "                    d3.select(div_parent).insert('link')\n",
       "                        .attr('rel', 'stylesheet')\n",
       "                        .attr('type', 'text/css')\n",
       "                        .attr('href', ecco_url + 'html/0.0.2/styles.css')\n",
       "\n",
       "                    return viz_id\n",
       "                }\n",
       "            }\n",
       "        }, function (err) {\n",
       "            console.log(err);\n",
       "        }\n",
       "    )\n",
       "</script>\n",
       "\n",
       "<head>\n",
       "    <link id='css' rel=\"stylesheet\" type=\"text/css\">\n",
       "</head>\n",
       "<div id=\"basic\"></div>\n"
      ],
      "text/plain": [
       "<IPython.core.display.HTML object>"
      ]
     },
     "metadata": {},
     "output_type": "display_data"
    },
    {
     "data": {
      "application/javascript": [
       "\n",
       "         requirejs( ['basic', 'ecco'], function(basic, ecco){\n",
       "            basic.init('viz_12515') // Python needs to know the viz id. Used for each output token.\n",
       "            window.ecco['viz_12515'] = new ecco.renderOutputSequence({\n",
       "                    parentDiv: 'viz_12515',\n",
       "                    data: {\"tokens\": [{\"token\": \"<s>\", \"is_partial\": true, \"position\": 0, \"token_id\": 1, \"type\": \"input\"}, {\"token\": \"\", \"is_partial\": false, \"position\": 1, \"token_id\": 28705, \"type\": \"input\"}, {\"token\": \"He\", \"is_partial\": false, \"position\": 2, \"token_id\": 650, \"type\": \"input\"}, {\"token\": \"ath\", \"is_partial\": true, \"position\": 3, \"token_id\": 498, \"type\": \"input\"}, {\"token\": \"row\", \"is_partial\": true, \"position\": 4, \"token_id\": 671, \"type\": \"input\"}, {\"token\": \"airport\", \"is_partial\": false, \"position\": 5, \"token_id\": 14400, \"type\": \"input\"}, {\"token\": \"is\", \"is_partial\": false, \"position\": 6, \"token_id\": 349, \"type\": \"input\"}, {\"token\": \"located\", \"is_partial\": false, \"position\": 7, \"token_id\": 5651, \"type\": \"input\"}, {\"token\": \"in\", \"is_partial\": false, \"position\": 8, \"token_id\": 297, \"type\": \"input\"}, {\"token\": \"the\", \"is_partial\": false, \"position\": 9, \"token_id\": 272, \"type\": \"input\"}, {\"token\": \"city\", \"is_partial\": false, \"position\": 10, \"token_id\": 2990, \"type\": \"input\"}, {\"token\": \"of\", \"is_partial\": false, \"position\": 11, \"token_id\": 302, \"type\": \"input\"}]},\n",
       "                    tokenization_config: {\"token_prefix\": \"\\u2581\", \"partial_token_prefix\": \"\"}\n",
       "            \n",
       "            })\n",
       "         }, function (err) {\n",
       "            console.log(err);\n",
       "        })\n",
       "        "
      ],
      "text/plain": [
       "<IPython.core.display.Javascript object>"
      ]
     },
     "metadata": {},
     "output_type": "display_data"
    },
    {
     "name": "stderr",
     "output_type": "stream",
     "text": [
      "Setting `pad_token_id` to `eos_token_id`:2 for open-end generation.\n"
     ]
    },
    {
     "data": {
      "application/javascript": [
       "\n",
       "        // We don't really need these require scripts. But this is to avert\n",
       "        //this code from running before display_input_sequence which DOES require external files\n",
       "        requirejs(['basic', 'ecco'], function(basic, ecco){\n",
       "                console.log('addToken viz_id', 'viz_12515');\n",
       "                window.ecco['viz_12515'].addToken({\"token\": \"London\", \"is_partial\": false, \"token_id\": 4222, \"position\": 12, \"type\": \"output\"})\n",
       "                window.ecco['viz_12515'].redraw()\n",
       "        })\n",
       "        "
      ],
      "text/plain": [
       "<IPython.core.display.Javascript object>"
      ]
     },
     "metadata": {},
     "output_type": "display_data"
    },
    {
     "data": {
      "text/html": [
       "<html lang=\"en\">\n",
       "<script src=\"https://requirejs.org/docs/release/2.3.6/minified/require.js\"></script>\n",
       "<script>\n",
       "    var ecco_url = 'https://storage.googleapis.com/ml-intro/ecco/'\n",
       "    //var ecco_url = 'http://localhost:8000/'\n",
       "\n",
       "    if (window.ecco === undefined) window.ecco = {}\n",
       "\n",
       "    // Setup the paths of the script we'll be using\n",
       "    requirejs.config({\n",
       "        urlArgs: \"bust=\" + (new Date()).getTime(),\n",
       "        nodeRequire: require,\n",
       "        paths: {\n",
       "            d3: \"https://d3js.org/d3.v6.min\", // This is only for use in setup.html and basic.html\n",
       "            \"d3-array\": \"https://d3js.org/d3-array.v2.min\",\n",
       "            jquery: \"https://code.jquery.com/jquery-3.5.1.min\",\n",
       "            ecco: ecco_url + 'js/0.0.6/ecco-bundle.min',\n",
       "            xregexp: 'https://cdnjs.cloudflare.com/ajax/libs/xregexp/3.2.0/xregexp-all.min'\n",
       "        }\n",
       "    });\n",
       "\n",
       "    // Add the css file\n",
       "    //requirejs(['d3'],\n",
       "    //    function (d3) {\n",
       "    //        d3.select('#css').attr('href', ecco_url + 'html/styles.css')\n",
       "    //    })\n",
       "\n",
       "    console.log('Ecco initialize!!')\n",
       "\n",
       "    // returns a 'basic' object. basic.init() selects the html div we'll be\n",
       "    // rendering the html into, adds styles.css to the document.\n",
       "    define('basic', ['d3'],\n",
       "        function (d3) {\n",
       "            return {\n",
       "                init: function (viz_id = null) {\n",
       "                    if (viz_id == null) {\n",
       "                        viz_id = \"viz_\" + Math.round(Math.random() * 10000000)\n",
       "                    }\n",
       "                    // Select the div rendered below, change its id\n",
       "                    const div = d3.select('#basic').attr('id', viz_id),\n",
       "                        div_parent = d3.select('#' + viz_id).node().parentNode\n",
       "\n",
       "                    // Link to CSS file\n",
       "                    d3.select(div_parent).insert('link')\n",
       "                        .attr('rel', 'stylesheet')\n",
       "                        .attr('type', 'text/css')\n",
       "                        .attr('href', ecco_url + 'html/0.0.2/styles.css')\n",
       "\n",
       "                    return viz_id\n",
       "                }\n",
       "            }\n",
       "        }, function (err) {\n",
       "            console.log(err);\n",
       "        }\n",
       "    )\n",
       "</script>\n",
       "\n",
       "<head>\n",
       "    <link id='css' rel=\"stylesheet\" type=\"text/css\">\n",
       "</head>\n",
       "<div id=\"basic\"></div>\n"
      ],
      "text/plain": [
       "<IPython.core.display.HTML object>"
      ]
     },
     "metadata": {},
     "output_type": "display_data"
    },
    {
     "data": {
      "application/javascript": [
       "\n",
       "             requirejs(['basic', 'ecco'], function(basic, ecco){\n",
       "                const viz_id = basic.init()\n",
       "                console.log(viz_id)\n",
       "                // ecco.interactiveTokens(viz_id, {})\n",
       "                window.ecco[viz_id] = new ecco.MinimalHighlighter({\n",
       "                    parentDiv: viz_id,\n",
       "                    data: {\"tokens\": [{\"token\": \"<s>\", \"token_id\": 1, \"is_partial\": true, \"type\": \"input\", \"value\": \"0.2201207483712336\", \"position\": 0}, {\"token\": \"\", \"token_id\": 28705, \"is_partial\": false, \"type\": \"input\", \"value\": \"0.08507651009852545\", \"position\": 1}, {\"token\": \"He\", \"token_id\": 650, \"is_partial\": false, \"type\": \"input\", \"value\": \"0.08825036244771836\", \"position\": 2}, {\"token\": \"ath\", \"token_id\": 498, \"is_partial\": true, \"type\": \"input\", \"value\": \"0.10828641754212272\", \"position\": 3}, {\"token\": \"row\", \"token_id\": 671, \"is_partial\": true, \"type\": \"input\", \"value\": \"0.09918938082141757\", \"position\": 4}, {\"token\": \"airport\", \"token_id\": 14400, \"is_partial\": false, \"type\": \"input\", \"value\": \"0.02644660255896843\", \"position\": 5}, {\"token\": \"is\", \"token_id\": 349, \"is_partial\": false, \"type\": \"input\", \"value\": \"0.014572174251614445\", \"position\": 6}, {\"token\": \"located\", \"token_id\": 5651, \"is_partial\": false, \"type\": \"input\", \"value\": \"0.023755901740910156\", \"position\": 7}, {\"token\": \"in\", \"token_id\": 297, \"is_partial\": false, \"type\": \"input\", \"value\": \"0.07680932449457227\", \"position\": 8}, {\"token\": \"the\", \"token_id\": 272, \"is_partial\": false, \"type\": \"input\", \"value\": \"0.06399961673091695\", \"position\": 9}, {\"token\": \"city\", \"token_id\": 2990, \"is_partial\": false, \"type\": \"input\", \"value\": \"0.05166109775411224\", \"position\": 10}, {\"token\": \"of\", \"token_id\": 302, \"is_partial\": false, \"type\": \"input\", \"value\": \"0.14183186318788782\", \"position\": 11}, {\"token\": \"London\", \"token_id\": 4222, \"is_partial\": false, \"type\": \"output\", \"value\": \"0\", \"position\": 12}], \"attributions\": [[0.2201207483712336, 0.08507651009852545, 0.08825036244771836, 0.10828641754212272, 0.09918938082141757, 0.02644660255896843, 0.014572174251614445, 0.023755901740910156, 0.07680932449457227, 0.06399961673091695, 0.05166109775411224, 0.14183186318788782]]},\n",
       "                    preset: 'viridis',\n",
       "                    tokenization_config: {\"token_prefix\": \"\\u2581\", \"partial_token_prefix\": \"\"}\n",
       "\n",
       "             })\n",
       "\n",
       "             window.ecco[viz_id].init();\n",
       "             window.ecco[viz_id].selectFirstToken();\n",
       "\n",
       "             }, function (err) {\n",
       "                console.log(err);\n",
       "            })"
      ],
      "text/plain": [
       "<IPython.core.display.Javascript object>"
      ]
     },
     "metadata": {},
     "output_type": "display_data"
    }
   ],
   "source": [
    "# import ecco\n",
    "# lm = ecco.from_pretrained('gpt2', verbose=False)\n",
    "# lm = ecco.from_pretrained('mistralai/Mistral-7B-v0.1', gpu=False)\n",
    "prompt=\"\"\" Heathrow airport is located in the city of\"\"\"\n",
    "\n",
    "output = lm.generate(prompt, generate=1, do_sample=False, attribution=['ig'])\n",
    "output.primary_attributions(attr_method='ig')"
   ]
  },
  {
   "cell_type": "code",
   "execution_count": null,
   "id": "e0600c0f",
   "metadata": {},
   "outputs": [],
   "source": []
  },
  {
   "cell_type": "code",
   "execution_count": 5,
   "id": "1566459f",
   "metadata": {},
   "outputs": [
    {
     "data": {
      "text/plain": [
       "<bound method OutputSeq.layer_predictions of <ecco.output.OutputSeq object at 0x7f834729c850>>"
      ]
     },
     "execution_count": 5,
     "metadata": {},
     "output_type": "execute_result"
    }
   ],
   "source": [
    "output.layer_predictions"
   ]
  },
  {
   "cell_type": "code",
   "execution_count": 6,
   "id": "86ce86a2",
   "metadata": {},
   "outputs": [
    {
     "data": {
      "text/plain": [
       "(None,\n",
       " [tensor([[[-8.8766e-04,  2.6857e-03, -1.8600e-01,  ...,  2.3186e-06,\n",
       "            -1.4455e-03, -1.9542e-03],\n",
       "           [ 7.8486e-03,  1.9305e-03,  6.7913e-03,  ...,  6.1828e-03,\n",
       "            -2.9345e-03, -4.3935e-04],\n",
       "           [ 2.0729e-03, -4.0977e-03,  7.4051e-03,  ..., -1.9339e-03,\n",
       "            -1.6127e-03, -3.7267e-03],\n",
       "           ...,\n",
       "           [ 3.1811e-03, -1.4793e-03,  1.2164e-03,  ...,  1.3331e-03,\n",
       "             8.7309e-04, -2.3857e-03],\n",
       "           [ 1.9402e-03, -3.0069e-03,  3.0755e-03,  ...,  5.7066e-03,\n",
       "             2.7890e-03, -4.9941e-03],\n",
       "           [ 8.9543e-04, -1.3183e-03,  4.0324e-04,  ...,  9.1785e-04,\n",
       "            -1.7421e-03, -3.8387e-04]],\n",
       "  \n",
       "          [[-1.2002e-01, -3.9148e-01, -1.4112e-01,  ...,  7.0582e-03,\n",
       "             2.0792e-02, -5.9037e-02],\n",
       "           [ 1.5263e-02,  4.2630e-03,  2.3083e-02,  ...,  1.2507e-03,\n",
       "             1.7685e-03, -1.4414e-02],\n",
       "           [ 5.2123e-03, -9.1736e-03,  1.0984e-02,  ..., -8.6267e-04,\n",
       "            -2.0873e-03, -2.8016e-03],\n",
       "           ...,\n",
       "           [ 7.0746e-03, -2.1838e-03,  1.9770e-03,  ...,  2.1579e-03,\n",
       "            -3.6982e-06, -2.3876e-03],\n",
       "           [-1.3604e-04, -1.0734e-02,  6.3411e-03,  ...,  8.0110e-03,\n",
       "             2.7617e-03, -2.6183e-03],\n",
       "           [ 5.0340e-03, -1.0890e-02,  3.0637e-04,  ...,  6.0592e-03,\n",
       "            -7.1837e-04, -4.2312e-03]],\n",
       "  \n",
       "          [[-1.2131e-01, -3.9140e-01, -1.4172e-01,  ...,  6.5340e-03,\n",
       "             2.0987e-02, -5.9919e-02],\n",
       "           [ 1.1671e-02,  8.3358e-03,  2.5173e-02,  ..., -2.2848e-03,\n",
       "            -2.6541e-03, -1.6374e-02],\n",
       "           [ 8.6934e-03, -5.0444e-03,  4.2157e-03,  ...,  1.2827e-03,\n",
       "            -1.0550e-03,  2.6573e-03],\n",
       "           ...,\n",
       "           [ 3.5224e-03, -2.5203e-03,  2.7271e-03,  ...,  8.0309e-03,\n",
       "            -6.4671e-03, -4.0919e-03],\n",
       "           [-2.9173e-03, -1.6386e-02,  1.0338e-02,  ...,  1.1443e-02,\n",
       "            -6.5244e-04, -4.8614e-03],\n",
       "           [-5.3919e-04, -1.0660e-02,  2.4467e-03,  ...,  7.7113e-03,\n",
       "            -1.5966e-03,  2.1605e-03]],\n",
       "  \n",
       "          ...,\n",
       "  \n",
       "          [[-5.3812e-01, -5.6751e-01, -3.1983e-01,  ..., -5.8987e-01,\n",
       "            -4.1473e-01, -9.0434e-02],\n",
       "           [-7.8373e-02, -1.2893e-01,  1.2152e-01,  ..., -2.3015e-01,\n",
       "             1.5053e-03, -7.4525e-02],\n",
       "           [ 8.3450e-02, -5.8730e-01, -5.2735e-01,  ...,  3.5295e-02,\n",
       "             2.9869e-02,  7.7157e-01],\n",
       "           ...,\n",
       "           [-1.9147e-01,  5.5731e-01, -3.4127e-01,  ..., -1.1056e-01,\n",
       "            -1.4057e-01,  3.8927e-01],\n",
       "           [-8.4763e-02, -1.1474e-01,  3.4895e-01,  ...,  1.3428e-02,\n",
       "            -5.6531e-02,  9.4987e-01],\n",
       "           [ 7.4426e-02, -1.4774e-02,  3.4018e-01,  ...,  9.5500e-02,\n",
       "             4.9960e-01,  5.4016e-01]],\n",
       "  \n",
       "          [[-9.2857e-01, -9.0293e-01, -1.0289e+00,  ..., -1.1338e+00,\n",
       "            -6.2569e-01,  1.5344e-01],\n",
       "           [-1.8297e-01,  4.2622e-02, -1.3352e-01,  ..., -4.6927e-01,\n",
       "             6.9503e-02, -3.4994e-01],\n",
       "           [-4.7916e-02, -6.1906e-01, -3.1365e-01,  ..., -6.2818e-01,\n",
       "            -2.8374e-02,  8.2351e-01],\n",
       "           ...,\n",
       "           [-2.4642e-01,  5.6596e-01, -4.2374e-01,  ..., -8.1345e-02,\n",
       "             5.8675e-02,  1.1155e-01],\n",
       "           [-7.2904e-02, -2.9049e-01,  3.6028e-01,  ...,  2.8940e-02,\n",
       "            -9.8888e-02,  8.7933e-01],\n",
       "           [ 2.0230e-01,  8.5371e-02,  3.8864e-01,  ...,  1.9441e-01,\n",
       "             4.8191e-01,  2.4025e-01]],\n",
       "  \n",
       "          [[-1.7006e+00,  5.3466e-01, -1.7345e+00,  ..., -3.3636e-02,\n",
       "            -2.0052e+00,  2.6638e+00],\n",
       "           [-4.7492e-01, -4.9879e+00, -6.3506e+00,  ..., -4.5615e+00,\n",
       "             3.2947e+00, -6.0398e+00],\n",
       "           [ 3.9760e+00, -4.6022e+00, -7.1743e-01,  ..., -9.9206e+00,\n",
       "             1.2459e+00,  7.4931e+00],\n",
       "           ...,\n",
       "           [-4.4554e-01,  5.1882e+00, -7.5083e+00,  ..., -8.4787e-01,\n",
       "            -1.4502e-01, -9.4292e-02],\n",
       "           [ 4.8547e-01, -2.2544e+00,  3.8591e+00,  ...,  2.1402e+00,\n",
       "            -1.7567e+00,  1.0820e+01],\n",
       "           [ 2.7410e+00,  2.1975e+00,  3.5266e+00,  ...,  3.1013e+00,\n",
       "             5.0335e+00,  1.3241e+00]]])])"
      ]
     },
     "execution_count": 6,
     "metadata": {},
     "output_type": "execute_result"
    }
   ],
   "source": [
    "output._get_hidden_states()"
   ]
  },
  {
   "cell_type": "markdown",
   "id": "89d1acc5",
   "metadata": {},
   "source": [
    "\n",
    "Visuals the candidate output tokens and their probability scores.\n",
    "\n",
    "### Which input words lead it to think of London?"
   ]
  },
  {
   "cell_type": "code",
   "execution_count": 13,
   "id": "96f36843",
   "metadata": {},
   "outputs": [
    {
     "data": {
      "text/html": [
       "<html lang=\"en\">\n",
       "<script src=\"https://requirejs.org/docs/release/2.3.6/minified/require.js\"></script>\n",
       "<script>\n",
       "    var ecco_url = 'https://storage.googleapis.com/ml-intro/ecco/'\n",
       "    //var ecco_url = 'http://localhost:8000/'\n",
       "\n",
       "    if (window.ecco === undefined) window.ecco = {}\n",
       "\n",
       "    // Setup the paths of the script we'll be using\n",
       "    requirejs.config({\n",
       "        urlArgs: \"bust=\" + (new Date()).getTime(),\n",
       "        nodeRequire: require,\n",
       "        paths: {\n",
       "            d3: \"https://d3js.org/d3.v6.min\", // This is only for use in setup.html and basic.html\n",
       "            \"d3-array\": \"https://d3js.org/d3-array.v2.min\",\n",
       "            jquery: \"https://code.jquery.com/jquery-3.5.1.min\",\n",
       "            ecco: ecco_url + 'js/0.0.6/ecco-bundle.min',\n",
       "            xregexp: 'https://cdnjs.cloudflare.com/ajax/libs/xregexp/3.2.0/xregexp-all.min'\n",
       "        }\n",
       "    });\n",
       "\n",
       "    // Add the css file\n",
       "    //requirejs(['d3'],\n",
       "    //    function (d3) {\n",
       "    //        d3.select('#css').attr('href', ecco_url + 'html/styles.css')\n",
       "    //    })\n",
       "\n",
       "    console.log('Ecco initialize!!')\n",
       "\n",
       "    // returns a 'basic' object. basic.init() selects the html div we'll be\n",
       "    // rendering the html into, adds styles.css to the document.\n",
       "    define('basic', ['d3'],\n",
       "        function (d3) {\n",
       "            return {\n",
       "                init: function (viz_id = null) {\n",
       "                    if (viz_id == null) {\n",
       "                        viz_id = \"viz_\" + Math.round(Math.random() * 10000000)\n",
       "                    }\n",
       "                    // Select the div rendered below, change its id\n",
       "                    const div = d3.select('#basic').attr('id', viz_id),\n",
       "                        div_parent = d3.select('#' + viz_id).node().parentNode\n",
       "\n",
       "                    // Link to CSS file\n",
       "                    d3.select(div_parent).insert('link')\n",
       "                        .attr('rel', 'stylesheet')\n",
       "                        .attr('type', 'text/css')\n",
       "                        .attr('href', ecco_url + 'html/0.0.2/styles.css')\n",
       "\n",
       "                    return viz_id\n",
       "                }\n",
       "            }\n",
       "        }, function (err) {\n",
       "            console.log(err);\n",
       "        }\n",
       "    )\n",
       "</script>\n",
       "\n",
       "<head>\n",
       "    <link id='css' rel=\"stylesheet\" type=\"text/css\">\n",
       "</head>\n",
       "<div id=\"basic\"></div>\n"
      ],
      "text/plain": [
       "<IPython.core.display.HTML object>"
      ]
     },
     "metadata": {},
     "output_type": "display_data"
    },
    {
     "data": {
      "application/javascript": [
       "\n",
       "         requirejs(['basic', 'ecco'], function(basic, ecco){\n",
       "            const viz_id = basic.init()\n",
       "\n",
       "\n",
       "            let pred = new ecco.LayerPredictions({\n",
       "                parentDiv: viz_id,\n",
       "                data:[[{\"token\": \"London\", \"prob\": \"0.61804646\", \"ranking\": 1, \"layer\": 31}, {\"token\": \"Hill\", \"prob\": \"0.13214011\", \"ranking\": 2, \"layer\": 31}, {\"token\": \"He\", \"prob\": \"0.055215057\", \"ranking\": 3, \"layer\": 31}, {\"token\": \"H\", \"prob\": \"0.045377664\", \"ranking\": 4, \"layer\": 31}, {\"token\": \"Gre\", \"prob\": \"0.028147029\", \"ranking\": 5, \"layer\": 31}, {\"token\": \"West\", \"prob\": \"0.021519134\", \"ranking\": 6, \"layer\": 31}, {\"token\": \"west\", \"prob\": \"0.011026457\", \"ranking\": 7, \"layer\": 31}, {\"token\": \"the\", \"prob\": \"0.008183741\", \"ranking\": 8, \"layer\": 31}, {\"token\": \"Sl\", \"prob\": \"0.006656546\", \"ranking\": 9, \"layer\": 31}, {\"token\": \"Harm\", \"prob\": \"0.004964996\", \"ranking\": 10, \"layer\": 31}]]\n",
       "            })\n",
       "            pred.init()\n",
       "         }, function (err) {\n",
       "            console.log(viz_id, err);\n",
       "        })"
      ],
      "text/plain": [
       "<IPython.core.display.Javascript object>"
      ]
     },
     "metadata": {},
     "output_type": "display_data"
    }
   ],
   "source": [
    "output.layer_predictions(position=12, layer=31)"
   ]
  },
  {
   "cell_type": "code",
   "execution_count": 14,
   "id": "e13ebb53",
   "metadata": {},
   "outputs": [
    {
     "name": "stderr",
     "output_type": "stream",
     "text": [
      "/scratch/eboros/projects/ecco/src/ecco/output.py:469: UserWarning: To copy construct from a tensor, it is recommended to use sourceTensor.clone().detach() or sourceTensor.clone().detach().requires_grad_(True), rather than torch.tensor(sourceTensor).\n",
      "  token_id = torch.tensor(self.token_ids[0][offset + j])\n"
     ]
    },
    {
     "data": {
      "image/png": "[encoded data removed]",
      "text/plain": [
       "<Figure size 190x1380 with 3 Axes>"
      ]
     },
     "metadata": {},
     "output_type": "display_data"
    }
   ],
   "source": [
    "output.rankings()"
   ]
  },
  {
   "cell_type": "markdown",
   "id": "2963976f",
   "metadata": {},
   "source": [
    "\n",
    "### At which layers did the model gather confidence that London is the right answer?"
   ]
  },
  {
   "cell_type": "code",
   "execution_count": 7,
   "id": "7d61e231",
   "metadata": {},
   "outputs": [
    {
     "name": "stderr",
     "output_type": "stream",
     "text": [
      "c:\\users\\msx\\pycharmprojects\\ecco\\src\\ecco\\output.py:473: UserWarning: To copy construct from a tensor, it is recommended to use sourceTensor.clone().detach() or sourceTensor.clone().detach().requires_grad_(True), rather than torch.tensor(sourceTensor).\n",
      "  token_id = torch.tensor(self.token_ids[0][offset + j])\n"
     ]
    },
    {
     "data": {
      "image/png": "[encoded data removed]",
      "text/plain": [
       "<Figure size 136.8x417.6 with 3 Axes>"
      ]
     },
     "metadata": {},
     "output_type": "display_data"
    }
   ],
   "source": [
    "output.rankings()"
   ]
  },
  {
   "cell_type": "markdown",
   "id": "7fc1af57",
   "metadata": {},
   "source": [
    "\n",
    "The model chose London by making the highest probability token (ranking it #1) after the last layer in the model. How much did each layer contribute to increasing the ranking of *London*? This is a [logit lens](https://www.lesswrong.com/posts/AcKRB8wDpdaN6v6ru/interpreting-gpt-the-logit-lens) visualizations that helps explore the activity of different model layers.\n",
    "\n",
    "### What are the patterns in BERT neuron activation when it processes a piece of text? "
   ]
  },
  {
   "cell_type": "code",
   "execution_count": 15,
   "id": "1f5e47ef",
   "metadata": {},
   "outputs": [],
   "source": [
    "import ecco\n",
    "# lm = ecco.from_pretrained('distilbert-base-uncased', activations=True)\n",
    "text = ''' Now I ask you: \\n what can be expected of man since he is a being endowed with strange qualities? Shower upon him every earthly blessing, drown him in a sea of happiness, so that nothing but bubbles of bliss can be seen on the surface; give him economic prosperity, such that he should have nothing else to do but sleep, eat cakes and busy himself with the continuation of his species, and even then out of sheer ingratitude, sheer spite, man would play you some nasty trick. He would even risk his cakes and would deliberately desire the most fatal rubbish, the most uneconomical absurdity, simply to introduce into all this positive good sense his fatal fantastic element. It is just his fantastic dreams, his vulgar folly that he will desire to retain, simply in order to prove to himself--as though that were so necessary-- that men still are men and not the keys of a piano, which the laws of nature threaten to control so completely that soon one will be able to desire nothing but by the calendar. And that is not all: even if man really were nothing but a piano-key, even if this were proved to him by natural science and mathematics, even then he would not become reasonable, but would purposely do something perverse out of simple ingratitude, simply to gain his point. And if he does not find means he will contrive destruction and chaos, will contrive sufferings of all sorts, only to gain his point! He will launch a curse upon the world, and as only man can curse (it is his privilege, the primary distinction between him and other animals), may be by his curse alone he will attain his object--that is, convince himself that he is a man and not a piano-key!\n",
    "'''\n",
    "inputs = lm.tokenizer([text], return_tensors=\"pt\")\n",
    "output = lm(inputs)\n"
   ]
  },
  {
   "cell_type": "code",
   "execution_count": 16,
   "id": "6241a651",
   "metadata": {},
   "outputs": [
    {
     "data": {
      "text/plain": [
       "defaultdict(dict, {})"
      ]
     },
     "execution_count": 16,
     "metadata": {},
     "output_type": "execute_result"
    }
   ],
   "source": [
    "output.activations"
   ]
  },
  {
   "cell_type": "code",
   "execution_count": null,
   "id": "1bbc41ec",
   "metadata": {},
   "outputs": [],
   "source": []
  },
  {
   "cell_type": "code",
   "execution_count": 17,
   "id": "07f8f6f7",
   "metadata": {},
   "outputs": [
    {
     "ename": "ValueError",
     "evalue": "need at least one array to concatenate",
     "output_type": "error",
     "traceback": [
      "\u001b[0;31m---------------------------------------------------------------------------\u001b[0m",
      "\u001b[0;31mValueError\u001b[0m                                Traceback (most recent call last)",
      "Cell \u001b[0;32mIn[17], line 1\u001b[0m\n\u001b[0;32m----> 1\u001b[0m nmf_1 \u001b[38;5;241m=\u001b[39m output\u001b[38;5;241m.\u001b[39mrun_nmf(n_components\u001b[38;5;241m=\u001b[39m\u001b[38;5;241m8\u001b[39m)\n",
      "File \u001b[0;32m/scratch/eboros/projects/ecco/src/ecco/output.py:629\u001b[0m, in \u001b[0;36mOutputSeq.run_nmf\u001b[0;34m(self, **kwargs)\u001b[0m\n\u001b[1;32m    622\u001b[0m \u001b[38;5;28;01mdef\u001b[39;00m \u001b[38;5;21mrun_nmf\u001b[39m(\u001b[38;5;28mself\u001b[39m, \u001b[38;5;241m*\u001b[39m\u001b[38;5;241m*\u001b[39mkwargs):\n\u001b[1;32m    623\u001b[0m \u001b[38;5;250m    \u001b[39m\u001b[38;5;124;03m\"\"\"\u001b[39;00m\n\u001b[1;32m    624\u001b[0m \u001b[38;5;124;03m    Run Non-negative Matrix Factorization on network activations of FFNN. Returns an [NMF]() object which holds\u001b[39;00m\n\u001b[1;32m    625\u001b[0m \u001b[38;5;124;03m    the factorization model and data and methods to visualize them.\u001b[39;00m\n\u001b[1;32m    626\u001b[0m \n\u001b[1;32m    627\u001b[0m \n\u001b[1;32m    628\u001b[0m \u001b[38;5;124;03m    \"\"\"\u001b[39;00m\n\u001b[0;32m--> 629\u001b[0m     \u001b[38;5;28;01mreturn\u001b[39;00m NMF(\u001b[38;5;28mself\u001b[39m\u001b[38;5;241m.\u001b[39mactivations,\n\u001b[1;32m    630\u001b[0m                n_input_tokens\u001b[38;5;241m=\u001b[39m\u001b[38;5;28mself\u001b[39m\u001b[38;5;241m.\u001b[39mn_input_tokens,\n\u001b[1;32m    631\u001b[0m                token_ids\u001b[38;5;241m=\u001b[39m\u001b[38;5;28mself\u001b[39m\u001b[38;5;241m.\u001b[39mtoken_ids,\n\u001b[1;32m    632\u001b[0m                _path\u001b[38;5;241m=\u001b[39m\u001b[38;5;28mself\u001b[39m\u001b[38;5;241m.\u001b[39m_path,\n\u001b[1;32m    633\u001b[0m                tokens\u001b[38;5;241m=\u001b[39m\u001b[38;5;28mself\u001b[39m\u001b[38;5;241m.\u001b[39mtokens,\n\u001b[1;32m    634\u001b[0m                config\u001b[38;5;241m=\u001b[39m\u001b[38;5;28mself\u001b[39m\u001b[38;5;241m.\u001b[39mconfig,\n\u001b[1;32m    635\u001b[0m                collect_activations_layer_nums\u001b[38;5;241m=\u001b[39m\u001b[38;5;28mself\u001b[39m\u001b[38;5;241m.\u001b[39mcollect_activations_layer_nums,\n\u001b[1;32m    636\u001b[0m                \u001b[38;5;241m*\u001b[39m\u001b[38;5;241m*\u001b[39mkwargs)\n",
      "File \u001b[0;32m/scratch/eboros/projects/ecco/src/ecco/output.py:679\u001b[0m, in \u001b[0;36mNMF.__init__\u001b[0;34m(self, activations, n_input_tokens, token_ids, _path, n_components, from_layer, to_layer, tokens, collect_activations_layer_nums, config, **kwargs)\u001b[0m\n\u001b[1;32m    676\u001b[0m \u001b[38;5;28mself\u001b[39m\u001b[38;5;241m.\u001b[39mconfig \u001b[38;5;241m=\u001b[39m config\n\u001b[1;32m    678\u001b[0m \u001b[38;5;66;03m# Joining Encoder and Decoder (if exists) together\u001b[39;00m\n\u001b[0;32m--> 679\u001b[0m activations \u001b[38;5;241m=\u001b[39m np\u001b[38;5;241m.\u001b[39mconcatenate(\u001b[38;5;28mlist\u001b[39m(activations\u001b[38;5;241m.\u001b[39mvalues()), axis\u001b[38;5;241m=\u001b[39m\u001b[38;5;241m-\u001b[39m\u001b[38;5;241m1\u001b[39m)\n\u001b[1;32m    681\u001b[0m merged_act \u001b[38;5;241m=\u001b[39m \u001b[38;5;28mself\u001b[39m\u001b[38;5;241m.\u001b[39mreshape_activations(activations,\n\u001b[1;32m    682\u001b[0m                                       from_layer,\n\u001b[1;32m    683\u001b[0m                                       to_layer,\n\u001b[1;32m    684\u001b[0m                                       collect_activations_layer_nums)\n\u001b[1;32m    685\u001b[0m \u001b[38;5;66;03m# 'merged_act' is now ( neuron (and layer), position (and batch) )\u001b[39;00m\n",
      "File \u001b[0;32m<__array_function__ internals>:200\u001b[0m, in \u001b[0;36mconcatenate\u001b[0;34m(*args, **kwargs)\u001b[0m\n",
      "\u001b[0;31mValueError\u001b[0m: need at least one array to concatenate"
     ]
    }
   ],
   "source": [
    "nmf_1 = output.run_nmf(n_components=8) \n"
   ]
  },
  {
   "cell_type": "code",
   "execution_count": null,
   "id": "1567ef2e",
   "metadata": {},
   "outputs": [],
   "source": [
    "nmf_1.explore()"
   ]
  },
  {
   "cell_type": "code",
   "execution_count": null,
   "id": "9a4b47a7",
   "metadata": {},
   "outputs": [],
   "source": []
  },
  {
   "cell_type": "code",
   "execution_count": null,
   "id": "df78de4f",
   "metadata": {},
   "outputs": [],
   "source": []
  },
  {
   "cell_type": "code",
   "execution_count": null,
   "id": "2b758250",
   "metadata": {},
   "outputs": [],
   "source": []
  },
  {
   "cell_type": "code",
   "execution_count": null,
   "id": "ccfcefbe",
   "metadata": {},
   "outputs": [],
   "source": []
  },
  {
   "cell_type": "code",
   "execution_count": null,
   "id": "1c335e7c",
   "metadata": {},
   "outputs": [],
   "source": []
  }
 ],
 "metadata": {
  "kernelspec": {
   "display_name": "Python 3 (ipykernel)",
   "language": "python",
   "name": "python3"
  },
  "language_info": {
   "codemirror_mode": {
    "name": "ipython",
    "version": 3
   },
   "file_extension": ".py",
   "mimetype": "text/x-python",
   "name": "python",
   "nbconvert_exporter": "python",
   "pygments_lexer": "ipython3",
   "version": "3.11.4"
  }
 },
 "nbformat": 4,
 "nbformat_minor": 5
}
