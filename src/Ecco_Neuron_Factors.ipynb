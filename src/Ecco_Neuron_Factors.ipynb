{
 "cells": [
  {
   "cell_type": "markdown",
   "metadata": {
    "colab_type": "text",
    "id": "view-in-github"
   },
   "source": [
    "<a href=\"https://colab.research.google.com/github/jalammar/ecco/blob/main/notebooks/Ecco_Neuron_Factors.ipynb\" target=\"_parent\"><img src=\"https://colab.research.google.com/assets/colab-badge.svg\" alt=\"Open In Colab\"/></a>"
   ]
  },
  {
   "cell_type": "code",
   "execution_count": null,
   "metadata": {
    "id": "CLDsAru2N0lr"
   },
   "outputs": [],
   "source": [
    "# !pip install ecco"
   ]
  },
  {
   "cell_type": "code",
   "execution_count": 1,
   "metadata": {
    "colab": {
     "base_uri": "https://localhost:8080/",
     "height": 215,
     "referenced_widgets": [
      "f09d4fc4ce124eeda3cb45e321d111ce",
      "21b1eb5e9d904a6fa7e993f114ace92a",
      "fbf758cdad0445d28494d95bd7fe10fb",
      "839978e0b3554c188e3aec98983573ce",
      "d25c92359ffc45af99b797f0e0867407",
      "a17929e1fe2748d4bed26af11a3b9b59",
      "c53e195b63024efa899fc06ed19e9d2f",
      "4c759f92fcc64e6bb6752726187b818d",
      "44469fb017b343a9a4073d70512f3fa8",
      "1a965d402b7f4485bd165966109ab5e8",
      "307eaa4c14d2440fb5c239f84b1403ed",
      "bbbbdf69cc944de284d75540c0ed2658",
      "8b091460eae744078bbd0407f90dcf7e",
      "82b4c8a7461047d29a6186946c0661fb",
      "3e27191981094cfb84f96c6c2052b3b8",
      "593b3248fe9149bba416d033fc9763c9",
      "04550a80c96640d0b01cb876dea746e3",
      "f689ef73a988435b80dcd4491a00acc7",
      "c03bf0251bc147ba9243489f226f7085",
      "e1e830f76b144f2b8c5f8a9ee8a7f314",
      "756b0b5c522d4438bfdd91f4866f2bdf",
      "bce6b866322240248ff2559ae5f1d493",
      "b164d610697e4f1eaa4c334c86fd25be",
      "9ef8527cbbf248d8800c9e37a89a8a28",
      "9ec6120be1534fecb1a772a302b72cb8",
      "3ad3fc63100d45c3983257f8a476f709",
      "0b02ab17c4044986a4e60aa8278069ca",
      "7e40cf090314432cb99ad36fabbda2ad",
      "0ce13b7648094df0b3cd5efd1369633c",
      "58c4b12ea73e43ceb39a7f282fd94a1c",
      "b232f6df802e463d98bbdf57273e9cb8",
      "69f928f95dc84205a2ecedf36b38ef77"
     ]
    },
    "id": "sknc5dj3N1LS",
    "outputId": "8b34efb9-c2ae-4041-9f86-f4b8c0252580"
   },
   "outputs": [
    {
     "data": {
      "application/vnd.jupyter.widget-view+json": {
       "model_id": "d61ded7896694f5d9558beea3ac7ce86",
       "version_major": 2,
       "version_minor": 0
      },
      "text/plain": [
       "Loading checkpoint shards:   0%|          | 0/2 [00:00<?, ?it/s]"
      ]
     },
     "metadata": {},
     "output_type": "display_data"
    }
   ],
   "source": [
    "import ecco\n",
    "lm = ecco.from_pretrained('mistralai/Mistral-7B-v0.1', activations=True, gpu=False)"
   ]
  },
  {
   "cell_type": "code",
   "execution_count": 10,
   "metadata": {
    "colab": {
     "base_uri": "https://localhost:8080/",
     "height": 777
    },
    "id": "CO4Q942SN2wM",
    "outputId": "cc6fe516-b8b5-49a7-c956-90d6c18f9120",
    "scrolled": true
   },
   "outputs": [
    {
     "data": {
      "text/html": [
       "<html lang=\"en\">\n",
       "<script src=\"https://requirejs.org/docs/release/2.3.6/minified/require.js\"></script>\n",
       "<script>\n",
       "    var ecco_url = 'https://storage.googleapis.com/ml-intro/ecco/'\n",
       "    //var ecco_url = 'http://localhost:8000/'\n",
       "\n",
       "    if (window.ecco === undefined) window.ecco = {}\n",
       "\n",
       "    // Setup the paths of the script we'll be using\n",
       "    requirejs.config({\n",
       "        urlArgs: \"bust=\" + (new Date()).getTime(),\n",
       "        nodeRequire: require,\n",
       "        paths: {\n",
       "            d3: \"https://d3js.org/d3.v6.min\", // This is only for use in setup.html and basic.html\n",
       "            \"d3-array\": \"https://d3js.org/d3-array.v2.min\",\n",
       "            jquery: \"https://code.jquery.com/jquery-3.5.1.min\",\n",
       "            ecco: ecco_url + 'js/0.0.6/ecco-bundle.min',\n",
       "            xregexp: 'https://cdnjs.cloudflare.com/ajax/libs/xregexp/3.2.0/xregexp-all.min'\n",
       "        }\n",
       "    });\n",
       "\n",
       "    // Add the css file\n",
       "    //requirejs(['d3'],\n",
       "    //    function (d3) {\n",
       "    //        d3.select('#css').attr('href', ecco_url + 'html/styles.css')\n",
       "    //    })\n",
       "\n",
       "    console.log('Ecco initialize!!')\n",
       "\n",
       "    // returns a 'basic' object. basic.init() selects the html div we'll be\n",
       "    // rendering the html into, adds styles.css to the document.\n",
       "    define('basic', ['d3'],\n",
       "        function (d3) {\n",
       "            return {\n",
       "                init: function (viz_id = null) {\n",
       "                    if (viz_id == null) {\n",
       "                        viz_id = \"viz_\" + Math.round(Math.random() * 10000000)\n",
       "                    }\n",
       "                    // Select the div rendered below, change its id\n",
       "                    const div = d3.select('#basic').attr('id', viz_id),\n",
       "                        div_parent = d3.select('#' + viz_id).node().parentNode\n",
       "\n",
       "                    // Link to CSS file\n",
       "                    d3.select(div_parent).insert('link')\n",
       "                        .attr('rel', 'stylesheet')\n",
       "                        .attr('type', 'text/css')\n",
       "                        .attr('href', ecco_url + 'html/0.0.2/styles.css')\n",
       "\n",
       "                    return viz_id\n",
       "                }\n",
       "            }\n",
       "        }, function (err) {\n",
       "            console.log(err);\n",
       "        }\n",
       "    )\n",
       "</script>\n",
       "\n",
       "<head>\n",
       "    <link id='css' rel=\"stylesheet\" type=\"text/css\">\n",
       "</head>\n",
       "<div id=\"basic\"></div>\n"
      ],
      "text/plain": [
       "<IPython.core.display.HTML object>"
      ]
     },
     "metadata": {},
     "output_type": "display_data"
    },
    {
     "data": {
      "application/javascript": [
       "\n",
       "         requirejs( ['basic', 'ecco'], function(basic, ecco){\n",
       "            basic.init('viz_559185') // Python needs to know the viz id. Used for each output token.\n",
       "            window.ecco['viz_559185'] = new ecco.renderOutputSequence({\n",
       "                    parentDiv: 'viz_559185',\n",
       "                    data: {\"tokens\": [{\"token\": \"<s>\", \"is_partial\": true, \"position\": 0, \"token_id\": 1, \"type\": \"input\"}, {\"token\": \"En\", \"is_partial\": false, \"position\": 1, \"token_id\": 1618, \"type\": \"input\"}, {\"token\": \"vert\", \"is_partial\": false, \"position\": 2, \"token_id\": 7175, \"type\": \"input\"}, {\"token\": \"u\", \"is_partial\": true, \"position\": 3, \"token_id\": 28718, \"type\": \"input\"}, {\"token\": \"d\", \"is_partial\": false, \"position\": 4, \"token_id\": 281, \"type\": \"input\"}, {\"token\": \"'\", \"is_partial\": true, \"position\": 5, \"token_id\": 28742, \"type\": \"input\"}, {\"token\": \"un\", \"is_partial\": true, \"position\": 6, \"token_id\": 370, \"type\": \"input\"}, {\"token\": \"gr\", \"is_partial\": false, \"position\": 7, \"token_id\": 847, \"type\": \"input\"}, {\"token\": \"ac\", \"is_partial\": true, \"position\": 8, \"token_id\": 323, \"type\": \"input\"}, {\"token\": \"ieux\", \"is_partial\": true, \"position\": 9, \"token_id\": 22320, \"type\": \"input\"}, {\"token\": \"arr\", \"is_partial\": false, \"position\": 10, \"token_id\": 4476, \"type\": \"input\"}, {\"token\": \"\\u00eat\", \"is_partial\": true, \"position\": 11, \"token_id\": 18774, \"type\": \"input\"}, {\"token\": \"du\", \"is_partial\": false, \"position\": 12, \"token_id\": 1415, \"type\": \"input\"}, {\"token\": \"G\", \"is_partial\": false, \"position\": 13, \"token_id\": 420, \"type\": \"input\"}, {\"token\": \"ouver\", \"is_partial\": true, \"position\": 14, \"token_id\": 10275, \"type\": \"input\"}, {\"token\": \"nement\", \"is_partial\": true, \"position\": 15, \"token_id\": 14482, \"type\": \"input\"}, {\"token\": \"en\", \"is_partial\": false, \"position\": 16, \"token_id\": 481, \"type\": \"input\"}, {\"token\": \"date\", \"is_partial\": false, \"position\": 17, \"token_id\": 3608, \"type\": \"input\"}, {\"token\": \"du\", \"is_partial\": false, \"position\": 18, \"token_id\": 1415, \"type\": \"input\"}, {\"token\": \"\", \"is_partial\": false, \"position\": 19, \"token_id\": 28705, \"type\": \"input\"}, {\"token\": \"3\", \"is_partial\": true, \"position\": 20, \"token_id\": 28770, \"type\": \"input\"}, {\"token\": \"octobre\", \"is_partial\": false, \"position\": 21, \"token_id\": 19171, \"type\": \"input\"}, {\"token\": \",\", \"is_partial\": true, \"position\": 22, \"token_id\": 28725, \"type\": \"input\"}, {\"token\": \"et\", \"is_partial\": false, \"position\": 23, \"token_id\": 911, \"type\": \"input\"}, {\"token\": \"ensuite\", \"is_partial\": false, \"position\": 24, \"token_id\": 26368, \"type\": \"input\"}, {\"token\": \"de\", \"is_partial\": false, \"position\": 25, \"token_id\": 340, \"type\": \"input\"}, {\"token\": \"la\", \"is_partial\": false, \"position\": 26, \"token_id\": 543, \"type\": \"input\"}, {\"token\": \"direction\", \"is_partial\": false, \"position\": 27, \"token_id\": 5007, \"type\": \"input\"}, {\"token\": \"don\", \"is_partial\": false, \"position\": 28, \"token_id\": 949, \"type\": \"input\"}, {\"token\": \"n\\u00e9e\", \"is_partial\": true, \"position\": 29, \"token_id\": 17969, \"type\": \"input\"}, {\"token\": \"le\", \"is_partial\": false, \"position\": 30, \"token_id\": 462, \"type\": \"input\"}, {\"token\": \"\", \"is_partial\": false, \"position\": 31, \"token_id\": 28705, \"type\": \"input\"}, {\"token\": \"3\", \"is_partial\": true, \"position\": 32, \"token_id\": 28770, \"type\": \"input\"}, {\"token\": \"5\", \"is_partial\": true, \"position\": 33, \"token_id\": 28782, \"type\": \"input\"}, {\"token\": \"novembre\", \"is_partial\": false, \"position\": 34, \"token_id\": 13183, \"type\": \"input\"}, {\"token\": \"dernier\", \"is_partial\": false, \"position\": 35, \"token_id\": 26592, \"type\": \"input\"}, {\"token\": \"par\", \"is_partial\": false, \"position\": 36, \"token_id\": 940, \"type\": \"input\"}, {\"token\": \"l\", \"is_partial\": false, \"position\": 37, \"token_id\": 305, \"type\": \"input\"}, {\"token\": \"'\", \"is_partial\": true, \"position\": 38, \"token_id\": 28742, \"type\": \"input\"}, {\"token\": \"hon\", \"is_partial\": true, \"position\": 39, \"token_id\": 21133, \"type\": \"input\"}, {\"token\": \"orable\", \"is_partial\": true, \"position\": 40, \"token_id\": 26274, \"type\": \"input\"}, {\"token\": \"cour\", \"is_partial\": false, \"position\": 41, \"token_id\": 1547, \"type\": \"input\"}, {\"token\": \"de\", \"is_partial\": false, \"position\": 42, \"token_id\": 340, \"type\": \"input\"}, {\"token\": \"justice\", \"is_partial\": false, \"position\": 43, \"token_id\": 10754, \"type\": \"input\"}, {\"token\": \"du\", \"is_partial\": false, \"position\": 44, \"token_id\": 1415, \"type\": \"input\"}, {\"token\": \"Val\", \"is_partial\": false, \"position\": 45, \"token_id\": 3474, \"type\": \"input\"}, {\"token\": \"-\", \"is_partial\": true, \"position\": 46, \"token_id\": 28733, \"type\": \"input\"}, {\"token\": \"de\", \"is_partial\": true, \"position\": 47, \"token_id\": 450, \"type\": \"input\"}, {\"token\": \"-\", \"is_partial\": true, \"position\": 48, \"token_id\": 28733, \"type\": \"input\"}, {\"token\": \"Tra\", \"is_partial\": true, \"position\": 49, \"token_id\": 14839, \"type\": \"input\"}, {\"token\": \"vers\", \"is_partial\": true, \"position\": 50, \"token_id\": 740, \"type\": \"input\"}, {\"token\": \",\", \"is_partial\": true, \"position\": 51, \"token_id\": 28725, \"type\": \"input\"}, {\"token\": \"le\", \"is_partial\": false, \"position\": 52, \"token_id\": 462, \"type\": \"input\"}, {\"token\": \"sie\", \"is_partial\": false, \"position\": 53, \"token_id\": 4748, \"type\": \"input\"}, {\"token\": \"ur\", \"is_partial\": true, \"position\": 54, \"token_id\": 324, \"type\": \"input\"}, {\"token\": \"Daniel\", \"is_partial\": false, \"position\": 55, \"token_id\": 8103, \"type\": \"input\"}, {\"token\": \"Me\", \"is_partial\": false, \"position\": 56, \"token_id\": 2597, \"type\": \"input\"}, {\"token\": \"ur\", \"is_partial\": true, \"position\": 57, \"token_id\": 324, \"type\": \"input\"}, {\"token\": \"on\", \"is_partial\": true, \"position\": 58, \"token_id\": 266, \"type\": \"input\"}, {\"token\": \",\", \"is_partial\": true, \"position\": 59, \"token_id\": 28725, \"type\": \"input\"}, {\"token\": \"ma\", \"is_partial\": false, \"position\": 60, \"token_id\": 4128, \"type\": \"input\"}, {\"token\": \"\\u00eetre\", \"is_partial\": true, \"position\": 61, \"token_id\": 22481, \"type\": \"input\"}, {\"token\": \"char\", \"is_partial\": false, \"position\": 62, \"token_id\": 1280, \"type\": \"input\"}, {\"token\": \"pent\", \"is_partial\": true, \"position\": 63, \"token_id\": 21557, \"type\": \"input\"}, {\"token\": \"ier\", \"is_partial\": true, \"position\": 64, \"token_id\": 749, \"type\": \"input\"}, {\"token\": \",\", \"is_partial\": true, \"position\": 65, \"token_id\": 28725, \"type\": \"input\"}, {\"token\": \"bour\", \"is_partial\": false, \"position\": 66, \"token_id\": 25715, \"type\": \"input\"}, {\"token\": \"ge\", \"is_partial\": true, \"position\": 67, \"token_id\": 490, \"type\": \"input\"}, {\"token\": \"ois\", \"is_partial\": true, \"position\": 68, \"token_id\": 5628, \"type\": \"input\"}, {\"token\": \"de\", \"is_partial\": false, \"position\": 69, \"token_id\": 340, \"type\": \"input\"}, {\"token\": \"Ne\", \"is_partial\": false, \"position\": 70, \"token_id\": 3147, \"type\": \"input\"}, {\"token\": \"uch\", \"is_partial\": true, \"position\": 71, \"token_id\": 903, \"type\": \"input\"}, {\"token\": \"\\u00e2t\", \"is_partial\": true, \"position\": 72, \"token_id\": 19322, \"type\": \"input\"}, {\"token\": \"el\", \"is_partial\": true, \"position\": 73, \"token_id\": 301, \"type\": \"input\"}, {\"token\": \",\", \"is_partial\": true, \"position\": 74, \"token_id\": 28725, \"type\": \"input\"}, {\"token\": \"en\", \"is_partial\": false, \"position\": 75, \"token_id\": 481, \"type\": \"input\"}, {\"token\": \"sa\", \"is_partial\": false, \"position\": 76, \"token_id\": 637, \"type\": \"input\"}, {\"token\": \"qual\", \"is_partial\": false, \"position\": 77, \"token_id\": 4109, \"type\": \"input\"}, {\"token\": \"it\\u00e9\", \"is_partial\": true, \"position\": 78, \"token_id\": 3974, \"type\": \"input\"}, {\"token\": \"de\", \"is_partial\": false, \"position\": 79, \"token_id\": 340, \"type\": \"input\"}, {\"token\": \"t\", \"is_partial\": false, \"position\": 80, \"token_id\": 261, \"type\": \"input\"}, {\"token\": \"ute\", \"is_partial\": true, \"position\": 81, \"token_id\": 1723, \"type\": \"input\"}, {\"token\": \"ur\", \"is_partial\": true, \"position\": 82, \"token_id\": 324, \"type\": \"input\"}, {\"token\": \"jur\", \"is_partial\": false, \"position\": 83, \"token_id\": 12310, \"type\": \"input\"}, {\"token\": \"id\", \"is_partial\": true, \"position\": 84, \"token_id\": 313, \"type\": \"input\"}, {\"token\": \"iqu\", \"is_partial\": true, \"position\": 85, \"token_id\": 2741, \"type\": \"input\"}, {\"token\": \"ement\", \"is_partial\": true, \"position\": 86, \"token_id\": 1116, \"type\": \"input\"}, {\"token\": \"\\u00e9t\", \"is_partial\": false, \"position\": 87, \"token_id\": 3763, \"type\": \"input\"}, {\"token\": \"ab\", \"is_partial\": true, \"position\": 88, \"token_id\": 375, \"type\": \"input\"}, {\"token\": \"li\", \"is_partial\": true, \"position\": 89, \"token_id\": 1144, \"type\": \"input\"}, {\"token\": \"aux\", \"is_partial\": false, \"position\": 90, \"token_id\": 5672, \"type\": \"input\"}, {\"token\": \".\", \"is_partial\": true, \"position\": 91, \"token_id\": 28723, \"type\": \"input\"}]},\n",
       "                    tokenization_config: {\"token_prefix\": \"\\u2581\", \"partial_token_prefix\": \"\"}\n",
       "            \n",
       "            })\n",
       "         }, function (err) {\n",
       "            console.log(err);\n",
       "        })\n",
       "        "
      ],
      "text/plain": [
       "<IPython.core.display.Javascript object>"
      ]
     },
     "metadata": {},
     "output_type": "display_data"
    },
    {
     "name": "stderr",
     "output_type": "stream",
     "text": [
      "Setting `pad_token_id` to `eos_token_id`:2 for open-end generation.\n"
     ]
    },
    {
     "data": {
      "application/javascript": [
       "\n",
       "        // We don't really need these require scripts. But this is to avert\n",
       "        //this code from running before display_input_sequence which DOES require external files\n",
       "        requirejs(['basic', 'ecco'], function(basic, ecco){\n",
       "                console.log('addToken viz_id', 'viz_559185');\n",
       "                window.ecco['viz_559185'].addToken({\"token\": \"A\", \"is_partial\": false, \"token_id\": 330, \"position\": 92, \"type\": \"output\"})\n",
       "                window.ecco['viz_559185'].redraw()\n",
       "        })\n",
       "        "
      ],
      "text/plain": [
       "<IPython.core.display.Javascript object>"
      ]
     },
     "metadata": {},
     "output_type": "display_data"
    }
   ],
   "source": [
    "text = '''En vertu d'un gracieux arrêt du Gouvernement en date du 3 octobre, et ensuite de la direction donnée le 35 novembre dernier par l'honorable cour de justice du Val-de-Travers, le sieur Daniel Meuron, maître charpentier, bourgeois de Neuchâtel, en sa qualité de tuteur juridiquement établi aux.'''\n",
    "output = lm.generate(text, generate=1, do_sample=True)"
   ]
  },
  {
   "cell_type": "code",
   "execution_count": 13,
   "metadata": {
    "id": "l171rfDeBff-"
   },
   "outputs": [],
   "source": [
    "# Factorize activations in all the layers\n",
    "nmf_1 = output.run_nmf(n_components=4) "
   ]
  },
  {
   "cell_type": "code",
   "execution_count": 14,
   "metadata": {
    "colab": {
     "base_uri": "https://localhost:8080/",
     "height": 537
    },
    "id": "8IKtaOA5B0XG",
    "outputId": "023c0b33-048f-46a8-8d81-8f48574c7331"
   },
   "outputs": [
    {
     "data": {
      "text/html": [
       "<html lang=\"en\">\n",
       "<script src=\"https://requirejs.org/docs/release/2.3.6/minified/require.js\"></script>\n",
       "<script>\n",
       "    var ecco_url = 'https://storage.googleapis.com/ml-intro/ecco/'\n",
       "    //var ecco_url = 'http://localhost:8000/'\n",
       "\n",
       "    if (window.ecco === undefined) window.ecco = {}\n",
       "\n",
       "    // Setup the paths of the script we'll be using\n",
       "    requirejs.config({\n",
       "        urlArgs: \"bust=\" + (new Date()).getTime(),\n",
       "        nodeRequire: require,\n",
       "        paths: {\n",
       "            d3: \"https://d3js.org/d3.v6.min\", // This is only for use in setup.html and basic.html\n",
       "            \"d3-array\": \"https://d3js.org/d3-array.v2.min\",\n",
       "            jquery: \"https://code.jquery.com/jquery-3.5.1.min\",\n",
       "            ecco: ecco_url + 'js/0.0.6/ecco-bundle.min',\n",
       "            xregexp: 'https://cdnjs.cloudflare.com/ajax/libs/xregexp/3.2.0/xregexp-all.min'\n",
       "        }\n",
       "    });\n",
       "\n",
       "    // Add the css file\n",
       "    //requirejs(['d3'],\n",
       "    //    function (d3) {\n",
       "    //        d3.select('#css').attr('href', ecco_url + 'html/styles.css')\n",
       "    //    })\n",
       "\n",
       "    console.log('Ecco initialize!!')\n",
       "\n",
       "    // returns a 'basic' object. basic.init() selects the html div we'll be\n",
       "    // rendering the html into, adds styles.css to the document.\n",
       "    define('basic', ['d3'],\n",
       "        function (d3) {\n",
       "            return {\n",
       "                init: function (viz_id = null) {\n",
       "                    if (viz_id == null) {\n",
       "                        viz_id = \"viz_\" + Math.round(Math.random() * 10000000)\n",
       "                    }\n",
       "                    // Select the div rendered below, change its id\n",
       "                    const div = d3.select('#basic').attr('id', viz_id),\n",
       "                        div_parent = d3.select('#' + viz_id).node().parentNode\n",
       "\n",
       "                    // Link to CSS file\n",
       "                    d3.select(div_parent).insert('link')\n",
       "                        .attr('rel', 'stylesheet')\n",
       "                        .attr('type', 'text/css')\n",
       "                        .attr('href', ecco_url + 'html/0.0.2/styles.css')\n",
       "\n",
       "                    return viz_id\n",
       "                }\n",
       "            }\n",
       "        }, function (err) {\n",
       "            console.log(err);\n",
       "        }\n",
       "    )\n",
       "</script>\n",
       "\n",
       "<head>\n",
       "    <link id='css' rel=\"stylesheet\" type=\"text/css\">\n",
       "</head>\n",
       "<div id=\"basic\"></div>\n"
      ],
      "text/plain": [
       "<IPython.core.display.HTML object>"
      ]
     },
     "metadata": {},
     "output_type": "display_data"
    },
    {
     "data": {
      "application/javascript": [
       "\n",
       "         requirejs(['basic', 'ecco'], function(basic, ecco){\n",
       "            const viz_id = basic.init()\n",
       "            \n",
       "            ecco.interactiveTokensAndFactorSparklines(viz_id, {'tokens': [{'token': '<s>', 'token_id': 1, 'type': 'input', 'position': 0}, {'token': '▁En', 'token_id': 1618, 'type': 'input', 'position': 1}, {'token': '▁vert', 'token_id': 7175, 'type': 'input', 'position': 2}, {'token': 'u', 'token_id': 28718, 'type': 'input', 'position': 3}, {'token': '▁d', 'token_id': 281, 'type': 'input', 'position': 4}, {'token': \"'\", 'token_id': 28742, 'type': 'input', 'position': 5}, {'token': 'un', 'token_id': 370, 'type': 'input', 'position': 6}, {'token': '▁gr', 'token_id': 847, 'type': 'input', 'position': 7}, {'token': 'ac', 'token_id': 323, 'type': 'input', 'position': 8}, {'token': 'ieux', 'token_id': 22320, 'type': 'input', 'position': 9}, {'token': '▁arr', 'token_id': 4476, 'type': 'input', 'position': 10}, {'token': 'êt', 'token_id': 18774, 'type': 'input', 'position': 11}, {'token': '▁du', 'token_id': 1415, 'type': 'input', 'position': 12}, {'token': '▁G', 'token_id': 420, 'type': 'input', 'position': 13}, {'token': 'ouver', 'token_id': 10275, 'type': 'input', 'position': 14}, {'token': 'nement', 'token_id': 14482, 'type': 'input', 'position': 15}, {'token': '▁en', 'token_id': 481, 'type': 'input', 'position': 16}, {'token': '▁date', 'token_id': 3608, 'type': 'input', 'position': 17}, {'token': '▁du', 'token_id': 1415, 'type': 'input', 'position': 18}, {'token': '▁', 'token_id': 28705, 'type': 'input', 'position': 19}, {'token': '3', 'token_id': 28770, 'type': 'input', 'position': 20}, {'token': '▁octobre', 'token_id': 19171, 'type': 'input', 'position': 21}, {'token': ',', 'token_id': 28725, 'type': 'input', 'position': 22}, {'token': '▁et', 'token_id': 911, 'type': 'input', 'position': 23}, {'token': '▁ensuite', 'token_id': 26368, 'type': 'input', 'position': 24}, {'token': '▁de', 'token_id': 340, 'type': 'input', 'position': 25}, {'token': '▁la', 'token_id': 543, 'type': 'input', 'position': 26}, {'token': '▁direction', 'token_id': 5007, 'type': 'input', 'position': 27}, {'token': '▁don', 'token_id': 949, 'type': 'input', 'position': 28}, {'token': 'née', 'token_id': 17969, 'type': 'input', 'position': 29}, {'token': '▁le', 'token_id': 462, 'type': 'input', 'position': 30}, {'token': '▁', 'token_id': 28705, 'type': 'input', 'position': 31}, {'token': '3', 'token_id': 28770, 'type': 'input', 'position': 32}, {'token': '5', 'token_id': 28782, 'type': 'input', 'position': 33}, {'token': '▁novembre', 'token_id': 13183, 'type': 'input', 'position': 34}, {'token': '▁dernier', 'token_id': 26592, 'type': 'input', 'position': 35}, {'token': '▁par', 'token_id': 940, 'type': 'input', 'position': 36}, {'token': '▁l', 'token_id': 305, 'type': 'input', 'position': 37}, {'token': \"'\", 'token_id': 28742, 'type': 'input', 'position': 38}, {'token': 'hon', 'token_id': 21133, 'type': 'input', 'position': 39}, {'token': 'orable', 'token_id': 26274, 'type': 'input', 'position': 40}, {'token': '▁cour', 'token_id': 1547, 'type': 'input', 'position': 41}, {'token': '▁de', 'token_id': 340, 'type': 'input', 'position': 42}, {'token': '▁justice', 'token_id': 10754, 'type': 'input', 'position': 43}, {'token': '▁du', 'token_id': 1415, 'type': 'input', 'position': 44}, {'token': '▁Val', 'token_id': 3474, 'type': 'input', 'position': 45}, {'token': '-', 'token_id': 28733, 'type': 'input', 'position': 46}, {'token': 'de', 'token_id': 450, 'type': 'input', 'position': 47}, {'token': '-', 'token_id': 28733, 'type': 'input', 'position': 48}, {'token': 'Tra', 'token_id': 14839, 'type': 'input', 'position': 49}, {'token': 'vers', 'token_id': 740, 'type': 'input', 'position': 50}, {'token': ',', 'token_id': 28725, 'type': 'input', 'position': 51}, {'token': '▁le', 'token_id': 462, 'type': 'input', 'position': 52}, {'token': '▁sie', 'token_id': 4748, 'type': 'input', 'position': 53}, {'token': 'ur', 'token_id': 324, 'type': 'input', 'position': 54}, {'token': '▁Daniel', 'token_id': 8103, 'type': 'input', 'position': 55}, {'token': '▁Me', 'token_id': 2597, 'type': 'input', 'position': 56}, {'token': 'ur', 'token_id': 324, 'type': 'input', 'position': 57}, {'token': 'on', 'token_id': 266, 'type': 'input', 'position': 58}, {'token': ',', 'token_id': 28725, 'type': 'input', 'position': 59}, {'token': '▁ma', 'token_id': 4128, 'type': 'input', 'position': 60}, {'token': 'ître', 'token_id': 22481, 'type': 'input', 'position': 61}, {'token': '▁char', 'token_id': 1280, 'type': 'input', 'position': 62}, {'token': 'pent', 'token_id': 21557, 'type': 'input', 'position': 63}, {'token': 'ier', 'token_id': 749, 'type': 'input', 'position': 64}, {'token': ',', 'token_id': 28725, 'type': 'input', 'position': 65}, {'token': '▁bour', 'token_id': 25715, 'type': 'input', 'position': 66}, {'token': 'ge', 'token_id': 490, 'type': 'input', 'position': 67}, {'token': 'ois', 'token_id': 5628, 'type': 'input', 'position': 68}, {'token': '▁de', 'token_id': 340, 'type': 'input', 'position': 69}, {'token': '▁Ne', 'token_id': 3147, 'type': 'input', 'position': 70}, {'token': 'uch', 'token_id': 903, 'type': 'input', 'position': 71}, {'token': 'ât', 'token_id': 19322, 'type': 'input', 'position': 72}, {'token': 'el', 'token_id': 301, 'type': 'input', 'position': 73}, {'token': ',', 'token_id': 28725, 'type': 'input', 'position': 74}, {'token': '▁en', 'token_id': 481, 'type': 'input', 'position': 75}, {'token': '▁sa', 'token_id': 637, 'type': 'input', 'position': 76}, {'token': '▁qual', 'token_id': 4109, 'type': 'input', 'position': 77}, {'token': 'ité', 'token_id': 3974, 'type': 'input', 'position': 78}, {'token': '▁de', 'token_id': 340, 'type': 'input', 'position': 79}, {'token': '▁t', 'token_id': 261, 'type': 'input', 'position': 80}, {'token': 'ute', 'token_id': 1723, 'type': 'input', 'position': 81}, {'token': 'ur', 'token_id': 324, 'type': 'input', 'position': 82}, {'token': '▁jur', 'token_id': 12310, 'type': 'input', 'position': 83}, {'token': 'id', 'token_id': 313, 'type': 'input', 'position': 84}, {'token': 'iqu', 'token_id': 2741, 'type': 'input', 'position': 85}, {'token': 'ement', 'token_id': 1116, 'type': 'input', 'position': 86}, {'token': '▁ét', 'token_id': 3763, 'type': 'input', 'position': 87}, {'token': 'ab', 'token_id': 375, 'type': 'input', 'position': 88}, {'token': 'li', 'token_id': 1144, 'type': 'input', 'position': 89}, {'token': '▁aux', 'token_id': 5672, 'type': 'input', 'position': 90}, {'token': '.', 'token_id': 28723, 'type': 'input', 'position': 91}, {'token': '▁A', 'token_id': 330, 'type': 'output', 'position': 92}], 'factors': [[[0.0, 0.0, 0.0, 0.02530544251203537, 0.0, 0.0, 0.022767318412661552, 0.0, 0.0, 0.04112185910344124, 0.0, 0.05730970948934555, 0.08313112705945969, 0.002578922314569354, 0.0, 0.05232074856758118, 0.006529028061777353, 0.0019317201804369688, 0.0, 0.0, 0.0, 0.02687455527484417, 0.0407971553504467, 0.05915030837059021, 0.028455592691898346, 0.0, 0.0067740557715296745, 0.05483074486255646, 0.0, 0.040201250463724136, 0.024305159226059914, 0.0, 0.0, 0.0, 0.05120527744293213, 0.06851189583539963, 0.03185075521469116, 0.05701116845011711, 0.11262860149145126, 0.03726695105433464, 0.18584927916526794, 0.11925626546144485, 0.08302353322505951, 0.18796536326408386, 0.09497615694999695, 0.015165438875555992, 0.007888848893344402, 0.006096647586673498, 0.002145277103409171, 0.0, 0.14393524825572968, 0.15896308422088623, 0.21507807075977325, 0.028928132727742195, 0.1742580682039261, 0.05366414412856102, 0.0, 0.0004758202994707972, 0.330500066280365, 0.39831459522247314, 0.03940808027982712, 0.24269962310791016, 0.05561140552163124, 0.05600022152066231, 0.3225386440753937, 0.3771206736564636, 0.048553116619586945, 0.01325517799705267, 0.28036001324653625, 0.0545993372797966, 0.0, 0.0, 0.0, 0.23896266520023346, 0.3736210763454437, 0.1890278458595276, 0.1695772111415863, 0.054772764444351196, 0.3220382034778595, 0.3723916709423065, 0.09980928152799606, 0.04837706685066223, 0.3043127954006195, 0.0516672283411026, 0.05989638715982437, 0.0616992712020874, 0.27772387862205505, 0.05925064533948898, 0.02628747746348381, 0.24745021760463715, 0.17026753723621368, 0.008219794370234013, 0.008219794370234013], [0.0, 0.15083381533622742, 0.19707562029361725, 0.45464491844177246, 0.3013259470462799, 0.38249778747558594, 0.3847009837627411, 0.11949048191308975, 0.12436310946941376, 0.32553306221961975, 0.06667613983154297, 0.38627225160598755, 0.3396260738372803, 0.14822152256965637, 0.10152078419923782, 0.3043193817138672, 0.43020063638687134, 0.4490005373954773, 0.4740310609340668, 0.27418187260627747, 0.42419353127479553, 0.3556770086288452, 0.44339898228645325, 0.42041102051734924, 0.4800671935081482, 0.5292626619338989, 0.4552844166755676, 0.4061874449253082, 0.18387703597545624, 0.4989135265350342, 0.43869027495384216, 0.2447439432144165, 0.4235944449901581, 0.3502269983291626, 0.41713228821754456, 0.4344964623451233, 0.47676578164100647, 0.16232982277870178, 0.21771804988384247, 0.0015545346541330218, 0.18290841579437256, 0.14624015986919403, 0.22201362252235413, 0.218237042427063, 0.18980823457241058, 0.09684312343597412, 0.08397570997476578, 0.11468952894210815, 0.09711064398288727, 0.03240743651986122, 0.2663313150405884, 0.3017233908176422, 0.16320595145225525, 0.018492333590984344, 0.10545098036527634, 0.1631511002779007, 0.0, 0.05547995865345001, 0.03128767013549805, 0.0, 0.0, 0.0, 0.0, 0.0, 0.0, 0.0, 0.0, 0.0, 0.006629763171076775, 0.16798974573612213, 0.017947718501091003, 0.0, 0.009102084673941135, 0.049755923449993134, 0.0, 0.11536478251218796, 0.060343850404024124, 0.0, 0.0631866380572319, 0.0, 0.0, 0.006761039141565561, 0.07084634155035019, 0.0, 0.0, 0.07181370258331299, 0.08073241263628006, 0.0, 0.0, 0.17742039263248444, 0.10853463411331177, 0.24989789724349976, 0.24989789724349976], [0.0, 0.15229439735412598, 0.1796080470085144, 0.05590609461069107, 0.13869890570640564, 0.09466012567281723, 0.03126852214336395, 0.24857671558856964, 0.257754385471344, 0.05411545932292938, 0.3465580344200134, 0.03498202562332153, 0.02381834387779236, 0.2714575231075287, 0.3645179569721222, 0.042920924723148346, 0.03191957250237465, 0.05149321258068085, 0.033651333302259445, 0.16933338344097137, 0.07490348815917969, 0.020611384883522987, 0.0, 0.0, 0.0, 0.0, 0.0, 0.0, 0.3523295223712921, 0.0, 0.021804168820381165, 0.17178456485271454, 0.07989318668842316, 0.09202717244625092, 0.0, 0.0, 0.0, 0.16382139921188354, 0.11947988718748093, 0.4680299162864685, 0.05842827633023262, 0.14558961987495422, 0.06847603619098663, 0.0, 0.098370760679245, 0.277292937040329, 0.3611249327659607, 0.27372390031814575, 0.3074497878551483, 0.35274994373321533, 0.0, 0.0, 0.007701481226831675, 0.42797738313674927, 0.1352648138999939, 0.26584842801094055, 0.3206632137298584, 0.2818213701248169, 0.010313894599676132, 0.0, 0.4740302562713623, 0.08652414381504059, 0.3292105495929718, 0.4201704263687134, 0.029756078496575356, 0.0, 0.3533850908279419, 0.520953893661499, 0.06346959620714188, 0.14871281385421753, 0.3404600918292999, 0.46947237849235535, 0.43445444107055664, 0.045046281069517136, 0.0, 0.06614983826875687, 0.15372098982334137, 0.476581871509552, 0.0, 0.01684880256652832, 0.31170326471328735, 0.454855352640152, 0.05062589794397354, 0.3679770827293396, 0.36997169256210327, 0.27975764870643616, 0.1133139431476593, 0.38465359807014465, 0.4736107289791107, 0.028289319947361946, 0.08621988445520401, 0.1475023329257965, 0.1475023329257965], [6.0422468185424805, 0.0035029423888772726, 0.0027199997566640377, 0.0, 0.0005404012626968324, 0.0, 0.0, 0.0, 0.0, 0.002040501916781068, 6.03633961873129e-05, 0.0, 0.000825156457722187, 0.000754216336645186, 0.0, 0.0008386881090700626, 1.5600278857164085e-05, 0.0, 0.0006485892226919532, 8.378012717003003e-05, 0.0, 0.0, 0.0001616450899746269, 0.0, 0.0, 0.0, 0.0, 0.0, 0.0, 0.0, 0.0, 0.00034679973032325506, 0.0, 0.0012716306373476982, 0.0, 0.0, 0.00013480802590493113, 0.0009427254553884268, 0.0010439504403620958, 0.0, 0.002049581613391638, 0.0003595356538426131, 0.0012557335430756211, 0.0, 0.0011357760522514582, 0.0010813043918460608, 0.00045546272303909063, 0.0004113394534215331, 0.0004176918009761721, 0.00023625117319170386, 7.682316936552525e-05, 0.0, 0.00017839136125985533, 6.814714288339019e-05, 0.0006455360562540591, 0.00019578466890379786, 0.0003210543072782457, 0.0, 0.0, 0.0, 0.0, 0.0, 0.0002601919404696673, 0.0, 0.0, 0.0, 0.0008418738725595176, 0.0, 0.00040255708154290915, 0.00043878291035071015, 0.00013396205031313002, 0.00014728392125107348, 0.0003951125545427203, 0.001146586611866951, 0.0, 4.2601099266903475e-05, 0.00012211353168822825, 0.0, 0.00014368061965797096, 7.286389882210642e-05, 0.0, 0.0, 0.0, 0.0001315789995715022, 0.0, 0.0002733339788392186, 0.0, 0.0, 0.0, 0.0, 0.0006860969006083906, 0.0004751647647935897, 0.0004751647647935897]]]},\n",
       "            {\n",
       "            'hltrCFG': {'tokenization_config': {\"token_prefix\": \"\\u2581\", \"partial_token_prefix\": \"\"}\n",
       "                }\n",
       "            })\n",
       "         }, function (err) {\n",
       "            console.log(err);\n",
       "        })"
      ],
      "text/plain": [
       "<IPython.core.display.Javascript object>"
      ]
     },
     "metadata": {},
     "output_type": "display_data"
    }
   ],
   "source": [
    "nmf_1.explore()"
   ]
  },
  {
   "cell_type": "code",
   "execution_count": 3,
   "metadata": {
    "id": "6h5JzHHdB0Bu"
   },
   "outputs": [],
   "source": [
    "# Factorize the activations of only the first layer\n",
    "nmf_2 = output.run_nmf(n_components=10, from_layer=0, to_layer=23)"
   ]
  },
  {
   "cell_type": "code",
   "execution_count": 15,
   "metadata": {},
   "outputs": [
    {
     "data": {
      "text/html": [
       "<html lang=\"en\">\n",
       "<script src=\"https://requirejs.org/docs/release/2.3.6/minified/require.js\"></script>\n",
       "<script>\n",
       "    var ecco_url = 'https://storage.googleapis.com/ml-intro/ecco/'\n",
       "    //var ecco_url = 'http://localhost:8000/'\n",
       "\n",
       "    if (window.ecco === undefined) window.ecco = {}\n",
       "\n",
       "    // Setup the paths of the script we'll be using\n",
       "    requirejs.config({\n",
       "        urlArgs: \"bust=\" + (new Date()).getTime(),\n",
       "        nodeRequire: require,\n",
       "        paths: {\n",
       "            d3: \"https://d3js.org/d3.v6.min\", // This is only for use in setup.html and basic.html\n",
       "            \"d3-array\": \"https://d3js.org/d3-array.v2.min\",\n",
       "            jquery: \"https://code.jquery.com/jquery-3.5.1.min\",\n",
       "            ecco: ecco_url + 'js/0.0.6/ecco-bundle.min',\n",
       "            xregexp: 'https://cdnjs.cloudflare.com/ajax/libs/xregexp/3.2.0/xregexp-all.min'\n",
       "        }\n",
       "    });\n",
       "\n",
       "    // Add the css file\n",
       "    //requirejs(['d3'],\n",
       "    //    function (d3) {\n",
       "    //        d3.select('#css').attr('href', ecco_url + 'html/styles.css')\n",
       "    //    })\n",
       "\n",
       "    console.log('Ecco initialize!!')\n",
       "\n",
       "    // returns a 'basic' object. basic.init() selects the html div we'll be\n",
       "    // rendering the html into, adds styles.css to the document.\n",
       "    define('basic', ['d3'],\n",
       "        function (d3) {\n",
       "            return {\n",
       "                init: function (viz_id = null) {\n",
       "                    if (viz_id == null) {\n",
       "                        viz_id = \"viz_\" + Math.round(Math.random() * 10000000)\n",
       "                    }\n",
       "                    // Select the div rendered below, change its id\n",
       "                    const div = d3.select('#basic').attr('id', viz_id),\n",
       "                        div_parent = d3.select('#' + viz_id).node().parentNode\n",
       "\n",
       "                    // Link to CSS file\n",
       "                    d3.select(div_parent).insert('link')\n",
       "                        .attr('rel', 'stylesheet')\n",
       "                        .attr('type', 'text/css')\n",
       "                        .attr('href', ecco_url + 'html/0.0.2/styles.css')\n",
       "\n",
       "                    return viz_id\n",
       "                }\n",
       "            }\n",
       "        }, function (err) {\n",
       "            console.log(err);\n",
       "        }\n",
       "    )\n",
       "</script>\n",
       "\n",
       "<head>\n",
       "    <link id='css' rel=\"stylesheet\" type=\"text/css\">\n",
       "</head>\n",
       "<div id=\"basic\"></div>\n"
      ],
      "text/plain": [
       "<IPython.core.display.HTML object>"
      ]
     },
     "metadata": {},
     "output_type": "display_data"
    },
    {
     "data": {
      "application/javascript": [
       "\n",
       "         requirejs( ['basic', 'ecco'], function(basic, ecco){\n",
       "            basic.init('viz_41618') // Python needs to know the viz id. Used for each output token.\n",
       "            window.ecco['viz_41618'] = new ecco.renderOutputSequence({\n",
       "                    parentDiv: 'viz_41618',\n",
       "                    data: {\"tokens\": [{\"token\": \"<s>\", \"is_partial\": true, \"position\": 0, \"token_id\": 1, \"type\": \"input\"}, {\"token\": \"En\", \"is_partial\": false, \"position\": 1, \"token_id\": 1618, \"type\": \"input\"}, {\"token\": \"v\", \"is_partial\": false, \"position\": 2, \"token_id\": 363, \"type\": \"input\"}, {\"token\": \"E\", \"is_partial\": true, \"position\": 3, \"token_id\": 28749, \"type\": \"input\"}, {\"token\": \"rt\", \"is_partial\": true, \"position\": 4, \"token_id\": 2576, \"type\": \"input\"}, {\"token\": \"u\", \"is_partial\": true, \"position\": 5, \"token_id\": 28718, \"type\": \"input\"}, {\"token\": \"d\", \"is_partial\": false, \"position\": 6, \"token_id\": 281, \"type\": \"input\"}, {\"token\": \"'\", \"is_partial\": true, \"position\": 7, \"token_id\": 28742, \"type\": \"input\"}, {\"token\": \"un\", \"is_partial\": true, \"position\": 8, \"token_id\": 370, \"type\": \"input\"}, {\"token\": \"gr\", \"is_partial\": false, \"position\": 9, \"token_id\": 847, \"type\": \"input\"}, {\"token\": \"aci\", \"is_partial\": true, \"position\": 10, \"token_id\": 13114, \"type\": \"input\"}, {\"token\": \"3\", \"is_partial\": true, \"position\": 11, \"token_id\": 28770, \"type\": \"input\"}, {\"token\": \"ux\", \"is_partial\": true, \"position\": 12, \"token_id\": 1554, \"type\": \"input\"}, {\"token\": \"arr\", \"is_partial\": false, \"position\": 13, \"token_id\": 4476, \"type\": \"input\"}, {\"token\": \"\\u00e8\", \"is_partial\": true, \"position\": 14, \"token_id\": 28840, \"type\": \"input\"}, {\"token\": \"t\", \"is_partial\": true, \"position\": 15, \"token_id\": 28707, \"type\": \"input\"}, {\"token\": \"du\", \"is_partial\": false, \"position\": 16, \"token_id\": 1415, \"type\": \"input\"}, {\"token\": \"G\", \"is_partial\": false, \"position\": 17, \"token_id\": 420, \"type\": \"input\"}, {\"token\": \"0\", \"is_partial\": true, \"position\": 18, \"token_id\": 28734, \"type\": \"input\"}, {\"token\": \"u\", \"is_partial\": true, \"position\": 19, \"token_id\": 28718, \"type\": \"input\"}, {\"token\": \"ver\", \"is_partial\": true, \"position\": 20, \"token_id\": 343, \"type\": \"input\"}, {\"token\": \"nement\", \"is_partial\": true, \"position\": 21, \"token_id\": 14482, \"type\": \"input\"}, {\"token\": \"en\", \"is_partial\": false, \"position\": 22, \"token_id\": 481, \"type\": \"input\"}, {\"token\": \"d\", \"is_partial\": false, \"position\": 23, \"token_id\": 281, \"type\": \"input\"}, {\"token\": \"\\u00e2te\", \"is_partial\": true, \"position\": 24, \"token_id\": 17748, \"type\": \"input\"}, {\"token\": \"du\", \"is_partial\": false, \"position\": 25, \"token_id\": 1415, \"type\": \"input\"}, {\"token\": \"\", \"is_partial\": false, \"position\": 26, \"token_id\": 28705, \"type\": \"input\"}, {\"token\": \"3\", \"is_partial\": true, \"position\": 27, \"token_id\": 28770, \"type\": \"input\"}, {\"token\": \"oct\", \"is_partial\": false, \"position\": 28, \"token_id\": 9541, \"type\": \"input\"}, {\"token\": \"0\", \"is_partial\": true, \"position\": 29, \"token_id\": 28734, \"type\": \"input\"}, {\"token\": \"bre\", \"is_partial\": true, \"position\": 30, \"token_id\": 2152, \"type\": \"input\"}, {\"token\": \",\", \"is_partial\": true, \"position\": 31, \"token_id\": 28725, \"type\": \"input\"}, {\"token\": \"et\", \"is_partial\": false, \"position\": 32, \"token_id\": 911, \"type\": \"input\"}, {\"token\": \"en\", \"is_partial\": false, \"position\": 33, \"token_id\": 481, \"type\": \"input\"}, {\"token\": \"su\", \"is_partial\": true, \"position\": 34, \"token_id\": 2913, \"type\": \"input\"}, {\"token\": \"1\", \"is_partial\": true, \"position\": 35, \"token_id\": 28740, \"type\": \"input\"}, {\"token\": \"te\", \"is_partial\": true, \"position\": 36, \"token_id\": 424, \"type\": \"input\"}, {\"token\": \"de\", \"is_partial\": false, \"position\": 37, \"token_id\": 340, \"type\": \"input\"}, {\"token\": \"la\", \"is_partial\": false, \"position\": 38, \"token_id\": 543, \"type\": \"input\"}, {\"token\": \"direct\", \"is_partial\": false, \"position\": 39, \"token_id\": 1863, \"type\": \"input\"}, {\"token\": \"i\", \"is_partial\": true, \"position\": 40, \"token_id\": 28710, \"type\": \"input\"}, {\"token\": \"0\", \"is_partial\": true, \"position\": 41, \"token_id\": 28734, \"type\": \"input\"}, {\"token\": \"n\", \"is_partial\": true, \"position\": 42, \"token_id\": 28711, \"type\": \"input\"}, {\"token\": \"don\", \"is_partial\": false, \"position\": 43, \"token_id\": 949, \"type\": \"input\"}, {\"token\": \"n\", \"is_partial\": true, \"position\": 44, \"token_id\": 28711, \"type\": \"input\"}, {\"token\": \"\\u00ea\", \"is_partial\": true, \"position\": 45, \"token_id\": 28876, \"type\": \"input\"}, {\"token\": \"e\", \"is_partial\": true, \"position\": 46, \"token_id\": 28706, \"type\": \"input\"}, {\"token\": \"le\", \"is_partial\": false, \"position\": 47, \"token_id\": 462, \"type\": \"input\"}, {\"token\": \"\", \"is_partial\": false, \"position\": 48, \"token_id\": 28705, \"type\": \"input\"}, {\"token\": \"3\", \"is_partial\": true, \"position\": 49, \"token_id\": 28770, \"type\": \"input\"}, {\"token\": \"5\", \"is_partial\": true, \"position\": 50, \"token_id\": 28782, \"type\": \"input\"}, {\"token\": \"n\", \"is_partial\": false, \"position\": 51, \"token_id\": 307, \"type\": \"input\"}, {\"token\": \"0\", \"is_partial\": true, \"position\": 52, \"token_id\": 28734, \"type\": \"input\"}, {\"token\": \"ve\", \"is_partial\": true, \"position\": 53, \"token_id\": 333, \"type\": \"input\"}, {\"token\": \"mbre\", \"is_partial\": true, \"position\": 54, \"token_id\": 7979, \"type\": \"input\"}, {\"token\": \"dernier\", \"is_partial\": false, \"position\": 55, \"token_id\": 26592, \"type\": \"input\"}, {\"token\": \"par\", \"is_partial\": false, \"position\": 56, \"token_id\": 940, \"type\": \"input\"}, {\"token\": \"l\", \"is_partial\": false, \"position\": 57, \"token_id\": 305, \"type\": \"input\"}, {\"token\": \"'\", \"is_partial\": true, \"position\": 58, \"token_id\": 28742, \"type\": \"input\"}, {\"token\": \"hon\", \"is_partial\": true, \"position\": 59, \"token_id\": 21133, \"type\": \"input\"}, {\"token\": \"0\", \"is_partial\": true, \"position\": 60, \"token_id\": 28734, \"type\": \"input\"}, {\"token\": \"r\", \"is_partial\": true, \"position\": 61, \"token_id\": 28712, \"type\": \"input\"}, {\"token\": \"able\", \"is_partial\": true, \"position\": 62, \"token_id\": 522, \"type\": \"input\"}, {\"token\": \"c\", \"is_partial\": false, \"position\": 63, \"token_id\": 277, \"type\": \"input\"}, {\"token\": \"0\", \"is_partial\": true, \"position\": 64, \"token_id\": 28734, \"type\": \"input\"}, {\"token\": \"ur\", \"is_partial\": true, \"position\": 65, \"token_id\": 324, \"type\": \"input\"}, {\"token\": \"de\", \"is_partial\": false, \"position\": 66, \"token_id\": 340, \"type\": \"input\"}, {\"token\": \"just\", \"is_partial\": false, \"position\": 67, \"token_id\": 776, \"type\": \"input\"}, {\"token\": \"1\", \"is_partial\": true, \"position\": 68, \"token_id\": 28740, \"type\": \"input\"}, {\"token\": \"ce\", \"is_partial\": true, \"position\": 69, \"token_id\": 358, \"type\": \"input\"}, {\"token\": \"du\", \"is_partial\": false, \"position\": 70, \"token_id\": 1415, \"type\": \"input\"}, {\"token\": \"V\", \"is_partial\": false, \"position\": 71, \"token_id\": 550, \"type\": \"input\"}, {\"token\": \"4\", \"is_partial\": true, \"position\": 72, \"token_id\": 28781, \"type\": \"input\"}, {\"token\": \"l\", \"is_partial\": true, \"position\": 73, \"token_id\": 28714, \"type\": \"input\"}, {\"token\": \"-\", \"is_partial\": true, \"position\": 74, \"token_id\": 28733, \"type\": \"input\"}, {\"token\": \"de\", \"is_partial\": true, \"position\": 75, \"token_id\": 450, \"type\": \"input\"}, {\"token\": \"-\", \"is_partial\": true, \"position\": 76, \"token_id\": 28733, \"type\": \"input\"}, {\"token\": \"Tra\", \"is_partial\": true, \"position\": 77, \"token_id\": 14839, \"type\": \"input\"}, {\"token\": \"vers\", \"is_partial\": true, \"position\": 78, \"token_id\": 740, \"type\": \"input\"}, {\"token\": \",\", \"is_partial\": true, \"position\": 79, \"token_id\": 28725, \"type\": \"input\"}, {\"token\": \"le\", \"is_partial\": false, \"position\": 80, \"token_id\": 462, \"type\": \"input\"}, {\"token\": \"sie\", \"is_partial\": false, \"position\": 81, \"token_id\": 4748, \"type\": \"input\"}, {\"token\": \"ur\", \"is_partial\": true, \"position\": 82, \"token_id\": 324, \"type\": \"input\"}, {\"token\": \"Daniel\", \"is_partial\": false, \"position\": 83, \"token_id\": 8103, \"type\": \"input\"}, {\"token\": \"M\", \"is_partial\": false, \"position\": 84, \"token_id\": 351, \"type\": \"input\"}, {\"token\": \"3\", \"is_partial\": true, \"position\": 85, \"token_id\": 28770, \"type\": \"input\"}, {\"token\": \"ur\", \"is_partial\": true, \"position\": 86, \"token_id\": 324, \"type\": \"input\"}, {\"token\": \"on\", \"is_partial\": true, \"position\": 87, \"token_id\": 266, \"type\": \"input\"}, {\"token\": \",\", \"is_partial\": true, \"position\": 88, \"token_id\": 28725, \"type\": \"input\"}, {\"token\": \"m\", \"is_partial\": false, \"position\": 89, \"token_id\": 290, \"type\": \"input\"}, {\"token\": \"\\u00e2\", \"is_partial\": true, \"position\": 90, \"token_id\": 28891, \"type\": \"input\"}, {\"token\": \"it\", \"is_partial\": true, \"position\": 91, \"token_id\": 279, \"type\": \"input\"}, {\"token\": \"re\", \"is_partial\": true, \"position\": 92, \"token_id\": 267, \"type\": \"input\"}, {\"token\": \"char\", \"is_partial\": false, \"position\": 93, \"token_id\": 1280, \"type\": \"input\"}, {\"token\": \"p\", \"is_partial\": true, \"position\": 94, \"token_id\": 28720, \"type\": \"input\"}, {\"token\": \"\\u00ea\", \"is_partial\": true, \"position\": 95, \"token_id\": 28876, \"type\": \"input\"}, {\"token\": \"nt\", \"is_partial\": true, \"position\": 96, \"token_id\": 448, \"type\": \"input\"}, {\"token\": \"ier\", \"is_partial\": true, \"position\": 97, \"token_id\": 749, \"type\": \"input\"}, {\"token\": \",\", \"is_partial\": true, \"position\": 98, \"token_id\": 28725, \"type\": \"input\"}, {\"token\": \"b\", \"is_partial\": false, \"position\": 99, \"token_id\": 287, \"type\": \"input\"}, {\"token\": \"0\", \"is_partial\": true, \"position\": 100, \"token_id\": 28734, \"type\": \"input\"}, {\"token\": \"ur\", \"is_partial\": true, \"position\": 101, \"token_id\": 324, \"type\": \"input\"}, {\"token\": \"ge\", \"is_partial\": true, \"position\": 102, \"token_id\": 490, \"type\": \"input\"}, {\"token\": \"ois\", \"is_partial\": true, \"position\": 103, \"token_id\": 5628, \"type\": \"input\"}, {\"token\": \"de\", \"is_partial\": false, \"position\": 104, \"token_id\": 340, \"type\": \"input\"}, {\"token\": \"Ne\", \"is_partial\": false, \"position\": 105, \"token_id\": 3147, \"type\": \"input\"}, {\"token\": \"uch\", \"is_partial\": true, \"position\": 106, \"token_id\": 903, \"type\": \"input\"}, {\"token\": \"\\u00e2t\", \"is_partial\": true, \"position\": 107, \"token_id\": 19322, \"type\": \"input\"}, {\"token\": \"3\", \"is_partial\": true, \"position\": 108, \"token_id\": 28770, \"type\": \"input\"}, {\"token\": \"l\", \"is_partial\": true, \"position\": 109, \"token_id\": 28714, \"type\": \"input\"}, {\"token\": \",\", \"is_partial\": true, \"position\": 110, \"token_id\": 28725, \"type\": \"input\"}, {\"token\": \"en\", \"is_partial\": false, \"position\": 111, \"token_id\": 481, \"type\": \"input\"}, {\"token\": \"sa\", \"is_partial\": false, \"position\": 112, \"token_id\": 637, \"type\": \"input\"}, {\"token\": \"qu\", \"is_partial\": false, \"position\": 113, \"token_id\": 526, \"type\": \"input\"}, {\"token\": \"\\u00e2\", \"is_partial\": true, \"position\": 114, \"token_id\": 28891, \"type\": \"input\"}, {\"token\": \"l\", \"is_partial\": true, \"position\": 115, \"token_id\": 28714, \"type\": \"input\"}, {\"token\": \"it\\u00e9\", \"is_partial\": true, \"position\": 116, \"token_id\": 3974, \"type\": \"input\"}, {\"token\": \"de\", \"is_partial\": false, \"position\": 117, \"token_id\": 340, \"type\": \"input\"}, {\"token\": \"tut\", \"is_partial\": false, \"position\": 118, \"token_id\": 8311, \"type\": \"input\"}, {\"token\": \"3\", \"is_partial\": true, \"position\": 119, \"token_id\": 28770, \"type\": \"input\"}, {\"token\": \"ur\", \"is_partial\": true, \"position\": 120, \"token_id\": 324, \"type\": \"input\"}, {\"token\": \"jur\", \"is_partial\": false, \"position\": 121, \"token_id\": 12310, \"type\": \"input\"}, {\"token\": \"id\", \"is_partial\": true, \"position\": 122, \"token_id\": 313, \"type\": \"input\"}, {\"token\": \"iqu\", \"is_partial\": true, \"position\": 123, \"token_id\": 2741, \"type\": \"input\"}, {\"token\": \"3\", \"is_partial\": true, \"position\": 124, \"token_id\": 28770, \"type\": \"input\"}, {\"token\": \"ment\", \"is_partial\": true, \"position\": 125, \"token_id\": 466, \"type\": \"input\"}, {\"token\": \"\\u00e9t\", \"is_partial\": false, \"position\": 126, \"token_id\": 3763, \"type\": \"input\"}, {\"token\": \"ab\", \"is_partial\": true, \"position\": 127, \"token_id\": 375, \"type\": \"input\"}, {\"token\": \"li\", \"is_partial\": true, \"position\": 128, \"token_id\": 1144, \"type\": \"input\"}, {\"token\": \"aux\", \"is_partial\": false, \"position\": 129, \"token_id\": 5672, \"type\": \"input\"}, {\"token\": \".\", \"is_partial\": true, \"position\": 130, \"token_id\": 28723, \"type\": \"input\"}]},\n",
       "                    tokenization_config: {\"token_prefix\": \"\\u2581\", \"partial_token_prefix\": \"\"}\n",
       "            \n",
       "            })\n",
       "         }, function (err) {\n",
       "            console.log(err);\n",
       "        })\n",
       "        "
      ],
      "text/plain": [
       "<IPython.core.display.Javascript object>"
      ]
     },
     "metadata": {},
     "output_type": "display_data"
    },
    {
     "name": "stderr",
     "output_type": "stream",
     "text": [
      "Setting `pad_token_id` to `eos_token_id`:2 for open-end generation.\n"
     ]
    },
    {
     "data": {
      "application/javascript": [
       "\n",
       "        // We don't really need these require scripts. But this is to avert\n",
       "        //this code from running before display_input_sequence which DOES require external files\n",
       "        requirejs(['basic', 'ecco'], function(basic, ecco){\n",
       "                console.log('addToken viz_id', 'viz_41618');\n",
       "                window.ecco['viz_41618'].addToken({\"token\": \"\\n\", \"is_partial\": true, \"token_id\": 13, \"position\": 131, \"type\": \"output\"})\n",
       "                window.ecco['viz_41618'].redraw()\n",
       "        })\n",
       "        "
      ],
      "text/plain": [
       "<IPython.core.display.Javascript object>"
      ]
     },
     "metadata": {},
     "output_type": "display_data"
    },
    {
     "data": {
      "text/html": [
       "<html lang=\"en\">\n",
       "<script src=\"https://requirejs.org/docs/release/2.3.6/minified/require.js\"></script>\n",
       "<script>\n",
       "    var ecco_url = 'https://storage.googleapis.com/ml-intro/ecco/'\n",
       "    //var ecco_url = 'http://localhost:8000/'\n",
       "\n",
       "    if (window.ecco === undefined) window.ecco = {}\n",
       "\n",
       "    // Setup the paths of the script we'll be using\n",
       "    requirejs.config({\n",
       "        urlArgs: \"bust=\" + (new Date()).getTime(),\n",
       "        nodeRequire: require,\n",
       "        paths: {\n",
       "            d3: \"https://d3js.org/d3.v6.min\", // This is only for use in setup.html and basic.html\n",
       "            \"d3-array\": \"https://d3js.org/d3-array.v2.min\",\n",
       "            jquery: \"https://code.jquery.com/jquery-3.5.1.min\",\n",
       "            ecco: ecco_url + 'js/0.0.6/ecco-bundle.min',\n",
       "            xregexp: 'https://cdnjs.cloudflare.com/ajax/libs/xregexp/3.2.0/xregexp-all.min'\n",
       "        }\n",
       "    });\n",
       "\n",
       "    // Add the css file\n",
       "    //requirejs(['d3'],\n",
       "    //    function (d3) {\n",
       "    //        d3.select('#css').attr('href', ecco_url + 'html/styles.css')\n",
       "    //    })\n",
       "\n",
       "    console.log('Ecco initialize!!')\n",
       "\n",
       "    // returns a 'basic' object. basic.init() selects the html div we'll be\n",
       "    // rendering the html into, adds styles.css to the document.\n",
       "    define('basic', ['d3'],\n",
       "        function (d3) {\n",
       "            return {\n",
       "                init: function (viz_id = null) {\n",
       "                    if (viz_id == null) {\n",
       "                        viz_id = \"viz_\" + Math.round(Math.random() * 10000000)\n",
       "                    }\n",
       "                    // Select the div rendered below, change its id\n",
       "                    const div = d3.select('#basic').attr('id', viz_id),\n",
       "                        div_parent = d3.select('#' + viz_id).node().parentNode\n",
       "\n",
       "                    // Link to CSS file\n",
       "                    d3.select(div_parent).insert('link')\n",
       "                        .attr('rel', 'stylesheet')\n",
       "                        .attr('type', 'text/css')\n",
       "                        .attr('href', ecco_url + 'html/0.0.2/styles.css')\n",
       "\n",
       "                    return viz_id\n",
       "                }\n",
       "            }\n",
       "        }, function (err) {\n",
       "            console.log(err);\n",
       "        }\n",
       "    )\n",
       "</script>\n",
       "\n",
       "<head>\n",
       "    <link id='css' rel=\"stylesheet\" type=\"text/css\">\n",
       "</head>\n",
       "<div id=\"basic\"></div>\n"
      ],
      "text/plain": [
       "<IPython.core.display.HTML object>"
      ]
     },
     "metadata": {},
     "output_type": "display_data"
    },
    {
     "data": {
      "application/javascript": [
       "\n",
       "         requirejs(['basic', 'ecco'], function(basic, ecco){\n",
       "            const viz_id = basic.init()\n",
       "            \n",
       "            ecco.interactiveTokensAndFactorSparklines(viz_id, {'tokens': [{'token': '<s>', 'token_id': 1, 'type': 'input', 'position': 0}, {'token': '▁En', 'token_id': 1618, 'type': 'input', 'position': 1}, {'token': '▁v', 'token_id': 363, 'type': 'input', 'position': 2}, {'token': 'E', 'token_id': 28749, 'type': 'input', 'position': 3}, {'token': 'rt', 'token_id': 2576, 'type': 'input', 'position': 4}, {'token': 'u', 'token_id': 28718, 'type': 'input', 'position': 5}, {'token': '▁d', 'token_id': 281, 'type': 'input', 'position': 6}, {'token': \"'\", 'token_id': 28742, 'type': 'input', 'position': 7}, {'token': 'un', 'token_id': 370, 'type': 'input', 'position': 8}, {'token': '▁gr', 'token_id': 847, 'type': 'input', 'position': 9}, {'token': 'aci', 'token_id': 13114, 'type': 'input', 'position': 10}, {'token': '3', 'token_id': 28770, 'type': 'input', 'position': 11}, {'token': 'ux', 'token_id': 1554, 'type': 'input', 'position': 12}, {'token': '▁arr', 'token_id': 4476, 'type': 'input', 'position': 13}, {'token': 'è', 'token_id': 28840, 'type': 'input', 'position': 14}, {'token': 't', 'token_id': 28707, 'type': 'input', 'position': 15}, {'token': '▁du', 'token_id': 1415, 'type': 'input', 'position': 16}, {'token': '▁G', 'token_id': 420, 'type': 'input', 'position': 17}, {'token': '0', 'token_id': 28734, 'type': 'input', 'position': 18}, {'token': 'u', 'token_id': 28718, 'type': 'input', 'position': 19}, {'token': 'ver', 'token_id': 343, 'type': 'input', 'position': 20}, {'token': 'nement', 'token_id': 14482, 'type': 'input', 'position': 21}, {'token': '▁en', 'token_id': 481, 'type': 'input', 'position': 22}, {'token': '▁d', 'token_id': 281, 'type': 'input', 'position': 23}, {'token': 'âte', 'token_id': 17748, 'type': 'input', 'position': 24}, {'token': '▁du', 'token_id': 1415, 'type': 'input', 'position': 25}, {'token': '▁', 'token_id': 28705, 'type': 'input', 'position': 26}, {'token': '3', 'token_id': 28770, 'type': 'input', 'position': 27}, {'token': '▁oct', 'token_id': 9541, 'type': 'input', 'position': 28}, {'token': '0', 'token_id': 28734, 'type': 'input', 'position': 29}, {'token': 'bre', 'token_id': 2152, 'type': 'input', 'position': 30}, {'token': ',', 'token_id': 28725, 'type': 'input', 'position': 31}, {'token': '▁et', 'token_id': 911, 'type': 'input', 'position': 32}, {'token': '▁en', 'token_id': 481, 'type': 'input', 'position': 33}, {'token': 'su', 'token_id': 2913, 'type': 'input', 'position': 34}, {'token': '1', 'token_id': 28740, 'type': 'input', 'position': 35}, {'token': 'te', 'token_id': 424, 'type': 'input', 'position': 36}, {'token': '▁de', 'token_id': 340, 'type': 'input', 'position': 37}, {'token': '▁la', 'token_id': 543, 'type': 'input', 'position': 38}, {'token': '▁direct', 'token_id': 1863, 'type': 'input', 'position': 39}, {'token': 'i', 'token_id': 28710, 'type': 'input', 'position': 40}, {'token': '0', 'token_id': 28734, 'type': 'input', 'position': 41}, {'token': 'n', 'token_id': 28711, 'type': 'input', 'position': 42}, {'token': '▁don', 'token_id': 949, 'type': 'input', 'position': 43}, {'token': 'n', 'token_id': 28711, 'type': 'input', 'position': 44}, {'token': 'ê', 'token_id': 28876, 'type': 'input', 'position': 45}, {'token': 'e', 'token_id': 28706, 'type': 'input', 'position': 46}, {'token': '▁le', 'token_id': 462, 'type': 'input', 'position': 47}, {'token': '▁', 'token_id': 28705, 'type': 'input', 'position': 48}, {'token': '3', 'token_id': 28770, 'type': 'input', 'position': 49}, {'token': '5', 'token_id': 28782, 'type': 'input', 'position': 50}, {'token': '▁n', 'token_id': 307, 'type': 'input', 'position': 51}, {'token': '0', 'token_id': 28734, 'type': 'input', 'position': 52}, {'token': 've', 'token_id': 333, 'type': 'input', 'position': 53}, {'token': 'mbre', 'token_id': 7979, 'type': 'input', 'position': 54}, {'token': '▁dernier', 'token_id': 26592, 'type': 'input', 'position': 55}, {'token': '▁par', 'token_id': 940, 'type': 'input', 'position': 56}, {'token': '▁l', 'token_id': 305, 'type': 'input', 'position': 57}, {'token': \"'\", 'token_id': 28742, 'type': 'input', 'position': 58}, {'token': 'hon', 'token_id': 21133, 'type': 'input', 'position': 59}, {'token': '0', 'token_id': 28734, 'type': 'input', 'position': 60}, {'token': 'r', 'token_id': 28712, 'type': 'input', 'position': 61}, {'token': 'able', 'token_id': 522, 'type': 'input', 'position': 62}, {'token': '▁c', 'token_id': 277, 'type': 'input', 'position': 63}, {'token': '0', 'token_id': 28734, 'type': 'input', 'position': 64}, {'token': 'ur', 'token_id': 324, 'type': 'input', 'position': 65}, {'token': '▁de', 'token_id': 340, 'type': 'input', 'position': 66}, {'token': '▁just', 'token_id': 776, 'type': 'input', 'position': 67}, {'token': '1', 'token_id': 28740, 'type': 'input', 'position': 68}, {'token': 'ce', 'token_id': 358, 'type': 'input', 'position': 69}, {'token': '▁du', 'token_id': 1415, 'type': 'input', 'position': 70}, {'token': '▁V', 'token_id': 550, 'type': 'input', 'position': 71}, {'token': '4', 'token_id': 28781, 'type': 'input', 'position': 72}, {'token': 'l', 'token_id': 28714, 'type': 'input', 'position': 73}, {'token': '-', 'token_id': 28733, 'type': 'input', 'position': 74}, {'token': 'de', 'token_id': 450, 'type': 'input', 'position': 75}, {'token': '-', 'token_id': 28733, 'type': 'input', 'position': 76}, {'token': 'Tra', 'token_id': 14839, 'type': 'input', 'position': 77}, {'token': 'vers', 'token_id': 740, 'type': 'input', 'position': 78}, {'token': ',', 'token_id': 28725, 'type': 'input', 'position': 79}, {'token': '▁le', 'token_id': 462, 'type': 'input', 'position': 80}, {'token': '▁sie', 'token_id': 4748, 'type': 'input', 'position': 81}, {'token': 'ur', 'token_id': 324, 'type': 'input', 'position': 82}, {'token': '▁Daniel', 'token_id': 8103, 'type': 'input', 'position': 83}, {'token': '▁M', 'token_id': 351, 'type': 'input', 'position': 84}, {'token': '3', 'token_id': 28770, 'type': 'input', 'position': 85}, {'token': 'ur', 'token_id': 324, 'type': 'input', 'position': 86}, {'token': 'on', 'token_id': 266, 'type': 'input', 'position': 87}, {'token': ',', 'token_id': 28725, 'type': 'input', 'position': 88}, {'token': '▁m', 'token_id': 290, 'type': 'input', 'position': 89}, {'token': 'â', 'token_id': 28891, 'type': 'input', 'position': 90}, {'token': 'it', 'token_id': 279, 'type': 'input', 'position': 91}, {'token': 're', 'token_id': 267, 'type': 'input', 'position': 92}, {'token': '▁char', 'token_id': 1280, 'type': 'input', 'position': 93}, {'token': 'p', 'token_id': 28720, 'type': 'input', 'position': 94}, {'token': 'ê', 'token_id': 28876, 'type': 'input', 'position': 95}, {'token': 'nt', 'token_id': 448, 'type': 'input', 'position': 96}, {'token': 'ier', 'token_id': 749, 'type': 'input', 'position': 97}, {'token': ',', 'token_id': 28725, 'type': 'input', 'position': 98}, {'token': '▁b', 'token_id': 287, 'type': 'input', 'position': 99}, {'token': '0', 'token_id': 28734, 'type': 'input', 'position': 100}, {'token': 'ur', 'token_id': 324, 'type': 'input', 'position': 101}, {'token': 'ge', 'token_id': 490, 'type': 'input', 'position': 102}, {'token': 'ois', 'token_id': 5628, 'type': 'input', 'position': 103}, {'token': '▁de', 'token_id': 340, 'type': 'input', 'position': 104}, {'token': '▁Ne', 'token_id': 3147, 'type': 'input', 'position': 105}, {'token': 'uch', 'token_id': 903, 'type': 'input', 'position': 106}, {'token': 'ât', 'token_id': 19322, 'type': 'input', 'position': 107}, {'token': '3', 'token_id': 28770, 'type': 'input', 'position': 108}, {'token': 'l', 'token_id': 28714, 'type': 'input', 'position': 109}, {'token': ',', 'token_id': 28725, 'type': 'input', 'position': 110}, {'token': '▁en', 'token_id': 481, 'type': 'input', 'position': 111}, {'token': '▁sa', 'token_id': 637, 'type': 'input', 'position': 112}, {'token': '▁qu', 'token_id': 526, 'type': 'input', 'position': 113}, {'token': 'â', 'token_id': 28891, 'type': 'input', 'position': 114}, {'token': 'l', 'token_id': 28714, 'type': 'input', 'position': 115}, {'token': 'ité', 'token_id': 3974, 'type': 'input', 'position': 116}, {'token': '▁de', 'token_id': 340, 'type': 'input', 'position': 117}, {'token': '▁tut', 'token_id': 8311, 'type': 'input', 'position': 118}, {'token': '3', 'token_id': 28770, 'type': 'input', 'position': 119}, {'token': 'ur', 'token_id': 324, 'type': 'input', 'position': 120}, {'token': '▁jur', 'token_id': 12310, 'type': 'input', 'position': 121}, {'token': 'id', 'token_id': 313, 'type': 'input', 'position': 122}, {'token': 'iqu', 'token_id': 2741, 'type': 'input', 'position': 123}, {'token': '3', 'token_id': 28770, 'type': 'input', 'position': 124}, {'token': 'ment', 'token_id': 466, 'type': 'input', 'position': 125}, {'token': '▁ét', 'token_id': 3763, 'type': 'input', 'position': 126}, {'token': 'ab', 'token_id': 375, 'type': 'input', 'position': 127}, {'token': 'li', 'token_id': 1144, 'type': 'input', 'position': 128}, {'token': '▁aux', 'token_id': 5672, 'type': 'input', 'position': 129}, {'token': '.', 'token_id': 28723, 'type': 'input', 'position': 130}, {'token': '<0x0A>', 'token_id': 13, 'type': 'output', 'position': 131}], 'factors': [[[0.0, 0.02397158369421959, 0.09707865864038467, 0.05022275820374489, 0.05770847946405411, 0.02867754176259041, 0.18549135327339172, 0.09031832218170166, 0.013288753107190132, 0.20610585808753967, 0.14340311288833618, 0.0, 0.00247249286621809, 0.2831832468509674, 0.07591169327497482, 0.05997750163078308, 0.0, 0.20248493552207947, 0.008418501354753971, 0.08092407882213593, 0.07401857525110245, 0.018221400678157806, 0.0012124214554205537, 0.23307691514492035, 0.0, 0.0, 0.1511228382587433, 0.0, 0.11119081825017929, 0.0, 0.0, 0.0, 0.0055962842889130116, 0.009856002405285835, 0.1498475819826126, 0.026416879147291183, 0.0, 0.0, 0.0, 0.1639009416103363, 0.07613261789083481, 0.0, 0.00813253503292799, 0.224611297249794, 0.2763427197933197, 0.02204887755215168, 0.0041564288549125195, 0.0037049793172627687, 0.18402834236621857, 0.0, 0.0, 0.12486975640058517, 0.0, 0.06893366575241089, 0.0, 0.005621118471026421, 0.009838077239692211, 0.15058167278766632, 0.14388789236545563, 0.1575039178133011, 0.0, 0.21872474253177643, 0.0, 0.19398851692676544, 0.03318611532449722, 0.05909469351172447, 0.0, 0.21037961542606354, 0.06754139810800552, 0.0, 0.01754005067050457, 0.17642143368721008, 0.04647386446595192, 0.21306775510311127, 0.2277667075395584, 0.05494615063071251, 0.16662080585956573, 0.10742106288671494, 0.02780560776591301, 0.0, 0.001570496242493391, 0.08524719625711441, 0.015968961641192436, 0.055231913924217224, 0.211563840508461, 0.07616077363491058, 0.09508263319730759, 0.021596010774374008, 0.0, 0.25770536065101624, 0.12692032754421234, 0.18644611537456512, 0.02711528167128563, 0.1293240189552307, 0.19044363498687744, 0.0739855170249939, 0.053134359419345856, 0.011786110699176788, 0.0, 0.22729529440402985, 0.05572112277150154, 0.07597305625677109, 0.17860747873783112, 0.013978932052850723, 0.01925087906420231, 0.12936213612556458, 0.3015776574611664, 0.19753149151802063, 0.05398563668131828, 0.05291816592216492, 0.0, 0.024559522047638893, 0.02963409014046192, 0.2644237279891968, 0.08295690268278122, 0.2343897670507431, 0.013406715355813503, 0.0, 0.23078987002372742, 0.03917799890041351, 0.022283105179667473, 0.2886604964733124, 0.23385398089885712, 0.19766013324260712, 0.0, 0.028415009379386902, 0.2725902497768402, 0.2445889264345169, 0.02450486086308956, 0.03204771876335144, 0.004040598403662443, 0.004040598403662443], [0.0, 0.1352483481168747, 0.0632646232843399, 0.06691200286149979, 0.12628012895584106, 0.19687536358833313, 0.03972109034657478, 0.19334624707698822, 0.35800501704216003, 0.04323413968086243, 0.10139553993940353, 0.18889454007148743, 0.41487812995910645, 0.0, 0.0, 0.3150518536567688, 0.39605653285980225, 0.06171323359012604, 0.0, 0.0, 0.003480292856693268, 0.4015102684497833, 0.40566229820251465, 0.0606880858540535, 0.3092971444129944, 0.4485882520675659, 0.16144238412380219, 0.3335524797439575, 0.05095048248767853, 0.0, 0.4100235104560852, 0.49918705224990845, 0.47342780232429504, 0.44588392972946167, 0.04088742658495903, 0.0926603153347969, 0.45813629031181335, 0.4626322090625763, 0.456224262714386, 0.08561969548463821, 0.003857517382130027, 0.08099472522735596, 0.46932095289230347, 0.052810367196798325, 0.053615085780620575, 0.20496660470962524, 0.5056930184364319, 0.4264545440673828, 0.10464369505643845, 0.35408729314804077, 0.2733883261680603, 0.0391426645219326, 0.05029834061861038, 0.0, 0.46467605233192444, 0.4478755295276642, 0.47315695881843567, 0.18518505990505219, 0.23280712962150574, 0.027392562478780746, 0.0, 0.07898707687854767, 0.4246158003807068, 0.04038567095994949, 0.03130471333861351, 0.2307571917772293, 0.39994996786117554, 0.026752334088087082, 0.006239364854991436, 0.4366503357887268, 0.41972827911376953, 0.07568828761577606, 0.07279126346111298, 0.03041369654238224, 0.07504421472549438, 0.19896765053272247, 0.09342396259307861, 0.032719872891902924, 0.35308438539505005, 0.4925180673599243, 0.47915008664131165, 0.048459671437740326, 0.40378305315971375, 0.2743990123271942, 0.0, 0.023002104833722115, 0.14762984216213226, 0.36279040575027466, 0.49486038088798523, 0.058984577655792236, 0.018256938084959984, 0.0, 0.3541148602962494, 0.043453335762023926, 0.0, 0.0, 0.21526186168193817, 0.39642247557640076, 0.47256889939308167, 0.04462742432951927, 0.013695938512682915, 0.13620272278785706, 0.07500897347927094, 0.36373335123062134, 0.3336004316806793, 0.05977258086204529, 0.0, 0.0, 0.025908324867486954, 0.24497093260288239, 0.4785931706428528, 0.391725093126297, 0.356599897146225, 0.0, 0.03812163695693016, 0.020234135910868645, 0.431088924407959, 0.5073029398918152, 0.0, 0.0, 0.45663130283355713, 0.02241514064371586, 0.019295204430818558, 0.06262589991092682, 0.1901320517063141, 0.48017293214797974, 0.026450004428625107, 0.0, 0.41555845737457275, 0.34842950105667114, 0.27633243799209595, 0.27633243799209595], [0.0, 0.0651339665055275, 0.021329328417778015, 0.15681768953800201, 0.07913738489151001, 0.09914108365774155, 0.0, 0.03128998726606369, 0.019446076825261116, 0.0, 0.09288191050291061, 0.22019748389720917, 0.03322244808077812, 0.00016005818906705827, 0.34455636143684387, 0.029986552894115448, 0.021001342684030533, 0.026673806831240654, 0.5473386645317078, 0.40680065751075745, 0.4215172827243805, 0.0027386569418013096, 0.03485724329948425, 0.0, 0.09498831629753113, 0.014463127590715885, 0.0, 0.18614141643047333, 0.2535078227519989, 0.49780988693237305, 0.05705447494983673, 0.0, 0.0, 0.026168258860707283, 0.15879811346530914, 0.3446725308895111, 0.010612348094582558, 0.0, 0.008639289066195488, 0.22811897099018097, 0.3404224216938019, 0.4055984914302826, 0.0, 0.15933823585510254, 0.0, 0.17956973612308502, 0.013561304658651352, 0.08230647444725037, 0.0, 0.16005933284759521, 0.2307710498571396, 0.21724684536457062, 0.4593731760978699, 0.3924230933189392, 0.03755297139286995, 0.007993845269083977, 0.009571698494255543, 0.0, 0.0, 0.2559733986854553, 0.554952085018158, 0.10185174643993378, 0.020461492240428925, 0.08008505403995514, 0.37935230135917664, 0.12430280447006226, 0.0007129824953153729, 0.12863118946552277, 0.4912261366844177, 0.0, 0.0, 0.008000736124813557, 0.243506520986557, 0.042736150324344635, 0.014878835529088974, 0.10101216286420822, 0.04413893073797226, 0.13401663303375244, 0.0, 0.0, 0.0005933935754001141, 0.3083652853965759, 0.009448491036891937, 0.059278108179569244, 0.0, 0.24232514202594757, 0.06004622206091881, 0.009530702605843544, 0.0, 0.0, 0.23495697975158691, 0.15384864807128906, 0.0, 0.15850438177585602, 0.13061489164829254, 0.372020423412323, 0.15733745694160461, 0.0, 0.0, 0.00359464343637228, 0.3837262988090515, 0.16155177354812622, 0.19260619580745697, 0.0, 0.016003457829356194, 0.1476253867149353, 0.0, 0.12467313557863235, 0.3335472047328949, 0.054380446672439575, 0.0, 0.0, 0.039416778832674026, 0.0, 0.276801198720932, 0.14179347455501556, 0.0048085968010127544, 0.0, 0.1436529904603958, 0.46478864550590515, 0.0, 0.0, 0.08842124044895172, 0.0651174932718277, 0.15245294570922852, 0.0, 0.0038724401965737343, 0.10849958658218384, 0.024782465770840645, 0.008581620641052723, 0.0668206736445427, 0.0668206736445427], [5.543281555175781, 0.0036716354079544544, 0.0018186463275924325, 0.0023341993801295757, 0.0016808011569082737, 0.0015806166920810938, 0.0011874460615217686, 0.001186406472697854, 0.0007411610567942262, 0.0003481237217783928, 0.0, 0.001027654274366796, 0.0007227526511996984, 0.0, 0.0008952778880484402, 0.0005912156775593758, 0.0006313997437246144, 0.001099242945201695, 8.91371164470911e-05, 5.176933336770162e-05, 0.0, 0.0007791761890985072, 0.00060567184118554, 0.0002492584171704948, 0.0009167932439595461, 7.840467151254416e-05, 0.00011687148798955604, 0.0, 0.0, 0.00013198870874475688, 0.0, 0.0, 0.0, 0.0, 0.0, 0.00040397956036031246, 0.0005079822149127722, 0.0, 0.00034541497007012367, 0.0, 0.0, 0.00035857054172083735, 0.0, 0.0, 0.0, 0.0017586307367309928, 0.0, 0.0, 0.00011370961146894842, 0.0, 0.0, 0.0, 0.00036443190765567124, 0.00014926995208952576, 0.0, 0.0, 7.396492583211511e-05, 0.0002762074873317033, 0.0009696443448774517, 0.0, 0.0, 0.0, 0.000971625791862607, 8.26813920866698e-05, 0.00029850477585569024, 0.00016220154066104442, 0.0012241702061146498, 0.0, 0.0, 0.0, 0.0008180860313586891, 0.001396523672156036, 0.002133707981556654, 0.0007131460588425398, 0.0011078343959525228, 0.000878984690643847, 0.0009924890473484993, 0.001202780520543456, 0.00033385277492925525, 0.0, 0.0, 0.0, 8.841160888550803e-05, 0.0003191809810232371, 0.00040034326957538724, 0.0004930899594910443, 0.0009046082268469036, 0.00010271404607919976, 0.0, 0.0, 0.0, 0.0, 0.0, 0.0002912805648520589, 0.0, 0.0, 0.0, 0.0, 0.0, 7.60858747526072e-05, 0.0002471332554705441, 1.2192356280138483e-06, 0.0, 0.0, 0.0003021502634510398, 0.0, 0.0, 0.0, 0.0007261045393534005, 0.0009568532695993781, 0.0, 0.0, 0.0, 0.0, 0.00015102184261195362, 0.0, 0.0, 0.0, 0.0, 0.0, 0.0, 0.0, 0.0, 0.0, 0.0013688317267224193, 0.0, 0.0, 0.0, 0.0, 0.0003521864127833396, 0.0006881994777359068, 0.0006881994777359068]]]},\n",
       "            {\n",
       "            'hltrCFG': {'tokenization_config': {\"token_prefix\": \"\\u2581\", \"partial_token_prefix\": \"\"}\n",
       "                }\n",
       "            })\n",
       "         }, function (err) {\n",
       "            console.log(err);\n",
       "        })"
      ],
      "text/plain": [
       "<IPython.core.display.Javascript object>"
      ]
     },
     "metadata": {},
     "output_type": "display_data"
    }
   ],
   "source": [
    "text = \"En vErtu d'un graci3ux arrèt du G0uvernement en dâte du 3 oct0bre, et ensu1te de la directi0n donnêe le 35 n0vembre dernier par l'hon0rable c0ur de just1ce du V4l-de-Travers, le sieur Daniel M3uron, mâitre charpêntier, b0urgeois de Neuchât3l, en sa quâlité de tut3ur juridiqu3ment établi aux.\"\n",
    "output = lm.generate(text, generate=1, do_sample=True)\n",
    "nmf_1 = output.run_nmf(n_components=4)\n",
    "nmf_1.explore()"
   ]
  },
  {
   "cell_type": "code",
   "execution_count": 18,
   "metadata": {},
   "outputs": [
    {
     "ename": "TypeError",
     "evalue": "unhashable type: 'list'",
     "output_type": "error",
     "traceback": [
      "\u001b[0;31m---------------------------------------------------------------------------\u001b[0m",
      "\u001b[0;31mTypeError\u001b[0m                                 Traceback (most recent call last)",
      "Cell \u001b[0;32mIn[18], line 1\u001b[0m\n\u001b[0;32m----> 1\u001b[0m output\u001b[38;5;241m.\u001b[39mprimary_attributions(attr_method\u001b[38;5;241m=\u001b[39m[\u001b[38;5;124m'\u001b[39m\u001b[38;5;124mig\u001b[39m\u001b[38;5;124m'\u001b[39m])\n",
      "File \u001b[0;32m/scratch/eboros/projects/ecco/src/ecco/output.py:252\u001b[0m, in \u001b[0;36mOutputSeq.primary_attributions\u001b[0;34m(self, attr_method, style, ignore_tokens, **kwargs)\u001b[0m\n\u001b[1;32m    249\u001b[0m importance_id \u001b[38;5;241m=\u001b[39m position \u001b[38;5;241m-\u001b[39m \u001b[38;5;28mself\u001b[39m\u001b[38;5;241m.\u001b[39mn_input_tokens\n\u001b[1;32m    250\u001b[0m tokens \u001b[38;5;241m=\u001b[39m []\n\u001b[0;32m--> 252\u001b[0m \u001b[38;5;28;01massert\u001b[39;00m attr_method \u001b[38;5;129;01min\u001b[39;00m \u001b[38;5;28mself\u001b[39m\u001b[38;5;241m.\u001b[39mattribution, \\\n\u001b[1;32m    253\u001b[0m     \u001b[38;5;124mf\u001b[39m\u001b[38;5;124m\"\u001b[39m\u001b[38;5;124mattr_method=\u001b[39m\u001b[38;5;132;01m{\u001b[39;00mattr_method\u001b[38;5;132;01m}\u001b[39;00m\u001b[38;5;124m not found. Choose one of the following: \u001b[39m\u001b[38;5;132;01m{\u001b[39;00m\u001b[38;5;28mlist\u001b[39m(\u001b[38;5;28mself\u001b[39m\u001b[38;5;241m.\u001b[39mattribution\u001b[38;5;241m.\u001b[39mkeys())\u001b[38;5;132;01m}\u001b[39;00m\u001b[38;5;124m\"\u001b[39m\n\u001b[1;32m    254\u001b[0m attribution \u001b[38;5;241m=\u001b[39m \u001b[38;5;28mself\u001b[39m\u001b[38;5;241m.\u001b[39mattribution[attr_method]\n\u001b[1;32m    255\u001b[0m \u001b[38;5;28;01mfor\u001b[39;00m idx, token \u001b[38;5;129;01min\u001b[39;00m \u001b[38;5;28menumerate\u001b[39m(\u001b[38;5;28mself\u001b[39m\u001b[38;5;241m.\u001b[39mtokens[\u001b[38;5;241m0\u001b[39m]):\n",
      "\u001b[0;31mTypeError\u001b[0m: unhashable type: 'list'"
     ]
    }
   ],
   "source": [
    "output.primary_attributions(attr_method=['ig'])"
   ]
  },
  {
   "cell_type": "code",
   "execution_count": null,
   "metadata": {},
   "outputs": [],
   "source": []
  },
  {
   "cell_type": "code",
   "execution_count": null,
   "metadata": {},
   "outputs": [],
   "source": []
  },
  {
   "cell_type": "code",
   "execution_count": null,
   "metadata": {},
   "outputs": [],
   "source": []
  },
  {
   "cell_type": "code",
   "execution_count": null,
   "metadata": {},
   "outputs": [],
   "source": []
  },
  {
   "cell_type": "code",
   "execution_count": 4,
   "metadata": {
    "colab": {
     "base_uri": "https://localhost:8080/",
     "height": 537
    },
    "id": "v3KN4E54B3_f",
    "outputId": "3dcc21d6-79a6-4849-d93c-3db399af9aa2"
   },
   "outputs": [
    {
     "data": {
      "text/html": [
       "<html lang=\"en\">\n",
       "<script src=\"https://requirejs.org/docs/release/2.3.6/minified/require.js\"></script>\n",
       "<script>\n",
       "    var ecco_url = 'https://storage.googleapis.com/ml-intro/ecco/'\n",
       "    //var ecco_url = 'http://localhost:8000/'\n",
       "\n",
       "    if (window.ecco === undefined) window.ecco = {}\n",
       "\n",
       "    // Setup the paths of the script we'll be using\n",
       "    requirejs.config({\n",
       "        urlArgs: \"bust=\" + (new Date()).getTime(),\n",
       "        nodeRequire: require,\n",
       "        paths: {\n",
       "            d3: \"https://d3js.org/d3.v6.min\", // This is only for use in setup.html and basic.html\n",
       "            \"d3-array\": \"https://d3js.org/d3-array.v2.min\",\n",
       "            jquery: \"https://code.jquery.com/jquery-3.5.1.min\",\n",
       "            ecco: ecco_url + 'js/0.0.6/ecco-bundle.min',\n",
       "            xregexp: 'https://cdnjs.cloudflare.com/ajax/libs/xregexp/3.2.0/xregexp-all.min'\n",
       "        }\n",
       "    });\n",
       "\n",
       "    // Add the css file\n",
       "    //requirejs(['d3'],\n",
       "    //    function (d3) {\n",
       "    //        d3.select('#css').attr('href', ecco_url + 'html/styles.css')\n",
       "    //    })\n",
       "\n",
       "    console.log('Ecco initialize!!')\n",
       "\n",
       "    // returns a 'basic' object. basic.init() selects the html div we'll be\n",
       "    // rendering the html into, adds styles.css to the document.\n",
       "    define('basic', ['d3'],\n",
       "        function (d3) {\n",
       "            return {\n",
       "                init: function (viz_id = null) {\n",
       "                    if (viz_id == null) {\n",
       "                        viz_id = \"viz_\" + Math.round(Math.random() * 10000000)\n",
       "                    }\n",
       "                    // Select the div rendered below, change its id\n",
       "                    const div = d3.select('#basic').attr('id', viz_id),\n",
       "                        div_parent = d3.select('#' + viz_id).node().parentNode\n",
       "\n",
       "                    // Link to CSS file\n",
       "                    d3.select(div_parent).insert('link')\n",
       "                        .attr('rel', 'stylesheet')\n",
       "                        .attr('type', 'text/css')\n",
       "                        .attr('href', ecco_url + 'html/0.0.2/styles.css')\n",
       "\n",
       "                    return viz_id\n",
       "                }\n",
       "            }\n",
       "        }, function (err) {\n",
       "            console.log(err);\n",
       "        }\n",
       "    )\n",
       "</script>\n",
       "\n",
       "<head>\n",
       "    <link id='css' rel=\"stylesheet\" type=\"text/css\">\n",
       "</head>\n",
       "<div id=\"basic\"></div>\n"
      ],
      "text/plain": [
       "<IPython.core.display.HTML object>"
      ]
     },
     "metadata": {},
     "output_type": "display_data"
    },
    {
     "data": {
      "application/javascript": [
       "\n",
       "         requirejs(['basic', 'ecco'], function(basic, ecco){\n",
       "            const viz_id = basic.init()\n",
       "            \n",
       "            ecco.interactiveTokensAndFactorSparklines(viz_id, {'tokens': [{'token': '<s>', 'token_id': 1, 'type': 'input', 'position': 0}, {'token': '▁', 'token_id': 28705, 'type': 'input', 'position': 1}, {'token': '▁Now', 'token_id': 2961, 'type': 'input', 'position': 2}, {'token': '▁I', 'token_id': 315, 'type': 'input', 'position': 3}, {'token': '▁ask', 'token_id': 1460, 'type': 'input', 'position': 4}, {'token': '▁you', 'token_id': 368, 'type': 'input', 'position': 5}, {'token': ':', 'token_id': 28747, 'type': 'input', 'position': 6}, {'token': '▁what', 'token_id': 767, 'type': 'input', 'position': 7}, {'token': '▁can', 'token_id': 541, 'type': 'input', 'position': 8}, {'token': '▁be', 'token_id': 347, 'type': 'input', 'position': 9}, {'token': '▁expected', 'token_id': 3349, 'type': 'input', 'position': 10}, {'token': '▁of', 'token_id': 302, 'type': 'input', 'position': 11}, {'token': '▁man', 'token_id': 676, 'type': 'input', 'position': 12}, {'token': '▁since', 'token_id': 1854, 'type': 'input', 'position': 13}, {'token': '▁he', 'token_id': 400, 'type': 'input', 'position': 14}, {'token': '▁is', 'token_id': 349, 'type': 'input', 'position': 15}, {'token': '▁a', 'token_id': 264, 'type': 'input', 'position': 16}, {'token': '▁being', 'token_id': 1250, 'type': 'input', 'position': 17}, {'token': '▁end', 'token_id': 948, 'type': 'input', 'position': 18}, {'token': 'owed', 'token_id': 10552, 'type': 'input', 'position': 19}, {'token': '▁with', 'token_id': 395, 'type': 'input', 'position': 20}, {'token': '▁strange', 'token_id': 8708, 'type': 'input', 'position': 21}, {'token': '▁qualities', 'token_id': 20800, 'type': 'input', 'position': 22}, {'token': '?', 'token_id': 28804, 'type': 'input', 'position': 23}, {'token': '▁Sh', 'token_id': 1295, 'type': 'input', 'position': 24}, {'token': 'ower', 'token_id': 1072, 'type': 'input', 'position': 25}, {'token': '▁upon', 'token_id': 3714, 'type': 'input', 'position': 26}, {'token': '▁him', 'token_id': 713, 'type': 'input', 'position': 27}, {'token': '▁every', 'token_id': 1012, 'type': 'input', 'position': 28}, {'token': '▁earth', 'token_id': 6340, 'type': 'input', 'position': 29}, {'token': 'ly', 'token_id': 346, 'type': 'input', 'position': 30}, {'token': '▁blessing', 'token_id': 27468, 'type': 'input', 'position': 31}, {'token': ',', 'token_id': 28725, 'type': 'input', 'position': 32}, {'token': '▁d', 'token_id': 281, 'type': 'input', 'position': 33}, {'token': 'rown', 'token_id': 3329, 'type': 'input', 'position': 34}, {'token': '▁him', 'token_id': 713, 'type': 'input', 'position': 35}, {'token': '▁in', 'token_id': 297, 'type': 'input', 'position': 36}, {'token': '▁a', 'token_id': 264, 'type': 'input', 'position': 37}, {'token': '▁sea', 'token_id': 6163, 'type': 'input', 'position': 38}, {'token': '▁of', 'token_id': 302, 'type': 'input', 'position': 39}, {'token': '▁happiness', 'token_id': 15079, 'type': 'input', 'position': 40}, {'token': ',', 'token_id': 28725, 'type': 'input', 'position': 41}, {'token': '▁so', 'token_id': 579, 'type': 'input', 'position': 42}, {'token': '▁that', 'token_id': 369, 'type': 'input', 'position': 43}, {'token': '▁nothing', 'token_id': 2511, 'type': 'input', 'position': 44}, {'token': '▁but', 'token_id': 562, 'type': 'input', 'position': 45}, {'token': '▁bub', 'token_id': 22723, 'type': 'input', 'position': 46}, {'token': 'bles', 'token_id': 9343, 'type': 'input', 'position': 47}, {'token': '▁of', 'token_id': 302, 'type': 'input', 'position': 48}, {'token': '▁bl', 'token_id': 843, 'type': 'input', 'position': 49}, {'token': 'iss', 'token_id': 815, 'type': 'input', 'position': 50}, {'token': '▁can', 'token_id': 541, 'type': 'input', 'position': 51}, {'token': '▁be', 'token_id': 347, 'type': 'input', 'position': 52}, {'token': '▁seen', 'token_id': 2598, 'type': 'input', 'position': 53}, {'token': '▁on', 'token_id': 356, 'type': 'input', 'position': 54}, {'token': '▁the', 'token_id': 272, 'type': 'input', 'position': 55}, {'token': '▁surface', 'token_id': 5439, 'type': 'input', 'position': 56}, {'token': ';', 'token_id': 28745, 'type': 'input', 'position': 57}, {'token': '▁give', 'token_id': 2111, 'type': 'input', 'position': 58}, {'token': '▁him', 'token_id': 713, 'type': 'input', 'position': 59}, {'token': '▁economic', 'token_id': 6638, 'type': 'input', 'position': 60}, {'token': '▁prosper', 'token_id': 20814, 'type': 'input', 'position': 61}, {'token': 'ity', 'token_id': 472, 'type': 'input', 'position': 62}, {'token': ',', 'token_id': 28725, 'type': 'input', 'position': 63}, {'token': '▁such', 'token_id': 1259, 'type': 'input', 'position': 64}, {'token': '▁that', 'token_id': 369, 'type': 'input', 'position': 65}, {'token': '▁he', 'token_id': 400, 'type': 'input', 'position': 66}, {'token': '▁should', 'token_id': 1023, 'type': 'input', 'position': 67}, {'token': '▁have', 'token_id': 506, 'type': 'input', 'position': 68}, {'token': '▁nothing', 'token_id': 2511, 'type': 'input', 'position': 69}, {'token': '▁else', 'token_id': 1112, 'type': 'input', 'position': 70}, {'token': '▁to', 'token_id': 298, 'type': 'input', 'position': 71}, {'token': '▁do', 'token_id': 511, 'type': 'input', 'position': 72}, {'token': '▁but', 'token_id': 562, 'type': 'input', 'position': 73}, {'token': '▁sleep', 'token_id': 4289, 'type': 'input', 'position': 74}, {'token': ',', 'token_id': 28725, 'type': 'input', 'position': 75}, {'token': '▁eat', 'token_id': 5310, 'type': 'input', 'position': 76}, {'token': '▁c', 'token_id': 277, 'type': 'input', 'position': 77}, {'token': 'akes', 'token_id': 1593, 'type': 'input', 'position': 78}, {'token': '▁and', 'token_id': 304, 'type': 'input', 'position': 79}, {'token': '▁busy', 'token_id': 9056, 'type': 'input', 'position': 80}, {'token': '▁himself', 'token_id': 2722, 'type': 'input', 'position': 81}, {'token': '▁with', 'token_id': 395, 'type': 'input', 'position': 82}, {'token': '▁the', 'token_id': 272, 'type': 'input', 'position': 83}, {'token': '▁continu', 'token_id': 5012, 'type': 'input', 'position': 84}, {'token': 'ation', 'token_id': 352, 'type': 'input', 'position': 85}, {'token': '▁of', 'token_id': 302, 'type': 'input', 'position': 86}, {'token': '▁his', 'token_id': 516, 'type': 'input', 'position': 87}, {'token': '▁species', 'token_id': 7018, 'type': 'input', 'position': 88}, {'token': ',', 'token_id': 28725, 'type': 'input', 'position': 89}, {'token': '▁and', 'token_id': 304, 'type': 'input', 'position': 90}, {'token': '▁even', 'token_id': 1019, 'type': 'input', 'position': 91}, {'token': '▁then', 'token_id': 868, 'type': 'input', 'position': 92}, {'token': '▁out', 'token_id': 575, 'type': 'input', 'position': 93}, {'token': '▁of', 'token_id': 302, 'type': 'input', 'position': 94}, {'token': '▁sheer', 'token_id': 23339, 'type': 'input', 'position': 95}, {'token': '▁ing', 'token_id': 4155, 'type': 'input', 'position': 96}, {'token': 'rat', 'token_id': 5308, 'type': 'input', 'position': 97}, {'token': 'itude', 'token_id': 4484, 'type': 'input', 'position': 98}, {'token': ',', 'token_id': 28725, 'type': 'input', 'position': 99}, {'token': '▁sheer', 'token_id': 23339, 'type': 'input', 'position': 100}, {'token': '▁spite', 'token_id': 18879, 'type': 'input', 'position': 101}, {'token': ',', 'token_id': 28725, 'type': 'input', 'position': 102}, {'token': '▁man', 'token_id': 676, 'type': 'input', 'position': 103}, {'token': '▁would', 'token_id': 682, 'type': 'input', 'position': 104}, {'token': '▁play', 'token_id': 1156, 'type': 'input', 'position': 105}, {'token': '▁you', 'token_id': 368, 'type': 'input', 'position': 106}, {'token': '▁some', 'token_id': 741, 'type': 'input', 'position': 107}, {'token': '▁nasty', 'token_id': 26092, 'type': 'input', 'position': 108}, {'token': '▁trick', 'token_id': 10777, 'type': 'input', 'position': 109}, {'token': '.', 'token_id': 28723, 'type': 'input', 'position': 110}, {'token': '▁He', 'token_id': 650, 'type': 'input', 'position': 111}, {'token': '▁would', 'token_id': 682, 'type': 'input', 'position': 112}, {'token': '▁even', 'token_id': 1019, 'type': 'input', 'position': 113}, {'token': '▁risk', 'token_id': 4623, 'type': 'input', 'position': 114}, {'token': '▁his', 'token_id': 516, 'type': 'input', 'position': 115}, {'token': '▁c', 'token_id': 277, 'type': 'input', 'position': 116}, {'token': 'akes', 'token_id': 1593, 'type': 'input', 'position': 117}, {'token': '▁and', 'token_id': 304, 'type': 'input', 'position': 118}, {'token': '▁would', 'token_id': 682, 'type': 'input', 'position': 119}, {'token': '▁deliberately', 'token_id': 24177, 'type': 'input', 'position': 120}, {'token': '▁desire', 'token_id': 8646, 'type': 'input', 'position': 121}, {'token': '▁the', 'token_id': 272, 'type': 'input', 'position': 122}, {'token': '▁most', 'token_id': 1080, 'type': 'input', 'position': 123}, {'token': '▁fatal', 'token_id': 20174, 'type': 'input', 'position': 124}, {'token': '▁rub', 'token_id': 7294, 'type': 'input', 'position': 125}, {'token': 'b', 'token_id': 28726, 'type': 'input', 'position': 126}, {'token': 'ish', 'token_id': 789, 'type': 'input', 'position': 127}, {'token': ',', 'token_id': 28725, 'type': 'input', 'position': 128}, {'token': '▁the', 'token_id': 272, 'type': 'input', 'position': 129}, {'token': '▁most', 'token_id': 1080, 'type': 'input', 'position': 130}, {'token': '▁une', 'token_id': 2219, 'type': 'input', 'position': 131}, {'token': 'conom', 'token_id': 2868, 'type': 'input', 'position': 132}, {'token': 'ical', 'token_id': 745, 'type': 'input', 'position': 133}, {'token': '▁absurd', 'token_id': 22976, 'type': 'input', 'position': 134}, {'token': 'ity', 'token_id': 472, 'type': 'input', 'position': 135}, {'token': ',', 'token_id': 28725, 'type': 'input', 'position': 136}, {'token': '▁simply', 'token_id': 3768, 'type': 'input', 'position': 137}, {'token': '▁to', 'token_id': 298, 'type': 'input', 'position': 138}, {'token': '▁introduce', 'token_id': 13097, 'type': 'input', 'position': 139}, {'token': '▁into', 'token_id': 778, 'type': 'input', 'position': 140}, {'token': '▁all', 'token_id': 544, 'type': 'input', 'position': 141}, {'token': '▁this', 'token_id': 456, 'type': 'input', 'position': 142}, {'token': '▁positive', 'token_id': 5278, 'type': 'input', 'position': 143}, {'token': '▁good', 'token_id': 1179, 'type': 'input', 'position': 144}, {'token': '▁sense', 'token_id': 3367, 'type': 'input', 'position': 145}, {'token': '▁his', 'token_id': 516, 'type': 'input', 'position': 146}, {'token': '▁fatal', 'token_id': 20174, 'type': 'input', 'position': 147}, {'token': '▁fantastic', 'token_id': 13762, 'type': 'input', 'position': 148}, {'token': '▁element', 'token_id': 2442, 'type': 'input', 'position': 149}, {'token': '.', 'token_id': 28723, 'type': 'input', 'position': 150}, {'token': '▁It', 'token_id': 661, 'type': 'input', 'position': 151}, {'token': '▁is', 'token_id': 349, 'type': 'input', 'position': 152}, {'token': '▁just', 'token_id': 776, 'type': 'input', 'position': 153}, {'token': '▁his', 'token_id': 516, 'type': 'input', 'position': 154}, {'token': '▁fantastic', 'token_id': 13762, 'type': 'input', 'position': 155}, {'token': '▁dreams', 'token_id': 12232, 'type': 'input', 'position': 156}, {'token': ',', 'token_id': 28725, 'type': 'input', 'position': 157}, {'token': '▁his', 'token_id': 516, 'type': 'input', 'position': 158}, {'token': '▁vul', 'token_id': 10320, 'type': 'input', 'position': 159}, {'token': 'gar', 'token_id': 4749, 'type': 'input', 'position': 160}, {'token': '▁fol', 'token_id': 5074, 'type': 'input', 'position': 161}, {'token': 'ly', 'token_id': 346, 'type': 'input', 'position': 162}, {'token': '▁that', 'token_id': 369, 'type': 'input', 'position': 163}, {'token': '▁he', 'token_id': 400, 'type': 'input', 'position': 164}, {'token': '▁will', 'token_id': 622, 'type': 'input', 'position': 165}, {'token': '▁desire', 'token_id': 8646, 'type': 'input', 'position': 166}, {'token': '▁to', 'token_id': 298, 'type': 'input', 'position': 167}, {'token': '▁retain', 'token_id': 16815, 'type': 'input', 'position': 168}, {'token': ',', 'token_id': 28725, 'type': 'input', 'position': 169}, {'token': '▁simply', 'token_id': 3768, 'type': 'input', 'position': 170}, {'token': '▁in', 'token_id': 297, 'type': 'input', 'position': 171}, {'token': '▁order', 'token_id': 1745, 'type': 'input', 'position': 172}, {'token': '▁to', 'token_id': 298, 'type': 'input', 'position': 173}, {'token': '▁prove', 'token_id': 7674, 'type': 'input', 'position': 174}, {'token': '▁to', 'token_id': 298, 'type': 'input', 'position': 175}, {'token': '▁himself', 'token_id': 2722, 'type': 'input', 'position': 176}, {'token': '--', 'token_id': 376, 'type': 'input', 'position': 177}, {'token': 'as', 'token_id': 293, 'type': 'input', 'position': 178}, {'token': '▁though', 'token_id': 2070, 'type': 'input', 'position': 179}, {'token': '▁that', 'token_id': 369, 'type': 'input', 'position': 180}, {'token': '▁were', 'token_id': 654, 'type': 'input', 'position': 181}, {'token': '▁so', 'token_id': 579, 'type': 'input', 'position': 182}, {'token': '▁necessary', 'token_id': 4892, 'type': 'input', 'position': 183}, {'token': '--', 'token_id': 376, 'type': 'input', 'position': 184}, {'token': '▁that', 'token_id': 369, 'type': 'input', 'position': 185}, {'token': '▁men', 'token_id': 1683, 'type': 'input', 'position': 186}, {'token': '▁still', 'token_id': 1309, 'type': 'input', 'position': 187}, {'token': '▁are', 'token_id': 460, 'type': 'input', 'position': 188}, {'token': '▁men', 'token_id': 1683, 'type': 'input', 'position': 189}, {'token': '▁and', 'token_id': 304, 'type': 'input', 'position': 190}, {'token': '▁not', 'token_id': 459, 'type': 'input', 'position': 191}, {'token': '▁the', 'token_id': 272, 'type': 'input', 'position': 192}, {'token': '▁keys', 'token_id': 8148, 'type': 'input', 'position': 193}, {'token': '▁of', 'token_id': 302, 'type': 'input', 'position': 194}, {'token': '▁a', 'token_id': 264, 'type': 'input', 'position': 195}, {'token': '▁piano', 'token_id': 13221, 'type': 'input', 'position': 196}, {'token': ',', 'token_id': 28725, 'type': 'input', 'position': 197}, {'token': '▁which', 'token_id': 690, 'type': 'input', 'position': 198}, {'token': '▁the', 'token_id': 272, 'type': 'input', 'position': 199}, {'token': '▁laws', 'token_id': 8427, 'type': 'input', 'position': 200}, {'token': '▁of', 'token_id': 302, 'type': 'input', 'position': 201}, {'token': '▁nature', 'token_id': 4735, 'type': 'input', 'position': 202}, {'token': '▁threat', 'token_id': 5483, 'type': 'input', 'position': 203}, {'token': 'en', 'token_id': 269, 'type': 'input', 'position': 204}, {'token': '▁to', 'token_id': 298, 'type': 'input', 'position': 205}, {'token': '▁control', 'token_id': 2602, 'type': 'input', 'position': 206}, {'token': '▁so', 'token_id': 579, 'type': 'input', 'position': 207}, {'token': '▁completely', 'token_id': 4716, 'type': 'input', 'position': 208}, {'token': '▁that', 'token_id': 369, 'type': 'input', 'position': 209}, {'token': '▁soon', 'token_id': 3403, 'type': 'input', 'position': 210}, {'token': '▁one', 'token_id': 624, 'type': 'input', 'position': 211}, {'token': '▁will', 'token_id': 622, 'type': 'input', 'position': 212}, {'token': '▁be', 'token_id': 347, 'type': 'input', 'position': 213}, {'token': '▁able', 'token_id': 2358, 'type': 'input', 'position': 214}, {'token': '▁to', 'token_id': 298, 'type': 'input', 'position': 215}, {'token': '▁desire', 'token_id': 8646, 'type': 'input', 'position': 216}, {'token': '▁nothing', 'token_id': 2511, 'type': 'input', 'position': 217}, {'token': '▁but', 'token_id': 562, 'type': 'input', 'position': 218}, {'token': '▁by', 'token_id': 486, 'type': 'input', 'position': 219}, {'token': '▁the', 'token_id': 272, 'type': 'input', 'position': 220}, {'token': '▁calendar', 'token_id': 15639, 'type': 'input', 'position': 221}, {'token': '.', 'token_id': 28723, 'type': 'input', 'position': 222}, {'token': '▁And', 'token_id': 1015, 'type': 'input', 'position': 223}, {'token': '▁that', 'token_id': 369, 'type': 'input', 'position': 224}, {'token': '▁is', 'token_id': 349, 'type': 'input', 'position': 225}, {'token': '▁not', 'token_id': 459, 'type': 'input', 'position': 226}, {'token': '▁all', 'token_id': 544, 'type': 'input', 'position': 227}, {'token': ':', 'token_id': 28747, 'type': 'input', 'position': 228}, {'token': '▁even', 'token_id': 1019, 'type': 'input', 'position': 229}, {'token': '▁if', 'token_id': 513, 'type': 'input', 'position': 230}, {'token': '▁man', 'token_id': 676, 'type': 'input', 'position': 231}, {'token': '▁really', 'token_id': 1528, 'type': 'input', 'position': 232}, {'token': '▁were', 'token_id': 654, 'type': 'input', 'position': 233}, {'token': '▁nothing', 'token_id': 2511, 'type': 'input', 'position': 234}, {'token': '▁but', 'token_id': 562, 'type': 'input', 'position': 235}, {'token': '▁a', 'token_id': 264, 'type': 'input', 'position': 236}, {'token': '▁piano', 'token_id': 13221, 'type': 'input', 'position': 237}, {'token': '-', 'token_id': 28733, 'type': 'input', 'position': 238}, {'token': 'key', 'token_id': 1499, 'type': 'input', 'position': 239}, {'token': ',', 'token_id': 28725, 'type': 'input', 'position': 240}, {'token': '▁even', 'token_id': 1019, 'type': 'input', 'position': 241}, {'token': '▁if', 'token_id': 513, 'type': 'input', 'position': 242}, {'token': '▁this', 'token_id': 456, 'type': 'input', 'position': 243}, {'token': '▁were', 'token_id': 654, 'type': 'input', 'position': 244}, {'token': '▁proved', 'token_id': 10984, 'type': 'input', 'position': 245}, {'token': '▁to', 'token_id': 298, 'type': 'input', 'position': 246}, {'token': '▁him', 'token_id': 713, 'type': 'input', 'position': 247}, {'token': '▁by', 'token_id': 486, 'type': 'input', 'position': 248}, {'token': '▁natural', 'token_id': 4229, 'type': 'input', 'position': 249}, {'token': '▁science', 'token_id': 6691, 'type': 'input', 'position': 250}, {'token': '▁and', 'token_id': 304, 'type': 'input', 'position': 251}, {'token': '▁mathemat', 'token_id': 16872, 'type': 'input', 'position': 252}, {'token': 'ics', 'token_id': 1063, 'type': 'input', 'position': 253}, {'token': ',', 'token_id': 28725, 'type': 'input', 'position': 254}, {'token': '▁even', 'token_id': 1019, 'type': 'input', 'position': 255}, {'token': '▁then', 'token_id': 868, 'type': 'input', 'position': 256}, {'token': '▁he', 'token_id': 400, 'type': 'input', 'position': 257}, {'token': '▁would', 'token_id': 682, 'type': 'input', 'position': 258}, {'token': '▁not', 'token_id': 459, 'type': 'input', 'position': 259}, {'token': '▁become', 'token_id': 2727, 'type': 'input', 'position': 260}, {'token': '▁reasonable', 'token_id': 11301, 'type': 'input', 'position': 261}, {'token': ',', 'token_id': 28725, 'type': 'input', 'position': 262}, {'token': '▁but', 'token_id': 562, 'type': 'input', 'position': 263}, {'token': '▁would', 'token_id': 682, 'type': 'input', 'position': 264}, {'token': '▁pur', 'token_id': 3276, 'type': 'input', 'position': 265}, {'token': 'pos', 'token_id': 1065, 'type': 'input', 'position': 266}, {'token': 'ely', 'token_id': 723, 'type': 'input', 'position': 267}, {'token': '▁do', 'token_id': 511, 'type': 'input', 'position': 268}, {'token': '▁something', 'token_id': 1545, 'type': 'input', 'position': 269}, {'token': '▁per', 'token_id': 660, 'type': 'input', 'position': 270}, {'token': 'verse', 'token_id': 4177, 'type': 'input', 'position': 271}, {'token': '▁out', 'token_id': 575, 'type': 'input', 'position': 272}, {'token': '▁of', 'token_id': 302, 'type': 'input', 'position': 273}, {'token': '▁simple', 'token_id': 3588, 'type': 'input', 'position': 274}, {'token': '▁ing', 'token_id': 4155, 'type': 'input', 'position': 275}, {'token': 'rat', 'token_id': 5308, 'type': 'input', 'position': 276}, {'token': 'itude', 'token_id': 4484, 'type': 'input', 'position': 277}, {'token': ',', 'token_id': 28725, 'type': 'input', 'position': 278}, {'token': '▁simply', 'token_id': 3768, 'type': 'input', 'position': 279}, {'token': '▁to', 'token_id': 298, 'type': 'input', 'position': 280}, {'token': '▁gain', 'token_id': 8356, 'type': 'input', 'position': 281}, {'token': '▁his', 'token_id': 516, 'type': 'input', 'position': 282}, {'token': '▁point', 'token_id': 1305, 'type': 'input', 'position': 283}, {'token': '.', 'token_id': 28723, 'type': 'input', 'position': 284}, {'token': '▁And', 'token_id': 1015, 'type': 'input', 'position': 285}, {'token': '▁if', 'token_id': 513, 'type': 'input', 'position': 286}, {'token': '▁he', 'token_id': 400, 'type': 'input', 'position': 287}, {'token': '▁does', 'token_id': 1235, 'type': 'input', 'position': 288}, {'token': '▁not', 'token_id': 459, 'type': 'input', 'position': 289}, {'token': '▁find', 'token_id': 1300, 'type': 'input', 'position': 290}, {'token': '▁means', 'token_id': 2825, 'type': 'input', 'position': 291}, {'token': '▁he', 'token_id': 400, 'type': 'input', 'position': 292}, {'token': '▁will', 'token_id': 622, 'type': 'input', 'position': 293}, {'token': '▁cont', 'token_id': 679, 'type': 'input', 'position': 294}, {'token': 'rive', 'token_id': 6016, 'type': 'input', 'position': 295}, {'token': '▁destruction', 'token_id': 15788, 'type': 'input', 'position': 296}, {'token': '▁and', 'token_id': 304, 'type': 'input', 'position': 297}, {'token': '▁chaos', 'token_id': 21007, 'type': 'input', 'position': 298}, {'token': ',', 'token_id': 28725, 'type': 'input', 'position': 299}, {'token': '▁will', 'token_id': 622, 'type': 'input', 'position': 300}, {'token': '▁cont', 'token_id': 679, 'type': 'input', 'position': 301}, {'token': 'rive', 'token_id': 6016, 'type': 'input', 'position': 302}, {'token': '▁suffer', 'token_id': 13572, 'type': 'input', 'position': 303}, {'token': 'ings', 'token_id': 742, 'type': 'input', 'position': 304}, {'token': '▁of', 'token_id': 302, 'type': 'input', 'position': 305}, {'token': '▁all', 'token_id': 544, 'type': 'input', 'position': 306}, {'token': '▁sorts', 'token_id': 16971, 'type': 'input', 'position': 307}, {'token': ',', 'token_id': 28725, 'type': 'input', 'position': 308}, {'token': '▁only', 'token_id': 865, 'type': 'input', 'position': 309}, {'token': '▁to', 'token_id': 298, 'type': 'input', 'position': 310}, {'token': '▁gain', 'token_id': 8356, 'type': 'input', 'position': 311}, {'token': '▁his', 'token_id': 516, 'type': 'input', 'position': 312}, {'token': '▁point', 'token_id': 1305, 'type': 'input', 'position': 313}, {'token': '!', 'token_id': 28808, 'type': 'input', 'position': 314}, {'token': '▁He', 'token_id': 650, 'type': 'input', 'position': 315}, {'token': '▁will', 'token_id': 622, 'type': 'input', 'position': 316}, {'token': '▁launch', 'token_id': 8817, 'type': 'input', 'position': 317}, {'token': '▁a', 'token_id': 264, 'type': 'input', 'position': 318}, {'token': '▁curse', 'token_id': 27960, 'type': 'input', 'position': 319}, {'token': '▁upon', 'token_id': 3714, 'type': 'input', 'position': 320}, {'token': '▁the', 'token_id': 272, 'type': 'input', 'position': 321}, {'token': '▁world', 'token_id': 1526, 'type': 'input', 'position': 322}, {'token': ',', 'token_id': 28725, 'type': 'input', 'position': 323}, {'token': '▁and', 'token_id': 304, 'type': 'input', 'position': 324}, {'token': '▁as', 'token_id': 390, 'type': 'input', 'position': 325}, {'token': '▁only', 'token_id': 865, 'type': 'input', 'position': 326}, {'token': '▁man', 'token_id': 676, 'type': 'input', 'position': 327}, {'token': '▁can', 'token_id': 541, 'type': 'input', 'position': 328}, {'token': '▁curse', 'token_id': 27960, 'type': 'input', 'position': 329}, {'token': '▁(', 'token_id': 325, 'type': 'input', 'position': 330}, {'token': 'it', 'token_id': 279, 'type': 'input', 'position': 331}, {'token': '▁is', 'token_id': 349, 'type': 'input', 'position': 332}, {'token': '▁his', 'token_id': 516, 'type': 'input', 'position': 333}, {'token': '▁privilege', 'token_id': 23037, 'type': 'input', 'position': 334}, {'token': ',', 'token_id': 28725, 'type': 'input', 'position': 335}, {'token': '▁the', 'token_id': 272, 'type': 'input', 'position': 336}, {'token': '▁primary', 'token_id': 6258, 'type': 'input', 'position': 337}, {'token': '▁distinction', 'token_id': 20677, 'type': 'input', 'position': 338}, {'token': '▁between', 'token_id': 1444, 'type': 'input', 'position': 339}, {'token': '▁him', 'token_id': 713, 'type': 'input', 'position': 340}, {'token': '▁and', 'token_id': 304, 'type': 'input', 'position': 341}, {'token': '▁other', 'token_id': 799, 'type': 'input', 'position': 342}, {'token': '▁animals', 'token_id': 8222, 'type': 'input', 'position': 343}, {'token': '),', 'token_id': 557, 'type': 'input', 'position': 344}, {'token': '▁may', 'token_id': 993, 'type': 'input', 'position': 345}, {'token': '▁be', 'token_id': 347, 'type': 'input', 'position': 346}, {'token': '▁by', 'token_id': 486, 'type': 'input', 'position': 347}, {'token': '▁his', 'token_id': 516, 'type': 'input', 'position': 348}, {'token': '▁curse', 'token_id': 27960, 'type': 'input', 'position': 349}, {'token': '▁alone', 'token_id': 4411, 'type': 'input', 'position': 350}, {'token': '▁he', 'token_id': 400, 'type': 'input', 'position': 351}, {'token': '▁will', 'token_id': 622, 'type': 'input', 'position': 352}, {'token': '▁att', 'token_id': 998, 'type': 'input', 'position': 353}, {'token': 'ain', 'token_id': 426, 'type': 'input', 'position': 354}, {'token': '▁his', 'token_id': 516, 'type': 'input', 'position': 355}, {'token': '▁object', 'token_id': 1928, 'type': 'input', 'position': 356}, {'token': '--', 'token_id': 376, 'type': 'input', 'position': 357}, {'token': 'that', 'token_id': 6087, 'type': 'input', 'position': 358}, {'token': '▁is', 'token_id': 349, 'type': 'input', 'position': 359}, {'token': ',', 'token_id': 28725, 'type': 'input', 'position': 360}, {'token': '▁convince', 'token_id': 18951, 'type': 'input', 'position': 361}, {'token': '▁himself', 'token_id': 2722, 'type': 'input', 'position': 362}, {'token': '▁that', 'token_id': 369, 'type': 'input', 'position': 363}, {'token': '▁he', 'token_id': 400, 'type': 'input', 'position': 364}, {'token': '▁is', 'token_id': 349, 'type': 'input', 'position': 365}, {'token': '▁a', 'token_id': 264, 'type': 'input', 'position': 366}, {'token': '▁man', 'token_id': 676, 'type': 'input', 'position': 367}, {'token': '▁and', 'token_id': 304, 'type': 'input', 'position': 368}, {'token': '▁not', 'token_id': 459, 'type': 'input', 'position': 369}, {'token': '▁a', 'token_id': 264, 'type': 'input', 'position': 370}, {'token': '▁piano', 'token_id': 13221, 'type': 'input', 'position': 371}, {'token': '-', 'token_id': 28733, 'type': 'input', 'position': 372}, {'token': 'key', 'token_id': 1499, 'type': 'input', 'position': 373}, {'token': '!', 'token_id': 28808, 'type': 'input', 'position': 374}, {'token': '<0x0A>', 'token_id': 13, 'type': 'input', 'position': 375}, {'token': '<0x0A>', 'token_id': 13, 'type': 'output', 'position': 376}, {'token': 'He', 'token_id': 2428, 'type': 'output', 'position': 377}, {'token': '▁will', 'token_id': 622, 'type': 'output', 'position': 378}, {'token': ',', 'token_id': 28725, 'type': 'output', 'position': 379}, {'token': '▁in', 'token_id': 297, 'type': 'output', 'position': 380}], 'factors': [[[0.0, 0.01096211839467287, 0.0, 0.0, 0.0019756995607167482, 0.0, 0.0, 0.034127283841371536, 0.0, 0.03746922314167023, 0.0, 0.036119986325502396, 0.0, 0.0169236920773983, 0.0, 0.054468993097543716, 0.13989156484603882, 0.0337834507226944, 0.019338905811309814, 0.0359782800078392, 0.1764409840106964, 0.24551944434642792, 1.9108279047941323e-07, 0.0, 0.0, 0.0024956101551651955, 0.006888593081384897, 0.04920539632439613, 0.09850975126028061, 0.0, 0.09436550736427307, 0.0, 0.0, 0.0, 0.0, 0.0, 0.018087271600961685, 0.06174111366271973, 0.0, 0.032489463686943054, 0.0, 0.0, 0.0, 0.0, 0.0025241335388273, 0.09738899022340775, 0.009170346893370152, 0.0, 0.12282423675060272, 0.03733304888010025, 0.0, 0.0, 0.0, 0.0, 0.0, 0.03920840844511986, 0.0, 0.0, 0.0, 0.032138749957084656, 0.10350332409143448, 0.004062655381858349, 0.0, 0.0, 0.04328930377960205, 0.0, 0.0, 0.0, 0.0, 0.0, 0.0, 0.0, 0.0, 0.0, 0.0, 0.0, 0.0, 0.0, 0.0, 0.0, 0.0339575856924057, 0.01388009823858738, 0.13749170303344727, 0.1357874572277069, 0.022898517549037933, 0.03374036028981209, 0.10512576252222061, 0.16827420890331268, 0.0, 0.0, 0.0, 0.0, 0.0003451142692938447, 0.03640551492571831, 0.21643482148647308, 0.3858054280281067, 0.0403328575193882, 0.004546861629933119, 0.0, 0.07699806988239288, 0.3826338052749634, 0.006989149376749992, 0.02466067299246788, 0.0, 0.0, 0.3030182123184204, 0.30672287940979004, 0.47146496176719666, 0.3884584307670593, 0.026718754321336746, 0.0, 0.0, 0.0, 0.0, 0.11380241066217422, 0.20651531219482422, 0.07874895632266998, 0.0018742484971880913, 0.05892229080200195, 0.0, 0.01672869548201561, 0.19162586331367493, 0.20202015340328217, 0.33175548911094666, 0.2891697585582733, 0.06303033977746964, 0.061585959047079086, 0.0006928805378265679, 0.0, 0.26947110891342163, 0.35207322239875793, 0.08758383989334106, 0.06925150752067566, 0.2753692865371704, 0.18795059621334076, 0.0, 0.0, 0.0, 0.09477411955595016, 0.2968429625034332, 0.14463262259960175, 0.16217346489429474, 0.21163852512836456, 0.21016235649585724, 0.1334884911775589, 0.1675979644060135, 0.36210009455680847, 0.3411526083946228, 0.32427963614463806, 0.04069599136710167, 0.0, 0.019577985629439354, 0.16771207749843597, 0.14757418632507324, 0.39702633023262024, 0.35036152601242065, 0.03150099515914917, 0.15063267946243286, 0.3557632565498352, 0.12084165215492249, 0.3456858694553375, 0.1311984658241272, 0.02356293983757496, 0.044106025248765945, 0.03544744849205017, 0.03143666312098503, 0.05524423345923424, 0.07081523537635803, 0.036143604665994644, 0.0, 4.265219104127027e-05, 0.21548396348953247, 0.058188024908304214, 0.08537675440311432, 0.13241888582706451, 0.13899943232536316, 0.06571214646100998, 0.008851195685565472, 0.11564606428146362, 0.07056623697280884, 0.11981550604104996, 0.15012969076633453, 0.21371369063854218, 0.011454799212515354, 0.010035820305347443, 0.07919104397296906, 0.003162579145282507, 0.03192717581987381, 0.17799068987369537, 0.0, 0.06934966146945953, 0.09490138292312622, 0.14276309311389923, 0.0, 0.0025502117350697517, 0.00436521228402853, 0.0, 0.0, 0.0, 0.12122336775064468, 0.0, 0.11425996571779251, 0.0, 0.0, 0.02517395094037056, 0.006603669375181198, 0.024247704073786736, 0.16484573483467102, 0.0, 0.013020162470638752, 0.01080230250954628, 0.03796526789665222, 0.0, 0.02908741496503353, 0.0, 0.0, 0.07668426632881165, 0.06134625896811485, 0.08644752204418182, 0.0601077675819397, 0.12061363458633423, 0.012454304844141006, 0.0, 0.0032557197846472263, 0.16061201691627502, 0.15188385546207428, 0.1623561531305313, 0.043620094656944275, 0.0, 0.05659419298171997, 0.03978338465094566, 0.0, 0.0, 0.030666371807456017, 0.05787765607237816, 0.0618029423058033, 0.06917987018823624, 0.0, 0.0, 0.0, 0.0, 0.008860970847308636, 0.03668058663606644, 0.16762472689151764, 0.07555375248193741, 0.07213195413351059, 0.060031142085790634, 0.05794638767838478, 0.1502562165260315, 0.16494779288768768, 0.0, 0.06504067778587341, 0.02876405604183674, 0.0, 0.0, 0.0, 0.037132974714040756, 0.0038640208076685667, 0.008375123143196106, 0.0016020573675632477, 0.1252535730600357, 0.023565279319882393, 0.020398974418640137, 0.024513017386198044, 0.01178808230906725, 0.05379872024059296, 0.04569480940699577, 0.02778434194624424, 0.286747008562088, 0.2999993562698364, 0.18620751798152924, 0.0, 0.15166671574115753, 0.37789079546928406, 0.415346622467041, 0.05843929946422577, 0.018924487754702568, 0.0, 0.012321798130869865, 0.0036525807809084654, 0.08178839087486267, 0.26907458901405334, 0.3760526478290558, 0.08083599805831909, 0.0, 0.010535277426242828, 0.04057149216532707, 0.0, 0.04502055421471596, 0.019230257719755173, 0.1651841104030609, 0.037930678576231, 0.0, 0.003978394437581301, 0.0, 0.185021311044693, 0.02856980636715889, 0.15395601093769073, 0.0, 0.0, 0.010605291463434696, 0.0, 0.245937317609787, 0.07568472623825073, 0.029862530529499054, 0.20769502222537994, 0.20125384628772736, 0.0, 0.031070588156580925, 0.0, 0.0680958554148674, 0.23613835871219635, 0.40377405285835266, 0.04781080782413483, 0.0, 0.003677363507449627, 0.0, 0.2098091095685959, 0.2547385096549988, 0.04372508451342583, 0.13730491697788239, 0.16419179737567902, 0.0, 0.0, 0.0, 0.11877866834402084, 0.17961432039737701, 0.008459417149424553, 0.044951505959033966, 0.09367784857749939, 0.0, 0.04400239139795303, 0.1579986959695816, 0.3949308395385742, 0.04777664691209793, 0.06084587424993515, 0.2879296839237213, 0.2459191381931305, 0.05632695555686951, 0.13147646188735962, 0.04013790935277939, 0.11231638491153717, 0.1927841454744339, 0.0, 0.0, 0.025585558265447617, 0.028990013524889946, 0.11277446150779724, 0.2816101014614105, 0.015950990840792656, 0.012206572107970715, 0.0013727096375077963, 0.04320388287305832, 0.0, 0.25880488753318787, 0.3831244111061096, 0.029605628922581673, 0.0, 0.13689926266670227, 0.09762441366910934, 0.0614798329770565, 0.12522464990615845, 0.0655454471707344, 0.09646439552307129, 0.033708635717630386, 0.15516096353530884, 0.24463795125484467, 0.009296494536101818, 0.04528658464550972, 0.03081844188272953, 0.05138685554265976, 0.0, 0.0, 0.0, 0.0, 0.0, 0.0, 0.0020984450820833445, 0.0058234878815710545, 0.005562975537031889, 0.005997215863317251], [1.693670310487505e-05, 0.05092768743634224, 0.06789989024400711, 0.06089070066809654, 0.0403507761657238, 0.03782553970813751, 0.02203497849404812, 0.057585328817367554, 0.04370598495006561, 0.04168112948536873, 0.002210154663771391, 0.06534793227910995, 0.04741549864411354, 0.04194139316678047, 0.06311237812042236, 0.2030457854270935, 0.3700701892375946, 0.20968399941921234, 0.13335442543029785, 0.08145330846309662, 0.12812483310699463, 0.05922416225075722, 0.03459172323346138, 0.0, 0.0700361505150795, 0.029160279780626297, 0.0, 0.0, 0.0, 0.018644949421286583, 0.0, 0.0, 0.0, 0.0, 0.0, 0.0, 0.0, 0.09195911139249802, 0.05343993753194809, 0.0, 0.0, 0.0, 0.0, 0.0, 0.0, 0.006835002917796373, 0.07036753743886948, 0.0, 0.00617006653919816, 0.03620389848947525, 0.0, 0.006591649726033211, 0.0504838302731514, 0.0, 0.014558454044163227, 0.0913781002163887, 0.004552866797894239, 0.0, 0.0, 0.0, 0.05154271051287651, 0.017808757722377777, 0.0, 0.0, 0.0, 0.0, 0.0, 0.0, 0.01546880230307579, 0.0, 0.0, 0.0, 0.0, 0.05873418226838112, 0.04610484838485718, 0.036865465342998505, 0.09851276874542236, 0.14823079109191895, 0.09772337228059769, 0.12751804292201996, 0.03567323088645935, 0.026291675865650177, 0.046377189457416534, 0.0866226851940155, 0.06465940177440643, 0.057009257376194, 0.08587240427732468, 0.10436670482158661, 0.01673848181962967, 0.0, 0.0, 0.0, 0.0, 0.0, 0.0, 0.0, 0.0, 0.013063838705420494, 0.0, 0.0, 0.0, 0.0, 0.0, 0.0, 0.0, 0.016645580530166626, 0.0, 0.0, 0.01034690160304308, 0.0, 0.0, 0.0, 0.0, 0.0, 0.0, 0.047094084322452545, 0.13418367505073547, 0.07601119577884674, 0.09454545378684998, 0.0, 0.0, 0.0, 0.007830200716853142, 0.0, 0.0, 0.06446772813796997, 0.0729239210486412, 0.0, 0.0, 0.027261808514595032, 0.0, 0.058752741664648056, 0.11239729076623917, 0.02824648655951023, 0.03179290145635605, 0.0, 0.0, 0.0, 0.0, 0.0, 0.06887713819742203, 0.08486044406890869, 0.12112946063280106, 0.12024477124214172, 0.021912546828389168, 0.004172487650066614, 0.020235905423760414, 0.03680024668574333, 0.006001296918839216, 0.0, 0.0, 0.005458783358335495, 0.0, 0.0, 0.0, 0.007036695256829262, 0.0, 0.0, 0.010758836753666401, 0.07115745544433594, 0.037577785551548004, 0.05298156663775444, 0.0, 0.0, 0.0, 0.0, 0.0, 0.03568121790885925, 0.0, 0.0, 0.041237980127334595, 0.0, 0.0, 0.0, 0.0, 0.07924720644950867, 0.0, 0.0, 0.04631553217768669, 0.024988919496536255, 0.012522443197667599, 0.014143439941108227, 0.0177422147244215, 0.0, 0.0, 0.0, 0.049887947738170624, 0.05628189072012901, 0.19306723773479462, 0.05877133831381798, 0.15942543745040894, 0.8234707117080688, 0.6476582884788513, 0.5693873167037964, 1.0296318531036377, 1.2202955484390259, 0.8221544027328491, 0.7295833230018616, 0.5886697173118591, 0.5606746673583984, 0.3046667277812958, 0.4839724600315094, 0.4258507192134857, 0.052678897976875305, 0.08586711436510086, 0.35450008511543274, 0.23858295381069183, 0.21449297666549683, 0.07676038891077042, 0.2686075270175934, 0.2270825356245041, 0.41848811507225037, 0.2528386116027832, 0.3285517394542694, 0.1939467191696167, 0.49781304597854614, 0.23038269579410553, 0.00506133958697319, 0.3819148540496826, 0.5074822902679443, 0.4813273251056671, 0.2577494978904724, 0.0, 0.0, 0.013874547556042671, 0.0, 0.06837408244609833, 0.0, 0.0, 0.02078223042190075, 0.05362294241786003, 0.017825353890657425, 0.07317335158586502, 0.3565407991409302, 0.07959606498479843, 0.6870149374008179, 1.0224610567092896, 1.0928726196289062, 1.1379623413085938, 0.5890119671821594, 0.1844283789396286, 0.13110794126987457, 0.20942631363868713, 0.26946669816970825, 0.11455626785755157, 0.04911179840564728, 0.07419296354055405, 0.04060919210314751, 0.23654349148273468, 0.2884750962257385, 0.058099113404750824, 0.19496764242649078, 0.1771884709596634, 0.043301504105329514, 0.0031543553341180086, 0.07347860932350159, 0.0, 0.0, 0.0, 0.1365598887205124, 0.3240312933921814, 0.0940767377614975, 0.12313824892044067, 0.0, 0.0, 0.04104065150022507, 0.03364689648151398, 0.025424212217330933, 0.0, 0.0, 0.06597974896430969, 0.0, 0.0, 0.0, 0.0, 0.0, 0.022011838853359222, 0.0, 0.0, 0.05182968080043793, 0.0, 0.0, 0.0, 0.0, 0.0, 0.0, 0.07210052758455276, 0.03740676864981651, 0.029037751257419586, 0.02788040041923523, 0.033788420259952545, 0.006497850175946951, 0.007961906492710114, 0.026775017380714417, 0.0, 0.04959053918719292, 0.027449948713183403, 0.0, 0.0, 0.0, 0.0, 0.0, 0.013360255397856236, 0.014868310652673244, 0.0, 0.07479830086231232, 0.09431398659944534, 0.0, 0.0, 0.05732167884707451, 0.0, 0.0, 0.0, 0.0, 0.0, 0.0, 0.0, 0.07849151641130447, 0.19786685705184937, 0.025815974920988083, 0.058681413531303406, 0.2058279812335968, 0.025950025767087936, 0.0, 0.0, 0.051442328840494156, 0.08267228305339813, 0.03526682406663895, 0.032010260969400406, 0.021451175212860107, 0.10360555350780487, 0.03459833189845085, 0.0, 0.052011098712682724, 0.0, 0.006538098212331533, 0.11631552875041962, 0.13470877707004547, 0.0265174712985754, 0.22687968611717224, 0.08092320710420609, 0.5228033065795898, 0.41762199997901917, 0.06832893937826157, 0.0, 0.01293278019875288, 0.014408105053007603, 0.07001239061355591, 0.04311970993876457, 0.01002588588744402, 0.0, 0.0, 0.0, 0.020600175485014915, 0.0, 0.0017367867985740304, 0.0, 0.0022078384645283222, 0.0, 0.0, 0.0, 0.04173513501882553, 0.0, 0.02174510806798935, 0.02024916186928749, 0.09999773651361465, 0.30845654010772705, 0.08426618576049805, 0.12688347697257996, 0.7779261469841003, 1.071895718574524, 1.0202573537826538, 0.9854840636253357, 0.46220797300338745, 0.0, 0.0, 0.0, 0.09177538007497787, 0.029988056048750877, 0.0, 0.016613595187664032], [2.270293862238759e-06, 0.05391005426645279, 0.0730757787823677, 0.0852283388376236, 0.09615986049175262, 0.07669975608587265, 0.06908060610294342, 0.0978660136461258, 0.1096210852265358, 0.12263324856758118, 0.07480485737323761, 0.12512275576591492, 0.06900756806135178, 0.13556252419948578, 0.08888084441423416, 0.08300397545099258, 0.08229844272136688, 0.06712082773447037, 0.08791055530309677, 0.131927028298378, 0.1867963820695877, 0.1461307853460312, 0.07382743805646896, 0.09803125262260437, 0.1387360841035843, 0.29375597834587097, 0.24740070104599, 0.5049035549163818, 0.5863167643547058, 0.4102904498577118, 0.6086775660514832, 0.2626904547214508, 0.42209747433662415, 0.3855685591697693, 0.33988597989082336, 0.3730083107948303, 0.74271559715271, 0.5284484624862671, 0.3258541524410248, 0.6876856088638306, 0.23209995031356812, 0.392067551612854, 0.2990804612636566, 0.41787204146385193, 0.2457219362258911, 0.466836541891098, 0.23179104924201965, 0.25586435198783875, 0.4940730333328247, 0.33032819628715515, 0.25483277440071106, 0.26706627011299133, 0.2277287393808365, 0.2763311266899109, 0.527164101600647, 0.44033825397491455, 0.18741245567798615, 0.23842154443264008, 0.3740021288394928, 0.5586779117584229, 0.41677749156951904, 0.2380608767271042, 0.2309260219335556, 0.44476407766342163, 0.32042115926742554, 0.3964984118938446, 0.3138715922832489, 0.3129081428050995, 0.5171840786933899, 0.2558486759662628, 0.21335813403129578, 0.28848981857299805, 0.15668600797653198, 0.3975030481815338, 0.2693946659564972, 0.365559458732605, 0.31025078892707825, 0.30826038122177124, 0.2090943306684494, 0.3261600732803345, 0.21459892392158508, 0.28290417790412903, 0.421457439661026, 0.3223935067653656, 0.16153474152088165, 0.14920879900455475, 0.3183351755142212, 0.3155050277709961, 0.09966588020324707, 0.19143404066562653, 0.15139631927013397, 0.15775083005428314, 0.16485117375850677, 0.13096094131469727, 0.1565757542848587, 0.0771150290966034, 9.480690641794354e-05, 0.037995412945747375, 0.08918321877717972, 0.09228724986314774, 0.022357746958732605, 0.02751830220222473, 0.0629606693983078, 0.03671099618077278, 0.04856141656637192, 0.04558764770627022, 0.033624447882175446, 0.0, 0.0017810806166380644, 0.004534085281193256, 0.01585541106760502, 0.03925355151295662, 0.04493022710084915, 0.04023515060544014, 0.157831609249115, 0.2650614380836487, 0.22036278247833252, 0.09316844493150711, 0.22803063690662384, 0.050945866852998734, 0.05359996482729912, 0.1967882663011551, 0.17237554490566254, 0.13988159596920013, 0.21113207936286926, 0.1084023043513298, 0.07592444121837616, 0.06429100036621094, 0.05672288313508034, 0.10443399846553802, 0.08793243020772934, 0.1584177315235138, 0.1056324914097786, 0.147939532995224, 0.07531531155109406, 0.0, 0.026112841442227364, 0.0, 0.0, 0.07550698518753052, 0.1587546318769455, 0.22541576623916626, 0.2771141827106476, 0.18263570964336395, 0.10216467827558517, 0.037410274147987366, 0.0, 0.0, 0.0, 0.0, 0.0, 0.009534106589853764, 0.0, 0.0, 0.0, 0.0, 0.0, 0.011115425266325474, 0.008435056544840336, 0.040785230696201324, 0.04038161784410477, 0.031834591180086136, 0.0, 0.010481267236173153, 0.005033713299781084, 0.0, 0.0, 0.030552247539162636, 0.0, 0.0, 0.0, 0.0, 0.0, 0.0, 0.0, 0.043463561683893204, 0.0, 0.0, 0.0, 0.025170912966132164, 0.010226389393210411, 0.008778142742812634, 0.0202034842222929, 0.0, 0.0, 0.0, 0.0, 0.0, 0.0, 0.0, 0.0012444881722331047, 0.028569232672452927, 0.03820295259356499, 0.025360122323036194, 0.06141020357608795, 0.0, 0.0, 0.0, 0.0, 0.016360536217689514, 0.03333313390612602, 0.0900690108537674, 0.0, 0.035205770283937454, 0.0017671530367806554, 0.022167878225445747, 0.0, 0.0, 0.0, 0.04742683470249176, 0.04985571280121803, 0.03407715633511543, 0.02948353998363018, 0.027317671105265617, 0.011377004906535149, 0.032084476202726364, 0.13009005784988403, 0.025916023179888725, 0.1635204404592514, 0.04601838439702988, 0.044069260358810425, 0.025305720046162605, 0.0, 0.0, 0.0, 0.0, 0.0009929442312568426, 0.010301011614501476, 0.0, 0.05903124064207077, 0.10791701823472977, 0.014132821932435036, 0.034717682749032974, 0.005616919603198767, 0.02030929923057556, 0.03542930260300636, 0.0, 0.0, 0.0, 0.0, 0.0, 0.021593613550066948, 0.05608000606298447, 0.0, 0.0, 0.0, 0.05066686496138573, 0.0, 0.07694101333618164, 0.06700557470321655, 0.0, 0.035028208047151566, 0.043109241873025894, 0.0, 0.0, 0.02962326444685459, 0.0, 0.0, 0.0, 0.02283352240920067, 0.027573343366384506, 0.0, 0.021718014031648636, 0.0, 0.0, 0.0, 0.009585005231201649, 0.0, 0.0, 0.0, 0.0, 0.0, 0.003658018074929714, 0.0, 0.0, 0.0, 0.00464594317600131, 0.0, 0.0, 0.0, 0.0, 0.05034162849187851, 0.027690913528203964, 0.0, 0.0, 0.0, 0.043991073966026306, 0.0, 0.006549442652612925, 0.0, 0.058050669729709625, 0.007668069563806057, 0.00899688433855772, 0.0, 0.0, 0.034471943974494934, 0.0, 0.04161319136619568, 0.0, 0.004088524263352156, 0.0, 0.0, 0.04011909291148186, 0.10347360372543335, 0.05775297060608864, 0.12441494315862656, 0.1471174657344818, 0.0, 0.08002527058124542, 0.0014854660257697105, 0.0, 0.0330468975007534, 0.0, 0.0, 0.0, 0.0, 0.0, 0.08787347376346588, 0.05331353470683098, 0.026036260649561882, 0.14153748750686646, 0.12156358361244202, 0.0, 0.0, 0.0, 0.007288183085620403, 0.017168695107102394, 0.0, 0.01326550729572773, 0.0036722696386277676, 0.0, 0.0, 0.0, 0.0, 0.0, 0.0, 0.03880748897790909, 0.05619819089770317, 0.016125280410051346, 0.0396583192050457, 0.015336682088673115, 0.025085648521780968, 0.08333870023488998, 0.0024653696455061436, 0.008081316947937012, 0.0545598641037941, 0.02781079337000847, 0.04359031468629837, 0.026717012748122215, 0.021501684561371803, 0.010086258873343468, 0.0, 0.0, 0.0, 0.05384981632232666, 0.013752716593444347, 0.0, 0.0, 0.0, 0.0, 0.0, 0.010003932751715183, 0.0, 0.0, 0.0, 0.0, 0.0, 0.0, 0.0, 0.0, 0.0, 0.0, 0.0, 0.0, 0.0, 0.0, 0.0, 0.02978457324206829, 0.0, 0.0, 0.0], [1.5478453860851005e-05, 0.046019796282052994, 0.08863572776317596, 0.056935813277959824, 0.08751833438873291, 0.10232386738061905, 0.1630939543247223, 0.06337618082761765, 0.08005768805742264, 0.013888169080018997, 0.03481493517756462, 0.13029316067695618, 0.0731903687119484, 0.27883806824684143, 0.056738004088401794, 0.12776930630207062, 0.061503518372774124, 0.04834401234984398, 0.007540635298937559, 0.028089892119169235, 0.050219886004924774, 0.0, 0.03474957495927811, 0.42383643984794617, 0.17707058787345886, 0.09670448303222656, 0.19594688713550568, 0.07729627192020416, 0.0, 0.0, 0.0, 0.024672633036971092, 0.12357274442911148, 0.0, 0.10996420681476593, 0.0, 0.0, 0.0, 0.0, 0.0, 0.003838790114969015, 0.08256860822439194, 0.08454740047454834, 0.20048269629478455, 0.0, 0.0212142001837492, 0.0, 0.0, 0.0, 0.0, 0.0, 0.0, 0.0, 0.0, 0.004941732622683048, 0.0, 0.0, 0.25769278407096863, 0.1469959020614624, 0.047309957444667816, 0.0, 0.0, 0.0, 0.06594330817461014, 0.05433081090450287, 0.2086447775363922, 0.0, 0.0, 0.03506707027554512, 0.0, 0.0, 0.0, 0.0, 0.0, 0.0, 0.07365869730710983, 0.008431629277765751, 0.0, 0.0, 0.0, 0.039398595690727234, 0.0, 0.0003875647089444101, 0.0, 0.0, 0.026005573570728302, 0.10178480297327042, 0.0, 0.028668824583292007, 0.21353472769260406, 0.3292359709739685, 0.3507704734802246, 0.35669705271720886, 0.09851081669330597, 0.09067077189683914, 0.0, 0.0, 0.007296199444681406, 0.23206214606761932, 0.2586399018764496, 0.0, 0.0676165446639061, 0.2582954168319702, 0.03784472867846489, 0.0, 0.0, 0.0, 0.0, 0.0, 0.0, 0.5387689471244812, 0.09679839760065079, 0.0, 0.0012530350359156728, 0.07667931169271469, 0.002001684857532382, 0.0, 0.0, 0.0645417794585228, 0.0, 0.0, 0.06233026087284088, 0.0, 0.0, 0.0, 0.0, 0.0, 0.003917725291103125, 0.15604601800441742, 0.01377569418400526, 0.0, 0.0, 0.006082908250391483, 0.0, 0.0, 0.0, 0.13617363572120667, 0.0, 0.0, 0.03529422730207443, 0.16028691828250885, 0.06796085834503174, 0.0, 0.0, 0.03454134613275528, 0.05946987494826317, 0.019924312829971313, 0.0, 0.0, 0.05690259858965874, 0.5876415967941284, 0.16016007959842682, 0.29004645347595215, 0.1884053647518158, 0.027880175039172173, 0.0, 0.05498097091913223, 0.2061203569173813, 0.026706090196967125, 0.0, 0.0, 0.0, 0.03036007657647133, 0.17234353721141815, 0.006089956033974886, 0.0, 0.020957134664058685, 0.0, 0.04598364233970642, 0.21148081123828888, 0.0, 0.0, 0.0, 0.0, 0.13430511951446533, 0.24043630063533783, 0.12948723137378693, 0.3771030902862549, 0.32566195726394653, 0.26781201362609863, 0.08285734057426453, 0.07216674089431763, 0.003681696020066738, 0.07929385453462601, 0.2653037905693054, 0.37500789761543274, 0.08416815847158432, 0.05767694488167763, 0.16466565430164337, 0.08307183533906937, 0.22213634848594666, 0.06307301670312881, 0.016172105446457863, 0.0, 0.0, 0.0, 0.0, 0.09985169768333435, 0.08724430203437805, 0.06776734441518784, 0.015192685648798943, 0.08869306743144989, 0.0, 0.024508552625775337, 0.08028414845466614, 0.0, 0.0, 0.0, 0.06633920967578888, 0.27234360575675964, 0.23238955438137054, 0.06501463055610657, 0.022744234651327133, 0.03928488492965698, 0.015560364350676537, 0.0, 0.08763274550437927, 0.0, 0.06410403549671173, 0.006672161165624857, 0.0, 0.01854172721505165, 0.5534876585006714, 0.5013868808746338, 0.21942782402038574, 0.25145310163497925, 0.15841668844223022, 0.1491456776857376, 0.48924627900123596, 0.3479667603969574, 0.35816147923469543, 0.051401618868112564, 0.050918787717819214, 0.1183696761727333, 0.0, 0.08427902311086655, 0.0, 0.0, 0.0, 0.012478244490921497, 0.3721540570259094, 0.3242475092411041, 0.35716328024864197, 0.08783047646284103, 0.14821791648864746, 0.02795696072280407, 0.18460598587989807, 0.03802016004920006, 0.15620777010917664, 0.04987385496497154, 0.05281234532594681, 0.22905614972114563, 0.03004656359553337, 0.05390457808971405, 0.44729164242744446, 0.3352805972099304, 0.39410823583602905, 0.11124995350837708, 0.012263910844922066, 0.015955258160829544, 0.0669611245393753, 0.06300954520702362, 0.2803531587123871, 0.20082619786262512, 0.004540365654975176, 0.0, 0.0004001689376309514, 0.0, 0.03376999497413635, 0.0, 0.0, 0.0, 0.008820798248052597, 0.0, 0.0, 0.0, 0.006030155345797539, 0.03123096004128456, 0.14811989665031433, 0.0, 0.0, 0.043689921498298645, 0.0, 0.0, 0.5942255854606628, 0.47268375754356384, 0.38509401679039, 0.08164462447166443, 0.10311312973499298, 0.03371943533420563, 0.10310004651546478, 0.00548210833221674, 0.044393885880708694, 0.0, 0.0, 0.029671072959899902, 0.0, 0.07938109338283539, 0.0, 0.16075541079044342, 0.0, 0.0, 0.10169667750597, 0.028493110090494156, 0.0, 0.10606841742992401, 0.029941728338599205, 0.0, 0.10684487223625183, 0.014693377539515495, 0.0, 0.046900395303964615, 0.0, 0.02057560533285141, 0.5567378997802734, 0.10180140286684036, 0.0007016139570623636, 0.09113846719264984, 0.030502991750836372, 0.0, 0.2387860268354416, 0.05133618041872978, 0.025289710611104965, 0.18120121955871582, 0.2875969409942627, 0.2595110237598419, 0.26195767521858215, 0.05315158888697624, 0.03864765167236328, 0.1408393383026123, 0.46696311235427856, 0.14973048865795135, 0.26682502031326294, 0.029860543087124825, 0.048905082046985626, 0.332651287317276, 0.060724060982465744, 0.008882087655365467, 0.04431423172354698, 0.266246497631073, 0.08360954374074936, 0.17878121137619019, 0.0613926500082016, 0.06832601130008698, 0.34704092144966125, 0.24638323485851288, 0.16522100567817688, 0.08299588412046432, 0.05174266919493675, 0.11294412612915039, 0.17872284352779388, 0.05683838203549385, 0.0, 0.03978578373789787, 0.09800250083208084, 0.0, 0.025065135210752487, 0.37171241641044617, 0.29401856660842896, 0.24989882111549377, 0.2175428420305252, 0.23880857229232788, 0.09940546751022339, 0.393200159072876, 0.08982913941144943, 0.2042395919561386, 0.09536141902208328, 0.07517154514789581, 0.21189729869365692, 0.08661534637212753, 0.0, 0.0, 0.0, 0.0, 0.5465267300605774, 0.0, 0.0, 0.2569039463996887, 0.15059179067611694, 0.035063572227954865, 0.2706853747367859], [8.770449494477361e-05, 0.06206298992037773, 0.12610746920108795, 0.11604779958724976, 0.16634631156921387, 0.18935251235961914, 0.12214649468660355, 0.13475301861763, 0.14533185958862305, 0.1893470287322998, 0.3207641541957855, 0.051731571555137634, 0.25799161195755005, 0.027112435549497604, 0.10420209914445877, 0.07719568908214569, 0.0, 0.22379794716835022, 0.15840283036231995, 0.24533134698867798, 0.018494147807359695, 0.03644504025578499, 0.346142053604126, 0.0030525007750838995, 0.0, 0.09130392223596573, 0.04356563836336136, 0.0, 0.0, 0.11376265436410904, 0.0, 0.3057074546813965, 0.0, 0.0, 0.12236636132001877, 0.24142912030220032, 0.0, 0.0, 0.20234860479831696, 0.0, 0.2643304467201233, 0.0, 0.06823588162660599, 0.0009613098809495568, 0.34026649594306946, 0.0, 0.0929507240653038, 0.2908029556274414, 0.0, 0.0, 0.2757111191749573, 0.20667719841003418, 0.22902491688728333, 0.3412880003452301, 0.09398501366376877, 0.031071532517671585, 0.34432369470596313, 0.0, 0.06038093566894531, 0.0, 0.02822338230907917, 0.13672205805778503, 0.2820104956626892, 0.0, 0.10942023247480392, 0.0, 0.0456426702439785, 0.02739301323890686, 0.04764483496546745, 0.4042277932167053, 0.45051100850105286, 0.14159126579761505, 0.4451420307159424, 0.0, 0.2371356338262558, 0.0, 0.1543056219816208, 0.011594779789447784, 0.2595806419849396, 0.0, 0.1715436577796936, 0.18969623744487762, 0.0, 0.0, 0.11951278895139694, 0.21838434040546417, 0.0, 0.0, 0.32196044921875, 0.01662219874560833, 0.0, 0.0005787156405858696, 0.01035250537097454, 0.11397215723991394, 0.0, 0.0, 0.0, 0.06765084713697433, 0.1208740696310997, 0.0, 0.0, 0.2644258737564087, 0.01304719690233469, 0.08975469321012497, 0.0, 0.059005994349718094, 0.09033671766519547, 0.0, 0.04665622115135193, 0.37644460797309875, 0.0, 0.0411934033036232, 0.0, 0.0, 0.016285330057144165, 0.0, 0.009970453567802906, 0.26856720447540283, 0.0, 0.0, 0.0, 0.01787271723151207, 0.0, 0.0071510132402181625, 0.0010357003193348646, 0.10265901684761047, 0.13288383185863495, 0.3075038194656372, 0.0, 0.0, 0.0, 0.0773654505610466, 0.13760673999786377, 0.0, 0.11028479039669037, 0.32670149207115173, 0.0, 0.0, 0.0, 0.0560091994702816, 0.024140292778611183, 0.04736443981528282, 0.0, 0.04139634221792221, 0.19627737998962402, 0.2091151624917984, 0.023742128163576126, 0.053469762206077576, 0.08019810914993286, 0.36057141423225403, 0.0, 0.1460699439048767, 0.07166615128517151, 0.07712866365909576, 0.0, 0.08335369825363159, 0.4047430753707886, 0.05774419382214546, 0.0, 0.07851831614971161, 0.002643073443323374, 0.06301324814558029, 0.4048612713813782, 0.13370975852012634, 0.10821890085935593, 0.05690998584032059, 0.3378090560436249, 0.07867064327001572, 0.4081578850746155, 0.07189490646123886, 0.010235623456537724, 0.0, 0.20880281925201416, 0.0, 0.31285789608955383, 0.06755860149860382, 0.3809357285499573, 0.09179779142141342, 0.055256813764572144, 0.14177730679512024, 0.22697441279888153, 0.2593902349472046, 0.22917357087135315, 0.42663809657096863, 0.24121516942977905, 0.08399450778961182, 0.2417754977941513, 0.16399259865283966, 0.07690782099962234, 0.3924224376678467, 0.07691244781017303, 0.0, 0.0, 0.1781180053949356, 0.0, 0.0, 0.1425437182188034, 0.01902485266327858, 0.09177915751934052, 0.0, 0.23247767984867096, 0.0, 0.20769719779491425, 0.2506847381591797, 0.3708902895450592, 0.1307484358549118, 0.4349219501018524, 0.26063069701194763, 0.4293573498725891, 0.06773529946804047, 0.10648375004529953, 0.0813809335231781, 0.0844741240143776, 0.12449922412633896, 0.28919532895088196, 0.035769082605838776, 0.12590903043746948, 0.4830518364906311, 0.0035491478629410267, 0.0421694777905941, 0.03356112912297249, 0.2747451066970825, 0.0, 0.0, 0.049371786415576935, 0.08999127894639969, 0.12983334064483643, 0.29870840907096863, 0.0, 0.011511321179568768, 0.0, 0.15055708587169647, 0.09872730821371078, 0.10642771422863007, 0.507647693157196, 0.0, 0.0, 0.09129739552736282, 0.0, 0.24272248148918152, 0.0248781219124794, 0.048790596425533295, 0.004388718865811825, 0.025995755568146706, 0.1881590485572815, 0.4891156554222107, 0.19063834846019745, 0.5093504190444946, 0.0581965446472168, 0.07968857884407043, 0.4423254132270813, 0.07877248525619507, 0.16059529781341553, 0.43049123883247375, 0.02838205173611641, 0.06155211851000786, 0.04609634727239609, 0.0780559703707695, 0.0, 0.09348399192094803, 0.11528348922729492, 0.35578539967536926, 0.03906294330954552, 0.0, 0.0, 0.044664446264505386, 0.13978223502635956, 0.0, 0.09773638844490051, 0.16498583555221558, 0.07728584110736847, 0.29186537861824036, 0.11201727390289307, 0.0, 0.0, 0.0, 0.06750071793794632, 0.3393704891204834, 0.0, 0.0, 0.0, 0.11609064042568207, 0.03861077129840851, 0.4310472011566162, 0.0, 0.0, 0.00033430708572268486, 0.0954839289188385, 0.09490789473056793, 0.08302371948957443, 0.13647177815437317, 0.44840726256370544, 0.09858860075473785, 0.006093714851886034, 0.0, 0.10424267500638962, 0.34929078817367554, 0.0, 0.35320809483528137, 0.0, 0.0, 0.0, 0.0, 0.1573837399482727, 0.3225899636745453, 0.01569674164056778, 0.11544468253850937, 0.28667256236076355, 0.0, 0.024922143667936325, 0.0, 0.14383043348789215, 0.05265626683831215, 0.423443466424942, 0.0, 0.03977922350168228, 0.0, 0.051100146025419235, 0.0, 0.3564360737800598, 0.0, 0.0, 0.301891565322876, 0.0, 0.0, 0.040538668632507324, 0.0, 0.2454782873392105, 0.09969693422317505, 0.2749170660972595, 0.027546802535653114, 0.19933514297008514, 0.11195883899927139, 0.02464277483522892, 0.42946165800094604, 0.099465012550354, 0.004269961733371019, 0.09617692977190018, 0.3981302082538605, 0.0, 0.28312569856643677, 0.0, 0.011690274812281132, 0.3455052673816681, 0.024903206154704094, 0.04837886989116669, 0.09940741211175919, 0.0, 0.0, 0.1521405726671219, 0.12518201768398285, 0.1182224303483963, 0.050333037972450256, 0.05393288657069206, 0.10705617815256119, 0.046447694301605225, 0.43247556686401367, 0.05076289176940918, 0.056724827736616135, 0.1299019604921341, 0.0, 0.16559867560863495, 0.4268733561038971, 0.048937804996967316, 0.18773142993450165, 0.1143428236246109, 0.00847532320767641, 0.4040127098560333, 0.12126337736845016, 0.032690875232219696, 0.0, 0.061570316553115845, 0.015356662683188915, 0.3055342137813568, 0.0, 0.0, 0.0, 0.046612273901700974, 0.05127251148223877, 0.0, 0.06616681814193726], [0.0, 0.0050614019855856895, 0.0, 0.07147034257650375, 0.0, 0.0, 0.0, 0.03146855905652046, 0.07761254161596298, 0.05664099380373955, 0.0, 0.0, 0.008757174015045166, 0.0, 0.23454684019088745, 0.0754673182964325, 0.0033762624952942133, 0.04692324250936508, 0.02331712283194065, 0.0, 0.0, 0.0, 0.0, 0.0, 0.0, 0.0, 0.0, 0.0, 0.0, 0.0, 0.0, 0.0, 0.10825201123952866, 0.0733778178691864, 0.0, 0.0014823984820395708, 0.0, 0.0, 0.0, 0.0, 0.0, 0.14993491768836975, 0.040434546768665314, 0.0, 0.031056078150868416, 0.0, 0.0, 0.06554123759269714, 0.0, 0.0, 0.08421766012907028, 0.14188766479492188, 0.11389380693435669, 0.0, 0.0, 0.0, 0.0, 0.11331222951412201, 0.0, 0.0, 0.0, 0.0, 0.0, 0.038339294493198395, 0.0, 0.0, 0.3318953216075897, 0.32506704330444336, 0.06444654613733292, 0.0, 0.0, 0.24204374849796295, 0.0, 0.24669599533081055, 0.004061602521687746, 0.09853434562683105, 0.0, 0.0, 0.0, 0.14048871397972107, 0.02678203582763672, 0.08773785084486008, 0.01324229221791029, 0.01519282627850771, 0.0, 0.0, 0.0, 0.0, 0.0, 0.03812941163778305, 0.07895781844854355, 0.04450906440615654, 0.05576629936695099, 0.05492208153009415, 0.0, 0.0, 0.0, 0.0, 0.08147414028644562, 0.00956025905907154, 0.0, 0.0, 0.017924388870596886, 0.500160813331604, 0.6606919765472412, 0.04796507582068443, 0.0025868057273328304, 0.0, 0.0, 0.015413709916174412, 0.0, 0.40311792492866516, 0.6335524916648865, 0.6401846408843994, 0.20624274015426636, 0.01906822808086872, 0.0, 0.0, 0.0665893629193306, 0.5706295967102051, 0.5603652000427246, 0.030239539220929146, 0.06622160226106644, 0.008024412207305431, 0.0, 0.0, 0.0, 0.0, 0.08250643312931061, 0.012535213492810726, 0.02495410665869713, 0.013211004436016083, 0.0, 0.014992001466453075, 0.0, 0.0, 0.0, 0.0, 0.5438089370727539, 0.02971693128347397, 0.0, 0.0, 0.0, 0.0, 0.0, 0.0, 0.018697325140237808, 0.004460751079022884, 0.0, 0.0, 0.0, 0.13645493984222412, 0.01875913329422474, 0.0, 0.028942899778485298, 0.0, 0.039525195956230164, 0.0, 0.02507937140762806, 0.0, 0.013099955394864082, 0.0, 0.01327093131840229, 0.26888713240623474, 0.4949916899204254, 0.5813352465629578, 0.06752008199691772, 0.4281670153141022, 0.0, 0.0632314458489418, 0.0, 0.009618362411856651, 0.19318845868110657, 0.5827856063842773, 0.009137189015746117, 0.006960849277675152, 0.015506315976381302, 0.0, 0.0, 0.010856745764613152, 0.07923479378223419, 0.04128819704055786, 0.01432376354932785, 0.0, 0.0, 0.004863505717366934, 0.25022435188293457, 0.35161736607551575, 0.04510529711842537, 0.013423113152384758, 0.08397375047206879, 0.0, 0.0, 0.0, 0.0, 0.0, 0.0, 0.0, 0.12663373351097107, 0.0, 0.11141037195920944, 0.0, 0.18781845271587372, 0.03616200387477875, 0.0588105246424675, 0.3009333312511444, 0.017979927361011505, 0.04425811022520065, 0.018108293414115906, 0.030036823824048042, 0.035010356456041336, 0.13850602507591248, 0.36820653080940247, 0.20140685141086578, 0.16991914808750153, 0.30461540818214417, 0.00889154989272356, 0.0, 0.0033981173764914274, 0.11470293998718262, 0.02844676375389099, 0.0, 0.0, 0.007043346296995878, 0.03868952766060829, 0.03798185661435127, 0.04449675604701042, 0.0, 0.021701550111174583, 0.029711516574025154, 0.016042109578847885, 0.43628934025764465, 0.4200620949268341, 0.1594472974538803, 0.0, 0.0, 0.0, 0.0, 0.0, 0.005356995854526758, 0.030350524932146072, 0.00568467378616333, 0.0, 0.024273451417684555, 0.09250911325216293, 0.0, 0.02546733245253563, 0.0, 0.0, 0.0, 0.0023418620694428682, 0.03327951207756996, 0.0, 0.0160951167345047, 0.03257012739777565, 0.006819715723395348, 0.07666555047035217, 0.45085835456848145, 0.6741956472396851, 0.45104697346687317, 0.08703847974538803, 0.0, 0.030055977404117584, 0.3123181164264679, 0.660341739654541, 0.1366952359676361, 0.07686840742826462, 0.6178293228149414, 0.07161282747983932, 0.023087475448846817, 0.01063858438283205, 0.0, 0.004957582335919142, 0.0, 0.0, 0.0, 0.0, 0.0, 0.02779698185622692, 0.0, 0.5511746406555176, 0.04619718715548515, 0.019238227978348732, 0.0, 0.0, 0.01906571164727211, 0.026639530435204506, 0.4082253575325012, 0.3160671889781952, 0.4611649215221405, 0.05338790640234947, 0.03315601125359535, 0.3744828999042511, 0.6205605864524841, 0.17423343658447266, 0.07700826972723007, 0.015793977305293083, 0.23133957386016846, 0.0, 0.06852497160434723, 0.6265528798103333, 0.12617579102516174, 0.058313533663749695, 0.0, 0.0, 0.0, 0.0, 0.0, 0.0334213525056839, 0.01622401922941208, 0.5403069853782654, 0.0304329302161932, 0.006993090733885765, 0.002734126290306449, 0.0, 0.483475923538208, 0.6707255244255066, 0.03150339797139168, 0.03229011967778206, 0.0034305730368942022, 0.0, 0.0, 0.0, 0.13665740191936493, 0.23159928619861603, 0.02154839038848877, 0.0, 0.2667332887649536, 0.38211652636528015, 0.02077363058924675, 0.0, 0.134769007563591, 0.013902034610509872, 0.005966090597212315, 0.0, 0.0, 0.0, 0.0008025829447433352, 0.025493120774626732, 0.0, 0.02908881939947605, 0.0, 0.0, 0.0, 0.06803464889526367, 0.1729995459318161, 0.1457897424697876, 0.2670893669128418, 0.060806673020124435, 0.2869699001312256, 0.2780231833457947, 0.454105019569397, 0.6006096601486206, 0.07974378019571304, 0.022686099633574486, 0.01922421157360077, 0.01126618031412363, 0.015066872350871563, 0.014233771711587906, 0.020098773762583733, 0.20145916938781738, 0.0, 0.012093364261090755, 0.003434989135712385, 0.3234845995903015, 0.08960866928100586, 0.011483583599328995, 0.04855766519904137, 0.1272326111793518, 0.011804726906120777, 0.0, 0.0, 0.0, 0.009439414367079735, 0.0, 0.0, 0.0, 0.0, 0.28194379806518555, 0.58612459897995, 0.08256015181541443], [0.0005806675762869418, 0.0021852569188922644, 0.0014614287065342069, 0.002096518175676465, 0.0006420844583772123, 0.001375555875711143, 0.0011636493727564812, 0.0007810856914147735, 0.0008177304989658296, 0.0008809494320303202, 0.00043724823626689613, 0.000665375730022788, 0.00036311030271463096, 0.0004478094051592052, 0.0010269297054037452, 0.0004822082701139152, 0.0005921879201196134, 0.0008231632527895272, 0.0009510652162134647, 0.0006379629485309124, 0.0002051495830528438, 0.0, 0.0003434079699218273, 0.0, 0.00027036439860239625, 0.0, 8.982834697235376e-05, 0.0, 0.0, 5.680196773028001e-05, 0.0002116922551067546, 0.0, 0.0, 0.0, 2.986219806189183e-05, 0.0, 0.0, 0.0, 0.00019194241031073034, 0.0, 0.0001677776308497414, 0.0, 0.0, 0.0, 0.00011576114047784358, 0.0, 0.0002516191452741623, 0.000635957287158817, 0.0, 0.0, 0.0, 0.0, 0.00010141554230358452, 0.0, 2.4392954856011784e-07, 0.0002005116839427501, 0.0, 0.0, 0.0, 0.0, 0.0, 0.0005274518625810742, 0.0005374125321395695, 0.0, 0.0, 0.0, 7.49838218325749e-05, 2.599385697976686e-05, 0.0, 0.0, 0.0, 0.00023615056124981493, 0.0, 0.0, 0.0, 0.0, 0.0, 0.0, 0.0, 0.0, 0.0, 0.0, 0.0, 6.60734895063797e-06, 0.00011400381481507793, 0.0, 0.0, 0.0, 0.00011355523020029068, 0.0, 0.0, 0.0001117707506637089, 0.0, 0.0, 0.0, 0.0, 0.0, 0.000570116622839123, 0.0, 0.0, 0.0, 0.000361103389877826, 0.0, 0.0, 0.0, 3.945182834286243e-05, 0.000217775086639449, 0.0, 3.382738577784039e-05, 0.00027955195400863886, 0.0, 0.0002047062589554116, 2.0267723812139593e-05, 0.0003897110582329333, 0.0, 4.817766239284538e-05, 2.12277373066172e-05, 0.0, 0.0, 3.7469930248335004e-05, 0.0, 0.0, 8.706113294465467e-05, 0.0, 0.0, 0.00037795273237861693, 0.0, 0.0, 0.0, 7.918640039861202e-05, 0.0, 0.0, 0.0, 0.0, 0.0, 0.00015157679445110261, 0.0, 0.0, 0.0, 0.0, 0.0, 0.0, 0.0, 0.0, 0.0, 0.0, 0.00010333579120924696, 0.00019027554662898183, 0.0, 7.268002082128078e-05, 0.0, 7.09728556103073e-05, 0.0, 0.00010696785466279835, 0.0, 0.0, 1.9365674233995378e-05, 1.4005746379552875e-05, 0.0, 0.00030202322523109615, 7.949605787871405e-05, 0.00016682024579495192, 0.0, 0.0, 0.0, 0.0, 0.0, 3.257741991546936e-05, 0.0, 0.0, 0.00032677152194082737, 0.0, 0.0, 2.3480706659029238e-05, 0.0, 0.0002731514105107635, 0.0, 0.0001541659439681098, 0.0, 0.0, 0.0, 0.0, 0.0005597546114586294, 0.0, 0.0, 0.0, 0.0, 0.000126751241623424, 0.0, 0.0, 0.0, 0.0, 0.00012861860159318894, 9.250252333004028e-05, 0.0, 0.0, 4.600730972015299e-05, 0.0, 0.0, 7.479202395188622e-06, 0.0, 0.0, 0.00011454713239800185, 3.660890070023015e-05, 0.0, 0.0, 0.0, 0.0, 0.0, 0.0, 0.0, 1.397920186718693e-05, 1.887272810563445e-05, 1.6748768416618987e-07, 0.0, 0.00010632325574988499, 0.0, 0.0, 0.0, 7.348312647081912e-05, 0.0001366184587823227, 0.0, 0.0, 0.0, 0.0, 9.33665614866186e-06, 0.00013087698607705534, 0.0, 0.0, 0.0003701419336721301, 0.0, 0.0, 0.00013517036859411746, 0.0, 0.0, 0.0, 0.0, 0.0, 0.0, 0.0, 0.0, 6.732486508553848e-05, 0.0, 0.00014203904720488936, 0.0, 0.0, 0.00016560171206947416, 0.0, 0.0, 0.0, 0.0, 0.0, 7.547185668954626e-05, 0.00024161052715498954, 0.0, 0.0, 0.0, 0.0, 0.0, 0.0004956271732226014, 0.0, 0.0, 0.0, 0.0, 0.0, 0.0, 0.0004690161731559783, 0.0, 0.0, 0.0, 0.0, 0.0, 0.0, 0.0, 0.0, 0.0, 0.0, 0.0, 0.0, 3.7817066186107695e-05, 0.0, 2.0169236449874006e-05, 4.8895457439357415e-05, 0.0, 0.0, 0.0, 0.0, 0.0, 0.00029202550649642944, 6.630691495956853e-05, 3.6084647945244797e-06, 0.0, 0.0, 0.0, 0.0, 0.0002579540596343577, 0.0, 0.0, 0.0, 0.0, 0.0, 0.0, 4.2697029130067676e-05, 0.0, 0.0, 0.0, 4.535283369477838e-05, 0.000298580271191895, 0.0, 0.0, 0.0, 9.203744411934167e-05, 6.944459164515138e-05, 0.0, 0.0, 0.0, 0.0, 0.0, 0.0, 0.0, 0.0, 2.999828393512871e-05, 0.0, 0.0, 0.0, 3.4346292522968724e-05, 0.0, 0.0, 0.0, 0.0, 0.00014808165724389255, 0.00022280139091890305, 0.0, 0.0, 0.0, 0.0, 8.8794486146071e-06, 0.0, 0.00013028367538936436, 0.0, 0.0, 0.0, 0.0, 8.293743303511292e-05, 0.0, 0.0, 0.0, 0.0, 0.0, 0.0, 0.0, 0.0, 0.0, 0.0, 0.0, 0.0, 0.0, 7.456616731360555e-05, 0.0001257125404663384, 0.0, 0.0, 0.0, 0.0, 0.0, 0.0, 0.0, 0.0, 0.0, 0.0, 0.0, 0.0, 0.0, 0.00012538477312773466, 0.0, 0.0, 20.74680519104004, 20.74680519104004, 0.0004046665853820741, 0.00023387407418340445, 0.0, 0.0], [7.409038062178297e-06, 0.0, 0.0, 0.0, 0.0, 0.0, 0.0, 0.0, 0.0, 0.0, 0.0, 0.0, 0.0, 0.0, 0.0, 0.0, 0.0, 0.0, 0.0, 0.0, 0.0, 0.0, 0.021139109507203102, 0.0, 0.0, 0.0, 0.0, 0.0, 0.0, 0.0, 0.0, 0.024098923429846764, 0.06314776092767715, 0.017174698412418365, 0.0, 0.011070841923356056, 0.0, 0.0, 0.00875538308173418, 0.0, 0.027624215930700302, 0.03947294130921364, 0.03936995938420296, 0.0, 0.0, 0.010610267519950867, 0.0, 0.0, 0.0, 0.0, 0.0, 0.0, 0.0, 0.0, 0.0, 0.0, 0.0, 0.017492763698101044, 0.0, 0.0, 0.0, 0.0, 0.04822471737861633, 0.0663510411977768, 0.03855513408780098, 0.0, 0.0, 0.0, 0.0, 0.0, 0.0, 0.0, 0.0, 0.028944142162799835, 0.018885931000113487, 0.06151757761836052, 0.01783374324440956, 0.010977809317409992, 0.013072483241558075, 0.015366391278803349, 0.0, 0.018995672464370728, 0.0, 0.0, 0.0, 0.0, 0.0, 0.0, 0.029158050194382668, 0.09417006373405457, 0.0, 0.036847349256277084, 0.0007515742327086627, 0.04149254038929939, 0.03417595848441124, 0.07446878403425217, 0.0, 0.0, 0.036008723080158234, 0.12667857110500336, 0.07257603853940964, 0.09136112034320831, 0.12680767476558685, 0.0015347679145634174, 0.0, 0.0, 0.0, 0.0, 0.0, 0.1327703297138214, 0.0, 0.0, 0.0004874670703429729, 0.0009915990522131324, 0.02901151031255722, 0.0, 0.0, 0.12631049752235413, 0.02178483083844185, 0.019131341949105263, 0.02649463526904583, 0.07403870671987534, 0.015172301791608334, 0.020572762936353683, 0.025716550648212433, 0.0, 0.001461992273107171, 0.23906946182250977, 0.4076956808567047, 0.038640547543764114, 0.029688263311982155, 0.0, 0.0, 0.03093729540705681, 0.010860741138458252, 0.32529759407043457, 0.535203218460083, 0.8715977072715759, 0.0862506777048111, 0.04394000768661499, 0.0, 0.0, 0.00025448205997236073, 0.0, 0.008869266137480736, 0.0436321496963501, 0.0, 0.0, 0.0, 0.09537144005298615, 0.01673966832458973, 0.0, 0.008137403056025505, 0.12417475879192352, 0.0019152690656483173, 0.0, 0.02651372179389, 0.10809620469808578, 0.011569851078093052, 0.0, 0.0026714412961155176, 0.0, 0.06783608347177505, 0.0, 0.015089210122823715, 0.012560660019516945, 0.17054033279418945, 0.0, 0.13052110373973846, 0.31612029671669006, 0.7257578372955322, 0.3226308226585388, 0.22401775419712067, 0.023589294403791428, 0.0, 0.0, 0.0, 0.06870453804731369, 0.0, 0.0, 0.0, 0.0, 0.0, 0.019770849496126175, 0.0496763214468956, 0.0, 0.0, 0.0, 0.0, 0.04968312010169029, 0.0, 0.0, 0.0, 0.0, 0.0, 0.0, 0.0029479532968252897, 0.09454315900802612, 0.0, 0.0, 0.0, 0.0, 0.0, 0.0, 0.0, 0.0, 0.0, 0.0, 0.013757959008216858, 0.0, 0.0, 0.0, 0.0, 0.0, 0.013655728660523891, 0.0, 0.0, 0.0, 0.03115399181842804, 0.030595004558563232, 0.008565970696508884, 0.011638586409389973, 0.0, 0.025598999112844467, 0.0037419721484184265, 0.0, 0.0, 0.0, 0.05072047561407089, 0.05248835310339928, 0.0, 0.0, 0.0, 0.0, 0.0, 0.03333214670419693, 0.0, 0.0, 0.0, 0.010324585251510143, 0.04627261683344841, 0.06476852297782898, 0.0, 0.0, 0.0, 0.0, 0.0, 0.0, 0.0, 0.0, 0.01897861249744892, 0.0, 0.0, 0.028541898354887962, 0.056338436901569366, 0.06890588998794556, 0.02260660193860531, 0.01947273313999176, 0.024896949529647827, 0.0, 0.0, 0.08891434967517853, 0.14467918872833252, 0.12158194184303284, 0.04200153052806854, 0.028754832223057747, 0.03306411951780319, 0.04761449247598648, 0.05750281363725662, 0.10986641049385071, 0.023432442918419838, 0.3772258162498474, 0.18968667089939117, 0.14319749176502228, 0.1829894334077835, 0.0, 0.0, 0.1786649078130722, 0.501899003982544, 0.7381013035774231, 0.05886415019631386, 0.008086026646196842, 0.0, 0.06591949611902237, 0.0, 0.023390984162688255, 0.0, 0.0, 0.0, 0.0, 0.0, 0.03100530616939068, 0.015298731625080109, 0.011831315234303474, 0.0, 0.02438928931951523, 0.1561920940876007, 0.10253079980611801, 0.2996436059474945, 0.4970664978027344, 0.06980497390031815, 0.0, 0.10294312238693237, 0.036069825291633606, 0.19028528034687042, 0.041819483041763306, 0.017504286020994186, 0.40140366554260254, 0.45691588521003723, 0.6676440238952637, 0.09095916152000427, 0.020343350246548653, 0.0, 0.09252527356147766, 0.0011922516860067844, 0.016701560467481613, 0.045390933752059937, 0.03328647091984749, 0.01911398395895958, 0.1287955492734909, 0.0, 0.0, 0.26434725522994995, 0.3926204442977905, 0.10596925020217896, 0.0, 0.014850386418402195, 0.0, 0.0, 0.01126954983919859, 0.026886753737926483, 0.0, 0.0, 0.0, 0.021242210641503334, 0.059193868190050125, 0.0, 0.0, 0.0, 0.0, 0.0, 0.0, 0.0, 0.011283581145107746, 0.10011869668960571, 0.0, 0.03041463904082775, 0.043471258133649826, 0.001999954227358103, 0.016093702986836433, 0.01756156049668789, 0.0, 0.0, 0.0, 0.0, 0.0, 0.07409568130970001, 0.17848961055278778, 0.010120457038283348, 0.01542521733790636, 0.11244494467973709, 0.0, 0.007365732919424772, 0.0, 0.0, 0.0, 0.0, 0.03234381973743439, 0.0, 0.03094288893043995, 0.0, 0.0, 0.006537840701639652, 0.030501246452331543, 0.0, 0.0, 0.0, 0.0, 0.0, 0.01108494121581316, 0.12712329626083374], [1.6527981642866507e-05, 0.09874849766492844, 0.15808559954166412, 0.10879110544919968, 0.11280267685651779, 0.0882534310221672, 0.07638393342494965, 0.06476312130689621, 0.07094195485115051, 0.05285624787211418, 0.046349916607141495, 0.02571736089885235, 0.1160474643111229, 0.009112915955483913, 0.0, 0.0, 0.0068403491750359535, 0.024716917425394058, 0.3587188720703125, 0.08212576061487198, 0.016975535079836845, 0.028895093128085136, 0.015882238745689392, 0.036573249846696854, 0.3376900255680084, 0.11715018004179001, 0.03392262011766434, 0.0, 0.0, 0.13406728208065033, 0.0, 0.0, 0.0, 0.3914802670478821, 0.030158668756484985, 0.0, 0.0, 0.0, 0.05181395262479782, 0.0, 0.03823212534189224, 0.0, 0.18320858478546143, 0.0, 0.0, 0.0, 0.3233136832714081, 0.006494339555501938, 0.0, 0.38537946343421936, 0.047715164721012115, 0.007085239980369806, 0.005425846204161644, 0.0, 0.01551807764917612, 0.017192864790558815, 0.01574668474495411, 0.0, 0.003484203480184078, 0.0, 0.031281497329473495, 0.25355714559555054, 0.0, 0.0, 0.003578570671379566, 0.0, 0.0, 0.0, 0.0, 0.0, 0.0, 0.0, 0.0, 0.0, 0.05609196051955223, 0.020938066765666008, 0.07918397337198257, 0.32598015666007996, 0.0734315812587738, 0.04470313340425491, 0.11990538984537125, 0.006520770024508238, 0.0, 0.0, 0.3869187533855438, 0.07124804705381393, 0.0, 0.0, 0.015252143144607544, 0.0, 0.0, 0.00580593990162015, 0.0, 0.2493446171283722, 0.10844548791646957, 0.07293696701526642, 1.1482445001602173, 0.871724545955658, 0.08941888809204102, 0.0892469584941864, 0.1491670161485672, 0.19537171721458435, 0.05830737203359604, 0.06603319197893143, 0.04131922125816345, 0.1383325308561325, 0.11684321612119675, 0.09004015475511551, 0.1284322440624237, 0.0657876506447792, 0.022683102637529373, 0.022441044449806213, 0.024302709847688675, 0.03965006023645401, 0.0, 0.0, 0.30388858914375305, 0.05946079641580582, 0.030274635180830956, 0.03650132566690445, 0.07448581606149673, 0.0, 0.0, 0.0, 0.0, 0.3609297573566437, 0.374286413192749, 0.03293841332197189, 0.0, 0.0, 0.0, 0.3408546447753906, 0.24081936478614807, 0.00857616774737835, 0.15625126659870148, 0.0, 0.0, 0.0, 0.0, 0.0, 0.0, 0.0, 0.0, 0.004469655454158783, 0.0671432837843895, 0.0003038907016161829, 0.0, 0.030217286199331284, 0.07018277794122696, 0.006972913164645433, 0.000475133303552866, 0.05442684888839722, 0.0, 0.027773045003414154, 0.0, 0.05163826048374176, 0.011121833696961403, 0.0, 0.0, 0.3684333264827728, 0.062140971422195435, 0.5244567394256592, 0.021503852680325508, 0.0, 0.0, 0.014875208027660847, 0.0, 0.0, 0.0, 0.0, 0.0040228222496807575, 0.14254215359687805, 0.0, 0.0, 0.0, 0.0, 0.0, 0.030050061643123627, 0.016742713749408722, 0.0, 0.0, 0.0, 0.029099134728312492, 0.007738576270639896, 0.01688736118376255, 0.0, 0.0, 0.0, 0.0, 0.0, 0.0, 0.0, 0.0, 0.10475588589906693, 0.005488528870046139, 0.0, 0.035768698900938034, 0.0, 0.0, 0.0, 0.039932336658239365, 0.0167558491230011, 0.004475302528589964, 0.33493804931640625, 0.0, 0.0, 0.0, 0.0, 0.0, 0.0, 0.0, 0.0, 0.0, 0.0, 0.0, 0.0, 0.0, 0.0, 0.0, 0.0017533813370391726, 0.0028319021221250296, 0.06253466755151749, 0.014376819133758545, 0.016497714444994926, 0.0, 0.0, 0.0, 0.027359673753380775, 0.0, 0.0, 0.0, 0.005090361926704645, 0.0, 0.0, 0.0, 0.0, 0.0, 0.01202801987528801, 0.07869088649749756, 0.025748558342456818, 0.0, 0.018439384177327156, 0.0, 0.0, 0.0, 0.0, 0.0, 0.0, 0.0, 0.046033237129449844, 0.0, 0.0, 0.29282769560813904, 0.0, 0.0, 0.0274158027023077, 0.0, 0.0, 0.02211601845920086, 0.0, 0.0, 0.0, 0.008334034122526646, 0.0, 0.022263702005147934, 0.6016348600387573, 0.45053935050964355, 0.05367237702012062, 0.033237431198358536, 0.0, 0.38532754778862, 0.0, 0.22883661091327667, 0.09209216386079788, 0.06926507502794266, 1.1437790393829346, 0.8505141735076904, 0.07402223348617554, 0.017190421000123024, 0.00872345082461834, 0.0, 0.0, 0.0, 0.019094260409474373, 0.00215631490573287, 0.016900017857551575, 0.0, 0.0, 0.013594564981758595, 0.010848082602024078, 0.0, 0.03273891285061836, 0.09834345430135727, 0.14737312495708466, 1.3270787000656128, 0.14588423073291779, 0.06770416349172592, 0.0, 0.025447817519307137, 0.0, 0.04703798145055771, 1.2617170810699463, 0.0, 0.20239436626434326, 0.0, 0.0, 0.007362218573689461, 0.0, 0.0, 0.0, 0.0, 0.007985517382621765, 0.003741155145689845, 0.0, 0.016863465309143066, 0.0, 0.0, 0.033401958644390106, 0.016604745760560036, 0.03971140831708908, 0.0, 0.0, 0.0, 0.0, 0.0, 0.04871788248419762, 0.0, 0.0658034235239029, 0.0389392115175724, 0.009433711878955364, 0.020996781066060066, 0.02565249614417553, 0.0, 0.0, 0.012019265443086624, 0.0, 0.0, 0.008223272860050201, 0.03896869719028473, 0.0, 0.022192247211933136, 0.0, 0.0, 0.020798062905669212, 0.0, 0.0544646717607975, 0.02584346942603588, 0.0, 0.0, 0.010640011169016361, 0.0023151894565671682, 0.0, 0.0, 0.8602194786071777, 0.0, 0.0, 0.009968976490199566, 0.01373329758644104, 0.0, 0.004605016205459833, 0.0, 0.0, 0.0, 0.0, 0.0, 0.0, 0.0, 0.0, 0.0, 0.0, 0.0, 0.06341803818941116, 0.12314345687627792, 0.0, 0.0346415713429451, 0.0, 0.0, 0.16197125613689423, 0.06103118136525154, 0.010012868791818619, 0.020191997289657593], [14.363828659057617, 0.0, 0.0, 0.0, 0.0, 0.0, 0.0, 0.0, 0.0, 0.0, 0.0, 0.0, 0.0, 0.0, 0.0, 0.0, 0.0, 0.0, 0.0, 0.0, 0.0, 0.00014994230878073722, 0.0, 5.711354242521338e-05, 0.0, 0.00034067616797983646, 0.0, 2.3554048311780207e-05, 0.00013707161997444928, 2.4579641831223853e-05, 0.0, 0.0, 0.0, 0.0002541780413594097, 0.0, 2.9768667445750907e-05, 3.1205367122311145e-05, 0.0, 0.0, 1.3727893929171842e-05, 0.0, 0.0, 0.0, 1.7519116113362543e-07, 0.0, 0.00048533748486079276, 0.0, 0.0, 0.0005421670502983034, 0.0, 0.0005514025106094778, 4.0194288430939196e-07, 0.0, 0.0, 0.0, 0.0, 0.0, 0.0, 3.930914681404829e-05, 0.0, 0.0, 0.0, 0.0, 0.0, 0.0, 0.0, 0.0, 0.0, 0.0, 0.0, 0.0, 0.0, 0.0, 9.033575042849407e-05, 0.0, 4.136053757974878e-05, 5.055172778156702e-07, 0.0, 5.501066198121407e-07, 7.455749437212944e-05, 3.9386970456689596e-05, 3.6104131140746176e-05, 0.0, 0.0, 0.0, 3.863630990963429e-05, 0.0002967194886878133, 3.5761735489359125e-05, 0.0, 0.0, 0.0, 0.0, 0.00021559096057899296, 0.0, 0.0, 0.0, 0.0, 0.0, 0.00010379796731285751, 0.0, 0.0, 0.0, 1.3217803825682495e-05, 7.100350194377825e-05, 8.154477654898074e-06, 0.0, 0.0, 0.0, 0.0, 0.0, 0.0, 0.0, 0.0, 0.0, 6.58007338643074e-05, 0.0, 0.0, 0.00024811457842588425, 7.975581684149802e-05, 0.0, 4.71367638965603e-06, 0.0, 0.0, 2.9564964279416017e-05, 4.7917128540575504e-05, 0.0, 1.1462427664810093e-06, 0.0, 0.0, 0.0, 0.0, 1.3106809092278127e-05, 0.0, 6.820530688855797e-05, 0.0002241034817416221, 0.0, 0.0, 0.0, 0.0, 2.3601507564308122e-05, 0.0, 0.0, 0.0, 9.680796938482672e-05, 0.0, 5.0486363761592656e-05, 0.0, 0.0, 0.00023076079378370196, 0.0, 0.0, 0.0, 0.0, 0.0, 0.0001838358584791422, 0.00011769129196181893, 0.0, 0.0, 0.0, 0.0, 0.0, 0.0, 0.000738241127692163, 8.860019079293124e-06, 0.0, 0.0, 0.0, 0.0, 0.0, 0.0, 0.0, 0.00010912353172898293, 0.0, 0.00011376570182619616, 0.0, 0.0, 0.0, 0.0, 0.0, 0.0, 0.0, 0.0, 0.0, 2.9019140129094012e-05, 3.694691258715466e-05, 0.00027597404550760984, 0.0003155382291879505, 0.0, 0.0, 0.0, 0.0, 0.0, 0.0, 0.0, 0.00035884982207790017, 0.0, 0.0, 0.0, 0.0, 5.526497261598706e-05, 3.614080196712166e-05, 0.0006874616956338286, 0.0, 0.0, 0.0, 1.049036109179724e-05, 3.205534812877886e-05, 0.0, 0.0, 0.0, 5.1190554586355574e-06, 0.00032273962278850377, 0.0, 0.0, 0.0, 0.0, 6.075033525121398e-05, 1.773392978066113e-05, 0.00026059546507894993, 0.0, 0.0, 0.00010186211875407025, 0.0, 0.0, 0.00013694939843844622, 0.0, 0.0, 0.0, 1.1720767361111939e-05, 0.0, 0.0004392360569909215, 0.0, 0.0, 0.0, 0.0, 1.8949267541756853e-05, 0.0, 0.0, 0.0, 2.6560355763649568e-05, 0.0, 0.0, 0.0, 0.0, 0.0, 0.0, 0.0, 0.0, 0.0, 0.0001169992028735578, 3.7842833989998326e-05, 4.20733485952951e-05, 0.0, 0.0, 3.926184035663027e-06, 4.092649760423228e-05, 0.0001030296552926302, 3.0419490940403193e-05, 8.478019299218431e-05, 0.0, 0.0, 9.558926103636622e-05, 0.0, 8.201539458241314e-05, 0.0, 0.0, 0.00028942327480763197, 0.00014745231601409614, 0.0, 2.080122612824198e-05, 0.0001331773237325251, 0.0003387870383448899, 0.0, 0.0, 0.0, 0.0, 0.0004720694851130247, 0.00014759037003386766, 0.0, 0.0, 0.0, 0.0, 0.0, 0.0, 0.0, 0.0, 0.0, 0.0, 0.0, 0.0, 4.474718480196316e-06, 0.0, 5.5526568758068606e-05, 1.0118979844264686e-05, 0.0, 0.0004407161904964596, 0.00026619911659508944, 0.0001516118209110573, 4.966903361491859e-05, 0.0, 1.6171443348866887e-05, 0.0, 0.0005029174499213696, 7.56992885726504e-05, 3.937856308766641e-05, 0.0, 0.0, 0.0001222500141011551, 7.477955659851432e-05, 0.00015730377344880253, 0.0, 0.0, 0.0, 0.0, 1.0754209142760374e-05, 3.440911086727283e-06, 0.0, 6.045856571290642e-05, 0.0001018363400362432, 0.00012560756294988096, 0.0, 0.0, 0.00010334674880141392, 7.567080615444866e-07, 8.316610910696909e-05, 0.0, 0.0003884850593749434, 0.0, 0.0, 8.075447112787515e-05, 0.0, 0.0, 0.0, 0.0, 0.0, 0.0, 0.0, 0.00014740390179213136, 0.0, 0.0, 0.0001582457043696195, 9.027755731949583e-05, 0.0, 0.0, 4.370721217128448e-05, 3.4731583582470194e-05, 0.00012295064516365528, 0.0, 1.6667205272824503e-05, 0.00021228555124253035, 7.867696695029736e-05, 3.8579939428018406e-05, 0.0, 0.0, 0.0, 0.0, 0.0, 0.0, 0.0, 2.7538499125512317e-05, 0.0, 7.029861444607377e-05, 0.0, 0.0, 4.9875812692334875e-05, 1.756457277224399e-05, 0.0, 0.0, 3.7043257179902866e-05, 8.004499250091612e-05, 0.0, 4.6330536861205474e-05, 0.0, 8.419777441304177e-05, 4.228136094752699e-05, 1.1470402479171753, 1.1470402479171753, 0.0, 0.0, 0.0, 0.00010058989573735744]]]},\n",
       "            {\n",
       "            'hltrCFG': {'tokenization_config': {\"token_prefix\": \"\\u2581\", \"partial_token_prefix\": \"\"}\n",
       "                }\n",
       "            })\n",
       "         }, function (err) {\n",
       "            console.log(err);\n",
       "        })"
      ],
      "text/plain": [
       "<IPython.core.display.Javascript object>"
      ]
     },
     "metadata": {},
     "output_type": "display_data"
    }
   ],
   "source": [
    "nmf_2.explore()"
   ]
  },
  {
   "cell_type": "code",
   "execution_count": null,
   "metadata": {
    "id": "7LQfXD3eOWxl"
   },
   "outputs": [],
   "source": []
  }
 ],
 "metadata": {
  "colab": {
   "authorship_tag": "ABX9TyPmJKrIc0IYQIFXXYX/qew/",
   "collapsed_sections": [],
   "include_colab_link": true,
   "name": "05- Neuron Factors.ipynb",
   "provenance": []
  },
  "kernelspec": {
   "display_name": "Python 3 (ipykernel)",
   "language": "python",
   "name": "python3"
  },
  "language_info": {
   "codemirror_mode": {
    "name": "ipython",
    "version": 3
   },
   "file_extension": ".py",
   "mimetype": "text/x-python",
   "name": "python",
   "nbconvert_exporter": "python",
   "pygments_lexer": "ipython3",
   "version": "3.11.4"
  },
  "widgets": {
   "application/vnd.jupyter.widget-state+json": {
    "04550a80c96640d0b01cb876dea746e3": {
     "model_module": "@jupyter-widgets/controls",
     "model_name": "HBoxModel",
     "state": {
      "_dom_classes": [],
      "_model_module": "@jupyter-widgets/controls",
      "_model_module_version": "1.5.0",
      "_model_name": "HBoxModel",
      "_view_count": null,
      "_view_module": "@jupyter-widgets/controls",
      "_view_module_version": "1.5.0",
      "_view_name": "HBoxView",
      "box_style": "",
      "children": [
       "IPY_MODEL_c03bf0251bc147ba9243489f226f7085",
       "IPY_MODEL_e1e830f76b144f2b8c5f8a9ee8a7f314"
      ],
      "layout": "IPY_MODEL_f689ef73a988435b80dcd4491a00acc7"
     }
    },
    "0b02ab17c4044986a4e60aa8278069ca": {
     "model_module": "@jupyter-widgets/controls",
     "model_name": "FloatProgressModel",
     "state": {
      "_dom_classes": [],
      "_model_module": "@jupyter-widgets/controls",
      "_model_module_version": "1.5.0",
      "_model_name": "FloatProgressModel",
      "_view_count": null,
      "_view_module": "@jupyter-widgets/controls",
      "_view_module_version": "1.5.0",
      "_view_name": "ProgressView",
      "bar_style": "success",
      "description": "Downloading: 100%",
      "description_tooltip": null,
      "layout": "IPY_MODEL_58c4b12ea73e43ceb39a7f282fd94a1c",
      "max": 352833716,
      "min": 0,
      "orientation": "horizontal",
      "style": "IPY_MODEL_0ce13b7648094df0b3cd5efd1369633c",
      "value": 352833716
     }
    },
    "0ce13b7648094df0b3cd5efd1369633c": {
     "model_module": "@jupyter-widgets/controls",
     "model_name": "ProgressStyleModel",
     "state": {
      "_model_module": "@jupyter-widgets/controls",
      "_model_module_version": "1.5.0",
      "_model_name": "ProgressStyleModel",
      "_view_count": null,
      "_view_module": "@jupyter-widgets/base",
      "_view_module_version": "1.2.0",
      "_view_name": "StyleView",
      "bar_color": null,
      "description_width": "initial"
     }
    },
    "1a965d402b7f4485bd165966109ab5e8": {
     "model_module": "@jupyter-widgets/base",
     "model_name": "LayoutModel",
     "state": {
      "_model_module": "@jupyter-widgets/base",
      "_model_module_version": "1.2.0",
      "_model_name": "LayoutModel",
      "_view_count": null,
      "_view_module": "@jupyter-widgets/base",
      "_view_module_version": "1.2.0",
      "_view_name": "LayoutView",
      "align_content": null,
      "align_items": null,
      "align_self": null,
      "border": null,
      "bottom": null,
      "display": null,
      "flex": null,
      "flex_flow": null,
      "grid_area": null,
      "grid_auto_columns": null,
      "grid_auto_flow": null,
      "grid_auto_rows": null,
      "grid_column": null,
      "grid_gap": null,
      "grid_row": null,
      "grid_template_areas": null,
      "grid_template_columns": null,
      "grid_template_rows": null,
      "height": null,
      "justify_content": null,
      "justify_items": null,
      "left": null,
      "margin": null,
      "max_height": null,
      "max_width": null,
      "min_height": null,
      "min_width": null,
      "object_fit": null,
      "object_position": null,
      "order": null,
      "overflow": null,
      "overflow_x": null,
      "overflow_y": null,
      "padding": null,
      "right": null,
      "top": null,
      "visibility": null,
      "width": null
     }
    },
    "21b1eb5e9d904a6fa7e993f114ace92a": {
     "model_module": "@jupyter-widgets/base",
     "model_name": "LayoutModel",
     "state": {
      "_model_module": "@jupyter-widgets/base",
      "_model_module_version": "1.2.0",
      "_model_name": "LayoutModel",
      "_view_count": null,
      "_view_module": "@jupyter-widgets/base",
      "_view_module_version": "1.2.0",
      "_view_name": "LayoutView",
      "align_content": null,
      "align_items": null,
      "align_self": null,
      "border": null,
      "bottom": null,
      "display": null,
      "flex": null,
      "flex_flow": null,
      "grid_area": null,
      "grid_auto_columns": null,
      "grid_auto_flow": null,
      "grid_auto_rows": null,
      "grid_column": null,
      "grid_gap": null,
      "grid_row": null,
      "grid_template_areas": null,
      "grid_template_columns": null,
      "grid_template_rows": null,
      "height": null,
      "justify_content": null,
      "justify_items": null,
      "left": null,
      "margin": null,
      "max_height": null,
      "max_width": null,
      "min_height": null,
      "min_width": null,
      "object_fit": null,
      "object_position": null,
      "order": null,
      "overflow": null,
      "overflow_x": null,
      "overflow_y": null,
      "padding": null,
      "right": null,
      "top": null,
      "visibility": null,
      "width": null
     }
    },
    "307eaa4c14d2440fb5c239f84b1403ed": {
     "model_module": "@jupyter-widgets/controls",
     "model_name": "FloatProgressModel",
     "state": {
      "_dom_classes": [],
      "_model_module": "@jupyter-widgets/controls",
      "_model_module_version": "1.5.0",
      "_model_name": "FloatProgressModel",
      "_view_count": null,
      "_view_module": "@jupyter-widgets/controls",
      "_view_module_version": "1.5.0",
      "_view_name": "ProgressView",
      "bar_style": "success",
      "description": "Downloading: 100%",
      "description_tooltip": null,
      "layout": "IPY_MODEL_82b4c8a7461047d29a6186946c0661fb",
      "max": 1042301,
      "min": 0,
      "orientation": "horizontal",
      "style": "IPY_MODEL_8b091460eae744078bbd0407f90dcf7e",
      "value": 1042301
     }
    },
    "3ad3fc63100d45c3983257f8a476f709": {
     "model_module": "@jupyter-widgets/base",
     "model_name": "LayoutModel",
     "state": {
      "_model_module": "@jupyter-widgets/base",
      "_model_module_version": "1.2.0",
      "_model_name": "LayoutModel",
      "_view_count": null,
      "_view_module": "@jupyter-widgets/base",
      "_view_module_version": "1.2.0",
      "_view_name": "LayoutView",
      "align_content": null,
      "align_items": null,
      "align_self": null,
      "border": null,
      "bottom": null,
      "display": null,
      "flex": null,
      "flex_flow": null,
      "grid_area": null,
      "grid_auto_columns": null,
      "grid_auto_flow": null,
      "grid_auto_rows": null,
      "grid_column": null,
      "grid_gap": null,
      "grid_row": null,
      "grid_template_areas": null,
      "grid_template_columns": null,
      "grid_template_rows": null,
      "height": null,
      "justify_content": null,
      "justify_items": null,
      "left": null,
      "margin": null,
      "max_height": null,
      "max_width": null,
      "min_height": null,
      "min_width": null,
      "object_fit": null,
      "object_position": null,
      "order": null,
      "overflow": null,
      "overflow_x": null,
      "overflow_y": null,
      "padding": null,
      "right": null,
      "top": null,
      "visibility": null,
      "width": null
     }
    },
    "3e27191981094cfb84f96c6c2052b3b8": {
     "model_module": "@jupyter-widgets/controls",
     "model_name": "DescriptionStyleModel",
     "state": {
      "_model_module": "@jupyter-widgets/controls",
      "_model_module_version": "1.5.0",
      "_model_name": "DescriptionStyleModel",
      "_view_count": null,
      "_view_module": "@jupyter-widgets/base",
      "_view_module_version": "1.2.0",
      "_view_name": "StyleView",
      "description_width": ""
     }
    },
    "44469fb017b343a9a4073d70512f3fa8": {
     "model_module": "@jupyter-widgets/controls",
     "model_name": "HBoxModel",
     "state": {
      "_dom_classes": [],
      "_model_module": "@jupyter-widgets/controls",
      "_model_module_version": "1.5.0",
      "_model_name": "HBoxModel",
      "_view_count": null,
      "_view_module": "@jupyter-widgets/controls",
      "_view_module_version": "1.5.0",
      "_view_name": "HBoxView",
      "box_style": "",
      "children": [
       "IPY_MODEL_307eaa4c14d2440fb5c239f84b1403ed",
       "IPY_MODEL_bbbbdf69cc944de284d75540c0ed2658"
      ],
      "layout": "IPY_MODEL_1a965d402b7f4485bd165966109ab5e8"
     }
    },
    "4c759f92fcc64e6bb6752726187b818d": {
     "model_module": "@jupyter-widgets/base",
     "model_name": "LayoutModel",
     "state": {
      "_model_module": "@jupyter-widgets/base",
      "_model_module_version": "1.2.0",
      "_model_name": "LayoutModel",
      "_view_count": null,
      "_view_module": "@jupyter-widgets/base",
      "_view_module_version": "1.2.0",
      "_view_name": "LayoutView",
      "align_content": null,
      "align_items": null,
      "align_self": null,
      "border": null,
      "bottom": null,
      "display": null,
      "flex": null,
      "flex_flow": null,
      "grid_area": null,
      "grid_auto_columns": null,
      "grid_auto_flow": null,
      "grid_auto_rows": null,
      "grid_column": null,
      "grid_gap": null,
      "grid_row": null,
      "grid_template_areas": null,
      "grid_template_columns": null,
      "grid_template_rows": null,
      "height": null,
      "justify_content": null,
      "justify_items": null,
      "left": null,
      "margin": null,
      "max_height": null,
      "max_width": null,
      "min_height": null,
      "min_width": null,
      "object_fit": null,
      "object_position": null,
      "order": null,
      "overflow": null,
      "overflow_x": null,
      "overflow_y": null,
      "padding": null,
      "right": null,
      "top": null,
      "visibility": null,
      "width": null
     }
    },
    "58c4b12ea73e43ceb39a7f282fd94a1c": {
     "model_module": "@jupyter-widgets/base",
     "model_name": "LayoutModel",
     "state": {
      "_model_module": "@jupyter-widgets/base",
      "_model_module_version": "1.2.0",
      "_model_name": "LayoutModel",
      "_view_count": null,
      "_view_module": "@jupyter-widgets/base",
      "_view_module_version": "1.2.0",
      "_view_name": "LayoutView",
      "align_content": null,
      "align_items": null,
      "align_self": null,
      "border": null,
      "bottom": null,
      "display": null,
      "flex": null,
      "flex_flow": null,
      "grid_area": null,
      "grid_auto_columns": null,
      "grid_auto_flow": null,
      "grid_auto_rows": null,
      "grid_column": null,
      "grid_gap": null,
      "grid_row": null,
      "grid_template_areas": null,
      "grid_template_columns": null,
      "grid_template_rows": null,
      "height": null,
      "justify_content": null,
      "justify_items": null,
      "left": null,
      "margin": null,
      "max_height": null,
      "max_width": null,
      "min_height": null,
      "min_width": null,
      "object_fit": null,
      "object_position": null,
      "order": null,
      "overflow": null,
      "overflow_x": null,
      "overflow_y": null,
      "padding": null,
      "right": null,
      "top": null,
      "visibility": null,
      "width": null
     }
    },
    "593b3248fe9149bba416d033fc9763c9": {
     "model_module": "@jupyter-widgets/base",
     "model_name": "LayoutModel",
     "state": {
      "_model_module": "@jupyter-widgets/base",
      "_model_module_version": "1.2.0",
      "_model_name": "LayoutModel",
      "_view_count": null,
      "_view_module": "@jupyter-widgets/base",
      "_view_module_version": "1.2.0",
      "_view_name": "LayoutView",
      "align_content": null,
      "align_items": null,
      "align_self": null,
      "border": null,
      "bottom": null,
      "display": null,
      "flex": null,
      "flex_flow": null,
      "grid_area": null,
      "grid_auto_columns": null,
      "grid_auto_flow": null,
      "grid_auto_rows": null,
      "grid_column": null,
      "grid_gap": null,
      "grid_row": null,
      "grid_template_areas": null,
      "grid_template_columns": null,
      "grid_template_rows": null,
      "height": null,
      "justify_content": null,
      "justify_items": null,
      "left": null,
      "margin": null,
      "max_height": null,
      "max_width": null,
      "min_height": null,
      "min_width": null,
      "object_fit": null,
      "object_position": null,
      "order": null,
      "overflow": null,
      "overflow_x": null,
      "overflow_y": null,
      "padding": null,
      "right": null,
      "top": null,
      "visibility": null,
      "width": null
     }
    },
    "69f928f95dc84205a2ecedf36b38ef77": {
     "model_module": "@jupyter-widgets/base",
     "model_name": "LayoutModel",
     "state": {
      "_model_module": "@jupyter-widgets/base",
      "_model_module_version": "1.2.0",
      "_model_name": "LayoutModel",
      "_view_count": null,
      "_view_module": "@jupyter-widgets/base",
      "_view_module_version": "1.2.0",
      "_view_name": "LayoutView",
      "align_content": null,
      "align_items": null,
      "align_self": null,
      "border": null,
      "bottom": null,
      "display": null,
      "flex": null,
      "flex_flow": null,
      "grid_area": null,
      "grid_auto_columns": null,
      "grid_auto_flow": null,
      "grid_auto_rows": null,
      "grid_column": null,
      "grid_gap": null,
      "grid_row": null,
      "grid_template_areas": null,
      "grid_template_columns": null,
      "grid_template_rows": null,
      "height": null,
      "justify_content": null,
      "justify_items": null,
      "left": null,
      "margin": null,
      "max_height": null,
      "max_width": null,
      "min_height": null,
      "min_width": null,
      "object_fit": null,
      "object_position": null,
      "order": null,
      "overflow": null,
      "overflow_x": null,
      "overflow_y": null,
      "padding": null,
      "right": null,
      "top": null,
      "visibility": null,
      "width": null
     }
    },
    "756b0b5c522d4438bfdd91f4866f2bdf": {
     "model_module": "@jupyter-widgets/controls",
     "model_name": "ProgressStyleModel",
     "state": {
      "_model_module": "@jupyter-widgets/controls",
      "_model_module_version": "1.5.0",
      "_model_name": "ProgressStyleModel",
      "_view_count": null,
      "_view_module": "@jupyter-widgets/base",
      "_view_module_version": "1.2.0",
      "_view_name": "StyleView",
      "bar_color": null,
      "description_width": "initial"
     }
    },
    "7e40cf090314432cb99ad36fabbda2ad": {
     "model_module": "@jupyter-widgets/controls",
     "model_name": "HTMLModel",
     "state": {
      "_dom_classes": [],
      "_model_module": "@jupyter-widgets/controls",
      "_model_module_version": "1.5.0",
      "_model_name": "HTMLModel",
      "_view_count": null,
      "_view_module": "@jupyter-widgets/controls",
      "_view_module_version": "1.5.0",
      "_view_name": "HTMLView",
      "description": "",
      "description_tooltip": null,
      "layout": "IPY_MODEL_69f928f95dc84205a2ecedf36b38ef77",
      "placeholder": "​",
      "style": "IPY_MODEL_b232f6df802e463d98bbdf57273e9cb8",
      "value": " 353M/353M [00:15&lt;00:00, 22.3MB/s]"
     }
    },
    "82b4c8a7461047d29a6186946c0661fb": {
     "model_module": "@jupyter-widgets/base",
     "model_name": "LayoutModel",
     "state": {
      "_model_module": "@jupyter-widgets/base",
      "_model_module_version": "1.2.0",
      "_model_name": "LayoutModel",
      "_view_count": null,
      "_view_module": "@jupyter-widgets/base",
      "_view_module_version": "1.2.0",
      "_view_name": "LayoutView",
      "align_content": null,
      "align_items": null,
      "align_self": null,
      "border": null,
      "bottom": null,
      "display": null,
      "flex": null,
      "flex_flow": null,
      "grid_area": null,
      "grid_auto_columns": null,
      "grid_auto_flow": null,
      "grid_auto_rows": null,
      "grid_column": null,
      "grid_gap": null,
      "grid_row": null,
      "grid_template_areas": null,
      "grid_template_columns": null,
      "grid_template_rows": null,
      "height": null,
      "justify_content": null,
      "justify_items": null,
      "left": null,
      "margin": null,
      "max_height": null,
      "max_width": null,
      "min_height": null,
      "min_width": null,
      "object_fit": null,
      "object_position": null,
      "order": null,
      "overflow": null,
      "overflow_x": null,
      "overflow_y": null,
      "padding": null,
      "right": null,
      "top": null,
      "visibility": null,
      "width": null
     }
    },
    "839978e0b3554c188e3aec98983573ce": {
     "model_module": "@jupyter-widgets/controls",
     "model_name": "HTMLModel",
     "state": {
      "_dom_classes": [],
      "_model_module": "@jupyter-widgets/controls",
      "_model_module_version": "1.5.0",
      "_model_name": "HTMLModel",
      "_view_count": null,
      "_view_module": "@jupyter-widgets/controls",
      "_view_module_version": "1.5.0",
      "_view_name": "HTMLView",
      "description": "",
      "description_tooltip": null,
      "layout": "IPY_MODEL_4c759f92fcc64e6bb6752726187b818d",
      "placeholder": "​",
      "style": "IPY_MODEL_c53e195b63024efa899fc06ed19e9d2f",
      "value": " 762/762 [00:00&lt;00:00, 1.11kB/s]"
     }
    },
    "8b091460eae744078bbd0407f90dcf7e": {
     "model_module": "@jupyter-widgets/controls",
     "model_name": "ProgressStyleModel",
     "state": {
      "_model_module": "@jupyter-widgets/controls",
      "_model_module_version": "1.5.0",
      "_model_name": "ProgressStyleModel",
      "_view_count": null,
      "_view_module": "@jupyter-widgets/base",
      "_view_module_version": "1.2.0",
      "_view_name": "StyleView",
      "bar_color": null,
      "description_width": "initial"
     }
    },
    "9ec6120be1534fecb1a772a302b72cb8": {
     "model_module": "@jupyter-widgets/controls",
     "model_name": "HBoxModel",
     "state": {
      "_dom_classes": [],
      "_model_module": "@jupyter-widgets/controls",
      "_model_module_version": "1.5.0",
      "_model_name": "HBoxModel",
      "_view_count": null,
      "_view_module": "@jupyter-widgets/controls",
      "_view_module_version": "1.5.0",
      "_view_name": "HBoxView",
      "box_style": "",
      "children": [
       "IPY_MODEL_0b02ab17c4044986a4e60aa8278069ca",
       "IPY_MODEL_7e40cf090314432cb99ad36fabbda2ad"
      ],
      "layout": "IPY_MODEL_3ad3fc63100d45c3983257f8a476f709"
     }
    },
    "9ef8527cbbf248d8800c9e37a89a8a28": {
     "model_module": "@jupyter-widgets/base",
     "model_name": "LayoutModel",
     "state": {
      "_model_module": "@jupyter-widgets/base",
      "_model_module_version": "1.2.0",
      "_model_name": "LayoutModel",
      "_view_count": null,
      "_view_module": "@jupyter-widgets/base",
      "_view_module_version": "1.2.0",
      "_view_name": "LayoutView",
      "align_content": null,
      "align_items": null,
      "align_self": null,
      "border": null,
      "bottom": null,
      "display": null,
      "flex": null,
      "flex_flow": null,
      "grid_area": null,
      "grid_auto_columns": null,
      "grid_auto_flow": null,
      "grid_auto_rows": null,
      "grid_column": null,
      "grid_gap": null,
      "grid_row": null,
      "grid_template_areas": null,
      "grid_template_columns": null,
      "grid_template_rows": null,
      "height": null,
      "justify_content": null,
      "justify_items": null,
      "left": null,
      "margin": null,
      "max_height": null,
      "max_width": null,
      "min_height": null,
      "min_width": null,
      "object_fit": null,
      "object_position": null,
      "order": null,
      "overflow": null,
      "overflow_x": null,
      "overflow_y": null,
      "padding": null,
      "right": null,
      "top": null,
      "visibility": null,
      "width": null
     }
    },
    "a17929e1fe2748d4bed26af11a3b9b59": {
     "model_module": "@jupyter-widgets/base",
     "model_name": "LayoutModel",
     "state": {
      "_model_module": "@jupyter-widgets/base",
      "_model_module_version": "1.2.0",
      "_model_name": "LayoutModel",
      "_view_count": null,
      "_view_module": "@jupyter-widgets/base",
      "_view_module_version": "1.2.0",
      "_view_name": "LayoutView",
      "align_content": null,
      "align_items": null,
      "align_self": null,
      "border": null,
      "bottom": null,
      "display": null,
      "flex": null,
      "flex_flow": null,
      "grid_area": null,
      "grid_auto_columns": null,
      "grid_auto_flow": null,
      "grid_auto_rows": null,
      "grid_column": null,
      "grid_gap": null,
      "grid_row": null,
      "grid_template_areas": null,
      "grid_template_columns": null,
      "grid_template_rows": null,
      "height": null,
      "justify_content": null,
      "justify_items": null,
      "left": null,
      "margin": null,
      "max_height": null,
      "max_width": null,
      "min_height": null,
      "min_width": null,
      "object_fit": null,
      "object_position": null,
      "order": null,
      "overflow": null,
      "overflow_x": null,
      "overflow_y": null,
      "padding": null,
      "right": null,
      "top": null,
      "visibility": null,
      "width": null
     }
    },
    "b164d610697e4f1eaa4c334c86fd25be": {
     "model_module": "@jupyter-widgets/controls",
     "model_name": "DescriptionStyleModel",
     "state": {
      "_model_module": "@jupyter-widgets/controls",
      "_model_module_version": "1.5.0",
      "_model_name": "DescriptionStyleModel",
      "_view_count": null,
      "_view_module": "@jupyter-widgets/base",
      "_view_module_version": "1.2.0",
      "_view_name": "StyleView",
      "description_width": ""
     }
    },
    "b232f6df802e463d98bbdf57273e9cb8": {
     "model_module": "@jupyter-widgets/controls",
     "model_name": "DescriptionStyleModel",
     "state": {
      "_model_module": "@jupyter-widgets/controls",
      "_model_module_version": "1.5.0",
      "_model_name": "DescriptionStyleModel",
      "_view_count": null,
      "_view_module": "@jupyter-widgets/base",
      "_view_module_version": "1.2.0",
      "_view_name": "StyleView",
      "description_width": ""
     }
    },
    "bbbbdf69cc944de284d75540c0ed2658": {
     "model_module": "@jupyter-widgets/controls",
     "model_name": "HTMLModel",
     "state": {
      "_dom_classes": [],
      "_model_module": "@jupyter-widgets/controls",
      "_model_module_version": "1.5.0",
      "_model_name": "HTMLModel",
      "_view_count": null,
      "_view_module": "@jupyter-widgets/controls",
      "_view_module_version": "1.5.0",
      "_view_name": "HTMLView",
      "description": "",
      "description_tooltip": null,
      "layout": "IPY_MODEL_593b3248fe9149bba416d033fc9763c9",
      "placeholder": "​",
      "style": "IPY_MODEL_3e27191981094cfb84f96c6c2052b3b8",
      "value": " 1.04M/1.04M [00:00&lt;00:00, 2.35MB/s]"
     }
    },
    "bce6b866322240248ff2559ae5f1d493": {
     "model_module": "@jupyter-widgets/base",
     "model_name": "LayoutModel",
     "state": {
      "_model_module": "@jupyter-widgets/base",
      "_model_module_version": "1.2.0",
      "_model_name": "LayoutModel",
      "_view_count": null,
      "_view_module": "@jupyter-widgets/base",
      "_view_module_version": "1.2.0",
      "_view_name": "LayoutView",
      "align_content": null,
      "align_items": null,
      "align_self": null,
      "border": null,
      "bottom": null,
      "display": null,
      "flex": null,
      "flex_flow": null,
      "grid_area": null,
      "grid_auto_columns": null,
      "grid_auto_flow": null,
      "grid_auto_rows": null,
      "grid_column": null,
      "grid_gap": null,
      "grid_row": null,
      "grid_template_areas": null,
      "grid_template_columns": null,
      "grid_template_rows": null,
      "height": null,
      "justify_content": null,
      "justify_items": null,
      "left": null,
      "margin": null,
      "max_height": null,
      "max_width": null,
      "min_height": null,
      "min_width": null,
      "object_fit": null,
      "object_position": null,
      "order": null,
      "overflow": null,
      "overflow_x": null,
      "overflow_y": null,
      "padding": null,
      "right": null,
      "top": null,
      "visibility": null,
      "width": null
     }
    },
    "c03bf0251bc147ba9243489f226f7085": {
     "model_module": "@jupyter-widgets/controls",
     "model_name": "FloatProgressModel",
     "state": {
      "_dom_classes": [],
      "_model_module": "@jupyter-widgets/controls",
      "_model_module_version": "1.5.0",
      "_model_name": "FloatProgressModel",
      "_view_count": null,
      "_view_module": "@jupyter-widgets/controls",
      "_view_module_version": "1.5.0",
      "_view_name": "ProgressView",
      "bar_style": "success",
      "description": "Downloading: 100%",
      "description_tooltip": null,
      "layout": "IPY_MODEL_bce6b866322240248ff2559ae5f1d493",
      "max": 456318,
      "min": 0,
      "orientation": "horizontal",
      "style": "IPY_MODEL_756b0b5c522d4438bfdd91f4866f2bdf",
      "value": 456318
     }
    },
    "c53e195b63024efa899fc06ed19e9d2f": {
     "model_module": "@jupyter-widgets/controls",
     "model_name": "DescriptionStyleModel",
     "state": {
      "_model_module": "@jupyter-widgets/controls",
      "_model_module_version": "1.5.0",
      "_model_name": "DescriptionStyleModel",
      "_view_count": null,
      "_view_module": "@jupyter-widgets/base",
      "_view_module_version": "1.2.0",
      "_view_name": "StyleView",
      "description_width": ""
     }
    },
    "d25c92359ffc45af99b797f0e0867407": {
     "model_module": "@jupyter-widgets/controls",
     "model_name": "ProgressStyleModel",
     "state": {
      "_model_module": "@jupyter-widgets/controls",
      "_model_module_version": "1.5.0",
      "_model_name": "ProgressStyleModel",
      "_view_count": null,
      "_view_module": "@jupyter-widgets/base",
      "_view_module_version": "1.2.0",
      "_view_name": "StyleView",
      "bar_color": null,
      "description_width": "initial"
     }
    },
    "e1e830f76b144f2b8c5f8a9ee8a7f314": {
     "model_module": "@jupyter-widgets/controls",
     "model_name": "HTMLModel",
     "state": {
      "_dom_classes": [],
      "_model_module": "@jupyter-widgets/controls",
      "_model_module_version": "1.5.0",
      "_model_name": "HTMLModel",
      "_view_count": null,
      "_view_module": "@jupyter-widgets/controls",
      "_view_module_version": "1.5.0",
      "_view_name": "HTMLView",
      "description": "",
      "description_tooltip": null,
      "layout": "IPY_MODEL_9ef8527cbbf248d8800c9e37a89a8a28",
      "placeholder": "​",
      "style": "IPY_MODEL_b164d610697e4f1eaa4c334c86fd25be",
      "value": " 456k/456k [00:00&lt;00:00, 2.85MB/s]"
     }
    },
    "f09d4fc4ce124eeda3cb45e321d111ce": {
     "model_module": "@jupyter-widgets/controls",
     "model_name": "HBoxModel",
     "state": {
      "_dom_classes": [],
      "_model_module": "@jupyter-widgets/controls",
      "_model_module_version": "1.5.0",
      "_model_name": "HBoxModel",
      "_view_count": null,
      "_view_module": "@jupyter-widgets/controls",
      "_view_module_version": "1.5.0",
      "_view_name": "HBoxView",
      "box_style": "",
      "children": [
       "IPY_MODEL_fbf758cdad0445d28494d95bd7fe10fb",
       "IPY_MODEL_839978e0b3554c188e3aec98983573ce"
      ],
      "layout": "IPY_MODEL_21b1eb5e9d904a6fa7e993f114ace92a"
     }
    },
    "f689ef73a988435b80dcd4491a00acc7": {
     "model_module": "@jupyter-widgets/base",
     "model_name": "LayoutModel",
     "state": {
      "_model_module": "@jupyter-widgets/base",
      "_model_module_version": "1.2.0",
      "_model_name": "LayoutModel",
      "_view_count": null,
      "_view_module": "@jupyter-widgets/base",
      "_view_module_version": "1.2.0",
      "_view_name": "LayoutView",
      "align_content": null,
      "align_items": null,
      "align_self": null,
      "border": null,
      "bottom": null,
      "display": null,
      "flex": null,
      "flex_flow": null,
      "grid_area": null,
      "grid_auto_columns": null,
      "grid_auto_flow": null,
      "grid_auto_rows": null,
      "grid_column": null,
      "grid_gap": null,
      "grid_row": null,
      "grid_template_areas": null,
      "grid_template_columns": null,
      "grid_template_rows": null,
      "height": null,
      "justify_content": null,
      "justify_items": null,
      "left": null,
      "margin": null,
      "max_height": null,
      "max_width": null,
      "min_height": null,
      "min_width": null,
      "object_fit": null,
      "object_position": null,
      "order": null,
      "overflow": null,
      "overflow_x": null,
      "overflow_y": null,
      "padding": null,
      "right": null,
      "top": null,
      "visibility": null,
      "width": null
     }
    },
    "fbf758cdad0445d28494d95bd7fe10fb": {
     "model_module": "@jupyter-widgets/controls",
     "model_name": "FloatProgressModel",
     "state": {
      "_dom_classes": [],
      "_model_module": "@jupyter-widgets/controls",
      "_model_module_version": "1.5.0",
      "_model_name": "FloatProgressModel",
      "_view_count": null,
      "_view_module": "@jupyter-widgets/controls",
      "_view_module_version": "1.5.0",
      "_view_name": "ProgressView",
      "bar_style": "success",
      "description": "Downloading: 100%",
      "description_tooltip": null,
      "layout": "IPY_MODEL_a17929e1fe2748d4bed26af11a3b9b59",
      "max": 762,
      "min": 0,
      "orientation": "horizontal",
      "style": "IPY_MODEL_d25c92359ffc45af99b797f0e0867407",
      "value": 762
     }
    }
   }
  }
 },
 "nbformat": 4,
 "nbformat_minor": 1
}
